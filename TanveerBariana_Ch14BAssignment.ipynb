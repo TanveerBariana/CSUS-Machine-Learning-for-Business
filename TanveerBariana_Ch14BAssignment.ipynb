{
 "cells": [
  {
   "cell_type": "code",
   "execution_count": 42,
   "metadata": {},
   "outputs": [],
   "source": [
    "#pip install setuptools==58.2.0\n",
    "#pip install scikit-surprise==1.1.3\n",
    "#pip install mlxtend\n"
   ]
  },
  {
   "cell_type": "code",
   "execution_count": 43,
   "metadata": {},
   "outputs": [],
   "source": [
    "%matplotlib inline\n",
    "\n",
    "from pathlib import Path\n",
    "\n",
    "import heapq\n",
    "from collections import defaultdict\n",
    "\n",
    "import pandas as pd\n",
    "import matplotlib.pylab as plt\n",
    "from mlxtend.frequent_patterns import apriori\n",
    "from mlxtend.frequent_patterns import association_rules\n",
    "\n",
    "from surprise import Dataset, Reader\n",
    "from surprise.prediction_algorithms import KNNBasic\n",
    "from surprise.model_selection import train_test_split\n",
    "from math import sqrt\n",
    "from sklearn.metrics.pairwise import cosine_similarity"
   ]
  },
  {
   "cell_type": "code",
   "execution_count": 44,
   "metadata": {},
   "outputs": [],
   "source": [
    "DATA = Path('dmba')"
   ]
  },
  {
   "cell_type": "markdown",
   "metadata": {},
   "source": [
    "### 3. We again consider the data in CourseTopics.csv describing course purchases at Statistics.com (see Problem 14.2 and data sample in Table). We want to provide a course recommendation to a student who purchased the Regression and Forecast courses. Apply user-based and item-based collaborative filtering to the data, using both Pearson correlation and Cosine similarity. Pandas.melt() unpivots a DataFrame from wide format to long format and we can use this method to turn the data into triplets such as (student, course, rating). Also review the pandas code in Table 2.3 for data processing. Note you need to create a Student_ID variable for \"id_vars=\" in the Pandas.melt() function as such a variable is not in the data."
   ]
  },
  {
   "cell_type": "code",
   "execution_count": 46,
   "metadata": {},
   "outputs": [
    {
     "name": "stdout",
     "output_type": "stream",
     "text": [
      "   Intro  DataMining  Survey  Cat Data  Regression  Forecast  DOE  SW\n",
      "0      1           1       0         0           0         0    0   0\n",
      "1      0           0       1         0           0         0    0   0\n",
      "2      0           1       0         1           1         0    0   1\n",
      "3      1           0       0         0           0         0    0   0\n",
      "4      1           1       0         0           0         0    0   0\n"
     ]
    }
   ],
   "source": [
    "ct_df = pd.read_csv(DATA / 'CourseTopics.csv')\n",
    "print(ct_df.head(5))"
   ]
  },
  {
   "cell_type": "code",
   "execution_count": 47,
   "metadata": {},
   "outputs": [
    {
     "data": {
      "text/html": [
       "<div>\n",
       "<style scoped>\n",
       "    .dataframe tbody tr th:only-of-type {\n",
       "        vertical-align: middle;\n",
       "    }\n",
       "\n",
       "    .dataframe tbody tr th {\n",
       "        vertical-align: top;\n",
       "    }\n",
       "\n",
       "    .dataframe thead th {\n",
       "        text-align: right;\n",
       "    }\n",
       "</style>\n",
       "<table border=\"1\" class=\"dataframe\">\n",
       "  <thead>\n",
       "    <tr style=\"text-align: right;\">\n",
       "      <th></th>\n",
       "      <th>Intro</th>\n",
       "      <th>DataMining</th>\n",
       "      <th>Survey</th>\n",
       "      <th>Cat Data</th>\n",
       "      <th>Regression</th>\n",
       "      <th>Forecast</th>\n",
       "      <th>DOE</th>\n",
       "      <th>SW</th>\n",
       "      <th>Student_id</th>\n",
       "    </tr>\n",
       "  </thead>\n",
       "  <tbody>\n",
       "    <tr>\n",
       "      <th>0</th>\n",
       "      <td>1</td>\n",
       "      <td>1</td>\n",
       "      <td>0</td>\n",
       "      <td>0</td>\n",
       "      <td>0</td>\n",
       "      <td>0</td>\n",
       "      <td>0</td>\n",
       "      <td>0</td>\n",
       "      <td>0</td>\n",
       "    </tr>\n",
       "    <tr>\n",
       "      <th>1</th>\n",
       "      <td>0</td>\n",
       "      <td>0</td>\n",
       "      <td>1</td>\n",
       "      <td>0</td>\n",
       "      <td>0</td>\n",
       "      <td>0</td>\n",
       "      <td>0</td>\n",
       "      <td>0</td>\n",
       "      <td>1</td>\n",
       "    </tr>\n",
       "    <tr>\n",
       "      <th>2</th>\n",
       "      <td>0</td>\n",
       "      <td>1</td>\n",
       "      <td>0</td>\n",
       "      <td>1</td>\n",
       "      <td>1</td>\n",
       "      <td>0</td>\n",
       "      <td>0</td>\n",
       "      <td>1</td>\n",
       "      <td>2</td>\n",
       "    </tr>\n",
       "    <tr>\n",
       "      <th>3</th>\n",
       "      <td>1</td>\n",
       "      <td>0</td>\n",
       "      <td>0</td>\n",
       "      <td>0</td>\n",
       "      <td>0</td>\n",
       "      <td>0</td>\n",
       "      <td>0</td>\n",
       "      <td>0</td>\n",
       "      <td>3</td>\n",
       "    </tr>\n",
       "    <tr>\n",
       "      <th>4</th>\n",
       "      <td>1</td>\n",
       "      <td>1</td>\n",
       "      <td>0</td>\n",
       "      <td>0</td>\n",
       "      <td>0</td>\n",
       "      <td>0</td>\n",
       "      <td>0</td>\n",
       "      <td>0</td>\n",
       "      <td>4</td>\n",
       "    </tr>\n",
       "  </tbody>\n",
       "</table>\n",
       "</div>"
      ],
      "text/plain": [
       "   Intro  DataMining  Survey  Cat Data  Regression  Forecast  DOE  SW  \\\n",
       "0      1           1       0         0           0         0    0   0   \n",
       "1      0           0       1         0           0         0    0   0   \n",
       "2      0           1       0         1           1         0    0   1   \n",
       "3      1           0       0         0           0         0    0   0   \n",
       "4      1           1       0         0           0         0    0   0   \n",
       "\n",
       "   Student_id  \n",
       "0           0  \n",
       "1           1  \n",
       "2           2  \n",
       "3           3  \n",
       "4           4  "
      ]
     },
     "execution_count": 47,
     "metadata": {},
     "output_type": "execute_result"
    }
   ],
   "source": [
    "ct_df[\"Student_id\"] = range(0,ct_df.shape[0])\n",
    "ct_df.head(5)"
   ]
  },
  {
   "cell_type": "code",
   "execution_count": 48,
   "metadata": {},
   "outputs": [
    {
     "data": {
      "text/html": [
       "<div>\n",
       "<style scoped>\n",
       "    .dataframe tbody tr th:only-of-type {\n",
       "        vertical-align: middle;\n",
       "    }\n",
       "\n",
       "    .dataframe tbody tr th {\n",
       "        vertical-align: top;\n",
       "    }\n",
       "\n",
       "    .dataframe thead th {\n",
       "        text-align: right;\n",
       "    }\n",
       "</style>\n",
       "<table border=\"1\" class=\"dataframe\">\n",
       "  <thead>\n",
       "    <tr style=\"text-align: right;\">\n",
       "      <th></th>\n",
       "      <th>Intro</th>\n",
       "      <th>DataMining</th>\n",
       "      <th>Survey</th>\n",
       "      <th>Cat Data</th>\n",
       "      <th>Regression</th>\n",
       "      <th>Forecast</th>\n",
       "      <th>DOE</th>\n",
       "      <th>SW</th>\n",
       "      <th>Student_id</th>\n",
       "    </tr>\n",
       "  </thead>\n",
       "  <tbody>\n",
       "    <tr>\n",
       "      <th>21</th>\n",
       "      <td>0</td>\n",
       "      <td>0</td>\n",
       "      <td>0</td>\n",
       "      <td>0</td>\n",
       "      <td>1</td>\n",
       "      <td>1</td>\n",
       "      <td>0</td>\n",
       "      <td>0</td>\n",
       "      <td>21</td>\n",
       "    </tr>\n",
       "    <tr>\n",
       "      <th>25</th>\n",
       "      <td>0</td>\n",
       "      <td>0</td>\n",
       "      <td>0</td>\n",
       "      <td>0</td>\n",
       "      <td>1</td>\n",
       "      <td>1</td>\n",
       "      <td>0</td>\n",
       "      <td>1</td>\n",
       "      <td>25</td>\n",
       "    </tr>\n",
       "    <tr>\n",
       "      <th>32</th>\n",
       "      <td>1</td>\n",
       "      <td>1</td>\n",
       "      <td>1</td>\n",
       "      <td>1</td>\n",
       "      <td>1</td>\n",
       "      <td>1</td>\n",
       "      <td>1</td>\n",
       "      <td>0</td>\n",
       "      <td>32</td>\n",
       "    </tr>\n",
       "    <tr>\n",
       "      <th>52</th>\n",
       "      <td>0</td>\n",
       "      <td>0</td>\n",
       "      <td>0</td>\n",
       "      <td>0</td>\n",
       "      <td>1</td>\n",
       "      <td>1</td>\n",
       "      <td>1</td>\n",
       "      <td>0</td>\n",
       "      <td>52</td>\n",
       "    </tr>\n",
       "    <tr>\n",
       "      <th>66</th>\n",
       "      <td>1</td>\n",
       "      <td>0</td>\n",
       "      <td>0</td>\n",
       "      <td>1</td>\n",
       "      <td>1</td>\n",
       "      <td>1</td>\n",
       "      <td>0</td>\n",
       "      <td>0</td>\n",
       "      <td>66</td>\n",
       "    </tr>\n",
       "    <tr>\n",
       "      <th>74</th>\n",
       "      <td>0</td>\n",
       "      <td>0</td>\n",
       "      <td>0</td>\n",
       "      <td>1</td>\n",
       "      <td>1</td>\n",
       "      <td>1</td>\n",
       "      <td>0</td>\n",
       "      <td>0</td>\n",
       "      <td>74</td>\n",
       "    </tr>\n",
       "    <tr>\n",
       "      <th>79</th>\n",
       "      <td>1</td>\n",
       "      <td>0</td>\n",
       "      <td>0</td>\n",
       "      <td>1</td>\n",
       "      <td>1</td>\n",
       "      <td>1</td>\n",
       "      <td>0</td>\n",
       "      <td>0</td>\n",
       "      <td>79</td>\n",
       "    </tr>\n",
       "    <tr>\n",
       "      <th>80</th>\n",
       "      <td>0</td>\n",
       "      <td>0</td>\n",
       "      <td>0</td>\n",
       "      <td>0</td>\n",
       "      <td>1</td>\n",
       "      <td>1</td>\n",
       "      <td>0</td>\n",
       "      <td>0</td>\n",
       "      <td>80</td>\n",
       "    </tr>\n",
       "    <tr>\n",
       "      <th>107</th>\n",
       "      <td>1</td>\n",
       "      <td>1</td>\n",
       "      <td>1</td>\n",
       "      <td>0</td>\n",
       "      <td>1</td>\n",
       "      <td>1</td>\n",
       "      <td>0</td>\n",
       "      <td>0</td>\n",
       "      <td>107</td>\n",
       "    </tr>\n",
       "    <tr>\n",
       "      <th>165</th>\n",
       "      <td>1</td>\n",
       "      <td>1</td>\n",
       "      <td>0</td>\n",
       "      <td>0</td>\n",
       "      <td>1</td>\n",
       "      <td>1</td>\n",
       "      <td>0</td>\n",
       "      <td>0</td>\n",
       "      <td>165</td>\n",
       "    </tr>\n",
       "    <tr>\n",
       "      <th>181</th>\n",
       "      <td>1</td>\n",
       "      <td>1</td>\n",
       "      <td>0</td>\n",
       "      <td>0</td>\n",
       "      <td>1</td>\n",
       "      <td>1</td>\n",
       "      <td>0</td>\n",
       "      <td>0</td>\n",
       "      <td>181</td>\n",
       "    </tr>\n",
       "    <tr>\n",
       "      <th>216</th>\n",
       "      <td>0</td>\n",
       "      <td>1</td>\n",
       "      <td>0</td>\n",
       "      <td>0</td>\n",
       "      <td>1</td>\n",
       "      <td>1</td>\n",
       "      <td>0</td>\n",
       "      <td>1</td>\n",
       "      <td>216</td>\n",
       "    </tr>\n",
       "    <tr>\n",
       "      <th>222</th>\n",
       "      <td>1</td>\n",
       "      <td>1</td>\n",
       "      <td>0</td>\n",
       "      <td>0</td>\n",
       "      <td>1</td>\n",
       "      <td>1</td>\n",
       "      <td>0</td>\n",
       "      <td>1</td>\n",
       "      <td>222</td>\n",
       "    </tr>\n",
       "    <tr>\n",
       "      <th>224</th>\n",
       "      <td>0</td>\n",
       "      <td>1</td>\n",
       "      <td>0</td>\n",
       "      <td>0</td>\n",
       "      <td>1</td>\n",
       "      <td>1</td>\n",
       "      <td>0</td>\n",
       "      <td>0</td>\n",
       "      <td>224</td>\n",
       "    </tr>\n",
       "  </tbody>\n",
       "</table>\n",
       "</div>"
      ],
      "text/plain": [
       "     Intro  DataMining  Survey  Cat Data  Regression  Forecast  DOE  SW  \\\n",
       "21       0           0       0         0           1         1    0   0   \n",
       "25       0           0       0         0           1         1    0   1   \n",
       "32       1           1       1         1           1         1    1   0   \n",
       "52       0           0       0         0           1         1    1   0   \n",
       "66       1           0       0         1           1         1    0   0   \n",
       "74       0           0       0         1           1         1    0   0   \n",
       "79       1           0       0         1           1         1    0   0   \n",
       "80       0           0       0         0           1         1    0   0   \n",
       "107      1           1       1         0           1         1    0   0   \n",
       "165      1           1       0         0           1         1    0   0   \n",
       "181      1           1       0         0           1         1    0   0   \n",
       "216      0           1       0         0           1         1    0   1   \n",
       "222      1           1       0         0           1         1    0   1   \n",
       "224      0           1       0         0           1         1    0   0   \n",
       "\n",
       "     Student_id  \n",
       "21           21  \n",
       "25           25  \n",
       "32           32  \n",
       "52           52  \n",
       "66           66  \n",
       "74           74  \n",
       "79           79  \n",
       "80           80  \n",
       "107         107  \n",
       "165         165  \n",
       "181         181  \n",
       "216         216  \n",
       "222         222  \n",
       "224         224  "
      ]
     },
     "execution_count": 48,
     "metadata": {},
     "output_type": "execute_result"
    }
   ],
   "source": [
    "ct_df_regress = ct_df[ct_df['Regression'] ==1]\n",
    "ct_df_regress_forcast = ct_df_regress[ct_df_regress['Forecast']==1]\n",
    "ct_df_regress_forcast"
   ]
  },
  {
   "cell_type": "code",
   "execution_count": 49,
   "metadata": {},
   "outputs": [
    {
     "data": {
      "text/html": [
       "<div>\n",
       "<style scoped>\n",
       "    .dataframe tbody tr th:only-of-type {\n",
       "        vertical-align: middle;\n",
       "    }\n",
       "\n",
       "    .dataframe tbody tr th {\n",
       "        vertical-align: top;\n",
       "    }\n",
       "\n",
       "    .dataframe thead th {\n",
       "        text-align: right;\n",
       "    }\n",
       "</style>\n",
       "<table border=\"1\" class=\"dataframe\">\n",
       "  <thead>\n",
       "    <tr style=\"text-align: right;\">\n",
       "      <th></th>\n",
       "      <th>Student_id</th>\n",
       "      <th>course</th>\n",
       "      <th>enrolled</th>\n",
       "    </tr>\n",
       "  </thead>\n",
       "  <tbody>\n",
       "    <tr>\n",
       "      <th>0</th>\n",
       "      <td>21</td>\n",
       "      <td>Intro</td>\n",
       "      <td>0</td>\n",
       "    </tr>\n",
       "    <tr>\n",
       "      <th>1</th>\n",
       "      <td>25</td>\n",
       "      <td>Intro</td>\n",
       "      <td>0</td>\n",
       "    </tr>\n",
       "    <tr>\n",
       "      <th>2</th>\n",
       "      <td>32</td>\n",
       "      <td>Intro</td>\n",
       "      <td>1</td>\n",
       "    </tr>\n",
       "    <tr>\n",
       "      <th>3</th>\n",
       "      <td>52</td>\n",
       "      <td>Intro</td>\n",
       "      <td>0</td>\n",
       "    </tr>\n",
       "    <tr>\n",
       "      <th>4</th>\n",
       "      <td>66</td>\n",
       "      <td>Intro</td>\n",
       "      <td>1</td>\n",
       "    </tr>\n",
       "    <tr>\n",
       "      <th>...</th>\n",
       "      <td>...</td>\n",
       "      <td>...</td>\n",
       "      <td>...</td>\n",
       "    </tr>\n",
       "    <tr>\n",
       "      <th>107</th>\n",
       "      <td>165</td>\n",
       "      <td>SW</td>\n",
       "      <td>0</td>\n",
       "    </tr>\n",
       "    <tr>\n",
       "      <th>108</th>\n",
       "      <td>181</td>\n",
       "      <td>SW</td>\n",
       "      <td>0</td>\n",
       "    </tr>\n",
       "    <tr>\n",
       "      <th>109</th>\n",
       "      <td>216</td>\n",
       "      <td>SW</td>\n",
       "      <td>1</td>\n",
       "    </tr>\n",
       "    <tr>\n",
       "      <th>110</th>\n",
       "      <td>222</td>\n",
       "      <td>SW</td>\n",
       "      <td>1</td>\n",
       "    </tr>\n",
       "    <tr>\n",
       "      <th>111</th>\n",
       "      <td>224</td>\n",
       "      <td>SW</td>\n",
       "      <td>0</td>\n",
       "    </tr>\n",
       "  </tbody>\n",
       "</table>\n",
       "<p>112 rows × 3 columns</p>\n",
       "</div>"
      ],
      "text/plain": [
       "     Student_id course  enrolled\n",
       "0            21  Intro         0\n",
       "1            25  Intro         0\n",
       "2            32  Intro         1\n",
       "3            52  Intro         0\n",
       "4            66  Intro         1\n",
       "..          ...    ...       ...\n",
       "107         165     SW         0\n",
       "108         181     SW         0\n",
       "109         216     SW         1\n",
       "110         222     SW         1\n",
       "111         224     SW         0\n",
       "\n",
       "[112 rows x 3 columns]"
      ]
     },
     "execution_count": 49,
     "metadata": {},
     "output_type": "execute_result"
    }
   ],
   "source": [
    "melted_ct_df = ct_df_regress_forcast.melt(id_vars='Student_id', var_name='course', value_name='enrolled')\n",
    "melted_ct_df "
   ]
  },
  {
   "cell_type": "code",
   "execution_count": null,
   "metadata": {},
   "outputs": [],
   "source": []
  },
  {
   "cell_type": "code",
   "execution_count": 50,
   "metadata": {},
   "outputs": [
    {
     "data": {
      "text/plain": [
       "<surprise.reader.Reader at 0x2017d5254e0>"
      ]
     },
     "execution_count": 50,
     "metadata": {},
     "output_type": "execute_result"
    }
   ],
   "source": [
    "reader = Reader(rating_scale=(0,1))\n",
    "reader"
   ]
  },
  {
   "cell_type": "code",
   "execution_count": 51,
   "metadata": {},
   "outputs": [
    {
     "name": "stdout",
     "output_type": "stream",
     "text": [
      "Computing the cosine similarity matrix...\n",
      "Done computing similarity matrix.\n",
      "Computing the cosine similarity matrix...\n",
      "Done computing similarity matrix.\n",
      "user: 2          item: DataMining r_ui = None   est = 0.47   {'was_impossible': True, 'reason': 'User and/or item is unknown.'}\n"
     ]
    },
    {
     "data": {
      "text/plain": [
       "0.4732142857142857"
      ]
     },
     "execution_count": 51,
     "metadata": {},
     "output_type": "execute_result"
    }
   ],
   "source": [
    "data = Dataset.load_from_df(melted_ct_df[['Student_id', 'course', 'enrolled']],reader= reader)\n",
    "trainset = data.build_full_trainset()\n",
    "sim_options_item = {'name':'cosine', 'user_based': False}\n",
    "sim_options_user = {'name':'cosine', 'user_based': True}\n",
    "algo_item = KNNBasic(sim_options=sim_options_item)\n",
    "algo_user = KNNBasic(sim_options=sim_options_user)\n",
    "algo_item.fit(trainset=trainset)\n",
    "algo_user.fit(trainset=trainset)\n",
    "pred = algo_item.predict(str(2), str('DataMining'),  verbose=True)\n",
    "pred.est"
   ]
  },
  {
   "cell_type": "code",
   "execution_count": 52,
   "metadata": {},
   "outputs": [],
   "source": [
    "def testUser (StudentId):\n",
    "    print(\"Using User Based Filtering\")\n",
    "    for i in set(melted_ct_df['course']):\n",
    "        pred = algo_user.predict(str(StudentId), i ,  verbose=False)\n",
    "        print(\"prediction for class \" +i + \" for Sudent \"+ str(StudentId)+ \":\")\n",
    "        print(pred.est)"
   ]
  },
  {
   "cell_type": "code",
   "execution_count": 53,
   "metadata": {},
   "outputs": [],
   "source": [
    "def testItem(StudentId):\n",
    "    print(\"Using Item Based Filtering\")\n",
    "    for i in set(melted_ct_df['course']):\n",
    "        pred = algo_item.predict(str(StudentId), i ,  verbose=False)\n",
    "        print(\"prediction for class \" +i + \" for Sudent \"+ str(StudentId)+ \":\")\n",
    "        print(pred.est)"
   ]
  },
  {
   "cell_type": "code",
   "execution_count": 54,
   "metadata": {},
   "outputs": [
    {
     "name": "stdout",
     "output_type": "stream",
     "text": [
      "Using User Based Filtering\n",
      "prediction for class Intro for Sudent 4:\n",
      "0.4732142857142857\n",
      "prediction for class Regression for Sudent 4:\n",
      "0.4732142857142857\n",
      "prediction for class Cat Data for Sudent 4:\n",
      "0.4732142857142857\n",
      "prediction for class Forecast for Sudent 4:\n",
      "0.4732142857142857\n",
      "prediction for class Survey for Sudent 4:\n",
      "0.4732142857142857\n",
      "prediction for class DataMining for Sudent 4:\n",
      "0.4732142857142857\n",
      "prediction for class SW for Sudent 4:\n",
      "0.4732142857142857\n",
      "prediction for class DOE for Sudent 4:\n",
      "0.4732142857142857\n"
     ]
    }
   ],
   "source": [
    "testUser(4)"
   ]
  },
  {
   "cell_type": "code",
   "execution_count": 55,
   "metadata": {},
   "outputs": [
    {
     "name": "stdout",
     "output_type": "stream",
     "text": [
      "Using Item Based Filtering\n",
      "prediction for class Intro for Sudent 4:\n",
      "0.4732142857142857\n",
      "prediction for class Regression for Sudent 4:\n",
      "0.4732142857142857\n",
      "prediction for class Cat Data for Sudent 4:\n",
      "0.4732142857142857\n",
      "prediction for class Forecast for Sudent 4:\n",
      "0.4732142857142857\n",
      "prediction for class Survey for Sudent 4:\n",
      "0.4732142857142857\n",
      "prediction for class DataMining for Sudent 4:\n",
      "0.4732142857142857\n",
      "prediction for class SW for Sudent 4:\n",
      "0.4732142857142857\n",
      "prediction for class DOE for Sudent 4:\n",
      "0.4732142857142857\n"
     ]
    }
   ],
   "source": [
    "testItem(4)"
   ]
  },
  {
   "cell_type": "markdown",
   "metadata": {},
   "source": [
    "### 5. Course Ratings. The Institute for Statistics Education at Statistics.com asks students to rate a variety of aspects of a course as soon as the student completes it. The Institute is contemplating instituting a recommendation system that would provide students with recommendations for additional courses as soon as they submit their rating for a completed course. Consider the excerpt from student ratings of online statistics courses shown in Table 14.17, and the problem of what to recommend to student E.N."
   ]
  },
  {
   "cell_type": "markdown",
   "metadata": {},
   "source": [
    "#### a. First consider a user-based collaborative filter. This requires computing correlations between all student pairs. For which students is it possible to compute correlations with E.N.? Compute them."
   ]
  },
  {
   "cell_type": "markdown",
   "metadata": {},
   "source": [
    "It is possible to compute correlations with LN and DS as they have some (more than 1) courses in common."
   ]
  },
  {
   "cell_type": "code",
   "execution_count": 56,
   "metadata": {},
   "outputs": [],
   "source": [
    "#get avg scores for everyone\n",
    "avg_EN = (4+4+4+3)/4\n",
    "avg_LN= (4+3+2+4+2)/5\n",
    "avg_MH = (3+4+4)/3\n",
    "avg_JH= (2+2)/2\n",
    "avg_DU= (4+4)/2\n",
    "avg_DS= (4+2+4)/3\n"
   ]
  },
  {
   "cell_type": "code",
   "execution_count": 57,
   "metadata": {},
   "outputs": [
    {
     "data": {
      "text/plain": [
       "0.8703882797784892"
      ]
     },
     "execution_count": 57,
     "metadata": {},
     "output_type": "execute_result"
    }
   ],
   "source": [
    "cor_EN_LN = (\n",
    "    ((4-avg_EN)*(4-avg_LN))+((4-avg_EN)*(4-avg_LN))+((3-avg_EN)*(2-avg_LN))\n",
    ")/(\n",
    "    sqrt(((4-avg_EN)**2)+((4-avg_EN)**2)+((3-avg_EN)**2)) *\n",
    "    sqrt(((4-avg_LN)**2)+((4-avg_LN)**2)+((2-avg_LN)**2))\n",
    ")\n",
    "cor_EN_LN"
   ]
  },
  {
   "cell_type": "code",
   "execution_count": 58,
   "metadata": {},
   "outputs": [
    {
     "data": {
      "text/plain": [
       "-1.0"
      ]
     },
     "execution_count": 58,
     "metadata": {},
     "output_type": "execute_result"
    }
   ],
   "source": [
    "cor_EN_MH = (\n",
    "    ((4-avg_EN)*(3-avg_MH))\n",
    ")/(\n",
    "    sqrt(((4-avg_EN)**2)) *\n",
    "    sqrt(((3-avg_MH)**2))\n",
    ")\n",
    "cor_EN_MH"
   ]
  },
  {
   "cell_type": "code",
   "execution_count": 59,
   "metadata": {},
   "outputs": [
    {
     "data": {
      "text/plain": [
       "0.0"
      ]
     },
     "execution_count": 59,
     "metadata": {},
     "output_type": "execute_result"
    }
   ],
   "source": [
    "cor_EN_JH = (\n",
    "    ((4-avg_EN)*(2-avg_JH))\n",
    ")/(\n",
    "    sqrt(((4-avg_EN)**2)) *\n",
    "    sqrt(((2)**2)) #no diff between avg and this val. \n",
    ")\n",
    "cor_EN_JH"
   ]
  },
  {
   "cell_type": "code",
   "execution_count": 60,
   "metadata": {},
   "outputs": [
    {
     "data": {
      "text/plain": [
       "0.0"
      ]
     },
     "execution_count": 60,
     "metadata": {},
     "output_type": "execute_result"
    }
   ],
   "source": [
    "cor_EN_DU = (\n",
    "    ((4-avg_EN)*(4-avg_DU))\n",
    ")/(\n",
    "    sqrt(((4-avg_EN)**2)) *\n",
    "    sqrt(((4)**2)) #no diff between avg and this val. \n",
    ")\n",
    "cor_EN_DU"
   ]
  },
  {
   "cell_type": "code",
   "execution_count": 61,
   "metadata": {},
   "outputs": [
    {
     "data": {
      "text/plain": [
       "-1.5700924586837752e-16"
      ]
     },
     "execution_count": 61,
     "metadata": {},
     "output_type": "execute_result"
    }
   ],
   "source": [
    "cor_EN_DS = (\n",
    "    ((4-avg_EN)*(4-avg_DS))+((4-avg_EN)*(2-avg_DS))+((4-avg_EN)*(4-avg_DS))\n",
    ")/(\n",
    "    sqrt(((4-avg_EN)**2)+((4-avg_EN)**2)+((4-avg_EN)**2)) *\n",
    "    sqrt(((4-avg_DS)**2)+((2-avg_DS)**2)+((4-avg_DS)**2))\n",
    ")\n",
    "cor_EN_DS"
   ]
  },
  {
   "cell_type": "markdown",
   "metadata": {},
   "source": [
    "#### b. Based on the single nearest student to E.N., which single course should we recommend to E.N.? Explain why."
   ]
  },
  {
   "cell_type": "markdown",
   "metadata": {},
   "source": [
    "Based on the closest user LN, we can recomend Python as a new course as it is the highest ranked class EN does not have"
   ]
  },
  {
   "cell_type": "markdown",
   "metadata": {},
   "source": [
    "#### c. Use scikit-learn function sklearn.metrics.pairwise.cosine_similarity() to compute the cosine similarity between users."
   ]
  },
  {
   "cell_type": "code",
   "execution_count": 62,
   "metadata": {},
   "outputs": [
    {
     "data": {
      "text/html": [
       "<div>\n",
       "<style scoped>\n",
       "    .dataframe tbody tr th:only-of-type {\n",
       "        vertical-align: middle;\n",
       "    }\n",
       "\n",
       "    .dataframe tbody tr th {\n",
       "        vertical-align: top;\n",
       "    }\n",
       "\n",
       "    .dataframe thead th {\n",
       "        text-align: right;\n",
       "    }\n",
       "</style>\n",
       "<table border=\"1\" class=\"dataframe\">\n",
       "  <thead>\n",
       "    <tr style=\"text-align: right;\">\n",
       "      <th></th>\n",
       "      <th>Unnamed: 0</th>\n",
       "      <th>SQL</th>\n",
       "      <th>Spatial</th>\n",
       "      <th>PA1</th>\n",
       "      <th>DM in R</th>\n",
       "      <th>Python</th>\n",
       "      <th>Forecast</th>\n",
       "      <th>R Prog</th>\n",
       "      <th>Hadoop</th>\n",
       "      <th>Regression</th>\n",
       "    </tr>\n",
       "  </thead>\n",
       "  <tbody>\n",
       "    <tr>\n",
       "      <th>0</th>\n",
       "      <td>LN</td>\n",
       "      <td>4.0</td>\n",
       "      <td>NaN</td>\n",
       "      <td>NaN</td>\n",
       "      <td>NaN</td>\n",
       "      <td>3.0</td>\n",
       "      <td>2.0</td>\n",
       "      <td>4.0</td>\n",
       "      <td>NaN</td>\n",
       "      <td>2.0</td>\n",
       "    </tr>\n",
       "    <tr>\n",
       "      <th>1</th>\n",
       "      <td>MH</td>\n",
       "      <td>3.0</td>\n",
       "      <td>4.0</td>\n",
       "      <td>NaN</td>\n",
       "      <td>NaN</td>\n",
       "      <td>4.0</td>\n",
       "      <td>NaN</td>\n",
       "      <td>NaN</td>\n",
       "      <td>NaN</td>\n",
       "      <td>NaN</td>\n",
       "    </tr>\n",
       "    <tr>\n",
       "      <th>2</th>\n",
       "      <td>JH</td>\n",
       "      <td>2.0</td>\n",
       "      <td>2.0</td>\n",
       "      <td>NaN</td>\n",
       "      <td>NaN</td>\n",
       "      <td>NaN</td>\n",
       "      <td>NaN</td>\n",
       "      <td>NaN</td>\n",
       "      <td>NaN</td>\n",
       "      <td>NaN</td>\n",
       "    </tr>\n",
       "  </tbody>\n",
       "</table>\n",
       "</div>"
      ],
      "text/plain": [
       "  Unnamed: 0  SQL  Spatial  PA1  DM in R  Python  Forecast  R Prog  Hadoop  \\\n",
       "0         LN  4.0      NaN  NaN      NaN     3.0       2.0     4.0     NaN   \n",
       "1         MH  3.0      4.0  NaN      NaN     4.0       NaN     NaN     NaN   \n",
       "2         JH  2.0      2.0  NaN      NaN     NaN       NaN     NaN     NaN   \n",
       "\n",
       "   Regression  \n",
       "0         2.0  \n",
       "1         NaN  \n",
       "2         NaN  "
      ]
     },
     "execution_count": 62,
     "metadata": {},
     "output_type": "execute_result"
    }
   ],
   "source": [
    "cours_df = pd.read_csv(DATA / \"courserating.csv\")\n",
    "cours_df.head(3)"
   ]
  },
  {
   "cell_type": "code",
   "execution_count": 63,
   "metadata": {},
   "outputs": [
    {
     "data": {
      "text/html": [
       "<div>\n",
       "<style scoped>\n",
       "    .dataframe tbody tr th:only-of-type {\n",
       "        vertical-align: middle;\n",
       "    }\n",
       "\n",
       "    .dataframe tbody tr th {\n",
       "        vertical-align: top;\n",
       "    }\n",
       "\n",
       "    .dataframe thead th {\n",
       "        text-align: right;\n",
       "    }\n",
       "</style>\n",
       "<table border=\"1\" class=\"dataframe\">\n",
       "  <thead>\n",
       "    <tr style=\"text-align: right;\">\n",
       "      <th></th>\n",
       "      <th>SQL</th>\n",
       "      <th>Spatial</th>\n",
       "      <th>PA1</th>\n",
       "      <th>DM in R</th>\n",
       "      <th>Python</th>\n",
       "      <th>Forecast</th>\n",
       "      <th>R Prog</th>\n",
       "      <th>Hadoop</th>\n",
       "      <th>Regression</th>\n",
       "    </tr>\n",
       "    <tr>\n",
       "      <th>Unnamed: 0</th>\n",
       "      <th></th>\n",
       "      <th></th>\n",
       "      <th></th>\n",
       "      <th></th>\n",
       "      <th></th>\n",
       "      <th></th>\n",
       "      <th></th>\n",
       "      <th></th>\n",
       "      <th></th>\n",
       "    </tr>\n",
       "  </thead>\n",
       "  <tbody>\n",
       "    <tr>\n",
       "      <th>LN</th>\n",
       "      <td>4.0</td>\n",
       "      <td>NaN</td>\n",
       "      <td>NaN</td>\n",
       "      <td>NaN</td>\n",
       "      <td>3.0</td>\n",
       "      <td>2.0</td>\n",
       "      <td>4.0</td>\n",
       "      <td>NaN</td>\n",
       "      <td>2.0</td>\n",
       "    </tr>\n",
       "    <tr>\n",
       "      <th>MH</th>\n",
       "      <td>3.0</td>\n",
       "      <td>4.0</td>\n",
       "      <td>NaN</td>\n",
       "      <td>NaN</td>\n",
       "      <td>4.0</td>\n",
       "      <td>NaN</td>\n",
       "      <td>NaN</td>\n",
       "      <td>NaN</td>\n",
       "      <td>NaN</td>\n",
       "    </tr>\n",
       "    <tr>\n",
       "      <th>JH</th>\n",
       "      <td>2.0</td>\n",
       "      <td>2.0</td>\n",
       "      <td>NaN</td>\n",
       "      <td>NaN</td>\n",
       "      <td>NaN</td>\n",
       "      <td>NaN</td>\n",
       "      <td>NaN</td>\n",
       "      <td>NaN</td>\n",
       "      <td>NaN</td>\n",
       "    </tr>\n",
       "    <tr>\n",
       "      <th>EN</th>\n",
       "      <td>4.0</td>\n",
       "      <td>NaN</td>\n",
       "      <td>NaN</td>\n",
       "      <td>4.0</td>\n",
       "      <td>NaN</td>\n",
       "      <td>NaN</td>\n",
       "      <td>4.0</td>\n",
       "      <td>NaN</td>\n",
       "      <td>3.0</td>\n",
       "    </tr>\n",
       "    <tr>\n",
       "      <th>DU</th>\n",
       "      <td>4.0</td>\n",
       "      <td>4.0</td>\n",
       "      <td>NaN</td>\n",
       "      <td>NaN</td>\n",
       "      <td>NaN</td>\n",
       "      <td>NaN</td>\n",
       "      <td>NaN</td>\n",
       "      <td>NaN</td>\n",
       "      <td>NaN</td>\n",
       "    </tr>\n",
       "    <tr>\n",
       "      <th>FL</th>\n",
       "      <td>NaN</td>\n",
       "      <td>4.0</td>\n",
       "      <td>NaN</td>\n",
       "      <td>NaN</td>\n",
       "      <td>NaN</td>\n",
       "      <td>NaN</td>\n",
       "      <td>NaN</td>\n",
       "      <td>NaN</td>\n",
       "      <td>NaN</td>\n",
       "    </tr>\n",
       "    <tr>\n",
       "      <th>GL</th>\n",
       "      <td>NaN</td>\n",
       "      <td>4.0</td>\n",
       "      <td>NaN</td>\n",
       "      <td>NaN</td>\n",
       "      <td>NaN</td>\n",
       "      <td>NaN</td>\n",
       "      <td>NaN</td>\n",
       "      <td>NaN</td>\n",
       "      <td>NaN</td>\n",
       "    </tr>\n",
       "    <tr>\n",
       "      <th>AH</th>\n",
       "      <td>NaN</td>\n",
       "      <td>3.0</td>\n",
       "      <td>NaN</td>\n",
       "      <td>NaN</td>\n",
       "      <td>NaN</td>\n",
       "      <td>NaN</td>\n",
       "      <td>NaN</td>\n",
       "      <td>NaN</td>\n",
       "      <td>NaN</td>\n",
       "    </tr>\n",
       "    <tr>\n",
       "      <th>SA</th>\n",
       "      <td>NaN</td>\n",
       "      <td>NaN</td>\n",
       "      <td>4.0</td>\n",
       "      <td>NaN</td>\n",
       "      <td>NaN</td>\n",
       "      <td>NaN</td>\n",
       "      <td>NaN</td>\n",
       "      <td>NaN</td>\n",
       "      <td>NaN</td>\n",
       "    </tr>\n",
       "    <tr>\n",
       "      <th>RW</th>\n",
       "      <td>NaN</td>\n",
       "      <td>NaN</td>\n",
       "      <td>2.0</td>\n",
       "      <td>NaN</td>\n",
       "      <td>NaN</td>\n",
       "      <td>NaN</td>\n",
       "      <td>NaN</td>\n",
       "      <td>4.0</td>\n",
       "      <td>NaN</td>\n",
       "    </tr>\n",
       "    <tr>\n",
       "      <th>BA</th>\n",
       "      <td>NaN</td>\n",
       "      <td>NaN</td>\n",
       "      <td>4.0</td>\n",
       "      <td>NaN</td>\n",
       "      <td>NaN</td>\n",
       "      <td>NaN</td>\n",
       "      <td>NaN</td>\n",
       "      <td>NaN</td>\n",
       "      <td>NaN</td>\n",
       "    </tr>\n",
       "    <tr>\n",
       "      <th>MG</th>\n",
       "      <td>NaN</td>\n",
       "      <td>NaN</td>\n",
       "      <td>4.0</td>\n",
       "      <td>NaN</td>\n",
       "      <td>NaN</td>\n",
       "      <td>4.0</td>\n",
       "      <td>NaN</td>\n",
       "      <td>NaN</td>\n",
       "      <td>NaN</td>\n",
       "    </tr>\n",
       "    <tr>\n",
       "      <th>AF</th>\n",
       "      <td>NaN</td>\n",
       "      <td>NaN</td>\n",
       "      <td>4.0</td>\n",
       "      <td>NaN</td>\n",
       "      <td>NaN</td>\n",
       "      <td>NaN</td>\n",
       "      <td>NaN</td>\n",
       "      <td>NaN</td>\n",
       "      <td>NaN</td>\n",
       "    </tr>\n",
       "    <tr>\n",
       "      <th>KG</th>\n",
       "      <td>NaN</td>\n",
       "      <td>NaN</td>\n",
       "      <td>3.0</td>\n",
       "      <td>NaN</td>\n",
       "      <td>NaN</td>\n",
       "      <td>NaN</td>\n",
       "      <td>NaN</td>\n",
       "      <td>NaN</td>\n",
       "      <td>NaN</td>\n",
       "    </tr>\n",
       "    <tr>\n",
       "      <th>DS</th>\n",
       "      <td>4.0</td>\n",
       "      <td>NaN</td>\n",
       "      <td>NaN</td>\n",
       "      <td>2.0</td>\n",
       "      <td>NaN</td>\n",
       "      <td>NaN</td>\n",
       "      <td>4.0</td>\n",
       "      <td>NaN</td>\n",
       "      <td>NaN</td>\n",
       "    </tr>\n",
       "  </tbody>\n",
       "</table>\n",
       "</div>"
      ],
      "text/plain": [
       "            SQL  Spatial  PA1  DM in R  Python  Forecast  R Prog  Hadoop  \\\n",
       "Unnamed: 0                                                                 \n",
       "LN          4.0      NaN  NaN      NaN     3.0       2.0     4.0     NaN   \n",
       "MH          3.0      4.0  NaN      NaN     4.0       NaN     NaN     NaN   \n",
       "JH          2.0      2.0  NaN      NaN     NaN       NaN     NaN     NaN   \n",
       "EN          4.0      NaN  NaN      4.0     NaN       NaN     4.0     NaN   \n",
       "DU          4.0      4.0  NaN      NaN     NaN       NaN     NaN     NaN   \n",
       "FL          NaN      4.0  NaN      NaN     NaN       NaN     NaN     NaN   \n",
       "GL          NaN      4.0  NaN      NaN     NaN       NaN     NaN     NaN   \n",
       "AH          NaN      3.0  NaN      NaN     NaN       NaN     NaN     NaN   \n",
       "SA          NaN      NaN  4.0      NaN     NaN       NaN     NaN     NaN   \n",
       "RW          NaN      NaN  2.0      NaN     NaN       NaN     NaN     4.0   \n",
       "BA          NaN      NaN  4.0      NaN     NaN       NaN     NaN     NaN   \n",
       "MG          NaN      NaN  4.0      NaN     NaN       4.0     NaN     NaN   \n",
       "AF          NaN      NaN  4.0      NaN     NaN       NaN     NaN     NaN   \n",
       "KG          NaN      NaN  3.0      NaN     NaN       NaN     NaN     NaN   \n",
       "DS          4.0      NaN  NaN      2.0     NaN       NaN     4.0     NaN   \n",
       "\n",
       "            Regression  \n",
       "Unnamed: 0              \n",
       "LN                 2.0  \n",
       "MH                 NaN  \n",
       "JH                 NaN  \n",
       "EN                 3.0  \n",
       "DU                 NaN  \n",
       "FL                 NaN  \n",
       "GL                 NaN  \n",
       "AH                 NaN  \n",
       "SA                 NaN  \n",
       "RW                 NaN  \n",
       "BA                 NaN  \n",
       "MG                 NaN  \n",
       "AF                 NaN  \n",
       "KG                 NaN  \n",
       "DS                 NaN  "
      ]
     },
     "execution_count": 63,
     "metadata": {},
     "output_type": "execute_result"
    }
   ],
   "source": [
    "cours_df.set_index('Unnamed: 0', inplace=True)\n",
    "cours_df"
   ]
  },
  {
   "cell_type": "code",
   "execution_count": 64,
   "metadata": {},
   "outputs": [],
   "source": [
    "def replace_na_with_row_avg(row):\n",
    "    row_avg = row.mean(skipna=True)  # Calculate row average excluding NaN values\n",
    "    return row.fillna(row_avg)"
   ]
  },
  {
   "cell_type": "code",
   "execution_count": 65,
   "metadata": {},
   "outputs": [],
   "source": [
    "# cours_df_filled = cours_df.apply(replace_na_with_row_avg, axis=1)\n",
    "# cours_df_filled"
   ]
  },
  {
   "cell_type": "code",
   "execution_count": 66,
   "metadata": {},
   "outputs": [
    {
     "name": "stdout",
     "output_type": "stream",
     "text": [
      "[[1.         0.98910049]\n",
      " [0.98910049 1.        ]]\n",
      "[[1. 1.]\n",
      " [1. 1.]]\n",
      "[[1. 1.]\n",
      " [1. 1.]]\n",
      "[[1. 1.]\n",
      " [1. 1.]]\n",
      "[[1.         0.96225045]\n",
      " [0.96225045 1.        ]]\n"
     ]
    }
   ],
   "source": [
    "print(cosine_similarity(cours_df.loc[['LN', 'EN'], ['SQL', 'R Prog', 'Regression']]))\n",
    "print(cosine_similarity(cours_df.loc[['MH', 'EN'], ['SQL']]))\n",
    "print(cosine_similarity(cours_df.loc[['JH', 'EN'], ['SQL']]))\n",
    "print(cosine_similarity(cours_df.loc[['DU', 'EN'], ['SQL']]))\n",
    "print(cosine_similarity(cours_df.loc[['DS', 'EN'], ['SQL', 'DM in R', 'R Prog']]))\n",
    "# cos_sim[3] #for EN"
   ]
  },
  {
   "cell_type": "markdown",
   "metadata": {},
   "source": [
    "#### d. Based on the cosine similarities of the nearest students to E.N., which course should be recommended to E.N.?"
   ]
  },
  {
   "cell_type": "markdown",
   "metadata": {},
   "source": [
    "Based on the cloeset student LN. The student EN should be recoemended Python. it is the highest rated class that is not shared by them. "
   ]
  },
  {
   "cell_type": "markdown",
   "metadata": {},
   "source": [
    "#### e. What is the conceptual difference between using the correlation as opposed to cosine similarities? (Hint: How are the missing values in the matrix handled in each case?)"
   ]
  },
  {
   "cell_type": "markdown",
   "metadata": {},
   "source": [
    "Corelation looks at the proximinity of the nearest neighbors. It subtracts the mean of the row from the values of the row for each row so it is sort of bound by its own measurments while only comparing the two records along corelated columns. Similarity does not subtract the mean, it only uses raw scores. It ignores correlated cloumn values of zero to zero. It measures how similar the two records are without being bould by its own measurments. "
   ]
  },
  {
   "cell_type": "markdown",
   "metadata": {},
   "source": [
    "#### f. With large datasets, it is computationally difficult to compute user-based recommendations in real time, and an item-based approach is used instead. Returning to the rating data (not the binary matrix), let’s now take that approach."
   ]
  },
  {
   "cell_type": "markdown",
   "metadata": {},
   "source": [
    "##### i. If the goal is still to find a recommendation for E.N., for which course pairs is it possible and useful to calculate correlations?"
   ]
  },
  {
   "cell_type": "markdown",
   "metadata": {},
   "source": [
    "if we want to still give a recomendatiuon to EN we can recomend teh following pairs: (SQL, Spatial),(SQL,DM in R), (SQL,Python), (SQL, R Prog), (SQL, Regression),(DM in R, Rprog),(Rprog, regression)"
   ]
  },
  {
   "cell_type": "markdown",
   "metadata": {},
   "source": [
    "##### ii. Just looking at the data, and without yet calculating course pair correlations, which course would you recommend to E.N., relying on item-based filtering? Calculate two course pair correlations involving your guess and report the results."
   ]
  },
  {
   "cell_type": "markdown",
   "metadata": {},
   "source": [
    "I recomend python to EN. "
   ]
  },
  {
   "cell_type": "code",
   "execution_count": 68,
   "metadata": {},
   "outputs": [],
   "source": [
    "avg_sql = (4+3+2+4+4+4)/6\n",
    "avg_reg = (3+2)/2\n",
    "avg_py = (4+4+4)/3\n"
   ]
  },
  {
   "cell_type": "code",
   "execution_count": 78,
   "metadata": {},
   "outputs": [
    {
     "data": {
      "text/plain": [
       "-0.9999999999999998"
      ]
     },
     "execution_count": 78,
     "metadata": {},
     "output_type": "execute_result"
    }
   ],
   "source": [
    "cor_SQL_py = (\n",
    "    ((3-avg_py)*(4-avg_sql)) + ((4-avg_py)*(3-avg_sql))\n",
    ")/(\n",
    "    sqrt(\n",
    "        ((3-avg_py)**2)+((4-avg_py)**2)\n",
    "        ) *\n",
    "    sqrt(\n",
    "        ((4-avg_sql)**2)+((3-avg_sql)**2)\n",
    "        ) #no diff between avg and this val. \n",
    ")\n",
    "cor_SQL_py"
   ]
  },
  {
   "cell_type": "code",
   "execution_count": 79,
   "metadata": {},
   "outputs": [
    {
     "data": {
      "text/plain": [
       "1.0"
      ]
     },
     "execution_count": 79,
     "metadata": {},
     "output_type": "execute_result"
    }
   ],
   "source": [
    "cor_py_Reg = (\n",
    "    ((3-avg_py)*(2-avg_reg))\n",
    ")/(\n",
    "    sqrt(\n",
    "        ((3-avg_py)**2)\n",
    "        ) *\n",
    "    sqrt(\n",
    "        ((2-avg_reg)**2)\n",
    "        ) #no diff between avg and this val. \n",
    ")\n",
    "cor_py_Reg"
   ]
  },
  {
   "cell_type": "markdown",
   "metadata": {},
   "source": [
    "The suggested class python is strongly inversly corelated to SQL and strongly correlated to Regression. It has strong relationships in opposite direections to two of the highly rated classes EN is already taking. "
   ]
  },
  {
   "cell_type": "markdown",
   "metadata": {},
   "source": [
    "#### g. Apply item-based collaborative filtering to this dataset (using Python) and based on the results, recommend a course to E.N."
   ]
  },
  {
   "cell_type": "code",
   "execution_count": 96,
   "metadata": {},
   "outputs": [],
   "source": [
    "def get_top_n(predictions, numberOfItems):\n",
    "    byUser = defaultdict(list)\n",
    "    for p in predictions:\n",
    "        byUser[p.uid].append(p)\n",
    "\n",
    "    for uid, userPredictions in byUser.items():\n",
    "        byUser[uid] = heapq.nlargest(numberOfItems, userPredictions, key= lambda p: p.est)\n",
    "    return byUser   "
   ]
  },
  {
   "cell_type": "code",
   "execution_count": 82,
   "metadata": {},
   "outputs": [
    {
     "data": {
      "text/html": [
       "<div>\n",
       "<style scoped>\n",
       "    .dataframe tbody tr th:only-of-type {\n",
       "        vertical-align: middle;\n",
       "    }\n",
       "\n",
       "    .dataframe tbody tr th {\n",
       "        vertical-align: top;\n",
       "    }\n",
       "\n",
       "    .dataframe thead th {\n",
       "        text-align: right;\n",
       "    }\n",
       "</style>\n",
       "<table border=\"1\" class=\"dataframe\">\n",
       "  <thead>\n",
       "    <tr style=\"text-align: right;\">\n",
       "      <th></th>\n",
       "      <th>Unnamed: 0</th>\n",
       "      <th>SQL</th>\n",
       "      <th>Spatial</th>\n",
       "      <th>PA1</th>\n",
       "      <th>DM in R</th>\n",
       "      <th>Python</th>\n",
       "      <th>Forecast</th>\n",
       "      <th>R Prog</th>\n",
       "      <th>Hadoop</th>\n",
       "      <th>Regression</th>\n",
       "    </tr>\n",
       "  </thead>\n",
       "  <tbody>\n",
       "    <tr>\n",
       "      <th>0</th>\n",
       "      <td>LN</td>\n",
       "      <td>4.0</td>\n",
       "      <td>NaN</td>\n",
       "      <td>NaN</td>\n",
       "      <td>NaN</td>\n",
       "      <td>3.0</td>\n",
       "      <td>2.0</td>\n",
       "      <td>4.0</td>\n",
       "      <td>NaN</td>\n",
       "      <td>2.0</td>\n",
       "    </tr>\n",
       "    <tr>\n",
       "      <th>1</th>\n",
       "      <td>MH</td>\n",
       "      <td>3.0</td>\n",
       "      <td>4.0</td>\n",
       "      <td>NaN</td>\n",
       "      <td>NaN</td>\n",
       "      <td>4.0</td>\n",
       "      <td>NaN</td>\n",
       "      <td>NaN</td>\n",
       "      <td>NaN</td>\n",
       "      <td>NaN</td>\n",
       "    </tr>\n",
       "    <tr>\n",
       "      <th>2</th>\n",
       "      <td>JH</td>\n",
       "      <td>2.0</td>\n",
       "      <td>2.0</td>\n",
       "      <td>NaN</td>\n",
       "      <td>NaN</td>\n",
       "      <td>NaN</td>\n",
       "      <td>NaN</td>\n",
       "      <td>NaN</td>\n",
       "      <td>NaN</td>\n",
       "      <td>NaN</td>\n",
       "    </tr>\n",
       "    <tr>\n",
       "      <th>3</th>\n",
       "      <td>EN</td>\n",
       "      <td>4.0</td>\n",
       "      <td>NaN</td>\n",
       "      <td>NaN</td>\n",
       "      <td>4.0</td>\n",
       "      <td>NaN</td>\n",
       "      <td>NaN</td>\n",
       "      <td>4.0</td>\n",
       "      <td>NaN</td>\n",
       "      <td>3.0</td>\n",
       "    </tr>\n",
       "    <tr>\n",
       "      <th>4</th>\n",
       "      <td>DU</td>\n",
       "      <td>4.0</td>\n",
       "      <td>4.0</td>\n",
       "      <td>NaN</td>\n",
       "      <td>NaN</td>\n",
       "      <td>NaN</td>\n",
       "      <td>NaN</td>\n",
       "      <td>NaN</td>\n",
       "      <td>NaN</td>\n",
       "      <td>NaN</td>\n",
       "    </tr>\n",
       "    <tr>\n",
       "      <th>5</th>\n",
       "      <td>FL</td>\n",
       "      <td>NaN</td>\n",
       "      <td>4.0</td>\n",
       "      <td>NaN</td>\n",
       "      <td>NaN</td>\n",
       "      <td>NaN</td>\n",
       "      <td>NaN</td>\n",
       "      <td>NaN</td>\n",
       "      <td>NaN</td>\n",
       "      <td>NaN</td>\n",
       "    </tr>\n",
       "    <tr>\n",
       "      <th>6</th>\n",
       "      <td>GL</td>\n",
       "      <td>NaN</td>\n",
       "      <td>4.0</td>\n",
       "      <td>NaN</td>\n",
       "      <td>NaN</td>\n",
       "      <td>NaN</td>\n",
       "      <td>NaN</td>\n",
       "      <td>NaN</td>\n",
       "      <td>NaN</td>\n",
       "      <td>NaN</td>\n",
       "    </tr>\n",
       "    <tr>\n",
       "      <th>7</th>\n",
       "      <td>AH</td>\n",
       "      <td>NaN</td>\n",
       "      <td>3.0</td>\n",
       "      <td>NaN</td>\n",
       "      <td>NaN</td>\n",
       "      <td>NaN</td>\n",
       "      <td>NaN</td>\n",
       "      <td>NaN</td>\n",
       "      <td>NaN</td>\n",
       "      <td>NaN</td>\n",
       "    </tr>\n",
       "    <tr>\n",
       "      <th>8</th>\n",
       "      <td>SA</td>\n",
       "      <td>NaN</td>\n",
       "      <td>NaN</td>\n",
       "      <td>4.0</td>\n",
       "      <td>NaN</td>\n",
       "      <td>NaN</td>\n",
       "      <td>NaN</td>\n",
       "      <td>NaN</td>\n",
       "      <td>NaN</td>\n",
       "      <td>NaN</td>\n",
       "    </tr>\n",
       "    <tr>\n",
       "      <th>9</th>\n",
       "      <td>RW</td>\n",
       "      <td>NaN</td>\n",
       "      <td>NaN</td>\n",
       "      <td>2.0</td>\n",
       "      <td>NaN</td>\n",
       "      <td>NaN</td>\n",
       "      <td>NaN</td>\n",
       "      <td>NaN</td>\n",
       "      <td>4.0</td>\n",
       "      <td>NaN</td>\n",
       "    </tr>\n",
       "    <tr>\n",
       "      <th>10</th>\n",
       "      <td>BA</td>\n",
       "      <td>NaN</td>\n",
       "      <td>NaN</td>\n",
       "      <td>4.0</td>\n",
       "      <td>NaN</td>\n",
       "      <td>NaN</td>\n",
       "      <td>NaN</td>\n",
       "      <td>NaN</td>\n",
       "      <td>NaN</td>\n",
       "      <td>NaN</td>\n",
       "    </tr>\n",
       "    <tr>\n",
       "      <th>11</th>\n",
       "      <td>MG</td>\n",
       "      <td>NaN</td>\n",
       "      <td>NaN</td>\n",
       "      <td>4.0</td>\n",
       "      <td>NaN</td>\n",
       "      <td>NaN</td>\n",
       "      <td>4.0</td>\n",
       "      <td>NaN</td>\n",
       "      <td>NaN</td>\n",
       "      <td>NaN</td>\n",
       "    </tr>\n",
       "    <tr>\n",
       "      <th>12</th>\n",
       "      <td>AF</td>\n",
       "      <td>NaN</td>\n",
       "      <td>NaN</td>\n",
       "      <td>4.0</td>\n",
       "      <td>NaN</td>\n",
       "      <td>NaN</td>\n",
       "      <td>NaN</td>\n",
       "      <td>NaN</td>\n",
       "      <td>NaN</td>\n",
       "      <td>NaN</td>\n",
       "    </tr>\n",
       "    <tr>\n",
       "      <th>13</th>\n",
       "      <td>KG</td>\n",
       "      <td>NaN</td>\n",
       "      <td>NaN</td>\n",
       "      <td>3.0</td>\n",
       "      <td>NaN</td>\n",
       "      <td>NaN</td>\n",
       "      <td>NaN</td>\n",
       "      <td>NaN</td>\n",
       "      <td>NaN</td>\n",
       "      <td>NaN</td>\n",
       "    </tr>\n",
       "    <tr>\n",
       "      <th>14</th>\n",
       "      <td>DS</td>\n",
       "      <td>4.0</td>\n",
       "      <td>NaN</td>\n",
       "      <td>NaN</td>\n",
       "      <td>2.0</td>\n",
       "      <td>NaN</td>\n",
       "      <td>NaN</td>\n",
       "      <td>4.0</td>\n",
       "      <td>NaN</td>\n",
       "      <td>NaN</td>\n",
       "    </tr>\n",
       "  </tbody>\n",
       "</table>\n",
       "</div>"
      ],
      "text/plain": [
       "   Unnamed: 0  SQL  Spatial  PA1  DM in R  Python  Forecast  R Prog  Hadoop  \\\n",
       "0          LN  4.0      NaN  NaN      NaN     3.0       2.0     4.0     NaN   \n",
       "1          MH  3.0      4.0  NaN      NaN     4.0       NaN     NaN     NaN   \n",
       "2          JH  2.0      2.0  NaN      NaN     NaN       NaN     NaN     NaN   \n",
       "3          EN  4.0      NaN  NaN      4.0     NaN       NaN     4.0     NaN   \n",
       "4          DU  4.0      4.0  NaN      NaN     NaN       NaN     NaN     NaN   \n",
       "5          FL  NaN      4.0  NaN      NaN     NaN       NaN     NaN     NaN   \n",
       "6          GL  NaN      4.0  NaN      NaN     NaN       NaN     NaN     NaN   \n",
       "7          AH  NaN      3.0  NaN      NaN     NaN       NaN     NaN     NaN   \n",
       "8          SA  NaN      NaN  4.0      NaN     NaN       NaN     NaN     NaN   \n",
       "9          RW  NaN      NaN  2.0      NaN     NaN       NaN     NaN     4.0   \n",
       "10         BA  NaN      NaN  4.0      NaN     NaN       NaN     NaN     NaN   \n",
       "11         MG  NaN      NaN  4.0      NaN     NaN       4.0     NaN     NaN   \n",
       "12         AF  NaN      NaN  4.0      NaN     NaN       NaN     NaN     NaN   \n",
       "13         KG  NaN      NaN  3.0      NaN     NaN       NaN     NaN     NaN   \n",
       "14         DS  4.0      NaN  NaN      2.0     NaN       NaN     4.0     NaN   \n",
       "\n",
       "    Regression  \n",
       "0          2.0  \n",
       "1          NaN  \n",
       "2          NaN  \n",
       "3          3.0  \n",
       "4          NaN  \n",
       "5          NaN  \n",
       "6          NaN  \n",
       "7          NaN  \n",
       "8          NaN  \n",
       "9          NaN  \n",
       "10         NaN  \n",
       "11         NaN  \n",
       "12         NaN  \n",
       "13         NaN  \n",
       "14         NaN  "
      ]
     },
     "execution_count": 82,
     "metadata": {},
     "output_type": "execute_result"
    }
   ],
   "source": [
    "cours_df = pd.read_csv(DATA / \"courserating.csv\")\n",
    "cours_df"
   ]
  },
  {
   "cell_type": "code",
   "execution_count": 88,
   "metadata": {},
   "outputs": [
    {
     "data": {
      "text/html": [
       "<div>\n",
       "<style scoped>\n",
       "    .dataframe tbody tr th:only-of-type {\n",
       "        vertical-align: middle;\n",
       "    }\n",
       "\n",
       "    .dataframe tbody tr th {\n",
       "        vertical-align: top;\n",
       "    }\n",
       "\n",
       "    .dataframe thead th {\n",
       "        text-align: right;\n",
       "    }\n",
       "</style>\n",
       "<table border=\"1\" class=\"dataframe\">\n",
       "  <thead>\n",
       "    <tr style=\"text-align: right;\">\n",
       "      <th></th>\n",
       "      <th>Unnamed: 0</th>\n",
       "      <th>course</th>\n",
       "      <th>rating</th>\n",
       "    </tr>\n",
       "  </thead>\n",
       "  <tbody>\n",
       "    <tr>\n",
       "      <th>0</th>\n",
       "      <td>LN</td>\n",
       "      <td>SQL</td>\n",
       "      <td>4.0</td>\n",
       "    </tr>\n",
       "    <tr>\n",
       "      <th>1</th>\n",
       "      <td>MH</td>\n",
       "      <td>SQL</td>\n",
       "      <td>3.0</td>\n",
       "    </tr>\n",
       "  </tbody>\n",
       "</table>\n",
       "</div>"
      ],
      "text/plain": [
       "  Unnamed: 0 course  rating\n",
       "0         LN    SQL     4.0\n",
       "1         MH    SQL     3.0"
      ]
     },
     "execution_count": 88,
     "metadata": {},
     "output_type": "execute_result"
    }
   ],
   "source": [
    "melted_course_df = cours_df.melt(id_vars='Unnamed: 0' , var_name='course', value_name='rating')\n",
    "melted_course_df.head(2)"
   ]
  },
  {
   "cell_type": "code",
   "execution_count": 89,
   "metadata": {},
   "outputs": [],
   "source": [
    "reader_course = Reader(rating_scale=(1,4))"
   ]
  },
  {
   "cell_type": "code",
   "execution_count": 94,
   "metadata": {},
   "outputs": [
    {
     "name": "stdout",
     "output_type": "stream",
     "text": [
      "Computing the cosine similarity matrix...\n",
      "Done computing similarity matrix.\n"
     ]
    },
    {
     "data": {
      "text/plain": [
       "<surprise.prediction_algorithms.knns.KNNBasic at 0x2016428fca0>"
      ]
     },
     "execution_count": 94,
     "metadata": {},
     "output_type": "execute_result"
    }
   ],
   "source": [
    "data = Dataset.load_from_df(melted_course_df[['Unnamed: 0', 'course', 'rating']],reader= reader_course)\n",
    "trainset , testset = train_test_split(data, test_size=0.25, random_state=1)\n",
    "sim_options_item = {'name':'cosine', 'user_based': False}\n",
    "algo_item = KNNBasic(sim_options=sim_options_item)\n",
    "algo_item.fit(trainset=trainset)\n"
   ]
  },
  {
   "cell_type": "code",
   "execution_count": 97,
   "metadata": {},
   "outputs": [
    {
     "data": {
      "text/plain": [
       "defaultdict(list,\n",
       "            {'MH': [Prediction(uid='MH', iid='SQL', r_ui=3.0, est=4, details={'was_impossible': True, 'reason': 'Not enough neighbors.'})],\n",
       "             'AF': [Prediction(uid='AF', iid='DM in R', r_ui=nan, est=4, details={'was_impossible': True, 'reason': 'Not enough neighbors.'})],\n",
       "             'AH': [Prediction(uid='AH', iid='Spatial', r_ui=3.0, est=4, details={'was_impossible': True, 'reason': 'Not enough neighbors.'})],\n",
       "             'EN': [Prediction(uid='EN', iid='Python', r_ui=nan, est=4, details={'was_impossible': True, 'reason': 'Not enough neighbors.'})],\n",
       "             'RW': [Prediction(uid='RW', iid='SQL', r_ui=nan, est=4, details={'was_impossible': True, 'reason': 'Not enough neighbors.'})],\n",
       "             'KG': [Prediction(uid='KG', iid='SQL', r_ui=nan, est=4, details={'was_impossible': True, 'reason': 'Not enough neighbors.'})],\n",
       "             'MG': [Prediction(uid='MG', iid='Forecast', r_ui=4.0, est=4, details={'was_impossible': True, 'reason': 'Not enough neighbors.'})],\n",
       "             'GL': [Prediction(uid='GL', iid='R Prog', r_ui=nan, est=4, details={'was_impossible': True, 'reason': 'Not enough neighbors.'})],\n",
       "             'DU': [Prediction(uid='DU', iid='R Prog', r_ui=nan, est=4, details={'was_impossible': True, 'reason': 'Not enough neighbors.'})],\n",
       "             'SA': [Prediction(uid='SA', iid='Hadoop', r_ui=nan, est=4, details={'was_impossible': True, 'reason': 'Not enough neighbors.'})],\n",
       "             'LN': [Prediction(uid='LN', iid='Hadoop', r_ui=nan, est=4, details={'was_impossible': True, 'reason': 'Not enough neighbors.'})],\n",
       "             'FL': [Prediction(uid='FL', iid='DM in R', r_ui=nan, est=4, details={'was_impossible': True, 'reason': 'Not enough neighbors.'})],\n",
       "             'DS': [Prediction(uid='DS', iid='SQL', r_ui=4.0, est=4, details={'was_impossible': True, 'reason': 'Not enough neighbors.'})],\n",
       "             'BA': [Prediction(uid='BA', iid='Spatial', r_ui=nan, est=4, details={'was_impossible': True, 'reason': 'Not enough neighbors.'})]})"
      ]
     },
     "execution_count": 97,
     "metadata": {},
     "output_type": "execute_result"
    }
   ],
   "source": [
    "predictions = algo_item.test(testset)\n",
    "recomend = get_top_n(predictions=predictions, numberOfItems=1)\n",
    "recomend"
   ]
  },
  {
   "cell_type": "markdown",
   "metadata": {},
   "source": [
    "We can see that for EN it recomends Python as teh course to pick up"
   ]
  },
  {
   "cell_type": "markdown",
   "metadata": {},
   "source": [
    "#### h. Convert all numeric ratings to 1 and all blank (missing values) to 0. Apply user-based and item-based collaborative filtering to this dataset using both Pearson correlation and Cosine similarity and based on the results, recommend a course to E.N."
   ]
  },
  {
   "cell_type": "code",
   "execution_count": 100,
   "metadata": {},
   "outputs": [
    {
     "data": {
      "text/html": [
       "<div>\n",
       "<style scoped>\n",
       "    .dataframe tbody tr th:only-of-type {\n",
       "        vertical-align: middle;\n",
       "    }\n",
       "\n",
       "    .dataframe tbody tr th {\n",
       "        vertical-align: top;\n",
       "    }\n",
       "\n",
       "    .dataframe thead th {\n",
       "        text-align: right;\n",
       "    }\n",
       "</style>\n",
       "<table border=\"1\" class=\"dataframe\">\n",
       "  <thead>\n",
       "    <tr style=\"text-align: right;\">\n",
       "      <th></th>\n",
       "      <th>Unnamed: 0</th>\n",
       "      <th>SQL</th>\n",
       "      <th>Spatial</th>\n",
       "      <th>PA1</th>\n",
       "      <th>DM in R</th>\n",
       "      <th>Python</th>\n",
       "      <th>Forecast</th>\n",
       "      <th>R Prog</th>\n",
       "      <th>Hadoop</th>\n",
       "      <th>Regression</th>\n",
       "    </tr>\n",
       "  </thead>\n",
       "  <tbody>\n",
       "    <tr>\n",
       "      <th>0</th>\n",
       "      <td>LN</td>\n",
       "      <td>4.0</td>\n",
       "      <td>0.0</td>\n",
       "      <td>0.0</td>\n",
       "      <td>0.0</td>\n",
       "      <td>3.0</td>\n",
       "      <td>2.0</td>\n",
       "      <td>4.0</td>\n",
       "      <td>0.0</td>\n",
       "      <td>2.0</td>\n",
       "    </tr>\n",
       "    <tr>\n",
       "      <th>1</th>\n",
       "      <td>MH</td>\n",
       "      <td>3.0</td>\n",
       "      <td>4.0</td>\n",
       "      <td>0.0</td>\n",
       "      <td>0.0</td>\n",
       "      <td>4.0</td>\n",
       "      <td>0.0</td>\n",
       "      <td>0.0</td>\n",
       "      <td>0.0</td>\n",
       "      <td>0.0</td>\n",
       "    </tr>\n",
       "    <tr>\n",
       "      <th>2</th>\n",
       "      <td>JH</td>\n",
       "      <td>2.0</td>\n",
       "      <td>2.0</td>\n",
       "      <td>0.0</td>\n",
       "      <td>0.0</td>\n",
       "      <td>0.0</td>\n",
       "      <td>0.0</td>\n",
       "      <td>0.0</td>\n",
       "      <td>0.0</td>\n",
       "      <td>0.0</td>\n",
       "    </tr>\n",
       "    <tr>\n",
       "      <th>3</th>\n",
       "      <td>EN</td>\n",
       "      <td>4.0</td>\n",
       "      <td>0.0</td>\n",
       "      <td>0.0</td>\n",
       "      <td>4.0</td>\n",
       "      <td>0.0</td>\n",
       "      <td>0.0</td>\n",
       "      <td>4.0</td>\n",
       "      <td>0.0</td>\n",
       "      <td>3.0</td>\n",
       "    </tr>\n",
       "    <tr>\n",
       "      <th>4</th>\n",
       "      <td>DU</td>\n",
       "      <td>4.0</td>\n",
       "      <td>4.0</td>\n",
       "      <td>0.0</td>\n",
       "      <td>0.0</td>\n",
       "      <td>0.0</td>\n",
       "      <td>0.0</td>\n",
       "      <td>0.0</td>\n",
       "      <td>0.0</td>\n",
       "      <td>0.0</td>\n",
       "    </tr>\n",
       "  </tbody>\n",
       "</table>\n",
       "</div>"
      ],
      "text/plain": [
       "  Unnamed: 0  SQL  Spatial  PA1  DM in R  Python  Forecast  R Prog  Hadoop  \\\n",
       "0         LN  4.0      0.0  0.0      0.0     3.0       2.0     4.0     0.0   \n",
       "1         MH  3.0      4.0  0.0      0.0     4.0       0.0     0.0     0.0   \n",
       "2         JH  2.0      2.0  0.0      0.0     0.0       0.0     0.0     0.0   \n",
       "3         EN  4.0      0.0  0.0      4.0     0.0       0.0     4.0     0.0   \n",
       "4         DU  4.0      4.0  0.0      0.0     0.0       0.0     0.0     0.0   \n",
       "\n",
       "   Regression  \n",
       "0         2.0  \n",
       "1         0.0  \n",
       "2         0.0  \n",
       "3         3.0  \n",
       "4         0.0  "
      ]
     },
     "execution_count": 100,
     "metadata": {},
     "output_type": "execute_result"
    }
   ],
   "source": [
    "cours_df = pd.read_csv(DATA / \"courserating.csv\")\n",
    "cours_df_filled = cours_df.fillna(0)\n",
    "cours_df_filled.head(5)"
   ]
  },
  {
   "cell_type": "code",
   "execution_count": 101,
   "metadata": {},
   "outputs": [
    {
     "data": {
      "text/html": [
       "<div>\n",
       "<style scoped>\n",
       "    .dataframe tbody tr th:only-of-type {\n",
       "        vertical-align: middle;\n",
       "    }\n",
       "\n",
       "    .dataframe tbody tr th {\n",
       "        vertical-align: top;\n",
       "    }\n",
       "\n",
       "    .dataframe thead th {\n",
       "        text-align: right;\n",
       "    }\n",
       "</style>\n",
       "<table border=\"1\" class=\"dataframe\">\n",
       "  <thead>\n",
       "    <tr style=\"text-align: right;\">\n",
       "      <th></th>\n",
       "      <th>Unnamed: 0</th>\n",
       "      <th>course</th>\n",
       "      <th>rating</th>\n",
       "    </tr>\n",
       "  </thead>\n",
       "  <tbody>\n",
       "    <tr>\n",
       "      <th>0</th>\n",
       "      <td>LN</td>\n",
       "      <td>SQL</td>\n",
       "      <td>4.0</td>\n",
       "    </tr>\n",
       "    <tr>\n",
       "      <th>1</th>\n",
       "      <td>MH</td>\n",
       "      <td>SQL</td>\n",
       "      <td>3.0</td>\n",
       "    </tr>\n",
       "  </tbody>\n",
       "</table>\n",
       "</div>"
      ],
      "text/plain": [
       "  Unnamed: 0 course  rating\n",
       "0         LN    SQL     4.0\n",
       "1         MH    SQL     3.0"
      ]
     },
     "execution_count": 101,
     "metadata": {},
     "output_type": "execute_result"
    }
   ],
   "source": [
    "melted_course_df = cours_df.melt(id_vars='Unnamed: 0' , var_name='course', value_name='rating')\n",
    "melted_course_df.head(2)"
   ]
  },
  {
   "cell_type": "code",
   "execution_count": 102,
   "metadata": {},
   "outputs": [],
   "source": [
    "reader_course = Reader(rating_scale=(0,1))"
   ]
  },
  {
   "cell_type": "code",
   "execution_count": 103,
   "metadata": {},
   "outputs": [
    {
     "name": "stdout",
     "output_type": "stream",
     "text": [
      "Computing the cosine similarity matrix...\n",
      "Done computing similarity matrix.\n",
      "Computing the cosine similarity matrix...\n",
      "Done computing similarity matrix.\n"
     ]
    },
    {
     "data": {
      "text/plain": [
       "<surprise.prediction_algorithms.knns.KNNBasic at 0x20118376c20>"
      ]
     },
     "execution_count": 103,
     "metadata": {},
     "output_type": "execute_result"
    }
   ],
   "source": [
    "data = Dataset.load_from_df(melted_course_df[['Unnamed: 0', 'course', 'rating']],reader= reader_course)\n",
    "trainset , testset = train_test_split(data, test_size=0.25, random_state=1)\n",
    "sim_options_item = {'name':'cosine', 'user_based': False}\n",
    "algo_item = KNNBasic(sim_options=sim_options_item)\n",
    "algo_item.fit(trainset=trainset)\n",
    "algo_user.fit(trainset=trainset)"
   ]
  },
  {
   "cell_type": "code",
   "execution_count": 104,
   "metadata": {},
   "outputs": [],
   "source": [
    "predictions_user = algo_user.test(testset)\n",
    "recomend_user = get_top_n(predictions=predictions_user, numberOfItems=1)\n",
    "predictions_item = algo_item.test(testset)\n",
    "recomend_item = get_top_n(predictions=predictions_item, numberOfItems=1)"
   ]
  },
  {
   "cell_type": "code",
   "execution_count": 106,
   "metadata": {},
   "outputs": [
    {
     "data": {
      "text/plain": [
       "[Prediction(uid='EN', iid='Python', r_ui=nan, est=1, details={'was_impossible': True, 'reason': 'Not enough neighbors.'})]"
      ]
     },
     "execution_count": 106,
     "metadata": {},
     "output_type": "execute_result"
    }
   ],
   "source": [
    "recomend_user['EN']"
   ]
  },
  {
   "cell_type": "code",
   "execution_count": 107,
   "metadata": {},
   "outputs": [
    {
     "data": {
      "text/plain": [
       "[Prediction(uid='EN', iid='Python', r_ui=nan, est=1, details={'was_impossible': True, 'reason': 'Not enough neighbors.'})]"
      ]
     },
     "execution_count": 107,
     "metadata": {},
     "output_type": "execute_result"
    }
   ],
   "source": [
    "recomend_item['EN']"
   ]
  },
  {
   "cell_type": "markdown",
   "metadata": {},
   "source": [
    "Both Item and User based collaborative filtering recomend python as the next course for EN to take. "
   ]
  }
 ],
 "metadata": {
  "kernelspec": {
   "display_name": "Python 3",
   "language": "python",
   "name": "python3"
  },
  "language_info": {
   "codemirror_mode": {
    "name": "ipython",
    "version": 3
   },
   "file_extension": ".py",
   "mimetype": "text/x-python",
   "name": "python",
   "nbconvert_exporter": "python",
   "pygments_lexer": "ipython3",
   "version": "3.10.11"
  }
 },
 "nbformat": 4,
 "nbformat_minor": 2
}
