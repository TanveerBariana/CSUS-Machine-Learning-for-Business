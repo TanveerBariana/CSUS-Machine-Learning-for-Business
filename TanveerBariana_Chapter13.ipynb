{
 "cells": [
  {
   "cell_type": "code",
   "execution_count": 91,
   "metadata": {},
   "outputs": [],
   "source": [
    "%matplotlib inline\n",
    "from pathlib import Path\n",
    "import pandas as pd\n",
    "from sklearn import preprocessing\n",
    "from sklearn.model_selection import train_test_split\n",
    "from sklearn.metrics import accuracy_score\n",
    "from sklearn.ensemble import AdaBoostClassifier, BaggingClassifier, RandomForestClassifier\n",
    "from sklearn.neighbors import NearestNeighbors, KNeighborsClassifier, KNeighborsRegressor\n",
    "from dmba import regressionSummary, classificationSummary, liftChart, gainsChart\n",
    "from sklearn.metrics import accuracy_score, confusion_matrix, mean_squared_error\n",
    "import matplotlib.pylab as plt\n",
    "import numpy as np"
   ]
  },
  {
   "cell_type": "code",
   "execution_count": 92,
   "metadata": {},
   "outputs": [],
   "source": [
    "# Working directory:\n",
    "#\n",
    "# We assume that data are kept in the same directory as the notebook. If you keep your \n",
    "# data in a different folder, replace the argument of the `Path`\n",
    "DATA = Path('C:\\\\Users\\\\tanve\\\\Documents\\\\206\\\\dmba\\\\')\n",
    "# DATA = Path('C:/Users/profm/OneDrive/teaching/DS110/dmba/')\n",
    "# and then load data using \n",
    "#\n",
    "# pd.read_csv(DATA / ‘filename.csv’)"
   ]
  },
  {
   "cell_type": "markdown",
   "metadata": {},
   "source": [
    "### Hair Care Product—Uplift Modeling. This problem uses the data set in Hair-Care- Product.csv, courtesy of SAS. In this hypothetical case, a promotion for a hair care product was sent to some members of a buyers club. Purchases were then recorded for both the members who got the promotion and those who did not."
   ]
  },
  {
   "cell_type": "code",
   "execution_count": 93,
   "metadata": {},
   "outputs": [
    {
     "data": {
      "text/plain": [
       "Purchase          int64\n",
       "Age               int64\n",
       "Hair Color       object\n",
       "U.S. Region      object\n",
       "Validation        int64\n",
       "Promotion_ord     int64\n",
       "Gender_ord        int64\n",
       "Residence_ord     int64\n",
       "dtype: object"
      ]
     },
     "execution_count": 93,
     "metadata": {},
     "output_type": "execute_result"
    }
   ],
   "source": [
    "hair_df = pd.read_csv(DATA / 'Hair-Care-Product.csv')\n",
    "hair_df.dtypes"
   ]
  },
  {
   "cell_type": "markdown",
   "metadata": {},
   "source": [
    "#### a. What is the purchase propensity"
   ]
  },
  {
   "cell_type": "code",
   "execution_count": 94,
   "metadata": {},
   "outputs": [
    {
     "data": {
      "text/html": [
       "<div>\n",
       "<style scoped>\n",
       "    .dataframe tbody tr th:only-of-type {\n",
       "        vertical-align: middle;\n",
       "    }\n",
       "\n",
       "    .dataframe tbody tr th {\n",
       "        vertical-align: top;\n",
       "    }\n",
       "\n",
       "    .dataframe thead th {\n",
       "        text-align: right;\n",
       "    }\n",
       "</style>\n",
       "<table border=\"1\" class=\"dataframe\">\n",
       "  <thead>\n",
       "    <tr style=\"text-align: right;\">\n",
       "      <th>Promotion_ord</th>\n",
       "      <th>0</th>\n",
       "      <th>1</th>\n",
       "    </tr>\n",
       "    <tr>\n",
       "      <th>Purchase</th>\n",
       "      <th></th>\n",
       "      <th></th>\n",
       "    </tr>\n",
       "  </thead>\n",
       "  <tbody>\n",
       "    <tr>\n",
       "      <th>0</th>\n",
       "      <td>4992</td>\n",
       "      <td>4896</td>\n",
       "    </tr>\n",
       "    <tr>\n",
       "      <th>1</th>\n",
       "      <td>32</td>\n",
       "      <td>80</td>\n",
       "    </tr>\n",
       "  </tbody>\n",
       "</table>\n",
       "</div>"
      ],
      "text/plain": [
       "Promotion_ord     0     1\n",
       "Purchase                 \n",
       "0              4992  4896\n",
       "1                32    80"
      ]
     },
     "execution_count": 94,
     "metadata": {},
     "output_type": "execute_result"
    }
   ],
   "source": [
    "tbl = pd.crosstab(hair_df[\"Purchase\"], hair_df[\"Promotion_ord\"])\n",
    "tbl"
   ]
  },
  {
   "cell_type": "code",
   "execution_count": 95,
   "metadata": {},
   "outputs": [
    {
     "data": {
      "text/html": [
       "<div>\n",
       "<style scoped>\n",
       "    .dataframe tbody tr th:only-of-type {\n",
       "        vertical-align: middle;\n",
       "    }\n",
       "\n",
       "    .dataframe tbody tr th {\n",
       "        vertical-align: top;\n",
       "    }\n",
       "\n",
       "    .dataframe thead th {\n",
       "        text-align: right;\n",
       "    }\n",
       "</style>\n",
       "<table border=\"1\" class=\"dataframe\">\n",
       "  <thead>\n",
       "    <tr style=\"text-align: right;\">\n",
       "      <th>Promotion_ord</th>\n",
       "      <th>0</th>\n",
       "      <th>1</th>\n",
       "    </tr>\n",
       "    <tr>\n",
       "      <th>Purchase</th>\n",
       "      <th></th>\n",
       "      <th></th>\n",
       "    </tr>\n",
       "  </thead>\n",
       "  <tbody>\n",
       "    <tr>\n",
       "      <th>0</th>\n",
       "      <td>0.99</td>\n",
       "      <td>0.98</td>\n",
       "    </tr>\n",
       "    <tr>\n",
       "      <th>1</th>\n",
       "      <td>0.01</td>\n",
       "      <td>0.02</td>\n",
       "    </tr>\n",
       "  </tbody>\n",
       "</table>\n",
       "</div>"
      ],
      "text/plain": [
       "Promotion_ord     0     1\n",
       "Purchase                 \n",
       "0              0.99  0.98\n",
       "1              0.01  0.02"
      ]
     },
     "execution_count": 95,
     "metadata": {},
     "output_type": "execute_result"
    }
   ],
   "source": [
    "propTbl = tbl / tbl.sum()\n",
    "propTbl.round(2)"
   ]
  },
  {
   "cell_type": "markdown",
   "metadata": {},
   "source": [
    "##### i. among those who received the promotion"
   ]
  },
  {
   "cell_type": "markdown",
   "metadata": {},
   "source": [
    "2% "
   ]
  },
  {
   "cell_type": "markdown",
   "metadata": {},
   "source": [
    "##### ii. among those who did not receive the promotion?"
   ]
  },
  {
   "cell_type": "markdown",
   "metadata": {},
   "source": [
    "1%"
   ]
  },
  {
   "cell_type": "markdown",
   "metadata": {},
   "source": [
    "#### b. Partition the data into training (60%) and validation (40%) and fit:"
   ]
  },
  {
   "cell_type": "code",
   "execution_count": 96,
   "metadata": {},
   "outputs": [
    {
     "data": {
      "text/plain": [
       "Index(['Purchase', 'Age', 'Hair Color', 'U.S. Region', 'Validation',\n",
       "       'Promotion_ord', 'Gender_ord', 'Residence_ord'],\n",
       "      dtype='object')"
      ]
     },
     "execution_count": 96,
     "metadata": {},
     "output_type": "execute_result"
    }
   ],
   "source": [
    "hair_df.columns"
   ]
  },
  {
   "cell_type": "markdown",
   "metadata": {},
   "source": [
    "##### i. Uplift using a Random Forest."
   ]
  },
  {
   "cell_type": "code",
   "execution_count": 97,
   "metadata": {},
   "outputs": [],
   "source": [
    "hair_df['Hair Color'] = hair_df['Hair Color'].astype('category')\n",
    "hair_df['U.S. Region'] = hair_df['U.S. Region'].astype('category')\n",
    "\n",
    "#X = pd.get_dummies(hair_df['Purchase'],prefix_sep='_', drop_first=False)\n",
    "#X = pd.get_dummies(hair_df.drop(columns=['Purchase', 'Hair Color', 'U.S. Region', 'Validation']),prefix_sep='_', drop_first=False)\n",
    "X = pd.get_dummies(hair_df.drop(columns=['Purchase', 'Validation']),prefix_sep='_', drop_first=False)\n",
    "y = hair_df['Purchase'] \n",
    "train_X, valid_X, train_y, valid_y = train_test_split(X,y, train_size=0.6, random_state=1)"
   ]
  },
  {
   "cell_type": "code",
   "execution_count": 98,
   "metadata": {},
   "outputs": [
    {
     "data": {
      "text/plain": [
       "Index(['Age', 'Promotion_ord', 'Gender_ord', 'Residence_ord',\n",
       "       'Hair Color_Black', 'Hair Color_Blond', 'Hair Color_Brown',\n",
       "       'Hair Color_Red', 'U.S. Region_Northeast', 'U.S. Region_Northwest',\n",
       "       'U.S. Region_Southeast', 'U.S. Region_Southwest'],\n",
       "      dtype='object')"
      ]
     },
     "execution_count": 98,
     "metadata": {},
     "output_type": "execute_result"
    }
   ],
   "source": [
    "X.columns"
   ]
  },
  {
   "cell_type": "code",
   "execution_count": 99,
   "metadata": {},
   "outputs": [
    {
     "data": {
      "text/html": [
       "<style>#sk-container-id-8 {color: black;background-color: white;}#sk-container-id-8 pre{padding: 0;}#sk-container-id-8 div.sk-toggleable {background-color: white;}#sk-container-id-8 label.sk-toggleable__label {cursor: pointer;display: block;width: 100%;margin-bottom: 0;padding: 0.3em;box-sizing: border-box;text-align: center;}#sk-container-id-8 label.sk-toggleable__label-arrow:before {content: \"▸\";float: left;margin-right: 0.25em;color: #696969;}#sk-container-id-8 label.sk-toggleable__label-arrow:hover:before {color: black;}#sk-container-id-8 div.sk-estimator:hover label.sk-toggleable__label-arrow:before {color: black;}#sk-container-id-8 div.sk-toggleable__content {max-height: 0;max-width: 0;overflow: hidden;text-align: left;background-color: #f0f8ff;}#sk-container-id-8 div.sk-toggleable__content pre {margin: 0.2em;color: black;border-radius: 0.25em;background-color: #f0f8ff;}#sk-container-id-8 input.sk-toggleable__control:checked~div.sk-toggleable__content {max-height: 200px;max-width: 100%;overflow: auto;}#sk-container-id-8 input.sk-toggleable__control:checked~label.sk-toggleable__label-arrow:before {content: \"▾\";}#sk-container-id-8 div.sk-estimator input.sk-toggleable__control:checked~label.sk-toggleable__label {background-color: #d4ebff;}#sk-container-id-8 div.sk-label input.sk-toggleable__control:checked~label.sk-toggleable__label {background-color: #d4ebff;}#sk-container-id-8 input.sk-hidden--visually {border: 0;clip: rect(1px 1px 1px 1px);clip: rect(1px, 1px, 1px, 1px);height: 1px;margin: -1px;overflow: hidden;padding: 0;position: absolute;width: 1px;}#sk-container-id-8 div.sk-estimator {font-family: monospace;background-color: #f0f8ff;border: 1px dotted black;border-radius: 0.25em;box-sizing: border-box;margin-bottom: 0.5em;}#sk-container-id-8 div.sk-estimator:hover {background-color: #d4ebff;}#sk-container-id-8 div.sk-parallel-item::after {content: \"\";width: 100%;border-bottom: 1px solid gray;flex-grow: 1;}#sk-container-id-8 div.sk-label:hover label.sk-toggleable__label {background-color: #d4ebff;}#sk-container-id-8 div.sk-serial::before {content: \"\";position: absolute;border-left: 1px solid gray;box-sizing: border-box;top: 0;bottom: 0;left: 50%;z-index: 0;}#sk-container-id-8 div.sk-serial {display: flex;flex-direction: column;align-items: center;background-color: white;padding-right: 0.2em;padding-left: 0.2em;position: relative;}#sk-container-id-8 div.sk-item {position: relative;z-index: 1;}#sk-container-id-8 div.sk-parallel {display: flex;align-items: stretch;justify-content: center;background-color: white;position: relative;}#sk-container-id-8 div.sk-item::before, #sk-container-id-8 div.sk-parallel-item::before {content: \"\";position: absolute;border-left: 1px solid gray;box-sizing: border-box;top: 0;bottom: 0;left: 50%;z-index: -1;}#sk-container-id-8 div.sk-parallel-item {display: flex;flex-direction: column;z-index: 1;position: relative;background-color: white;}#sk-container-id-8 div.sk-parallel-item:first-child::after {align-self: flex-end;width: 50%;}#sk-container-id-8 div.sk-parallel-item:last-child::after {align-self: flex-start;width: 50%;}#sk-container-id-8 div.sk-parallel-item:only-child::after {width: 0;}#sk-container-id-8 div.sk-dashed-wrapped {border: 1px dashed gray;margin: 0 0.4em 0.5em 0.4em;box-sizing: border-box;padding-bottom: 0.4em;background-color: white;}#sk-container-id-8 div.sk-label label {font-family: monospace;font-weight: bold;display: inline-block;line-height: 1.2em;}#sk-container-id-8 div.sk-label-container {text-align: center;}#sk-container-id-8 div.sk-container {/* jupyter's `normalize.less` sets `[hidden] { display: none; }` but bootstrap.min.css set `[hidden] { display: none !important; }` so we also need the `!important` here to be able to override the default hidden behavior on the sphinx rendered scikit-learn.org. See: https://github.com/scikit-learn/scikit-learn/issues/21755 */display: inline-block !important;position: relative;}#sk-container-id-8 div.sk-text-repr-fallback {display: none;}</style><div id=\"sk-container-id-8\" class=\"sk-top-container\"><div class=\"sk-text-repr-fallback\"><pre>RandomForestClassifier(random_state=1)</pre><b>In a Jupyter environment, please rerun this cell to show the HTML representation or trust the notebook. <br />On GitHub, the HTML representation is unable to render, please try loading this page with nbviewer.org.</b></div><div class=\"sk-container\" hidden><div class=\"sk-item\"><div class=\"sk-estimator sk-toggleable\"><input class=\"sk-toggleable__control sk-hidden--visually\" id=\"sk-estimator-id-8\" type=\"checkbox\" checked><label for=\"sk-estimator-id-8\" class=\"sk-toggleable__label sk-toggleable__label-arrow\">RandomForestClassifier</label><div class=\"sk-toggleable__content\"><pre>RandomForestClassifier(random_state=1)</pre></div></div></div></div></div>"
      ],
      "text/plain": [
       "RandomForestClassifier(random_state=1)"
      ]
     },
     "execution_count": 99,
     "metadata": {},
     "output_type": "execute_result"
    }
   ],
   "source": [
    "rf = RandomForestClassifier(n_estimators=100, random_state=1)\n",
    "rf.fit(train_X, train_y)"
   ]
  },
  {
   "cell_type": "code",
   "execution_count": 100,
   "metadata": {},
   "outputs": [
    {
     "data": {
      "text/html": [
       "<div>\n",
       "<style scoped>\n",
       "    .dataframe tbody tr th:only-of-type {\n",
       "        vertical-align: middle;\n",
       "    }\n",
       "\n",
       "    .dataframe tbody tr th {\n",
       "        vertical-align: top;\n",
       "    }\n",
       "\n",
       "    .dataframe thead th {\n",
       "        text-align: right;\n",
       "    }\n",
       "</style>\n",
       "<table border=\"1\" class=\"dataframe\">\n",
       "  <thead>\n",
       "    <tr style=\"text-align: right;\">\n",
       "      <th></th>\n",
       "      <th>probPromote</th>\n",
       "      <th>probNoPromote</th>\n",
       "      <th>uplift</th>\n",
       "    </tr>\n",
       "  </thead>\n",
       "  <tbody>\n",
       "    <tr>\n",
       "      <th>9953</th>\n",
       "      <td>0.0</td>\n",
       "      <td>0.0</td>\n",
       "      <td>0.0</td>\n",
       "    </tr>\n",
       "    <tr>\n",
       "      <th>3850</th>\n",
       "      <td>0.0</td>\n",
       "      <td>0.0</td>\n",
       "      <td>0.0</td>\n",
       "    </tr>\n",
       "    <tr>\n",
       "      <th>4962</th>\n",
       "      <td>0.0</td>\n",
       "      <td>0.0</td>\n",
       "      <td>0.0</td>\n",
       "    </tr>\n",
       "  </tbody>\n",
       "</table>\n",
       "</div>"
      ],
      "text/plain": [
       "      probPromote  probNoPromote  uplift\n",
       "9953          0.0            0.0     0.0\n",
       "3850          0.0            0.0     0.0\n",
       "4962          0.0            0.0     0.0"
      ]
     },
     "execution_count": 100,
     "metadata": {},
     "output_type": "execute_result"
    }
   ],
   "source": [
    "uplift_df = valid_X.copy() # Need to create a copy to allow modifying data\n",
    "uplift_df.Promotion_ord = 1\n",
    "predTreatment = rf.predict_proba(uplift_df)\n",
    "uplift_df.Promotion_ord = 0\n",
    "predControl = rf.predict_proba(uplift_df)\n",
    "upliftResult_df = pd.DataFrame({\n",
    "'probPromote': predTreatment[:,1],\n",
    "'probNoPromote': predControl[:,1],\n",
    "'uplift': predTreatment[:,1] - predControl[:,1],\n",
    "}, index=uplift_df.index)\n",
    "upliftResult_df.head(3)"
   ]
  },
  {
   "cell_type": "markdown",
   "metadata": {},
   "source": [
    "##### ii. Uplift using k-NN."
   ]
  },
  {
   "cell_type": "code",
   "execution_count": 101,
   "metadata": {},
   "outputs": [
    {
     "data": {
      "text/plain": [
       "Index(['Purchase', 'Age', 'Promotion_ord', 'Gender_ord', 'Residence_ord',\n",
       "       'Hair Color_Black', 'Hair Color_Blond', 'Hair Color_Brown',\n",
       "       'Hair Color_Red', 'U.S. Region_Northeast', 'U.S. Region_Northwest',\n",
       "       'U.S. Region_Southeast', 'U.S. Region_Southwest'],\n",
       "      dtype='object')"
      ]
     },
     "execution_count": 101,
     "metadata": {},
     "output_type": "execute_result"
    }
   ],
   "source": [
    "hair_knn_df = pd.get_dummies(hair_df.drop(columns=['Validation']),prefix_sep='_', drop_first=False)\n",
    "hair_knn_df.columns"
   ]
  },
  {
   "cell_type": "code",
   "execution_count": 102,
   "metadata": {},
   "outputs": [],
   "source": [
    "train_df, valid_df= train_test_split(hair_knn_df, train_size=0.6, random_state=1)\n",
    "predictor = X.columns\n",
    "zpredictor = ['zAge', 'zPromotion_ord', 'zGender_ord', 'zResidence_ord',\n",
    "       'zHair Color_Black', 'zHair Color_Blond', 'zHair Color_Brown',\n",
    "       'zHair Color_Red', 'zU.S. Region_Northeast', 'zU.S. Region_Northwest',\n",
    "       'zU.S. Region_Southeast', 'zU.S. Region_Southwest']\n",
    "outcome = 'Purchase'"
   ]
  },
  {
   "cell_type": "code",
   "execution_count": 103,
   "metadata": {},
   "outputs": [
    {
     "data": {
      "text/html": [
       "<style>#sk-container-id-9 {color: black;background-color: white;}#sk-container-id-9 pre{padding: 0;}#sk-container-id-9 div.sk-toggleable {background-color: white;}#sk-container-id-9 label.sk-toggleable__label {cursor: pointer;display: block;width: 100%;margin-bottom: 0;padding: 0.3em;box-sizing: border-box;text-align: center;}#sk-container-id-9 label.sk-toggleable__label-arrow:before {content: \"▸\";float: left;margin-right: 0.25em;color: #696969;}#sk-container-id-9 label.sk-toggleable__label-arrow:hover:before {color: black;}#sk-container-id-9 div.sk-estimator:hover label.sk-toggleable__label-arrow:before {color: black;}#sk-container-id-9 div.sk-toggleable__content {max-height: 0;max-width: 0;overflow: hidden;text-align: left;background-color: #f0f8ff;}#sk-container-id-9 div.sk-toggleable__content pre {margin: 0.2em;color: black;border-radius: 0.25em;background-color: #f0f8ff;}#sk-container-id-9 input.sk-toggleable__control:checked~div.sk-toggleable__content {max-height: 200px;max-width: 100%;overflow: auto;}#sk-container-id-9 input.sk-toggleable__control:checked~label.sk-toggleable__label-arrow:before {content: \"▾\";}#sk-container-id-9 div.sk-estimator input.sk-toggleable__control:checked~label.sk-toggleable__label {background-color: #d4ebff;}#sk-container-id-9 div.sk-label input.sk-toggleable__control:checked~label.sk-toggleable__label {background-color: #d4ebff;}#sk-container-id-9 input.sk-hidden--visually {border: 0;clip: rect(1px 1px 1px 1px);clip: rect(1px, 1px, 1px, 1px);height: 1px;margin: -1px;overflow: hidden;padding: 0;position: absolute;width: 1px;}#sk-container-id-9 div.sk-estimator {font-family: monospace;background-color: #f0f8ff;border: 1px dotted black;border-radius: 0.25em;box-sizing: border-box;margin-bottom: 0.5em;}#sk-container-id-9 div.sk-estimator:hover {background-color: #d4ebff;}#sk-container-id-9 div.sk-parallel-item::after {content: \"\";width: 100%;border-bottom: 1px solid gray;flex-grow: 1;}#sk-container-id-9 div.sk-label:hover label.sk-toggleable__label {background-color: #d4ebff;}#sk-container-id-9 div.sk-serial::before {content: \"\";position: absolute;border-left: 1px solid gray;box-sizing: border-box;top: 0;bottom: 0;left: 50%;z-index: 0;}#sk-container-id-9 div.sk-serial {display: flex;flex-direction: column;align-items: center;background-color: white;padding-right: 0.2em;padding-left: 0.2em;position: relative;}#sk-container-id-9 div.sk-item {position: relative;z-index: 1;}#sk-container-id-9 div.sk-parallel {display: flex;align-items: stretch;justify-content: center;background-color: white;position: relative;}#sk-container-id-9 div.sk-item::before, #sk-container-id-9 div.sk-parallel-item::before {content: \"\";position: absolute;border-left: 1px solid gray;box-sizing: border-box;top: 0;bottom: 0;left: 50%;z-index: -1;}#sk-container-id-9 div.sk-parallel-item {display: flex;flex-direction: column;z-index: 1;position: relative;background-color: white;}#sk-container-id-9 div.sk-parallel-item:first-child::after {align-self: flex-end;width: 50%;}#sk-container-id-9 div.sk-parallel-item:last-child::after {align-self: flex-start;width: 50%;}#sk-container-id-9 div.sk-parallel-item:only-child::after {width: 0;}#sk-container-id-9 div.sk-dashed-wrapped {border: 1px dashed gray;margin: 0 0.4em 0.5em 0.4em;box-sizing: border-box;padding-bottom: 0.4em;background-color: white;}#sk-container-id-9 div.sk-label label {font-family: monospace;font-weight: bold;display: inline-block;line-height: 1.2em;}#sk-container-id-9 div.sk-label-container {text-align: center;}#sk-container-id-9 div.sk-container {/* jupyter's `normalize.less` sets `[hidden] { display: none; }` but bootstrap.min.css set `[hidden] { display: none !important; }` so we also need the `!important` here to be able to override the default hidden behavior on the sphinx rendered scikit-learn.org. See: https://github.com/scikit-learn/scikit-learn/issues/21755 */display: inline-block !important;position: relative;}#sk-container-id-9 div.sk-text-repr-fallback {display: none;}</style><div id=\"sk-container-id-9\" class=\"sk-top-container\"><div class=\"sk-text-repr-fallback\"><pre>StandardScaler()</pre><b>In a Jupyter environment, please rerun this cell to show the HTML representation or trust the notebook. <br />On GitHub, the HTML representation is unable to render, please try loading this page with nbviewer.org.</b></div><div class=\"sk-container\" hidden><div class=\"sk-item\"><div class=\"sk-estimator sk-toggleable\"><input class=\"sk-toggleable__control sk-hidden--visually\" id=\"sk-estimator-id-9\" type=\"checkbox\" checked><label for=\"sk-estimator-id-9\" class=\"sk-toggleable__label sk-toggleable__label-arrow\">StandardScaler</label><div class=\"sk-toggleable__content\"><pre>StandardScaler()</pre></div></div></div></div></div>"
      ],
      "text/plain": [
       "StandardScaler()"
      ]
     },
     "execution_count": 103,
     "metadata": {},
     "output_type": "execute_result"
    }
   ],
   "source": [
    "scaler = preprocessing.StandardScaler()\n",
    "scaler.fit(train_df[predictor])"
   ]
  },
  {
   "cell_type": "code",
   "execution_count": 104,
   "metadata": {},
   "outputs": [],
   "source": [
    "# Transform the full dataset\n",
    "hairNorm = pd.concat([pd.DataFrame(scaler.transform(hair_knn_df[predictor]), \n",
    "                                    columns=zpredictor),\n",
    "                       hair_knn_df[outcome]], axis=1)\n",
    "hairNorm = hairNorm.dropna()\n",
    "train_df, valid_df= train_test_split(hairNorm, train_size=0.6, random_state=1)"
   ]
  },
  {
   "cell_type": "code",
   "execution_count": 105,
   "metadata": {},
   "outputs": [],
   "source": [
    "train_X = train_df[zpredictor]\n",
    "train_y = train_df[outcome]\n",
    "valid_X = valid_df[zpredictor]\n",
    "valid_y = valid_df[outcome]"
   ]
  },
  {
   "cell_type": "code",
   "execution_count": 106,
   "metadata": {},
   "outputs": [
    {
     "name": "stdout",
     "output_type": "stream",
     "text": [
      "     k  accuracy\n",
      "0    1 -1.045827\n",
      "1    2 -0.451563\n",
      "2    3 -0.253475\n",
      "3    4 -0.189746\n",
      "4    5 -0.131634\n",
      "5    6 -0.106803\n",
      "6    7 -0.082757\n",
      "7    8 -0.072841\n",
      "8    9 -0.074029\n",
      "9   10 -0.064219\n",
      "10  11 -0.060030\n",
      "11  12 -0.064182\n",
      "12  13 -0.053753\n",
      "13  14 -0.045479\n",
      "14  15 -0.043307\n",
      "15  16 -0.041027\n",
      "16  17 -0.040476\n",
      "17  18 -0.040172\n",
      "18  19 -0.040211\n",
      "19  20 -0.036503\n"
     ]
    }
   ],
   "source": [
    "results = []\n",
    "for k in range(1, 21):\n",
    "    knn = KNeighborsRegressor(n_neighbors=k).fit(train_X, train_y)\n",
    "    results.append({\n",
    "        'k': k,\n",
    "        'accuracy': knn.score(valid_X, valid_y)\n",
    "        #'accuracy': accuracy_score(valid_y, knn.predict(valid_X))\n",
    "        #just do a three way split and use test partition as th elast one\n",
    "    })\n",
    "    # Convert results to a pandas data frame\n",
    "results = pd.DataFrame(results)\n",
    "print(results)"
   ]
  },
  {
   "cell_type": "code",
   "execution_count": 107,
   "metadata": {},
   "outputs": [
    {
     "data": {
      "text/html": [
       "<div>\n",
       "<style scoped>\n",
       "    .dataframe tbody tr th:only-of-type {\n",
       "        vertical-align: middle;\n",
       "    }\n",
       "\n",
       "    .dataframe tbody tr th {\n",
       "        vertical-align: top;\n",
       "    }\n",
       "\n",
       "    .dataframe thead th {\n",
       "        text-align: right;\n",
       "    }\n",
       "</style>\n",
       "<table border=\"1\" class=\"dataframe\">\n",
       "  <thead>\n",
       "    <tr style=\"text-align: right;\">\n",
       "      <th></th>\n",
       "      <th>zAge</th>\n",
       "      <th>zPromotion_ord</th>\n",
       "      <th>zGender_ord</th>\n",
       "      <th>zResidence_ord</th>\n",
       "      <th>zHair Color_Black</th>\n",
       "      <th>zHair Color_Blond</th>\n",
       "      <th>zHair Color_Brown</th>\n",
       "      <th>zHair Color_Red</th>\n",
       "      <th>zU.S. Region_Northeast</th>\n",
       "      <th>zU.S. Region_Northwest</th>\n",
       "      <th>zU.S. Region_Southeast</th>\n",
       "      <th>zU.S. Region_Southwest</th>\n",
       "    </tr>\n",
       "  </thead>\n",
       "  <tbody>\n",
       "    <tr>\n",
       "      <th>9953</th>\n",
       "      <td>-0.717832</td>\n",
       "      <td>0.998002</td>\n",
       "      <td>1.465590</td>\n",
       "      <td>0.640654</td>\n",
       "      <td>-0.471164</td>\n",
       "      <td>1.281409</td>\n",
       "      <td>-0.777353</td>\n",
       "      <td>-0.259665</td>\n",
       "      <td>-0.586845</td>\n",
       "      <td>-0.577863</td>\n",
       "      <td>-0.563492</td>\n",
       "      <td>1.720580</td>\n",
       "    </tr>\n",
       "    <tr>\n",
       "      <th>3850</th>\n",
       "      <td>0.918792</td>\n",
       "      <td>0.998002</td>\n",
       "      <td>-0.682319</td>\n",
       "      <td>0.640654</td>\n",
       "      <td>2.122401</td>\n",
       "      <td>-0.780391</td>\n",
       "      <td>-0.777353</td>\n",
       "      <td>-0.259665</td>\n",
       "      <td>-0.586845</td>\n",
       "      <td>-0.577863</td>\n",
       "      <td>1.774649</td>\n",
       "      <td>-0.581199</td>\n",
       "    </tr>\n",
       "    <tr>\n",
       "      <th>4962</th>\n",
       "      <td>-0.976246</td>\n",
       "      <td>0.998002</td>\n",
       "      <td>1.465590</td>\n",
       "      <td>0.640654</td>\n",
       "      <td>-0.471164</td>\n",
       "      <td>1.281409</td>\n",
       "      <td>-0.777353</td>\n",
       "      <td>-0.259665</td>\n",
       "      <td>1.704027</td>\n",
       "      <td>-0.577863</td>\n",
       "      <td>-0.563492</td>\n",
       "      <td>-0.581199</td>\n",
       "    </tr>\n",
       "    <tr>\n",
       "      <th>3886</th>\n",
       "      <td>1.349483</td>\n",
       "      <td>0.998002</td>\n",
       "      <td>1.465590</td>\n",
       "      <td>0.640654</td>\n",
       "      <td>-0.471164</td>\n",
       "      <td>-0.780391</td>\n",
       "      <td>1.286416</td>\n",
       "      <td>-0.259665</td>\n",
       "      <td>-0.586845</td>\n",
       "      <td>1.730513</td>\n",
       "      <td>-0.563492</td>\n",
       "      <td>-0.581199</td>\n",
       "    </tr>\n",
       "    <tr>\n",
       "      <th>5437</th>\n",
       "      <td>1.349483</td>\n",
       "      <td>0.998002</td>\n",
       "      <td>-0.682319</td>\n",
       "      <td>-1.560906</td>\n",
       "      <td>-0.471164</td>\n",
       "      <td>-0.780391</td>\n",
       "      <td>1.286416</td>\n",
       "      <td>-0.259665</td>\n",
       "      <td>-0.586845</td>\n",
       "      <td>-0.577863</td>\n",
       "      <td>1.774649</td>\n",
       "      <td>-0.581199</td>\n",
       "    </tr>\n",
       "    <tr>\n",
       "      <th>...</th>\n",
       "      <td>...</td>\n",
       "      <td>...</td>\n",
       "      <td>...</td>\n",
       "      <td>...</td>\n",
       "      <td>...</td>\n",
       "      <td>...</td>\n",
       "      <td>...</td>\n",
       "      <td>...</td>\n",
       "      <td>...</td>\n",
       "      <td>...</td>\n",
       "      <td>...</td>\n",
       "      <td>...</td>\n",
       "    </tr>\n",
       "    <tr>\n",
       "      <th>9274</th>\n",
       "      <td>1.521759</td>\n",
       "      <td>0.998002</td>\n",
       "      <td>-0.682319</td>\n",
       "      <td>-1.560906</td>\n",
       "      <td>-0.471164</td>\n",
       "      <td>-0.780391</td>\n",
       "      <td>1.286416</td>\n",
       "      <td>-0.259665</td>\n",
       "      <td>-0.586845</td>\n",
       "      <td>-0.577863</td>\n",
       "      <td>-0.563492</td>\n",
       "      <td>1.720580</td>\n",
       "    </tr>\n",
       "    <tr>\n",
       "      <th>8946</th>\n",
       "      <td>-1.234661</td>\n",
       "      <td>0.998002</td>\n",
       "      <td>1.465590</td>\n",
       "      <td>0.640654</td>\n",
       "      <td>-0.471164</td>\n",
       "      <td>-0.780391</td>\n",
       "      <td>1.286416</td>\n",
       "      <td>-0.259665</td>\n",
       "      <td>1.704027</td>\n",
       "      <td>-0.577863</td>\n",
       "      <td>-0.563492</td>\n",
       "      <td>-0.581199</td>\n",
       "    </tr>\n",
       "    <tr>\n",
       "      <th>7637</th>\n",
       "      <td>-0.201003</td>\n",
       "      <td>-1.002002</td>\n",
       "      <td>-0.682319</td>\n",
       "      <td>0.640654</td>\n",
       "      <td>-0.471164</td>\n",
       "      <td>-0.780391</td>\n",
       "      <td>1.286416</td>\n",
       "      <td>-0.259665</td>\n",
       "      <td>1.704027</td>\n",
       "      <td>-0.577863</td>\n",
       "      <td>-0.563492</td>\n",
       "      <td>-0.581199</td>\n",
       "    </tr>\n",
       "    <tr>\n",
       "      <th>6377</th>\n",
       "      <td>0.746516</td>\n",
       "      <td>0.998002</td>\n",
       "      <td>-0.682319</td>\n",
       "      <td>0.640654</td>\n",
       "      <td>-0.471164</td>\n",
       "      <td>-0.780391</td>\n",
       "      <td>1.286416</td>\n",
       "      <td>-0.259665</td>\n",
       "      <td>-0.586845</td>\n",
       "      <td>-0.577863</td>\n",
       "      <td>1.774649</td>\n",
       "      <td>-0.581199</td>\n",
       "    </tr>\n",
       "    <tr>\n",
       "      <th>5519</th>\n",
       "      <td>0.574240</td>\n",
       "      <td>0.998002</td>\n",
       "      <td>1.465590</td>\n",
       "      <td>0.640654</td>\n",
       "      <td>-0.471164</td>\n",
       "      <td>1.281409</td>\n",
       "      <td>-0.777353</td>\n",
       "      <td>-0.259665</td>\n",
       "      <td>-0.586845</td>\n",
       "      <td>-0.577863</td>\n",
       "      <td>-0.563492</td>\n",
       "      <td>1.720580</td>\n",
       "    </tr>\n",
       "  </tbody>\n",
       "</table>\n",
       "<p>4000 rows × 12 columns</p>\n",
       "</div>"
      ],
      "text/plain": [
       "          zAge  zPromotion_ord  zGender_ord  zResidence_ord  \\\n",
       "9953 -0.717832        0.998002     1.465590        0.640654   \n",
       "3850  0.918792        0.998002    -0.682319        0.640654   \n",
       "4962 -0.976246        0.998002     1.465590        0.640654   \n",
       "3886  1.349483        0.998002     1.465590        0.640654   \n",
       "5437  1.349483        0.998002    -0.682319       -1.560906   \n",
       "...        ...             ...          ...             ...   \n",
       "9274  1.521759        0.998002    -0.682319       -1.560906   \n",
       "8946 -1.234661        0.998002     1.465590        0.640654   \n",
       "7637 -0.201003       -1.002002    -0.682319        0.640654   \n",
       "6377  0.746516        0.998002    -0.682319        0.640654   \n",
       "5519  0.574240        0.998002     1.465590        0.640654   \n",
       "\n",
       "      zHair Color_Black  zHair Color_Blond  zHair Color_Brown  \\\n",
       "9953          -0.471164           1.281409          -0.777353   \n",
       "3850           2.122401          -0.780391          -0.777353   \n",
       "4962          -0.471164           1.281409          -0.777353   \n",
       "3886          -0.471164          -0.780391           1.286416   \n",
       "5437          -0.471164          -0.780391           1.286416   \n",
       "...                 ...                ...                ...   \n",
       "9274          -0.471164          -0.780391           1.286416   \n",
       "8946          -0.471164          -0.780391           1.286416   \n",
       "7637          -0.471164          -0.780391           1.286416   \n",
       "6377          -0.471164          -0.780391           1.286416   \n",
       "5519          -0.471164           1.281409          -0.777353   \n",
       "\n",
       "      zHair Color_Red  zU.S. Region_Northeast  zU.S. Region_Northwest  \\\n",
       "9953        -0.259665               -0.586845               -0.577863   \n",
       "3850        -0.259665               -0.586845               -0.577863   \n",
       "4962        -0.259665                1.704027               -0.577863   \n",
       "3886        -0.259665               -0.586845                1.730513   \n",
       "5437        -0.259665               -0.586845               -0.577863   \n",
       "...               ...                     ...                     ...   \n",
       "9274        -0.259665               -0.586845               -0.577863   \n",
       "8946        -0.259665                1.704027               -0.577863   \n",
       "7637        -0.259665                1.704027               -0.577863   \n",
       "6377        -0.259665               -0.586845               -0.577863   \n",
       "5519        -0.259665               -0.586845               -0.577863   \n",
       "\n",
       "      zU.S. Region_Southeast  zU.S. Region_Southwest  \n",
       "9953               -0.563492                1.720580  \n",
       "3850                1.774649               -0.581199  \n",
       "4962               -0.563492               -0.581199  \n",
       "3886               -0.563492               -0.581199  \n",
       "5437                1.774649               -0.581199  \n",
       "...                      ...                     ...  \n",
       "9274               -0.563492                1.720580  \n",
       "8946               -0.563492               -0.581199  \n",
       "7637               -0.563492               -0.581199  \n",
       "6377                1.774649               -0.581199  \n",
       "5519               -0.563492                1.720580  \n",
       "\n",
       "[4000 rows x 12 columns]"
      ]
     },
     "execution_count": 107,
     "metadata": {},
     "output_type": "execute_result"
    }
   ],
   "source": [
    "knn = KNeighborsClassifier(n_neighbors=1)\n",
    "knn.fit(train_X, train_y)\n",
    "valid_X"
   ]
  },
  {
   "cell_type": "code",
   "execution_count": 108,
   "metadata": {},
   "outputs": [
    {
     "data": {
      "text/html": [
       "<div>\n",
       "<style scoped>\n",
       "    .dataframe tbody tr th:only-of-type {\n",
       "        vertical-align: middle;\n",
       "    }\n",
       "\n",
       "    .dataframe tbody tr th {\n",
       "        vertical-align: top;\n",
       "    }\n",
       "\n",
       "    .dataframe thead th {\n",
       "        text-align: right;\n",
       "    }\n",
       "</style>\n",
       "<table border=\"1\" class=\"dataframe\">\n",
       "  <thead>\n",
       "    <tr style=\"text-align: right;\">\n",
       "      <th></th>\n",
       "      <th>probPromote</th>\n",
       "      <th>probNoPromote</th>\n",
       "      <th>uplift</th>\n",
       "    </tr>\n",
       "  </thead>\n",
       "  <tbody>\n",
       "    <tr>\n",
       "      <th>9953</th>\n",
       "      <td>0.0</td>\n",
       "      <td>0.0</td>\n",
       "      <td>0.0</td>\n",
       "    </tr>\n",
       "    <tr>\n",
       "      <th>3850</th>\n",
       "      <td>0.0</td>\n",
       "      <td>0.0</td>\n",
       "      <td>0.0</td>\n",
       "    </tr>\n",
       "    <tr>\n",
       "      <th>4962</th>\n",
       "      <td>0.0</td>\n",
       "      <td>0.0</td>\n",
       "      <td>0.0</td>\n",
       "    </tr>\n",
       "  </tbody>\n",
       "</table>\n",
       "</div>"
      ],
      "text/plain": [
       "      probPromote  probNoPromote  uplift\n",
       "9953          0.0            0.0     0.0\n",
       "3850          0.0            0.0     0.0\n",
       "4962          0.0            0.0     0.0"
      ]
     },
     "execution_count": 108,
     "metadata": {},
     "output_type": "execute_result"
    }
   ],
   "source": [
    "uplift_df = valid_X.copy() # Need to create a copy to allow modifying data\n",
    "uplift_df.zPromotion_ord = 1\n",
    "predTreatment = knn.predict_proba(uplift_df)\n",
    "uplift_df.zPromotion_ord = 0\n",
    "predControl = knn.predict_proba(uplift_df)\n",
    "upliftResult_df = pd.DataFrame({\n",
    "'probPromote': predTreatment[:,1],\n",
    "'probNoPromote': predControl[:,1],\n",
    "'uplift': predTreatment[:,1] - predControl[:,1],\n",
    "}, index=uplift_df.index)\n",
    "upliftResult_df.head(3)"
   ]
  },
  {
   "cell_type": "markdown",
   "metadata": {},
   "source": [
    "#### c. Report the two models’ recommendations for the first three members"
   ]
  },
  {
   "cell_type": "markdown",
   "metadata": {},
   "source": [
    "Both models report that there is a very small level of uplift with a promotion. The first three memembers showed no uplift, but that might be due to the model them selves not going into enough detail. That beign said a direct examination of the number of records shows that there was only 1% of uplift between those who received a promotion and those who did not. \n",
    "Given the low amount of return on the promotion, the models lead me to stop giving out promotions. "
   ]
  }
 ],
 "metadata": {
  "kernelspec": {
   "display_name": "Python 3",
   "language": "python",
   "name": "python3"
  },
  "language_info": {
   "codemirror_mode": {
    "name": "ipython",
    "version": 3
   },
   "file_extension": ".py",
   "mimetype": "text/x-python",
   "name": "python",
   "nbconvert_exporter": "python",
   "pygments_lexer": "ipython3",
   "version": "3.11.5"
  },
  "orig_nbformat": 4
 },
 "nbformat": 4,
 "nbformat_minor": 2
}
