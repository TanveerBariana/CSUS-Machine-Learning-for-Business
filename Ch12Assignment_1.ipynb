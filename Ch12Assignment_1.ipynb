{
 "cells": [
  {
   "cell_type": "markdown",
   "metadata": {},
   "source": [
    "# Chapter 12: Discriminant Analysis"
   ]
  },
  {
   "cell_type": "code",
   "execution_count": 124,
   "metadata": {},
   "outputs": [],
   "source": [
    "from pathlib import Path\n",
    "\n",
    "import pandas as pd\n",
    "import numpy as np\n",
    "\n",
    "from sklearn.linear_model import LogisticRegression\n",
    "from sklearn.discriminant_analysis import LinearDiscriminantAnalysis\n",
    "from sklearn.model_selection import train_test_split\n",
    "import statsmodels.api as sm\n",
    "\n",
    "import matplotlib.pylab as plt\n",
    "\n",
    "from dmba import classificationSummary\n",
    "from dmba import gainsChart, liftChart\n",
    "\n",
    "import math\n",
    "%matplotlib inline"
   ]
  },
  {
   "cell_type": "code",
   "execution_count": 125,
   "metadata": {},
   "outputs": [],
   "source": [
    "# Working directory:\n",
    "# replace the argument of the `Path`\n",
    "DATA = Path('dmba')\n",
    "# and then load data using \n",
    "# pd.read_csv(DATA / ‘filename.csv’)"
   ]
  },
  {
   "cell_type": "markdown",
   "metadata": {},
   "source": [
    "## \"Classification function\" in Chapter 12 of the DMBA textbook is same as \"disciminant function\"."
   ]
  },
  {
   "cell_type": "markdown",
   "metadata": {},
   "source": [
    "# Problem 12.1: Personal Loan Acceptance\n",
    "Universal Bank is a relatively young bank growing\n",
    "rapidly in terms of overall customer acquisition. The majority of\n",
    "these customers are liability customers with varying sizes of\n",
    "relationship with the bank. The customer base of asset customers is\n",
    "quite small, and the bank is interested in expanding this base\n",
    "rapidly to bring in more loan business. In particular, it wants to\n",
    "explore ways of converting its liability customers to personal loan\n",
    "customers.\n",
    "\n",
    "A campaign the bank ran for liability customers last year showed a\n",
    "healthy conversion rate of over 9\\% successes. This has encouraged the\n",
    "retail marketing department to devise smarter campaigns with better\n",
    "target marketing. The goal of our analysis is to model the previous\n",
    "campaign's customer behavior to analyze what combination of factors\n",
    "make a customer more likely to accept a personal loan. This will serve\n",
    "as the basis for the design of a new campaign.\n",
    "\n",
    "The file _UniversalBank.csv_ contains data on 5000 customers. The data include customer demographic information (e.g., age, income), the customer's relationship with the bank (e.g., mortgage, securities account), and the customer response to the last personal loan campaign (Personal Loan). Among these 5000 customers, only 480 (= 9.6\\%)\n",
    "accepted the personal loan that was offered to them in the previous campaign.\n",
    "\n",
    "Partition the data (60\\% training and 40\\% validation) and then perform a discriminant analysis that models Personal Loan as a function of the remaining predictors (excluding zip code). Remember to turn categorical predictors with more than two categories into dummy variables first. Specify the success class as 1 (personal loan acceptance), and use the default cutoff value of 0.5.\n",
    "\n"
   ]
  },
  {
   "cell_type": "code",
   "execution_count": 126,
   "metadata": {},
   "outputs": [],
   "source": [
    "bank_df = pd.read_csv(DATA / 'UniversalBank.csv')\n",
    "bank_df = bank_df.drop(columns= ['ID', 'ZIP Code'])\n",
    "outcome = 'Personal Loan'\n"
   ]
  },
  {
   "cell_type": "code",
   "execution_count": 127,
   "metadata": {},
   "outputs": [],
   "source": [
    "X = bank_df.drop(columns=['Personal Loan'])\n",
    "X = pd.get_dummies(X, columns=['Education'], drop_first=True)"
   ]
  },
  {
   "cell_type": "code",
   "execution_count": 128,
   "metadata": {},
   "outputs": [
    {
     "data": {
      "text/plain": [
       "Index(['Age', 'Experience', 'Income', 'Family', 'CCAvg', 'Mortgage',\n",
       "       'Securities Account', 'CD Account', 'Online', 'CreditCard',\n",
       "       'Education_2', 'Education_3'],\n",
       "      dtype='object')"
      ]
     },
     "execution_count": 128,
     "metadata": {},
     "output_type": "execute_result"
    }
   ],
   "source": [
    "y = bank_df['Personal Loan']\n",
    "X.columns"
   ]
  },
  {
   "cell_type": "code",
   "execution_count": 129,
   "metadata": {},
   "outputs": [
    {
     "name": "stdout",
     "output_type": "stream",
     "text": [
      "(3000, 12)\n",
      "(2000, 12)\n"
     ]
    }
   ],
   "source": [
    "X_train,X_valid, y_train, y_valid = train_test_split(X, y, train_size=0.6, random_state=1)\n",
    "print(X_train.shape)\n",
    "print(X_valid.shape)"
   ]
  },
  {
   "cell_type": "code",
   "execution_count": 130,
   "metadata": {},
   "outputs": [
    {
     "name": "stdout",
     "output_type": "stream",
     "text": [
      "Coefficients [[-1.38518713e-01  1.41669111e-01  5.52905393e-02  5.54820720e-01\n",
      "   3.57975399e-01  1.50435277e-03 -1.35193439e+00  6.44591571e+00\n",
      "  -5.11459814e-01 -7.83978984e-01  2.84535302e+00  2.96188568e+00]]\n",
      "Intercept [-9.61170273]\n"
     ]
    }
   ],
   "source": [
    "bank_lin = LinearDiscriminantAnalysis(priors=[0.904, 0.096])\n",
    "bank_lin.fit(X_train, y_train)\n",
    "print('Coefficients', bank_lin.coef_)\n",
    "print('Intercept', bank_lin.intercept_)"
   ]
  },
  {
   "cell_type": "code",
   "execution_count": 131,
   "metadata": {},
   "outputs": [],
   "source": [
    "#X_train.columns"
   ]
  },
  {
   "cell_type": "code",
   "execution_count": 132,
   "metadata": {},
   "outputs": [
    {
     "data": {
      "text/plain": [
       "array([-9.61170273])"
      ]
     },
     "execution_count": 132,
     "metadata": {},
     "output_type": "execute_result"
    }
   ],
   "source": [
    "bank_lin.intercept_"
   ]
  },
  {
   "cell_type": "code",
   "execution_count": 133,
   "metadata": {},
   "outputs": [
    {
     "data": {
      "text/plain": [
       "array([0, 1], dtype=int64)"
      ]
     },
     "execution_count": 133,
     "metadata": {},
     "output_type": "execute_result"
    }
   ],
   "source": [
    "bank_lin.classes_"
   ]
  },
  {
   "cell_type": "code",
   "execution_count": 134,
   "metadata": {},
   "outputs": [
    {
     "data": {
      "text/plain": [
       "array([[-1.38518713e-01,  1.41669111e-01,  5.52905393e-02,\n",
       "         5.54820720e-01,  3.57975399e-01,  1.50435277e-03,\n",
       "        -1.35193439e+00,  6.44591571e+00, -5.11459814e-01,\n",
       "        -7.83978984e-01,  2.84535302e+00,  2.96188568e+00]])"
      ]
     },
     "execution_count": 134,
     "metadata": {},
     "output_type": "execute_result"
    }
   ],
   "source": [
    "bank_lin.coef_"
   ]
  },
  {
   "cell_type": "code",
   "execution_count": 135,
   "metadata": {},
   "outputs": [
    {
     "data": {
      "text/plain": [
       "Index(['Age', 'Experience', 'Income', 'Family', 'CCAvg', 'Education',\n",
       "       'Mortgage', 'Personal Loan', 'Securities Account', 'CD Account',\n",
       "       'Online', 'CreditCard'],\n",
       "      dtype='object')"
      ]
     },
     "execution_count": 135,
     "metadata": {},
     "output_type": "execute_result"
    }
   ],
   "source": [
    "bank_df.columns"
   ]
  },
  {
   "cell_type": "code",
   "execution_count": 136,
   "metadata": {},
   "outputs": [
    {
     "name": "stdout",
     "output_type": "stream",
     "text": [
      "Coefficients and intercept\n",
      "                      accept\n",
      "constant           -9.611703\n",
      "Age                -0.138519\n",
      "Experience          0.141669\n",
      "Income              0.055291\n",
      "Family              0.554821\n",
      "CCAvg               0.357975\n",
      "Mortgage            0.001504\n",
      "Securities Account -1.351934\n",
      "CD Account          6.445916\n",
      "Online             -0.511460\n",
      "CreditCard         -0.783979\n",
      "Education_2         2.845353\n",
      "Education_3         2.961886\n",
      "\n",
      "Confusion Matrix (Accuracy 0.9450)\n",
      "\n",
      "       Prediction\n",
      "Actual    0    1\n",
      "     0 2658   55\n",
      "     1  110  177\n"
     ]
    },
    {
     "data": {
      "text/plain": [
       "Personal Loan\n",
       "0    4520\n",
       "1     480\n",
       "Name: count, dtype: int64"
      ]
     },
     "execution_count": 136,
     "metadata": {},
     "output_type": "execute_result"
    }
   ],
   "source": [
    "print('Coefficients and intercept')\n",
    "fct = pd.DataFrame([bank_lin.intercept_], columns=['accept'], index=['constant'])\n",
    "fct = pd.concat([fct,pd.DataFrame(bank_lin.coef_.transpose(), columns=['accept'], \n",
    "                              index=list(X.columns))])\n",
    "print(fct)\n",
    "print()\n",
    "classificationSummary(y_train, \n",
    "                      bank_lin.predict(X_train),\n",
    "                      class_names=bank_lin.classes_)\n",
    "bank_df[outcome].value_counts()"
   ]
  },
  {
   "cell_type": "code",
   "execution_count": 137,
   "metadata": {},
   "outputs": [
    {
     "name": "stdout",
     "output_type": "stream",
     "text": [
      "intercept  -9.611702726015231\n",
      "           Age  Experience    Income    Family     CCAvg  Mortgage  \\\n",
      "coef -0.138519    0.141669  0.055291  0.554821  0.357975  0.001504   \n",
      "\n",
      "      Securities Account  CD Account   Online  CreditCard  Education_2  \\\n",
      "coef           -1.351934    6.445916 -0.51146   -0.783979     2.845353   \n",
      "\n",
      "      Education_3  \n",
      "coef     2.961886  \n"
     ]
    }
   ],
   "source": [
    "print('intercept ', bank_lin.intercept_[0])\n",
    "print(pd.DataFrame({'coef' : bank_lin.coef_[0]}, index=X.columns).transpose())"
   ]
  },
  {
   "cell_type": "markdown",
   "metadata": {},
   "source": [
    "## Problem 12.1.a\n",
    "Compute summary statistics for the predictors separately for loan acceptors and nonacceptors. For continuous predictors, compute the mean and standard deviation. For categorical predictors, compute the percentages. Are there predictors where the two classes differ substantially?"
   ]
  },
  {
   "cell_type": "code",
   "execution_count": 138,
   "metadata": {},
   "outputs": [
    {
     "data": {
      "text/html": [
       "<div>\n",
       "<style scoped>\n",
       "    .dataframe tbody tr th:only-of-type {\n",
       "        vertical-align: middle;\n",
       "    }\n",
       "\n",
       "    .dataframe tbody tr th {\n",
       "        vertical-align: top;\n",
       "    }\n",
       "\n",
       "    .dataframe thead th {\n",
       "        text-align: right;\n",
       "    }\n",
       "</style>\n",
       "<table border=\"1\" class=\"dataframe\">\n",
       "  <thead>\n",
       "    <tr style=\"text-align: right;\">\n",
       "      <th></th>\n",
       "      <th>Age</th>\n",
       "      <th>Experience</th>\n",
       "      <th>Income</th>\n",
       "      <th>Family</th>\n",
       "      <th>CCAvg</th>\n",
       "      <th>Education</th>\n",
       "      <th>Mortgage</th>\n",
       "      <th>Personal Loan</th>\n",
       "      <th>Securities Account</th>\n",
       "      <th>CD Account</th>\n",
       "      <th>Online</th>\n",
       "      <th>CreditCard</th>\n",
       "    </tr>\n",
       "  </thead>\n",
       "  <tbody>\n",
       "    <tr>\n",
       "      <th>count</th>\n",
       "      <td>480.000000</td>\n",
       "      <td>480.000000</td>\n",
       "      <td>480.000000</td>\n",
       "      <td>480.000000</td>\n",
       "      <td>480.000000</td>\n",
       "      <td>480.000000</td>\n",
       "      <td>480.000000</td>\n",
       "      <td>480.0</td>\n",
       "      <td>480.000000</td>\n",
       "      <td>480.000000</td>\n",
       "      <td>480.00000</td>\n",
       "      <td>480.000000</td>\n",
       "    </tr>\n",
       "    <tr>\n",
       "      <th>mean</th>\n",
       "      <td>45.066667</td>\n",
       "      <td>19.843750</td>\n",
       "      <td>144.745833</td>\n",
       "      <td>2.612500</td>\n",
       "      <td>3.905354</td>\n",
       "      <td>2.233333</td>\n",
       "      <td>100.845833</td>\n",
       "      <td>1.0</td>\n",
       "      <td>0.125000</td>\n",
       "      <td>0.291667</td>\n",
       "      <td>0.60625</td>\n",
       "      <td>0.297917</td>\n",
       "    </tr>\n",
       "    <tr>\n",
       "      <th>std</th>\n",
       "      <td>11.590964</td>\n",
       "      <td>11.582443</td>\n",
       "      <td>31.584429</td>\n",
       "      <td>1.115393</td>\n",
       "      <td>2.097681</td>\n",
       "      <td>0.753373</td>\n",
       "      <td>160.847862</td>\n",
       "      <td>0.0</td>\n",
       "      <td>0.331064</td>\n",
       "      <td>0.455004</td>\n",
       "      <td>0.48909</td>\n",
       "      <td>0.457820</td>\n",
       "    </tr>\n",
       "    <tr>\n",
       "      <th>min</th>\n",
       "      <td>26.000000</td>\n",
       "      <td>0.000000</td>\n",
       "      <td>60.000000</td>\n",
       "      <td>1.000000</td>\n",
       "      <td>0.000000</td>\n",
       "      <td>1.000000</td>\n",
       "      <td>0.000000</td>\n",
       "      <td>1.0</td>\n",
       "      <td>0.000000</td>\n",
       "      <td>0.000000</td>\n",
       "      <td>0.00000</td>\n",
       "      <td>0.000000</td>\n",
       "    </tr>\n",
       "    <tr>\n",
       "      <th>25%</th>\n",
       "      <td>35.000000</td>\n",
       "      <td>9.000000</td>\n",
       "      <td>122.000000</td>\n",
       "      <td>2.000000</td>\n",
       "      <td>2.600000</td>\n",
       "      <td>2.000000</td>\n",
       "      <td>0.000000</td>\n",
       "      <td>1.0</td>\n",
       "      <td>0.000000</td>\n",
       "      <td>0.000000</td>\n",
       "      <td>0.00000</td>\n",
       "      <td>0.000000</td>\n",
       "    </tr>\n",
       "    <tr>\n",
       "      <th>50%</th>\n",
       "      <td>45.000000</td>\n",
       "      <td>20.000000</td>\n",
       "      <td>142.500000</td>\n",
       "      <td>3.000000</td>\n",
       "      <td>3.800000</td>\n",
       "      <td>2.000000</td>\n",
       "      <td>0.000000</td>\n",
       "      <td>1.0</td>\n",
       "      <td>0.000000</td>\n",
       "      <td>0.000000</td>\n",
       "      <td>1.00000</td>\n",
       "      <td>0.000000</td>\n",
       "    </tr>\n",
       "    <tr>\n",
       "      <th>75%</th>\n",
       "      <td>55.000000</td>\n",
       "      <td>30.000000</td>\n",
       "      <td>172.000000</td>\n",
       "      <td>4.000000</td>\n",
       "      <td>5.347500</td>\n",
       "      <td>3.000000</td>\n",
       "      <td>192.500000</td>\n",
       "      <td>1.0</td>\n",
       "      <td>0.000000</td>\n",
       "      <td>1.000000</td>\n",
       "      <td>1.00000</td>\n",
       "      <td>1.000000</td>\n",
       "    </tr>\n",
       "    <tr>\n",
       "      <th>max</th>\n",
       "      <td>65.000000</td>\n",
       "      <td>41.000000</td>\n",
       "      <td>203.000000</td>\n",
       "      <td>4.000000</td>\n",
       "      <td>10.000000</td>\n",
       "      <td>3.000000</td>\n",
       "      <td>617.000000</td>\n",
       "      <td>1.0</td>\n",
       "      <td>1.000000</td>\n",
       "      <td>1.000000</td>\n",
       "      <td>1.00000</td>\n",
       "      <td>1.000000</td>\n",
       "    </tr>\n",
       "  </tbody>\n",
       "</table>\n",
       "</div>"
      ],
      "text/plain": [
       "              Age  Experience      Income      Family       CCAvg   Education  \\\n",
       "count  480.000000  480.000000  480.000000  480.000000  480.000000  480.000000   \n",
       "mean    45.066667   19.843750  144.745833    2.612500    3.905354    2.233333   \n",
       "std     11.590964   11.582443   31.584429    1.115393    2.097681    0.753373   \n",
       "min     26.000000    0.000000   60.000000    1.000000    0.000000    1.000000   \n",
       "25%     35.000000    9.000000  122.000000    2.000000    2.600000    2.000000   \n",
       "50%     45.000000   20.000000  142.500000    3.000000    3.800000    2.000000   \n",
       "75%     55.000000   30.000000  172.000000    4.000000    5.347500    3.000000   \n",
       "max     65.000000   41.000000  203.000000    4.000000   10.000000    3.000000   \n",
       "\n",
       "         Mortgage  Personal Loan  Securities Account  CD Account     Online  \\\n",
       "count  480.000000          480.0          480.000000  480.000000  480.00000   \n",
       "mean   100.845833            1.0            0.125000    0.291667    0.60625   \n",
       "std    160.847862            0.0            0.331064    0.455004    0.48909   \n",
       "min      0.000000            1.0            0.000000    0.000000    0.00000   \n",
       "25%      0.000000            1.0            0.000000    0.000000    0.00000   \n",
       "50%      0.000000            1.0            0.000000    0.000000    1.00000   \n",
       "75%    192.500000            1.0            0.000000    1.000000    1.00000   \n",
       "max    617.000000            1.0            1.000000    1.000000    1.00000   \n",
       "\n",
       "       CreditCard  \n",
       "count  480.000000  \n",
       "mean     0.297917  \n",
       "std      0.457820  \n",
       "min      0.000000  \n",
       "25%      0.000000  \n",
       "50%      0.000000  \n",
       "75%      1.000000  \n",
       "max      1.000000  "
      ]
     },
     "execution_count": 138,
     "metadata": {},
     "output_type": "execute_result"
    }
   ],
   "source": [
    "bank_df[y==1].describe()"
   ]
  },
  {
   "cell_type": "code",
   "execution_count": 139,
   "metadata": {},
   "outputs": [
    {
     "data": {
      "text/html": [
       "<div>\n",
       "<style scoped>\n",
       "    .dataframe tbody tr th:only-of-type {\n",
       "        vertical-align: middle;\n",
       "    }\n",
       "\n",
       "    .dataframe tbody tr th {\n",
       "        vertical-align: top;\n",
       "    }\n",
       "\n",
       "    .dataframe thead th {\n",
       "        text-align: right;\n",
       "    }\n",
       "</style>\n",
       "<table border=\"1\" class=\"dataframe\">\n",
       "  <thead>\n",
       "    <tr style=\"text-align: right;\">\n",
       "      <th></th>\n",
       "      <th>Age</th>\n",
       "      <th>Experience</th>\n",
       "      <th>Income</th>\n",
       "      <th>Family</th>\n",
       "      <th>CCAvg</th>\n",
       "      <th>Education</th>\n",
       "      <th>Mortgage</th>\n",
       "      <th>Personal Loan</th>\n",
       "      <th>Securities Account</th>\n",
       "      <th>CD Account</th>\n",
       "      <th>Online</th>\n",
       "      <th>CreditCard</th>\n",
       "    </tr>\n",
       "  </thead>\n",
       "  <tbody>\n",
       "    <tr>\n",
       "      <th>count</th>\n",
       "      <td>4520.000000</td>\n",
       "      <td>4520.000000</td>\n",
       "      <td>4520.000000</td>\n",
       "      <td>4520.000000</td>\n",
       "      <td>4520.000000</td>\n",
       "      <td>4520.000000</td>\n",
       "      <td>4520.000000</td>\n",
       "      <td>4520.0</td>\n",
       "      <td>4520.000000</td>\n",
       "      <td>4520.000000</td>\n",
       "      <td>4520.000000</td>\n",
       "      <td>4520.000000</td>\n",
       "    </tr>\n",
       "    <tr>\n",
       "      <th>mean</th>\n",
       "      <td>45.367257</td>\n",
       "      <td>20.132301</td>\n",
       "      <td>66.237389</td>\n",
       "      <td>2.373451</td>\n",
       "      <td>1.729009</td>\n",
       "      <td>1.843584</td>\n",
       "      <td>51.789381</td>\n",
       "      <td>0.0</td>\n",
       "      <td>0.102212</td>\n",
       "      <td>0.035841</td>\n",
       "      <td>0.595796</td>\n",
       "      <td>0.293584</td>\n",
       "    </tr>\n",
       "    <tr>\n",
       "      <th>std</th>\n",
       "      <td>11.450427</td>\n",
       "      <td>11.456672</td>\n",
       "      <td>40.578534</td>\n",
       "      <td>1.148771</td>\n",
       "      <td>1.567647</td>\n",
       "      <td>0.839975</td>\n",
       "      <td>92.038931</td>\n",
       "      <td>0.0</td>\n",
       "      <td>0.302961</td>\n",
       "      <td>0.185913</td>\n",
       "      <td>0.490792</td>\n",
       "      <td>0.455454</td>\n",
       "    </tr>\n",
       "    <tr>\n",
       "      <th>min</th>\n",
       "      <td>23.000000</td>\n",
       "      <td>-3.000000</td>\n",
       "      <td>8.000000</td>\n",
       "      <td>1.000000</td>\n",
       "      <td>0.000000</td>\n",
       "      <td>1.000000</td>\n",
       "      <td>0.000000</td>\n",
       "      <td>0.0</td>\n",
       "      <td>0.000000</td>\n",
       "      <td>0.000000</td>\n",
       "      <td>0.000000</td>\n",
       "      <td>0.000000</td>\n",
       "    </tr>\n",
       "    <tr>\n",
       "      <th>25%</th>\n",
       "      <td>35.000000</td>\n",
       "      <td>10.000000</td>\n",
       "      <td>35.000000</td>\n",
       "      <td>1.000000</td>\n",
       "      <td>0.600000</td>\n",
       "      <td>1.000000</td>\n",
       "      <td>0.000000</td>\n",
       "      <td>0.0</td>\n",
       "      <td>0.000000</td>\n",
       "      <td>0.000000</td>\n",
       "      <td>0.000000</td>\n",
       "      <td>0.000000</td>\n",
       "    </tr>\n",
       "    <tr>\n",
       "      <th>50%</th>\n",
       "      <td>45.000000</td>\n",
       "      <td>20.000000</td>\n",
       "      <td>59.000000</td>\n",
       "      <td>2.000000</td>\n",
       "      <td>1.400000</td>\n",
       "      <td>2.000000</td>\n",
       "      <td>0.000000</td>\n",
       "      <td>0.0</td>\n",
       "      <td>0.000000</td>\n",
       "      <td>0.000000</td>\n",
       "      <td>1.000000</td>\n",
       "      <td>0.000000</td>\n",
       "    </tr>\n",
       "    <tr>\n",
       "      <th>75%</th>\n",
       "      <td>55.000000</td>\n",
       "      <td>30.000000</td>\n",
       "      <td>84.000000</td>\n",
       "      <td>3.000000</td>\n",
       "      <td>2.300000</td>\n",
       "      <td>3.000000</td>\n",
       "      <td>98.000000</td>\n",
       "      <td>0.0</td>\n",
       "      <td>0.000000</td>\n",
       "      <td>0.000000</td>\n",
       "      <td>1.000000</td>\n",
       "      <td>1.000000</td>\n",
       "    </tr>\n",
       "    <tr>\n",
       "      <th>max</th>\n",
       "      <td>67.000000</td>\n",
       "      <td>43.000000</td>\n",
       "      <td>224.000000</td>\n",
       "      <td>4.000000</td>\n",
       "      <td>8.800000</td>\n",
       "      <td>3.000000</td>\n",
       "      <td>635.000000</td>\n",
       "      <td>0.0</td>\n",
       "      <td>1.000000</td>\n",
       "      <td>1.000000</td>\n",
       "      <td>1.000000</td>\n",
       "      <td>1.000000</td>\n",
       "    </tr>\n",
       "  </tbody>\n",
       "</table>\n",
       "</div>"
      ],
      "text/plain": [
       "               Age   Experience       Income       Family        CCAvg  \\\n",
       "count  4520.000000  4520.000000  4520.000000  4520.000000  4520.000000   \n",
       "mean     45.367257    20.132301    66.237389     2.373451     1.729009   \n",
       "std      11.450427    11.456672    40.578534     1.148771     1.567647   \n",
       "min      23.000000    -3.000000     8.000000     1.000000     0.000000   \n",
       "25%      35.000000    10.000000    35.000000     1.000000     0.600000   \n",
       "50%      45.000000    20.000000    59.000000     2.000000     1.400000   \n",
       "75%      55.000000    30.000000    84.000000     3.000000     2.300000   \n",
       "max      67.000000    43.000000   224.000000     4.000000     8.800000   \n",
       "\n",
       "         Education     Mortgage  Personal Loan  Securities Account  \\\n",
       "count  4520.000000  4520.000000         4520.0         4520.000000   \n",
       "mean      1.843584    51.789381            0.0            0.102212   \n",
       "std       0.839975    92.038931            0.0            0.302961   \n",
       "min       1.000000     0.000000            0.0            0.000000   \n",
       "25%       1.000000     0.000000            0.0            0.000000   \n",
       "50%       2.000000     0.000000            0.0            0.000000   \n",
       "75%       3.000000    98.000000            0.0            0.000000   \n",
       "max       3.000000   635.000000            0.0            1.000000   \n",
       "\n",
       "        CD Account       Online   CreditCard  \n",
       "count  4520.000000  4520.000000  4520.000000  \n",
       "mean      0.035841     0.595796     0.293584  \n",
       "std       0.185913     0.490792     0.455454  \n",
       "min       0.000000     0.000000     0.000000  \n",
       "25%       0.000000     0.000000     0.000000  \n",
       "50%       0.000000     1.000000     0.000000  \n",
       "75%       0.000000     1.000000     1.000000  \n",
       "max       1.000000     1.000000     1.000000  "
      ]
     },
     "execution_count": 139,
     "metadata": {},
     "output_type": "execute_result"
    }
   ],
   "source": [
    "bank_df[y==0].describe()"
   ]
  },
  {
   "cell_type": "code",
   "execution_count": 140,
   "metadata": {},
   "outputs": [
    {
     "data": {
      "text/html": [
       "<div>\n",
       "<style scoped>\n",
       "    .dataframe tbody tr th:only-of-type {\n",
       "        vertical-align: middle;\n",
       "    }\n",
       "\n",
       "    .dataframe tbody tr th {\n",
       "        vertical-align: top;\n",
       "    }\n",
       "\n",
       "    .dataframe thead th {\n",
       "        text-align: right;\n",
       "    }\n",
       "</style>\n",
       "<table border=\"1\" class=\"dataframe\">\n",
       "  <thead>\n",
       "    <tr style=\"text-align: right;\">\n",
       "      <th></th>\n",
       "      <th>Age</th>\n",
       "      <th>Experience</th>\n",
       "      <th>Income</th>\n",
       "      <th>Family</th>\n",
       "      <th>CCAvg</th>\n",
       "      <th>Education</th>\n",
       "      <th>Mortgage</th>\n",
       "      <th>Personal Loan</th>\n",
       "      <th>Securities Account</th>\n",
       "      <th>CD Account</th>\n",
       "      <th>Online</th>\n",
       "      <th>CreditCard</th>\n",
       "    </tr>\n",
       "  </thead>\n",
       "  <tbody>\n",
       "    <tr>\n",
       "      <th>mean</th>\n",
       "      <td>45.066667</td>\n",
       "      <td>19.843750</td>\n",
       "      <td>144.745833</td>\n",
       "      <td>2.612500</td>\n",
       "      <td>3.905354</td>\n",
       "      <td>2.233333</td>\n",
       "      <td>100.845833</td>\n",
       "      <td>1.0</td>\n",
       "      <td>0.125000</td>\n",
       "      <td>0.291667</td>\n",
       "      <td>0.60625</td>\n",
       "      <td>0.297917</td>\n",
       "    </tr>\n",
       "    <tr>\n",
       "      <th>std</th>\n",
       "      <td>11.590964</td>\n",
       "      <td>11.582443</td>\n",
       "      <td>31.584429</td>\n",
       "      <td>1.115393</td>\n",
       "      <td>2.097681</td>\n",
       "      <td>0.753373</td>\n",
       "      <td>160.847862</td>\n",
       "      <td>0.0</td>\n",
       "      <td>0.331064</td>\n",
       "      <td>0.455004</td>\n",
       "      <td>0.48909</td>\n",
       "      <td>0.457820</td>\n",
       "    </tr>\n",
       "  </tbody>\n",
       "</table>\n",
       "</div>"
      ],
      "text/plain": [
       "            Age  Experience      Income    Family     CCAvg  Education  \\\n",
       "mean  45.066667   19.843750  144.745833  2.612500  3.905354   2.233333   \n",
       "std   11.590964   11.582443   31.584429  1.115393  2.097681   0.753373   \n",
       "\n",
       "        Mortgage  Personal Loan  Securities Account  CD Account   Online  \\\n",
       "mean  100.845833            1.0            0.125000    0.291667  0.60625   \n",
       "std   160.847862            0.0            0.331064    0.455004  0.48909   \n",
       "\n",
       "      CreditCard  \n",
       "mean    0.297917  \n",
       "std     0.457820  "
      ]
     },
     "execution_count": 140,
     "metadata": {},
     "output_type": "execute_result"
    }
   ],
   "source": [
    "bank_df[y==1].describe().loc[['mean', 'std'],:]"
   ]
  },
  {
   "cell_type": "code",
   "execution_count": 141,
   "metadata": {},
   "outputs": [
    {
     "data": {
      "text/html": [
       "<div>\n",
       "<style scoped>\n",
       "    .dataframe tbody tr th:only-of-type {\n",
       "        vertical-align: middle;\n",
       "    }\n",
       "\n",
       "    .dataframe tbody tr th {\n",
       "        vertical-align: top;\n",
       "    }\n",
       "\n",
       "    .dataframe thead th {\n",
       "        text-align: right;\n",
       "    }\n",
       "</style>\n",
       "<table border=\"1\" class=\"dataframe\">\n",
       "  <thead>\n",
       "    <tr style=\"text-align: right;\">\n",
       "      <th></th>\n",
       "      <th>Age</th>\n",
       "      <th>Experience</th>\n",
       "      <th>Income</th>\n",
       "      <th>Family</th>\n",
       "      <th>CCAvg</th>\n",
       "      <th>Education</th>\n",
       "      <th>Mortgage</th>\n",
       "      <th>Personal Loan</th>\n",
       "      <th>Securities Account</th>\n",
       "      <th>CD Account</th>\n",
       "      <th>Online</th>\n",
       "      <th>CreditCard</th>\n",
       "    </tr>\n",
       "  </thead>\n",
       "  <tbody>\n",
       "    <tr>\n",
       "      <th>mean</th>\n",
       "      <td>45.367257</td>\n",
       "      <td>20.132301</td>\n",
       "      <td>66.237389</td>\n",
       "      <td>2.373451</td>\n",
       "      <td>1.729009</td>\n",
       "      <td>1.843584</td>\n",
       "      <td>51.789381</td>\n",
       "      <td>0.0</td>\n",
       "      <td>0.102212</td>\n",
       "      <td>0.035841</td>\n",
       "      <td>0.595796</td>\n",
       "      <td>0.293584</td>\n",
       "    </tr>\n",
       "    <tr>\n",
       "      <th>std</th>\n",
       "      <td>11.450427</td>\n",
       "      <td>11.456672</td>\n",
       "      <td>40.578534</td>\n",
       "      <td>1.148771</td>\n",
       "      <td>1.567647</td>\n",
       "      <td>0.839975</td>\n",
       "      <td>92.038931</td>\n",
       "      <td>0.0</td>\n",
       "      <td>0.302961</td>\n",
       "      <td>0.185913</td>\n",
       "      <td>0.490792</td>\n",
       "      <td>0.455454</td>\n",
       "    </tr>\n",
       "  </tbody>\n",
       "</table>\n",
       "</div>"
      ],
      "text/plain": [
       "            Age  Experience     Income    Family     CCAvg  Education  \\\n",
       "mean  45.367257   20.132301  66.237389  2.373451  1.729009   1.843584   \n",
       "std   11.450427   11.456672  40.578534  1.148771  1.567647   0.839975   \n",
       "\n",
       "       Mortgage  Personal Loan  Securities Account  CD Account    Online  \\\n",
       "mean  51.789381            0.0            0.102212    0.035841  0.595796   \n",
       "std   92.038931            0.0            0.302961    0.185913  0.490792   \n",
       "\n",
       "      CreditCard  \n",
       "mean    0.293584  \n",
       "std     0.455454  "
      ]
     },
     "execution_count": 141,
     "metadata": {},
     "output_type": "execute_result"
    }
   ],
   "source": [
    "bank_df[y==0].describe().loc[['mean', 'std'],:]"
   ]
  },
  {
   "cell_type": "markdown",
   "metadata": {},
   "source": [
    "From the data above we can see that the income, Family, CCAvg, Education, and Mortgage is higher in the acceptor records "
   ]
  },
  {
   "cell_type": "markdown",
   "metadata": {},
   "source": [
    "## Problem 12.1.b\n",
    "Examine the model performance on the validation set.\n",
    "## Problem 12.1.b.i\n",
    "What is the accuracy rate?"
   ]
  },
  {
   "cell_type": "code",
   "execution_count": 142,
   "metadata": {},
   "outputs": [
    {
     "name": "stdout",
     "output_type": "stream",
     "text": [
      "Confusion Matrix (Accuracy 0.9440)\n",
      "\n",
      "       Prediction\n",
      "Actual    0    1\n",
      "     0 1776   31\n",
      "     1   81  112\n"
     ]
    },
    {
     "data": {
      "text/plain": [
       "Personal Loan\n",
       "0    4520\n",
       "1     480\n",
       "Name: count, dtype: int64"
      ]
     },
     "execution_count": 142,
     "metadata": {},
     "output_type": "execute_result"
    }
   ],
   "source": [
    "# print('Coefficients and intercept')\n",
    "# fct = pd.DataFrame([bank_lin.intercept_], columns=['accept'], index=['constant'])\n",
    "# fct = pd.concat([fct,pd.DataFrame(bank_lin.coef_.transpose(), columns=['accept'], \n",
    "#                               index=list(X.columns))])\n",
    "# print(fct)\n",
    "# print()\n",
    "classificationSummary(y_valid, \n",
    "                      bank_lin.predict(X_valid),\n",
    "                      class_names=bank_lin.classes_)\n",
    "bank_df[outcome].value_counts()"
   ]
  },
  {
   "cell_type": "markdown",
   "metadata": {},
   "source": [
    "the accuracy rate is 0.944"
   ]
  },
  {
   "cell_type": "markdown",
   "metadata": {},
   "source": [
    "## Problem 12.1.b.ii\n",
    "Is one type of misclassification more likely than the other?"
   ]
  },
  {
   "cell_type": "markdown",
   "metadata": {},
   "source": [
    "A type two classifciation is more likely than a class one classifaction. False negative is more likley than a false postive. \n",
    "\n",
    "More likly to missclassify a acceptor as a non-acceptor"
   ]
  },
  {
   "cell_type": "markdown",
   "metadata": {},
   "source": [
    "## Problem 12.1.b.iii\n",
    "Select three customers who were misclassified as _acceptors_ and three who were misclassified as _nonacceptors_. The goal is to determine why they are misclassified. First, examine their probability of being classified as acceptors: is it close to the\n",
    "threshold of 0.5? If not, compare their predictor values to the summary statistics of the two classes to determine why they were misclassified."
   ]
  },
  {
   "cell_type": "code",
   "execution_count": 143,
   "metadata": {},
   "outputs": [
    {
     "name": "stdout",
     "output_type": "stream",
     "text": [
      "      Age  Experience  Income  Family  CCAvg  Mortgage  Securities Account  \\\n",
      "2765   31           5      84       1    2.9       105                   0   \n",
      "4768   35           9      45       3    0.9       101                   1   \n",
      "3815   34           9      35       3    1.3         0                   0   \n",
      "3500   49          23     114       1    0.3       286                   0   \n",
      "2736   36          12      70       3    2.6       165                   0   \n",
      "...   ...         ...     ...     ...    ...       ...                 ...   \n",
      "4373   34          10      41       1    2.4         0                   0   \n",
      "3402   39          15      28       1    1.4       118                   0   \n",
      "1240   51          26      12       2    0.7       109                   0   \n",
      "438    36           9      31       4    1.0         0                   1   \n",
      "416    35           8      38       4    1.0       124                   0   \n",
      "\n",
      "      CD Account  Online  CreditCard  Education_2  Education_3  Actual  \\\n",
      "2765           0       0           1        False         True     NaN   \n",
      "4768           0       0           0        False        False     0.0   \n",
      "3815           0       0           0        False        False     NaN   \n",
      "3500           0       1           0        False        False     0.0   \n",
      "2736           0       1           0         True        False     NaN   \n",
      "...          ...     ...         ...          ...          ...     ...   \n",
      "4373           0       0           0         True        False     NaN   \n",
      "3402           0       1           1        False         True     0.0   \n",
      "1240           0       1           1        False         True     0.0   \n",
      "438            0       1           0         True        False     1.0   \n",
      "416            0       1           0         True        False     0.0   \n",
      "\n",
      "      Prediction  p(Accptor)  \n",
      "2765           0    0.009716  \n",
      "4768           0    0.000050  \n",
      "3815           0    0.000126  \n",
      "3500           0    0.001914  \n",
      "2736           0    0.020822  \n",
      "...          ...         ...  \n",
      "4373           0    0.001695  \n",
      "3402           0    0.000216  \n",
      "1240           0    0.000107  \n",
      "438            0    0.000319  \n",
      "416            0    0.002177  \n",
      "\n",
      "[2000 rows x 15 columns]\n"
     ]
    }
   ],
   "source": [
    "result_df = X_valid.copy()\n",
    "result_df.index = result_df.index + 1\n",
    "result_df['Actual'] = y_valid.copy()\n",
    "#result_df['Dec. Function'] = bank_lin.decision_function(X_valid)\n",
    "result_df['Prediction'] = bank_lin.predict(X_valid)\n",
    "result_df['p(Accptor)'] = bank_lin.predict_proba(X_valid)[:, 1]\n",
    "\n",
    "print(result_df)"
   ]
  },
  {
   "cell_type": "code",
   "execution_count": 144,
   "metadata": {},
   "outputs": [
    {
     "data": {
      "text/html": [
       "<div>\n",
       "<style scoped>\n",
       "    .dataframe tbody tr th:only-of-type {\n",
       "        vertical-align: middle;\n",
       "    }\n",
       "\n",
       "    .dataframe tbody tr th {\n",
       "        vertical-align: top;\n",
       "    }\n",
       "\n",
       "    .dataframe thead th {\n",
       "        text-align: right;\n",
       "    }\n",
       "</style>\n",
       "<table border=\"1\" class=\"dataframe\">\n",
       "  <thead>\n",
       "    <tr style=\"text-align: right;\">\n",
       "      <th></th>\n",
       "      <th>Age</th>\n",
       "      <th>Experience</th>\n",
       "      <th>Income</th>\n",
       "      <th>Family</th>\n",
       "      <th>CCAvg</th>\n",
       "      <th>Mortgage</th>\n",
       "      <th>Securities Account</th>\n",
       "      <th>CD Account</th>\n",
       "      <th>Online</th>\n",
       "      <th>CreditCard</th>\n",
       "      <th>Education_2</th>\n",
       "      <th>Education_3</th>\n",
       "      <th>Actual</th>\n",
       "      <th>Prediction</th>\n",
       "      <th>p(Accptor)</th>\n",
       "    </tr>\n",
       "  </thead>\n",
       "  <tbody>\n",
       "    <tr>\n",
       "      <th>933</th>\n",
       "      <td>51</td>\n",
       "      <td>27</td>\n",
       "      <td>112</td>\n",
       "      <td>3</td>\n",
       "      <td>1.8</td>\n",
       "      <td>0</td>\n",
       "      <td>1</td>\n",
       "      <td>1</td>\n",
       "      <td>1</td>\n",
       "      <td>1</td>\n",
       "      <td>True</td>\n",
       "      <td>False</td>\n",
       "      <td>0.0</td>\n",
       "      <td>1</td>\n",
       "      <td>0.908392</td>\n",
       "    </tr>\n",
       "    <tr>\n",
       "      <th>4495</th>\n",
       "      <td>29</td>\n",
       "      <td>4</td>\n",
       "      <td>182</td>\n",
       "      <td>1</td>\n",
       "      <td>3.7</td>\n",
       "      <td>0</td>\n",
       "      <td>0</td>\n",
       "      <td>0</td>\n",
       "      <td>1</td>\n",
       "      <td>0</td>\n",
       "      <td>False</td>\n",
       "      <td>True</td>\n",
       "      <td>0.0</td>\n",
       "      <td>1</td>\n",
       "      <td>0.790934</td>\n",
       "    </tr>\n",
       "    <tr>\n",
       "      <th>1525</th>\n",
       "      <td>40</td>\n",
       "      <td>16</td>\n",
       "      <td>155</td>\n",
       "      <td>4</td>\n",
       "      <td>0.1</td>\n",
       "      <td>0</td>\n",
       "      <td>0</td>\n",
       "      <td>1</td>\n",
       "      <td>1</td>\n",
       "      <td>1</td>\n",
       "      <td>False</td>\n",
       "      <td>True</td>\n",
       "      <td>0.0</td>\n",
       "      <td>1</td>\n",
       "      <td>0.997652</td>\n",
       "    </tr>\n",
       "  </tbody>\n",
       "</table>\n",
       "</div>"
      ],
      "text/plain": [
       "      Age  Experience  Income  Family  CCAvg  Mortgage  Securities Account  \\\n",
       "933    51          27     112       3    1.8         0                   1   \n",
       "4495   29           4     182       1    3.7         0                   0   \n",
       "1525   40          16     155       4    0.1         0                   0   \n",
       "\n",
       "      CD Account  Online  CreditCard  Education_2  Education_3  Actual  \\\n",
       "933            1       1           1         True        False     0.0   \n",
       "4495           0       1           0        False         True     0.0   \n",
       "1525           1       1           1        False         True     0.0   \n",
       "\n",
       "      Prediction  p(Accptor)  \n",
       "933            1    0.908392  \n",
       "4495           1    0.790934  \n",
       "1525           1    0.997652  "
      ]
     },
     "execution_count": 144,
     "metadata": {},
     "output_type": "execute_result"
    }
   ],
   "source": [
    "accpetors = result_df[result_df['Actual']== 0 ]\n",
    "accpetors = accpetors[accpetors['Prediction']== 1].head(3)\n",
    "accpetors"
   ]
  },
  {
   "cell_type": "code",
   "execution_count": 145,
   "metadata": {},
   "outputs": [
    {
     "data": {
      "text/html": [
       "<div>\n",
       "<style scoped>\n",
       "    .dataframe tbody tr th:only-of-type {\n",
       "        vertical-align: middle;\n",
       "    }\n",
       "\n",
       "    .dataframe tbody tr th {\n",
       "        vertical-align: top;\n",
       "    }\n",
       "\n",
       "    .dataframe thead th {\n",
       "        text-align: right;\n",
       "    }\n",
       "</style>\n",
       "<table border=\"1\" class=\"dataframe\">\n",
       "  <thead>\n",
       "    <tr style=\"text-align: right;\">\n",
       "      <th></th>\n",
       "      <th>Age</th>\n",
       "      <th>Experience</th>\n",
       "      <th>Income</th>\n",
       "      <th>Family</th>\n",
       "      <th>CCAvg</th>\n",
       "      <th>Mortgage</th>\n",
       "      <th>Securities Account</th>\n",
       "      <th>CD Account</th>\n",
       "      <th>Online</th>\n",
       "      <th>CreditCard</th>\n",
       "      <th>Education_2</th>\n",
       "      <th>Education_3</th>\n",
       "      <th>Actual</th>\n",
       "      <th>Prediction</th>\n",
       "      <th>p(Accptor)</th>\n",
       "    </tr>\n",
       "  </thead>\n",
       "  <tbody>\n",
       "    <tr>\n",
       "      <th>3945</th>\n",
       "      <td>56</td>\n",
       "      <td>26</td>\n",
       "      <td>62</td>\n",
       "      <td>3</td>\n",
       "      <td>1.4</td>\n",
       "      <td>0</td>\n",
       "      <td>0</td>\n",
       "      <td>0</td>\n",
       "      <td>1</td>\n",
       "      <td>0</td>\n",
       "      <td>False</td>\n",
       "      <td>True</td>\n",
       "      <td>1.0</td>\n",
       "      <td>0</td>\n",
       "      <td>0.003536</td>\n",
       "    </tr>\n",
       "    <tr>\n",
       "      <th>4590</th>\n",
       "      <td>31</td>\n",
       "      <td>7</td>\n",
       "      <td>13</td>\n",
       "      <td>1</td>\n",
       "      <td>0.5</td>\n",
       "      <td>0</td>\n",
       "      <td>0</td>\n",
       "      <td>0</td>\n",
       "      <td>1</td>\n",
       "      <td>0</td>\n",
       "      <td>False</td>\n",
       "      <td>True</td>\n",
       "      <td>1.0</td>\n",
       "      <td>0</td>\n",
       "      <td>0.000122</td>\n",
       "    </tr>\n",
       "    <tr>\n",
       "      <th>2672</th>\n",
       "      <td>62</td>\n",
       "      <td>37</td>\n",
       "      <td>128</td>\n",
       "      <td>1</td>\n",
       "      <td>2.5</td>\n",
       "      <td>0</td>\n",
       "      <td>0</td>\n",
       "      <td>0</td>\n",
       "      <td>0</td>\n",
       "      <td>0</td>\n",
       "      <td>False</td>\n",
       "      <td>False</td>\n",
       "      <td>1.0</td>\n",
       "      <td>0</td>\n",
       "      <td>0.011761</td>\n",
       "    </tr>\n",
       "  </tbody>\n",
       "</table>\n",
       "</div>"
      ],
      "text/plain": [
       "      Age  Experience  Income  Family  CCAvg  Mortgage  Securities Account  \\\n",
       "3945   56          26      62       3    1.4         0                   0   \n",
       "4590   31           7      13       1    0.5         0                   0   \n",
       "2672   62          37     128       1    2.5         0                   0   \n",
       "\n",
       "      CD Account  Online  CreditCard  Education_2  Education_3  Actual  \\\n",
       "3945           0       1           0        False         True     1.0   \n",
       "4590           0       1           0        False         True     1.0   \n",
       "2672           0       0           0        False        False     1.0   \n",
       "\n",
       "      Prediction  p(Accptor)  \n",
       "3945           0    0.003536  \n",
       "4590           0    0.000122  \n",
       "2672           0    0.011761  "
      ]
     },
     "execution_count": 145,
     "metadata": {},
     "output_type": "execute_result"
    }
   ],
   "source": [
    "nonaccpetors = result_df[result_df['Actual']== 1]\n",
    "nonaccpetors = nonaccpetors[nonaccpetors['Prediction']== 0].head(3)\n",
    "nonaccpetors"
   ]
  },
  {
   "cell_type": "markdown",
   "metadata": {},
   "source": [
    "The accounts that are missclassified as acceptors look like records that would be acceptors; they they have CD accounts and Credit cards, have higher levels of income, and larger families. \n",
    "\n",
    "The accounts that are missclassied as non-acceptors look like records that would be non-acceptors; they have no security/CD/CreditCard accounts, lower incomes, and smaller families."
   ]
  },
  {
   "cell_type": "markdown",
   "metadata": {},
   "source": [
    "## Problem 12.1.c\n",
    "As in many marketing campaigns, it is more important to identify customers who will accept the offer rather than customers who will not accept it. Therefore, a good model should be especially accurate at detecting acceptors. Examine the lift chart and decile-wise lift chart for the validation set and interpret them in light of this ranking goal."
   ]
  },
  {
   "cell_type": "code",
   "execution_count": 146,
   "metadata": {},
   "outputs": [
    {
     "data": {
      "image/png": "[encoded data removed]",
      "text/plain": [
       "<Figure size 1000x400 with 2 Axes>"
      ]
     },
     "metadata": {},
     "output_type": "display_data"
    }
   ],
   "source": [
    "proba = bank_lin.predict_proba(X_valid)\n",
    "result = pd.DataFrame({'actual': y_valid, \n",
    "                       'p(0)': [p[0] for p in proba],\n",
    "                       'p(1)': [p[1] for p in proba],\n",
    "                       'predicted': bank_lin.predict(X_valid) })\n",
    "df = result.sort_values(by=['p(1)'], ascending=False)\n",
    "fig, axes = plt.subplots(nrows=1, ncols=2, figsize=(10, 4))\n",
    "gainsChart(df.actual, ax=axes[0])\n",
    "liftChart(df.actual, title=False)\n",
    "plt.title('Decile Lift Chart (Validation)') \n",
    "plt.show()"
   ]
  },
  {
   "cell_type": "markdown",
   "metadata": {},
   "source": [
    "The gains chart shows us how much better the model is than a random guess at a given number of records. The Lift chart shows us that the model itself that anythinng in teh top 10% of records that are predicted to be accpetors are 7.2 times as liklly and the top 20% are 1.9 times as likley. This model appeares to be good at this job as it attrubutes the factors that make an accptor with alot of power making it more likley to predict a positive. "
   ]
  },
  {
   "cell_type": "markdown",
   "metadata": {},
   "source": [
    "## Problem 12.1.d\n",
    "Compare the results from the discriminant analysis with those from a logistic regression (both with cutoff 0.5 and the same predictors). Examine the confusion matrices, the lift charts, and the decile charts. Which method performs better on your validation set in detecting the acceptors?\n",
    "\n",
    "We can take the confusion matrix from the logistic regression model in chapter 10.\n",
    "```\n",
    "Confusion Matrix (Accuracy 0.9595)\n",
    "\n",
    "       Prediction\n",
    "Actual    0    1\n",
    "     0 1791   16\n",
    "     1   65  128\n",
    "```"
   ]
  },
  {
   "cell_type": "code",
   "execution_count": 147,
   "metadata": {},
   "outputs": [
    {
     "name": "stdout",
     "output_type": "stream",
     "text": [
      "Confusion Matrix (Accuracy 0.9440)\n",
      "\n",
      "       Prediction\n",
      "Actual    0    1\n",
      "     0 1776   31\n",
      "     1   81  112\n"
     ]
    }
   ],
   "source": [
    "classificationSummary(y_valid, \n",
    "                      bank_lin.predict(X_valid),\n",
    "                      class_names=bank_lin.classes_)"
   ]
  },
  {
   "cell_type": "code",
   "execution_count": 148,
   "metadata": {},
   "outputs": [],
   "source": [
    "X2_train = sm.add_constant(X_train, prepend=True)\n",
    "X2_valid = sm.add_constant(X_valid, prepend=True)\n",
    "logit_reg_predictor = sm.GLM(np.asarray(y_train), np.asarray(X2_train, dtype= float), family= sm.families.Binomial())"
   ]
  },
  {
   "cell_type": "code",
   "execution_count": 149,
   "metadata": {},
   "outputs": [
    {
     "data": {
      "text/html": [
       "<table class=\"simpletable\">\n",
       "<caption>Generalized Linear Model Regression Results</caption>\n",
       "<tr>\n",
       "  <th>Dep. Variable:</th>           <td>y</td>        <th>  No. Observations:  </th>  <td>  3000</td> \n",
       "</tr>\n",
       "<tr>\n",
       "  <th>Model:</th>                  <td>GLM</td>       <th>  Df Residuals:      </th>  <td>  2987</td> \n",
       "</tr>\n",
       "<tr>\n",
       "  <th>Model Family:</th>        <td>Binomial</td>     <th>  Df Model:          </th>  <td>    12</td> \n",
       "</tr>\n",
       "<tr>\n",
       "  <th>Link Function:</th>         <td>Logit</td>      <th>  Scale:             </th> <td>  1.0000</td>\n",
       "</tr>\n",
       "<tr>\n",
       "  <th>Method:</th>                <td>IRLS</td>       <th>  Log-Likelihood:    </th> <td> -340.15</td>\n",
       "</tr>\n",
       "<tr>\n",
       "  <th>Date:</th>            <td>Thu, 16 Nov 2023</td> <th>  Deviance:          </th> <td>  680.30</td>\n",
       "</tr>\n",
       "<tr>\n",
       "  <th>Time:</th>                <td>22:55:29</td>     <th>  Pearson chi2:      </th> <td>8.10e+03</td>\n",
       "</tr>\n",
       "<tr>\n",
       "  <th>No. Iterations:</th>          <td>8</td>        <th>  Pseudo R-squ. (CS):</th>  <td>0.3325</td> \n",
       "</tr>\n",
       "<tr>\n",
       "  <th>Covariance Type:</th>     <td>nonrobust</td>    <th>                     </th>     <td> </td>   \n",
       "</tr>\n",
       "</table>\n",
       "<table class=\"simpletable\">\n",
       "<tr>\n",
       "    <td></td>       <th>coef</th>     <th>std err</th>      <th>z</th>      <th>P>|z|</th>  <th>[0.025</th>    <th>0.975]</th>  \n",
       "</tr>\n",
       "<tr>\n",
       "  <th>const</th> <td>  -12.5634</td> <td>    2.336</td> <td>   -5.377</td> <td> 0.000</td> <td>  -17.143</td> <td>   -7.984</td>\n",
       "</tr>\n",
       "<tr>\n",
       "  <th>x1</th>    <td>   -0.0354</td> <td>    0.086</td> <td>   -0.412</td> <td> 0.680</td> <td>   -0.204</td> <td>    0.133</td>\n",
       "</tr>\n",
       "<tr>\n",
       "  <th>x2</th>    <td>    0.0369</td> <td>    0.086</td> <td>    0.431</td> <td> 0.666</td> <td>   -0.131</td> <td>    0.205</td>\n",
       "</tr>\n",
       "<tr>\n",
       "  <th>x3</th>    <td>    0.0589</td> <td>    0.004</td> <td>   15.044</td> <td> 0.000</td> <td>    0.051</td> <td>    0.067</td>\n",
       "</tr>\n",
       "<tr>\n",
       "  <th>x4</th>    <td>    0.6128</td> <td>    0.103</td> <td>    5.931</td> <td> 0.000</td> <td>    0.410</td> <td>    0.815</td>\n",
       "</tr>\n",
       "<tr>\n",
       "  <th>x5</th>    <td>    0.2408</td> <td>    0.060</td> <td>    4.032</td> <td> 0.000</td> <td>    0.124</td> <td>    0.358</td>\n",
       "</tr>\n",
       "<tr>\n",
       "  <th>x6</th>    <td>    0.0010</td> <td>    0.001</td> <td>    1.301</td> <td> 0.193</td> <td>   -0.001</td> <td>    0.003</td>\n",
       "</tr>\n",
       "<tr>\n",
       "  <th>x7</th>    <td>   -1.0305</td> <td>    0.422</td> <td>   -2.443</td> <td> 0.015</td> <td>   -1.857</td> <td>   -0.204</td>\n",
       "</tr>\n",
       "<tr>\n",
       "  <th>x8</th>    <td>    3.6628</td> <td>    0.460</td> <td>    7.961</td> <td> 0.000</td> <td>    2.761</td> <td>    4.565</td>\n",
       "</tr>\n",
       "<tr>\n",
       "  <th>x9</th>    <td>   -0.6794</td> <td>    0.216</td> <td>   -3.140</td> <td> 0.002</td> <td>   -1.103</td> <td>   -0.255</td>\n",
       "</tr>\n",
       "<tr>\n",
       "  <th>x10</th>   <td>   -0.9609</td> <td>    0.274</td> <td>   -3.507</td> <td> 0.000</td> <td>   -1.498</td> <td>   -0.424</td>\n",
       "</tr>\n",
       "<tr>\n",
       "  <th>x11</th>   <td>    4.2075</td> <td>    0.364</td> <td>   11.573</td> <td> 0.000</td> <td>    3.495</td> <td>    4.920</td>\n",
       "</tr>\n",
       "<tr>\n",
       "  <th>x12</th>   <td>    4.3580</td> <td>    0.365</td> <td>   11.937</td> <td> 0.000</td> <td>    3.642</td> <td>    5.074</td>\n",
       "</tr>\n",
       "</table>"
      ],
      "text/latex": [
       "\\begin{center}\n",
       "\\begin{tabular}{lclc}\n",
       "\\toprule\n",
       "\\textbf{Dep. Variable:}   &        y         & \\textbf{  No. Observations:  } &     3000    \\\\\n",
       "\\textbf{Model:}           &       GLM        & \\textbf{  Df Residuals:      } &     2987    \\\\\n",
       "\\textbf{Model Family:}    &     Binomial     & \\textbf{  Df Model:          } &       12    \\\\\n",
       "\\textbf{Link Function:}   &      Logit       & \\textbf{  Scale:             } &    1.0000   \\\\\n",
       "\\textbf{Method:}          &       IRLS       & \\textbf{  Log-Likelihood:    } &   -340.15   \\\\\n",
       "\\textbf{Date:}            & Thu, 16 Nov 2023 & \\textbf{  Deviance:          } &    680.30   \\\\\n",
       "\\textbf{Time:}            &     22:55:29     & \\textbf{  Pearson chi2:      } &  8.10e+03   \\\\\n",
       "\\textbf{No. Iterations:}  &        8         & \\textbf{  Pseudo R-squ. (CS):} &   0.3325    \\\\\n",
       "\\textbf{Covariance Type:} &    nonrobust     & \\textbf{                     } &             \\\\\n",
       "\\bottomrule\n",
       "\\end{tabular}\n",
       "\\begin{tabular}{lcccccc}\n",
       "               & \\textbf{coef} & \\textbf{std err} & \\textbf{z} & \\textbf{P$> |$z$|$} & \\textbf{[0.025} & \\textbf{0.975]}  \\\\\n",
       "\\midrule\n",
       "\\textbf{const} &     -12.5634  &        2.336     &    -5.377  &         0.000        &      -17.143    &       -7.984     \\\\\n",
       "\\textbf{x1}    &      -0.0354  &        0.086     &    -0.412  &         0.680        &       -0.204    &        0.133     \\\\\n",
       "\\textbf{x2}    &       0.0369  &        0.086     &     0.431  &         0.666        &       -0.131    &        0.205     \\\\\n",
       "\\textbf{x3}    &       0.0589  &        0.004     &    15.044  &         0.000        &        0.051    &        0.067     \\\\\n",
       "\\textbf{x4}    &       0.6128  &        0.103     &     5.931  &         0.000        &        0.410    &        0.815     \\\\\n",
       "\\textbf{x5}    &       0.2408  &        0.060     &     4.032  &         0.000        &        0.124    &        0.358     \\\\\n",
       "\\textbf{x6}    &       0.0010  &        0.001     &     1.301  &         0.193        &       -0.001    &        0.003     \\\\\n",
       "\\textbf{x7}    &      -1.0305  &        0.422     &    -2.443  &         0.015        &       -1.857    &       -0.204     \\\\\n",
       "\\textbf{x8}    &       3.6628  &        0.460     &     7.961  &         0.000        &        2.761    &        4.565     \\\\\n",
       "\\textbf{x9}    &      -0.6794  &        0.216     &    -3.140  &         0.002        &       -1.103    &       -0.255     \\\\\n",
       "\\textbf{x10}   &      -0.9609  &        0.274     &    -3.507  &         0.000        &       -1.498    &       -0.424     \\\\\n",
       "\\textbf{x11}   &       4.2075  &        0.364     &    11.573  &         0.000        &        3.495    &        4.920     \\\\\n",
       "\\textbf{x12}   &       4.3580  &        0.365     &    11.937  &         0.000        &        3.642    &        5.074     \\\\\n",
       "\\bottomrule\n",
       "\\end{tabular}\n",
       "%\\caption{Generalized Linear Model Regression Results}\n",
       "\\end{center}"
      ],
      "text/plain": [
       "<class 'statsmodels.iolib.summary.Summary'>\n",
       "\"\"\"\n",
       "                 Generalized Linear Model Regression Results                  \n",
       "==============================================================================\n",
       "Dep. Variable:                      y   No. Observations:                 3000\n",
       "Model:                            GLM   Df Residuals:                     2987\n",
       "Model Family:                Binomial   Df Model:                           12\n",
       "Link Function:                  Logit   Scale:                          1.0000\n",
       "Method:                          IRLS   Log-Likelihood:                -340.15\n",
       "Date:                Thu, 16 Nov 2023   Deviance:                       680.30\n",
       "Time:                        22:55:29   Pearson chi2:                 8.10e+03\n",
       "No. Iterations:                     8   Pseudo R-squ. (CS):             0.3325\n",
       "Covariance Type:            nonrobust                                         \n",
       "==============================================================================\n",
       "                 coef    std err          z      P>|z|      [0.025      0.975]\n",
       "------------------------------------------------------------------------------\n",
       "const        -12.5634      2.336     -5.377      0.000     -17.143      -7.984\n",
       "x1            -0.0354      0.086     -0.412      0.680      -0.204       0.133\n",
       "x2             0.0369      0.086      0.431      0.666      -0.131       0.205\n",
       "x3             0.0589      0.004     15.044      0.000       0.051       0.067\n",
       "x4             0.6128      0.103      5.931      0.000       0.410       0.815\n",
       "x5             0.2408      0.060      4.032      0.000       0.124       0.358\n",
       "x6             0.0010      0.001      1.301      0.193      -0.001       0.003\n",
       "x7            -1.0305      0.422     -2.443      0.015      -1.857      -0.204\n",
       "x8             3.6628      0.460      7.961      0.000       2.761       4.565\n",
       "x9            -0.6794      0.216     -3.140      0.002      -1.103      -0.255\n",
       "x10           -0.9609      0.274     -3.507      0.000      -1.498      -0.424\n",
       "x11            4.2075      0.364     11.573      0.000       3.495       4.920\n",
       "x12            4.3580      0.365     11.937      0.000       3.642       5.074\n",
       "==============================================================================\n",
       "\"\"\""
      ]
     },
     "execution_count": 149,
     "metadata": {},
     "output_type": "execute_result"
    }
   ],
   "source": [
    "#r = sm.GLM(np.asarray(y_train), np.asarray(X2_train), family=sm.families.Binomial())\n",
    "logit_reg_result = logit_reg_predictor.fit()\n",
    "logit_reg_result.summary()"
   ]
  },
  {
   "cell_type": "code",
   "execution_count": 150,
   "metadata": {},
   "outputs": [
    {
     "name": "stdout",
     "output_type": "stream",
     "text": [
      "Confusion Matrix (Accuracy 0.9600)\n",
      "\n",
      "       Prediction\n",
      "Actual    0    1\n",
      "     0 1791   16\n",
      "     1   64  129\n"
     ]
    }
   ],
   "source": [
    "predictions = logit_reg_result.predict(np.asarray(X2_valid,  dtype= float))\n",
    "predictions_nom = [0 if x <0.5 else 1 for x in predictions]\n",
    "classificationSummary(y_valid, predictions_nom)"
   ]
  },
  {
   "cell_type": "code",
   "execution_count": null,
   "metadata": {},
   "outputs": [],
   "source": []
  },
  {
   "cell_type": "code",
   "execution_count": 151,
   "metadata": {},
   "outputs": [
    {
     "data": {
      "image/png": "[encoded data removed]",
      "text/plain": [
       "<Figure size 1000x400 with 2 Axes>"
      ]
     },
     "metadata": {},
     "output_type": "display_data"
    }
   ],
   "source": [
    "#proba = logit_reg_predictor.predict_proba(X_valid)\n",
    "result = pd.DataFrame({'actual': y_valid, \n",
    "                       'p(0)': 1 - predictions,\n",
    "                       'p(1)': predictions,\n",
    "                       'predicted': predictions_nom})\n",
    "df = result.sort_values(by=['p(1)'], ascending=False)\n",
    "fig, axes = plt.subplots(nrows=1, ncols=2, figsize=(10, 4))\n",
    "gainsChart(df.actual, ax=axes[0])\n",
    "liftChart(df.actual, title=False)\n",
    "plt.title('Decile Lift Chart (Validation) logistic')\n",
    "plt.show()"
   ]
  },
  {
   "cell_type": "markdown",
   "metadata": {},
   "source": [
    "The decil and lift charts are similar to the logistic regression method but an examination of the confusion matrix shows us that the logistic regression is slighly better at predicting the acceptors. logistic regression gives us 129 acceptors correctly classified to discriminant analysises 112. \n",
    "\n",
    "With logistic regression the top 10 percent of records are 7.6 times as likely to produce an acceptor than the 7.2 times as likely we would get with a top 10 percent record in discriminant analysis"
   ]
  },
  {
   "cell_type": "markdown",
   "metadata": {},
   "source": [
    "## Problem 12.1.e\n",
    "The bank is planning to continue its campaign by sending its offer to 1000 additional customers. Suppose that the cost of sending the offer is \\\\$1 and the profit from an accepted offer is \\\\$50. What is the expected profitability of this campaign?\n"
   ]
  },
  {
   "cell_type": "code",
   "execution_count": 152,
   "metadata": {},
   "outputs": [
    {
     "data": {
      "text/plain": [
       "3800.0"
      ]
     },
     "execution_count": 152,
     "metadata": {},
     "output_type": "execute_result"
    }
   ],
   "source": [
    "#there are two ways this can be read. in the case of perfect analysis the max profit is as follows\n",
    "#profit per success * number of successes (based on initial problem statement of (9.6% success)) - cost of sending the offer\n",
    "(50*(1000*0.096))- 1000"
   ]
  },
  {
   "cell_type": "markdown",
   "metadata": {},
   "source": [
    "## Problem 12.1.f\n",
    "The cost of misclassifying a loan acceptor customer as a nonacceptor is much higher than the opposite misclassification cost. To minimize the expected cost of misclassification, should the cutoff value for classification (which is currently at 0.5) be increased or decreased?"
   ]
  },
  {
   "cell_type": "markdown",
   "metadata": {},
   "source": [
    "To combat the missclassifaction of nonacceptors in favor of comabting the missclassifaction of acceptors we should lower the cutoff value so that more values could be classified as acceptors. "
   ]
  },
  {
   "cell_type": "markdown",
   "metadata": {},
   "source": [
    "# Problem 12.3: Detecting Spam E-mail (from the UCI Machine Learning Repository)\n",
    "A team at Hewlett-Packard collected data on a large number of e-mail messages from their postmaster and personal e-mail for the purpose of finding a classifier that can separate e-mail messages that are _spam_ vs. _nonspam_ (a.k.a. 'ham'). The spam concept is diverse: It includes advertisements for products or websites, 'make money fast' schemes, chain letters, pornography, and so on. The definition used here is 'unsolicited commercial e-mail.' The file _Spambase.csv_ contains information on 4601 e-mail messages, among which 1813 are tagged 'spam.' The predictors include 57 attributes, most of them are the average number of times a certain word (e.g., mail, George) or symbol (e.g., \\#, !) appears in the e-mail. A few predictors are\n",
    "related to the number and length of capitalized words.\n",
    "\n",
    "## Problem 12.3.a\n",
    "To reduce the number of predictors to a manageable size, examine how each predictor differs between the _spam_ and _nonspam_ e-mails by comparing the spam-class average and nonspam-class average. Which are the 11 predictors that appear to vary the most between _spam_ and _nonspam_ e-mails? From these 11, which words or signs occur more often in spam?"
   ]
  },
  {
   "cell_type": "code",
   "execution_count": 153,
   "metadata": {},
   "outputs": [
    {
     "name": "stdout",
     "output_type": "stream",
     "text": [
      "   make  address   all  W_3d   our  over  remove  internet  order  mail  ...  \\\n",
      "0  0.00     0.64  0.64   0.0  0.32  0.00    0.00      0.00   0.00  0.00  ...   \n",
      "1  0.21     0.28  0.50   0.0  0.14  0.28    0.21      0.07   0.00  0.94  ...   \n",
      "2  0.06     0.00  0.71   0.0  1.23  0.19    0.19      0.12   0.64  0.25  ...   \n",
      "3  0.00     0.00  0.00   0.0  0.63  0.00    0.31      0.63   0.31  0.63  ...   \n",
      "\n",
      "     C;     C(   C[     C!     C$     C#  CAP_avg  CAP_long  CAP_tot  Spam  \n",
      "0  0.00  0.000  0.0  0.778  0.000  0.000    3.756        61      278     1  \n",
      "1  0.00  0.132  0.0  0.372  0.180  0.048    5.114       101     1028     1  \n",
      "2  0.01  0.143  0.0  0.276  0.184  0.010    9.821       485     2259     1  \n",
      "3  0.00  0.137  0.0  0.137  0.000  0.000    3.537        40      191     1  \n",
      "\n",
      "[4 rows x 58 columns]\n",
      "Index(['make', 'address', 'all', 'W_3d', 'our', 'over', 'remove', 'internet',\n",
      "       'order', 'mail', 'receive', 'will ', 'people', 'report', 'addresses',\n",
      "       'free', 'business', 'email', 'you ', 'credit', 'your', 'font', 'W_000',\n",
      "       'money', 'hp', 'hpl', 'george', 'W_650', 'lab', 'labs', 'telnet',\n",
      "       'W_857', 'data', 'W_415', 'W_85', 'technology', 'W_1999', 'parts', 'pm',\n",
      "       'direct', 'cs', 'meeting', 'original', 'project ', 're:', 'edu',\n",
      "       'table ', 'conference', 'C;', 'C(', 'C[', 'C!', 'C$', 'C#', 'CAP_avg',\n",
      "       'CAP_long', 'CAP_tot', 'Spam'],\n",
      "      dtype='object')\n",
      "make          float64\n",
      "address       float64\n",
      "all           float64\n",
      "W_3d          float64\n",
      "our           float64\n",
      "over          float64\n",
      "remove        float64\n",
      "internet      float64\n",
      "order         float64\n",
      "mail          float64\n",
      "receive       float64\n",
      "will          float64\n",
      "people        float64\n",
      "report        float64\n",
      "addresses     float64\n",
      "free          float64\n",
      "business      float64\n",
      "email         float64\n",
      "you           float64\n",
      "credit        float64\n",
      "your          float64\n",
      "font          float64\n",
      "W_000         float64\n",
      "money         float64\n",
      "hp            float64\n",
      "hpl           float64\n",
      "george        float64\n",
      "W_650         float64\n",
      "lab           float64\n",
      "labs          float64\n",
      "telnet        float64\n",
      "W_857         float64\n",
      "data          float64\n",
      "W_415         float64\n",
      "W_85          float64\n",
      "technology    float64\n",
      "W_1999        float64\n",
      "parts         float64\n",
      "pm            float64\n",
      "direct        float64\n",
      "cs            float64\n",
      "meeting       float64\n",
      "original      float64\n",
      "project       float64\n",
      "re:           float64\n",
      "edu           float64\n",
      "table         float64\n",
      "conference    float64\n",
      "C;            float64\n",
      "C(            float64\n",
      "C[            float64\n",
      "C!            float64\n",
      "C$            float64\n",
      "C#            float64\n",
      "CAP_avg       float64\n",
      "CAP_long        int64\n",
      "CAP_tot         int64\n",
      "Spam            int64\n",
      "dtype: object\n"
     ]
    }
   ],
   "source": [
    "spam_df = pd.read_csv(DATA / 'Spambase.csv')\n",
    "print(spam_df.head(4))\n",
    "print(spam_df.columns)\n",
    "print(spam_df.dtypes)"
   ]
  },
  {
   "cell_type": "code",
   "execution_count": 154,
   "metadata": {},
   "outputs": [],
   "source": [
    "spam_data = spam_df[spam_df['Spam'] == 1 ]\n",
    "not_spam_data = spam_df[spam_df['Spam'] == 0 ]"
   ]
  },
  {
   "cell_type": "code",
   "execution_count": 155,
   "metadata": {},
   "outputs": [
    {
     "data": {
      "text/plain": [
       "CAP_tot     309.148468\n",
       "CAP_long     86.178780\n",
       "CAP_avg       7.141864\n",
       "george        1.263716\n",
       "Spam          1.000000\n",
       "you           0.994199\n",
       "your          0.941668\n",
       "hp            0.877994\n",
       "free          0.444775\n",
       "hpl           0.422822\n",
       "C!            0.403729\n",
       "our           0.332915\n",
       "dtype: float64"
      ]
     },
     "execution_count": 155,
     "metadata": {},
     "output_type": "execute_result"
    }
   ],
   "source": [
    "differ = spam_data.mean() - not_spam_data.mean()\n",
    "differ.abs().sort_values(ascending=False).head(12)"
   ]
  },
  {
   "cell_type": "markdown",
   "metadata": {},
   "source": [
    "Based on this list the predictors that differ the most between the spam and non-spam is [CAP_tot, CAP_long, CAP_avg, george, you, your, hp, free, hpl, C!, our]"
   ]
  },
  {
   "cell_type": "code",
   "execution_count": 156,
   "metadata": {},
   "outputs": [
    {
     "data": {
      "text/plain": [
       "CAP_tot      309.148468\n",
       "CAP_long      86.178780\n",
       "CAP_avg        7.141864\n",
       "Spam           1.000000\n",
       "you            0.994199\n",
       "your           0.941668\n",
       "free           0.444775\n",
       "C!             0.403729\n",
       "our            0.332915\n",
       "remove         0.266022\n",
       "W_000          0.239967\n",
       "business       0.239160\n",
       "email          0.221936\n",
       "all            0.203214\n",
       "credit         0.197942\n",
       "money          0.195741\n",
       "font           0.192810\n",
       "mail           0.183337\n",
       "internet       0.169727\n",
       "W_3d           0.163786\n",
       "C$             0.162830\n",
       "order          0.132012\n",
       "over           0.130331\n",
       "addresses      0.103762\n",
       "receive        0.096723\n",
       "people         0.081882\n",
       "make           0.078859\n",
       "C#             0.057164\n",
       "report         0.041171\n",
       "will           0.013649\n",
       "dtype: float64"
      ]
     },
     "execution_count": 156,
     "metadata": {},
     "output_type": "execute_result"
    }
   ],
   "source": [
    "differ.sort_values(ascending=False).head(30)"
   ]
  },
  {
   "cell_type": "markdown",
   "metadata": {},
   "source": [
    "Comparing this list of the differnce in spam to the above one about the absolute value difference in spam. The following appear more in spam ['our', 'C!', 'free', 'your', 'you', 'CAP_avg', 'CAP_long', 'CAP_tot']"
   ]
  },
  {
   "cell_type": "code",
   "execution_count": null,
   "metadata": {},
   "outputs": [],
   "source": []
  },
  {
   "cell_type": "code",
   "execution_count": 157,
   "metadata": {},
   "outputs": [],
   "source": [
    "spam_prior = 1813/(4601)\n",
    "non_spam_prior = 1- spam_prior"
   ]
  },
  {
   "cell_type": "markdown",
   "metadata": {},
   "source": [
    "## Problem 12.3.b\n",
    "Partition the data into training and validation sets, then perform a discriminant analysis on the training data using only the 11 predictors."
   ]
  },
  {
   "cell_type": "code",
   "execution_count": 158,
   "metadata": {},
   "outputs": [],
   "source": [
    "predictors = ['our', 'C!','hpl', 'free', 'hp', 'your', 'you ', 'george', 'CAP_avg', 'CAP_long', 'CAP_tot'] \n",
    "outcome = 'Spam'\n",
    "#subset = predictors.append(outcome)\n",
    "X = spam_df[predictors]\n",
    "y = spam_df[outcome]\n"
   ]
  },
  {
   "cell_type": "code",
   "execution_count": 159,
   "metadata": {},
   "outputs": [
    {
     "name": "stdout",
     "output_type": "stream",
     "text": [
      "(2760, 11)\n",
      "(1841, 11)\n"
     ]
    }
   ],
   "source": [
    "X_train,X_valid, y_train, y_valid = train_test_split(X, y, train_size=0.6, random_state=1)\n",
    "print(X_train.shape)\n",
    "print(X_valid.shape)"
   ]
  },
  {
   "cell_type": "code",
   "execution_count": 160,
   "metadata": {},
   "outputs": [
    {
     "data": {
      "text/plain": [
       "['our',\n",
       " 'C!',\n",
       " 'hpl',\n",
       " 'free',\n",
       " 'hp',\n",
       " 'your',\n",
       " 'you ',\n",
       " 'george',\n",
       " 'CAP_avg',\n",
       " 'CAP_long',\n",
       " 'CAP_tot']"
      ]
     },
     "execution_count": 160,
     "metadata": {},
     "output_type": "execute_result"
    }
   ],
   "source": [
    "predictors"
   ]
  },
  {
   "cell_type": "code",
   "execution_count": 161,
   "metadata": {},
   "outputs": [
    {
     "data": {
      "text/html": [
       "<style>#sk-container-id-3 {color: black;}#sk-container-id-3 pre{padding: 0;}#sk-container-id-3 div.sk-toggleable {background-color: white;}#sk-container-id-3 label.sk-toggleable__label {cursor: pointer;display: block;width: 100%;margin-bottom: 0;padding: 0.3em;box-sizing: border-box;text-align: center;}#sk-container-id-3 label.sk-toggleable__label-arrow:before {content: \"▸\";float: left;margin-right: 0.25em;color: #696969;}#sk-container-id-3 label.sk-toggleable__label-arrow:hover:before {color: black;}#sk-container-id-3 div.sk-estimator:hover label.sk-toggleable__label-arrow:before {color: black;}#sk-container-id-3 div.sk-toggleable__content {max-height: 0;max-width: 0;overflow: hidden;text-align: left;background-color: #f0f8ff;}#sk-container-id-3 div.sk-toggleable__content pre {margin: 0.2em;color: black;border-radius: 0.25em;background-color: #f0f8ff;}#sk-container-id-3 input.sk-toggleable__control:checked~div.sk-toggleable__content {max-height: 200px;max-width: 100%;overflow: auto;}#sk-container-id-3 input.sk-toggleable__control:checked~label.sk-toggleable__label-arrow:before {content: \"▾\";}#sk-container-id-3 div.sk-estimator input.sk-toggleable__control:checked~label.sk-toggleable__label {background-color: #d4ebff;}#sk-container-id-3 div.sk-label input.sk-toggleable__control:checked~label.sk-toggleable__label {background-color: #d4ebff;}#sk-container-id-3 input.sk-hidden--visually {border: 0;clip: rect(1px 1px 1px 1px);clip: rect(1px, 1px, 1px, 1px);height: 1px;margin: -1px;overflow: hidden;padding: 0;position: absolute;width: 1px;}#sk-container-id-3 div.sk-estimator {font-family: monospace;background-color: #f0f8ff;border: 1px dotted black;border-radius: 0.25em;box-sizing: border-box;margin-bottom: 0.5em;}#sk-container-id-3 div.sk-estimator:hover {background-color: #d4ebff;}#sk-container-id-3 div.sk-parallel-item::after {content: \"\";width: 100%;border-bottom: 1px solid gray;flex-grow: 1;}#sk-container-id-3 div.sk-label:hover label.sk-toggleable__label {background-color: #d4ebff;}#sk-container-id-3 div.sk-serial::before {content: \"\";position: absolute;border-left: 1px solid gray;box-sizing: border-box;top: 0;bottom: 0;left: 50%;z-index: 0;}#sk-container-id-3 div.sk-serial {display: flex;flex-direction: column;align-items: center;background-color: white;padding-right: 0.2em;padding-left: 0.2em;position: relative;}#sk-container-id-3 div.sk-item {position: relative;z-index: 1;}#sk-container-id-3 div.sk-parallel {display: flex;align-items: stretch;justify-content: center;background-color: white;position: relative;}#sk-container-id-3 div.sk-item::before, #sk-container-id-3 div.sk-parallel-item::before {content: \"\";position: absolute;border-left: 1px solid gray;box-sizing: border-box;top: 0;bottom: 0;left: 50%;z-index: -1;}#sk-container-id-3 div.sk-parallel-item {display: flex;flex-direction: column;z-index: 1;position: relative;background-color: white;}#sk-container-id-3 div.sk-parallel-item:first-child::after {align-self: flex-end;width: 50%;}#sk-container-id-3 div.sk-parallel-item:last-child::after {align-self: flex-start;width: 50%;}#sk-container-id-3 div.sk-parallel-item:only-child::after {width: 0;}#sk-container-id-3 div.sk-dashed-wrapped {border: 1px dashed gray;margin: 0 0.4em 0.5em 0.4em;box-sizing: border-box;padding-bottom: 0.4em;background-color: white;}#sk-container-id-3 div.sk-label label {font-family: monospace;font-weight: bold;display: inline-block;line-height: 1.2em;}#sk-container-id-3 div.sk-label-container {text-align: center;}#sk-container-id-3 div.sk-container {/* jupyter's `normalize.less` sets `[hidden] { display: none; }` but bootstrap.min.css set `[hidden] { display: none !important; }` so we also need the `!important` here to be able to override the default hidden behavior on the sphinx rendered scikit-learn.org. See: https://github.com/scikit-learn/scikit-learn/issues/21755 */display: inline-block !important;position: relative;}#sk-container-id-3 div.sk-text-repr-fallback {display: none;}</style><div id=\"sk-container-id-3\" class=\"sk-top-container\"><div class=\"sk-text-repr-fallback\"><pre>LinearDiscriminantAnalysis()</pre><b>In a Jupyter environment, please rerun this cell to show the HTML representation or trust the notebook. <br />On GitHub, the HTML representation is unable to render, please try loading this page with nbviewer.org.</b></div><div class=\"sk-container\" hidden><div class=\"sk-item\"><div class=\"sk-estimator sk-toggleable\"><input class=\"sk-toggleable__control sk-hidden--visually\" id=\"sk-estimator-id-3\" type=\"checkbox\" checked><label for=\"sk-estimator-id-3\" class=\"sk-toggleable__label sk-toggleable__label-arrow\">LinearDiscriminantAnalysis</label><div class=\"sk-toggleable__content\"><pre>LinearDiscriminantAnalysis()</pre></div></div></div></div></div>"
      ],
      "text/plain": [
       "LinearDiscriminantAnalysis()"
      ]
     },
     "execution_count": 161,
     "metadata": {},
     "output_type": "execute_result"
    }
   ],
   "source": [
    "spam_lin = LinearDiscriminantAnalysis()\n",
    "spam_lin.fit(X_train, y_train)\n"
   ]
  },
  {
   "cell_type": "code",
   "execution_count": 162,
   "metadata": {},
   "outputs": [
    {
     "data": {
      "text/plain": [
       "array([[ 6.75883468e-01,  4.39462081e-01, -3.16915182e-01,\n",
       "         6.50457481e-01, -1.85640249e-01,  5.81145106e-01,\n",
       "         1.86853238e-01, -9.43539189e-02,  4.22902842e-03,\n",
       "         4.17051777e-04,  1.01505623e-03]])"
      ]
     },
     "execution_count": 162,
     "metadata": {},
     "output_type": "execute_result"
    }
   ],
   "source": [
    "spam_lin.coef_"
   ]
  },
  {
   "cell_type": "code",
   "execution_count": 163,
   "metadata": {},
   "outputs": [
    {
     "data": {
      "text/plain": [
       "array([-2.07053468])"
      ]
     },
     "execution_count": 163,
     "metadata": {},
     "output_type": "execute_result"
    }
   ],
   "source": [
    "spam_lin.intercept_"
   ]
  },
  {
   "cell_type": "code",
   "execution_count": 164,
   "metadata": {},
   "outputs": [
    {
     "name": "stdout",
     "output_type": "stream",
     "text": [
      "              Spam\n",
      "constant -2.070535\n",
      "our       0.675883\n",
      "C!        0.439462\n",
      "hpl      -0.316915\n",
      "free      0.650457\n",
      "hp       -0.185640\n",
      "your      0.581145\n",
      "you       0.186853\n",
      "george   -0.094354\n",
      "CAP_avg   0.004229\n",
      "CAP_long  0.000417\n",
      "CAP_tot   0.001015\n",
      "\n",
      "Confusion Matrix (Accuracy 0.8332)\n",
      "\n",
      "       Prediction\n",
      "Actual    0    1\n",
      "     0 1030   68\n",
      "     1  239  504\n"
     ]
    },
    {
     "data": {
      "text/plain": [
       "Spam\n",
       "0    2788\n",
       "1    1813\n",
       "Name: count, dtype: int64"
      ]
     },
     "execution_count": 164,
     "metadata": {},
     "output_type": "execute_result"
    }
   ],
   "source": [
    "fct = pd.DataFrame([spam_lin.intercept_], columns=['Spam'], index=['constant'])\n",
    "fct = pd.concat([fct,pd.DataFrame(spam_lin.coef_.transpose(), columns=['Spam'], \n",
    "                              index=list(predictors))])\n",
    "print(fct)\n",
    "print()\n",
    "classificationSummary(y_valid, \n",
    "                      spam_lin.predict(X_valid),\n",
    "                      class_names=spam_lin.classes_)\n",
    "spam_df[outcome].value_counts()"
   ]
  },
  {
   "cell_type": "markdown",
   "metadata": {},
   "source": [
    "## Problem 12.3.c\n",
    "If we are interested mainly in detecting spam messages, is this model useful? Use the confusion matrix, lift chart, and decile chart for the validation set for the evaluation."
   ]
  },
  {
   "cell_type": "code",
   "execution_count": 165,
   "metadata": {},
   "outputs": [
    {
     "name": "stdout",
     "output_type": "stream",
     "text": [
      "Confusion Matrix (Accuracy 0.8332)\n",
      "\n",
      "       Prediction\n",
      "Actual    0    1\n",
      "     0 1030   68\n",
      "     1  239  504\n"
     ]
    }
   ],
   "source": [
    "classificationSummary(y_valid, \n",
    "                      spam_lin.predict(X_valid),\n",
    "                      class_names=spam_lin.classes_)\n"
   ]
  },
  {
   "cell_type": "code",
   "execution_count": 166,
   "metadata": {},
   "outputs": [
    {
     "data": {
      "text/plain": [
       "0.32166890982503366"
      ]
     },
     "execution_count": 166,
     "metadata": {},
     "output_type": "execute_result"
    }
   ],
   "source": [
    "#error rate: spam  \n",
    "(239)/(504+239)"
   ]
  },
  {
   "cell_type": "markdown",
   "metadata": {},
   "source": [
    "This model has a high error rate for detecting spam"
   ]
  },
  {
   "cell_type": "code",
   "execution_count": 167,
   "metadata": {},
   "outputs": [
    {
     "data": {
      "image/png": "[encoded data removed]",
      "text/plain": [
       "<Figure size 1000x400 with 2 Axes>"
      ]
     },
     "metadata": {},
     "output_type": "display_data"
    }
   ],
   "source": [
    "proba = spam_lin.predict_proba(X_valid)\n",
    "result = pd.DataFrame({'actual': y_valid, \n",
    "                       'p(0)': [p[0] for p in proba],\n",
    "                       'p(1)': [p[1] for p in proba],\n",
    "                       'predicted': spam_lin.predict(X_valid) })\n",
    "df = result.sort_values(by=['p(1)'], ascending=False)\n",
    "fig, axes = plt.subplots(nrows=1, ncols=2, figsize=(10, 4))\n",
    "gainsChart(df.actual, ax=axes[0])\n",
    "liftChart(df.actual, title=False)\n",
    "plt.title('Decile Lift Chart (Validation)')\n",
    "plt.show()"
   ]
  },
  {
   "cell_type": "markdown",
   "metadata": {},
   "source": [
    "The top 10 percent of records are 2.3 times more likley to detect spam than a random guess"
   ]
  },
  {
   "cell_type": "markdown",
   "metadata": {},
   "source": [
    "## Problem 12.3.d\n",
    "In the sample, almost 40\\% of the e-mail messages were tagged as spam. However, suppose that the actual proportion of spam messages in these e-mail accounts is 10\\%. Compute the intercept of the classification (discriminant) function to account for this information."
   ]
  },
  {
   "cell_type": "code",
   "execution_count": 168,
   "metadata": {},
   "outputs": [
    {
     "name": "stdout",
     "output_type": "stream",
     "text": [
      "The intercept is : [-2.07053468]\n",
      "The priors of teh sample are : [0.61231884 0.38768116]\n"
     ]
    }
   ],
   "source": [
    "print(f'The intercept is : {spam_lin.intercept_}')\n",
    "print(f'The priors of teh sample are : {spam_lin.priors_}')"
   ]
  },
  {
   "cell_type": "code",
   "execution_count": 169,
   "metadata": {},
   "outputs": [],
   "source": [
    "# to get new intecept and priors, get log diff in priors and add them back in as so\n",
    "log_priors = np.log(spam_lin.priors_)\n",
    "log_priors_10 = np.log([0.9, 0.1])\n",
    "diff_log_prior = log_priors[1]- log_priors[0]\n",
    "diff_log_prior_10 = log_priors_10[1]- log_priors_10[0]"
   ]
  },
  {
   "cell_type": "code",
   "execution_count": 170,
   "metadata": {},
   "outputs": [
    {
     "name": "stdout",
     "output_type": "stream",
     "text": [
      "Log prior diff for old distribution: -0.45706988046116737\n",
      "Log prior diff for new distribution: -2.197224577336219\n"
     ]
    }
   ],
   "source": [
    "print(f'Log prior diff for old distribution: {diff_log_prior}')\n",
    "print(f'Log prior diff for new distribution: {diff_log_prior_10}')"
   ]
  },
  {
   "cell_type": "code",
   "execution_count": 171,
   "metadata": {},
   "outputs": [
    {
     "name": "stdout",
     "output_type": "stream",
     "text": [
      "Adjusted interecept for new prior: [-3.81068937]\n"
     ]
    }
   ],
   "source": [
    "adjusted_intercept = spam_lin.intercept_ - diff_log_prior + diff_log_prior_10\n",
    "print(f'Adjusted interecept for new prior: {adjusted_intercept}')"
   ]
  },
  {
   "cell_type": "code",
   "execution_count": 173,
   "metadata": {},
   "outputs": [
    {
     "data": {
      "text/plain": [
       "array([-3.81068937])"
      ]
     },
     "execution_count": 173,
     "metadata": {},
     "output_type": "execute_result"
    }
   ],
   "source": [
    "spam_linw = LinearDiscriminantAnalysis(priors=[0.9, 0.1])\n",
    "spam_linw.fit(X_train, y_train)\n",
    "spam_linw.intercept_"
   ]
  },
  {
   "cell_type": "code",
   "execution_count": 174,
   "metadata": {},
   "outputs": [
    {
     "name": "stdout",
     "output_type": "stream",
     "text": [
      "Confusion Matrix (Accuracy 0.6594)\n",
      "\n",
      "       Prediction\n",
      "Actual    0    1\n",
      "     0 1086   12\n",
      "     1  615  128\n"
     ]
    }
   ],
   "source": [
    "classificationSummary(y_valid, spam_linw.predict(X_valid))"
   ]
  },
  {
   "cell_type": "markdown",
   "metadata": {},
   "source": [
    "## Problem 12.3.e\n",
    "A spam filter that is based on your model is used, so that only messages that are classified as _nonspam_ are delivered, while messages that are classified as _spam_ are quarantined. In this case, misclassifying a nonspam e-mail (as spam) has much heftier results. Suppose that the cost of quarantining a nonspam e-mail is 20 times\n",
    "that of not detecting a spam message. Compute the intercept of the classification (discriminant) function to account for these costs (<b>assume that the proportion of spam is reflected correctly by the sample proportion</b>)."
   ]
  },
  {
   "cell_type": "code",
   "execution_count": 175,
   "metadata": {},
   "outputs": [],
   "source": [
    "log_priors = np.log(spam_lin.priors_)\n",
    "diff_log_prior = log_priors[1]- log_priors[0]\n",
    "adjusted_intercept = spam_lin.intercept_ + np.log(1/20)"
   ]
  },
  {
   "cell_type": "code",
   "execution_count": 176,
   "metadata": {},
   "outputs": [
    {
     "name": "stdout",
     "output_type": "stream",
     "text": [
      "Log prior diff for old distribution: -0.45706988046116737\n",
      "Intercept Prior to adjust : [-2.07053468]\n",
      "Intercept Post to adjust : [-5.06626695]\n"
     ]
    }
   ],
   "source": [
    "print(f'Log prior diff for old distribution: {diff_log_prior}')\n",
    "print(f'Intercept Prior to adjust : {spam_lin.intercept_}')\n",
    "print(f'Intercept Post to adjust : {adjusted_intercept}')"
   ]
  },
  {
   "cell_type": "markdown",
   "metadata": {},
   "source": [
    "## Problem 12.3.f\n",
    "Use the LinearDiscriminantAnalysis implementation in sklearn to adjust the priors to take the misclassification costs in 12.3.e into account. Does adjusting the priors to take the misclassification costs into account lead to a model which predicts fewer <i>nonspam</i> messages as <i>spam</i>? Report the numerical result."
   ]
  },
  {
   "cell_type": "code",
   "execution_count": 177,
   "metadata": {},
   "outputs": [],
   "source": [
    "non_spam_prior = spam_lin.priors_[0]\n",
    "spam_prior = spam_lin.priors_[1]\n",
    "non_spam_prior_new = (non_spam_prior * 20)/((non_spam_prior * 20)+ (spam_prior*1))\n",
    "spam_prior_new = (spam_prior*1)/((non_spam_prior * 20)+ (spam_prior*1))"
   ]
  },
  {
   "cell_type": "code",
   "execution_count": 179,
   "metadata": {},
   "outputs": [
    {
     "data": {
      "text/plain": [
       "0.9693145970748495"
      ]
     },
     "execution_count": 179,
     "metadata": {},
     "output_type": "execute_result"
    }
   ],
   "source": [
    "non_spam_prior_new"
   ]
  },
  {
   "cell_type": "code",
   "execution_count": 178,
   "metadata": {},
   "outputs": [
    {
     "data": {
      "text/plain": [
       "0.03068540292515056"
      ]
     },
     "execution_count": 178,
     "metadata": {},
     "output_type": "execute_result"
    }
   ],
   "source": [
    "spam_prior_new"
   ]
  },
  {
   "cell_type": "code",
   "execution_count": 181,
   "metadata": {},
   "outputs": [
    {
     "name": "stdout",
     "output_type": "stream",
     "text": [
      "Confusion Matrix (Accuracy 0.6122)\n",
      "\n",
      "       Prediction\n",
      "Actual    0    1\n",
      "     0 1092    6\n",
      "     1  708   35\n"
     ]
    }
   ],
   "source": [
    "spam_lin = LinearDiscriminantAnalysis(priors=[non_spam_prior_new, spam_prior_new])\n",
    "spam_lin.fit(X_train, y_train)\n",
    "classificationSummary(y_valid, \n",
    "                      spam_lin.predict(X_valid),\n",
    "                      class_names=spam_lin.classes_)"
   ]
  },
  {
   "cell_type": "markdown",
   "metadata": {},
   "source": [
    "It does lead to less non_spam messages being marked as spam. with the number of non_spam emails missclassified as spam going down from 68 to 6"
   ]
  }
 ],
 "metadata": {
  "kernelspec": {
   "display_name": "Python 3",
   "language": "python",
   "name": "python3"
  },
  "language_info": {
   "codemirror_mode": {
    "name": "ipython",
    "version": 3
   },
   "file_extension": ".py",
   "mimetype": "text/x-python",
   "name": "python",
   "nbconvert_exporter": "python",
   "pygments_lexer": "ipython3",
   "version": "3.12.0"
  }
 },
 "nbformat": 4,
 "nbformat_minor": 4
}
