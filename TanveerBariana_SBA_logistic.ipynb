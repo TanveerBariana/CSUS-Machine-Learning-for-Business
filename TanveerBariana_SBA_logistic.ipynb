{
 "cells": [
  {
   "cell_type": "code",
   "execution_count": 41,
   "id": "30797c6a",
   "metadata": {},
   "outputs": [],
   "source": [
    "%matplotlib inline\n",
    "\n",
    "from pathlib import Path\n",
    "\n",
    "import pandas as pd\n",
    "from sklearn.model_selection import train_test_split\n",
    "from sklearn.naive_bayes import MultinomialNB\n",
    "from sklearn import preprocessing\n",
    "from sklearn.metrics import accuracy_score, confusion_matrix, mean_squared_error\n",
    "import matplotlib.pylab as plt\n",
    "import statsmodels.api as sm\n",
    "import statsmodels.formula.api as smf\n",
    "from mord import LogisticIT\n",
    "from sklearn.neighbors import NearestNeighbors, KNeighborsClassifier, KNeighborsRegressor\n",
    "from dmba import regressionSummary, classificationSummary, liftChart, gainsChart\n",
    "import numpy as np\n",
    "import seaborn as sns\n",
    "DATA = Path('C:\\\\Users\\\\tanve\\\\Documents\\\\206\\\\dmba\\\\')"
   ]
  },
  {
   "cell_type": "code",
   "execution_count": 42,
   "id": "464088ce",
   "metadata": {},
   "outputs": [],
   "source": [
    "sba_df = pd.read_csv(DATA / 'SBAcase.11.13.17.csv')\n",
    "Subset = [\n",
    "       'DisbursementGross','New', 'RealEstate', 'Portion', 'Recession', 'Default'\n",
    "       ]\n",
    "outcome = 'Default'"
   ]
  },
  {
   "cell_type": "markdown",
   "id": "59280525",
   "metadata": {},
   "source": [
    "#### The variable “Selected” indicates which observations are the “training” data and which are the “testing” data (1 = training data to be used to build the model, 0 = testing data to validate the model). Partition the data using this variable."
   ]
  },
  {
   "cell_type": "code",
   "execution_count": 43,
   "id": "10b1f6df",
   "metadata": {},
   "outputs": [],
   "source": [
    "train_df = sba_df[sba_df[\"Selected\"]== 1]\n",
    "valid_df = sba_df[sba_df[\"Selected\"]== 0]\n",
    "train_df = train_df[Subset]\n",
    "valid_df = valid_df[Subset]\n"
   ]
  },
  {
   "cell_type": "markdown",
   "id": "5ffb93ff",
   "metadata": {},
   "source": [
    "###### using the subsets from the initial sba work to reduce redundency "
   ]
  },
  {
   "cell_type": "markdown",
   "id": "6475e892",
   "metadata": {},
   "source": [
    "#### (a) Build a logistic regression model using STATMODELS sm.glm or smf.glm in Python to reproduce results (not format) in Tables 7(a), 8, 9 of this article using the SBA case data SBAcase.11.13.17.csv."
   ]
  },
  {
   "cell_type": "code",
   "execution_count": 44,
   "id": "723da203",
   "metadata": {},
   "outputs": [],
   "source": [
    "train_sba_df2 = sm.add_constant(train_df, prepend=True)\n",
    "train_sba_df2.columns = [s.strip().replace('/', '_') for s in train_sba_df2.columns]\n",
    "valid_sba_df2 = sm.add_constant(valid_df, prepend=True)\n",
    "valid_sba_df2.columns = [s.strip().replace('/', '_') for s in valid_sba_df2.columns]"
   ]
  },
  {
   "cell_type": "code",
   "execution_count": 45,
   "id": "1cfec3e0",
   "metadata": {},
   "outputs": [],
   "source": [
    "#for pred in Subset:\n",
    "#    train_sba_df2[pred] = train_sba_df2[pred].astype('category')\n",
    "#train_sba_df2.Default = train_sba_df2['Default'].astype('category')\n",
    "# Results using the entire data for comparison with sklearn or R\n",
    "train_y2 = train_sba_df2[outcome]\n",
    "#train_X2 =  pd.get_dummies(train_sba_df2.drop(columns=outcome),prefix_sep='_', drop_first=False)\n",
    "train_X2 = train_sba_df2.drop(columns=outcome)\n",
    "valid_y2 = valid_sba_df2[outcome]\n",
    "valid_X2 = valid_sba_df2.drop(columns=outcome)"
   ]
  },
  {
   "cell_type": "code",
   "execution_count": 46,
   "id": "f3f748ac",
   "metadata": {},
   "outputs": [
    {
     "data": {
      "text/html": [
       "<table class=\"simpletable\">\n",
       "<caption>Generalized Linear Model Regression Results</caption>\n",
       "<tr>\n",
       "  <th>Dep. Variable:</th>        <td>Default</td>     <th>  No. Observations:  </th>  <td>  1051</td> \n",
       "</tr>\n",
       "<tr>\n",
       "  <th>Model:</th>                  <td>GLM</td>       <th>  Df Residuals:      </th>  <td>  1045</td> \n",
       "</tr>\n",
       "<tr>\n",
       "  <th>Model Family:</th>        <td>Binomial</td>     <th>  Df Model:          </th>  <td>     5</td> \n",
       "</tr>\n",
       "<tr>\n",
       "  <th>Link Function:</th>         <td>Logit</td>      <th>  Scale:             </th> <td>  1.0000</td>\n",
       "</tr>\n",
       "<tr>\n",
       "  <th>Method:</th>                <td>IRLS</td>       <th>  Log-Likelihood:    </th> <td> -540.85</td>\n",
       "</tr>\n",
       "<tr>\n",
       "  <th>Date:</th>            <td>Mon, 25 Sep 2023</td> <th>  Deviance:          </th> <td>  1081.7</td>\n",
       "</tr>\n",
       "<tr>\n",
       "  <th>Time:</th>                <td>16:06:01</td>     <th>  Pearson chi2:      </th> <td>1.00e+03</td>\n",
       "</tr>\n",
       "<tr>\n",
       "  <th>No. Iterations:</th>          <td>6</td>        <th>  Pseudo R-squ. (CS):</th>  <td>0.1949</td> \n",
       "</tr>\n",
       "<tr>\n",
       "  <th>Covariance Type:</th>     <td>nonrobust</td>    <th>                     </th>     <td> </td>   \n",
       "</tr>\n",
       "</table>\n",
       "<table class=\"simpletable\">\n",
       "<tr>\n",
       "          <td></td>             <th>coef</th>     <th>std err</th>      <th>z</th>      <th>P>|z|</th>  <th>[0.025</th>    <th>0.975]</th>  \n",
       "</tr>\n",
       "<tr>\n",
       "  <th>const</th>             <td>    1.3537</td> <td>    0.323</td> <td>    4.192</td> <td> 0.000</td> <td>    0.721</td> <td>    1.987</td>\n",
       "</tr>\n",
       "<tr>\n",
       "  <th>DisbursementGross</th> <td>-3.371e-07</td> <td> 3.52e-07</td> <td>   -0.958</td> <td> 0.338</td> <td>-1.03e-06</td> <td> 3.53e-07</td>\n",
       "</tr>\n",
       "<tr>\n",
       "  <th>New</th>               <td>   -0.0772</td> <td>    0.210</td> <td>   -0.367</td> <td> 0.713</td> <td>   -0.489</td> <td>    0.335</td>\n",
       "</tr>\n",
       "<tr>\n",
       "  <th>RealEstate</th>        <td>   -2.0331</td> <td>    0.364</td> <td>   -5.592</td> <td> 0.000</td> <td>   -2.746</td> <td>   -1.320</td>\n",
       "</tr>\n",
       "<tr>\n",
       "  <th>Portion</th>           <td>   -2.8298</td> <td>    0.559</td> <td>   -5.059</td> <td> 0.000</td> <td>   -3.926</td> <td>   -1.733</td>\n",
       "</tr>\n",
       "<tr>\n",
       "  <th>Recession</th>         <td>    0.4971</td> <td>    0.241</td> <td>    2.060</td> <td> 0.039</td> <td>    0.024</td> <td>    0.970</td>\n",
       "</tr>\n",
       "</table>"
      ],
      "text/latex": [
       "\\begin{center}\n",
       "\\begin{tabular}{lclc}\n",
       "\\toprule\n",
       "\\textbf{Dep. Variable:}    &     Default      & \\textbf{  No. Observations:  } &     1051    \\\\\n",
       "\\textbf{Model:}            &       GLM        & \\textbf{  Df Residuals:      } &     1045    \\\\\n",
       "\\textbf{Model Family:}     &     Binomial     & \\textbf{  Df Model:          } &        5    \\\\\n",
       "\\textbf{Link Function:}    &      Logit       & \\textbf{  Scale:             } &    1.0000   \\\\\n",
       "\\textbf{Method:}           &       IRLS       & \\textbf{  Log-Likelihood:    } &   -540.85   \\\\\n",
       "\\textbf{Date:}             & Mon, 25 Sep 2023 & \\textbf{  Deviance:          } &    1081.7   \\\\\n",
       "\\textbf{Time:}             &     16:06:01     & \\textbf{  Pearson chi2:      } &  1.00e+03   \\\\\n",
       "\\textbf{No. Iterations:}   &        6         & \\textbf{  Pseudo R-squ. (CS):} &   0.1949    \\\\\n",
       "\\textbf{Covariance Type:}  &    nonrobust     & \\textbf{                     } &             \\\\\n",
       "\\bottomrule\n",
       "\\end{tabular}\n",
       "\\begin{tabular}{lcccccc}\n",
       "                           & \\textbf{coef} & \\textbf{std err} & \\textbf{z} & \\textbf{P$> |$z$|$} & \\textbf{[0.025} & \\textbf{0.975]}  \\\\\n",
       "\\midrule\n",
       "\\textbf{const}             &       1.3537  &        0.323     &     4.192  &         0.000        &        0.721    &        1.987     \\\\\n",
       "\\textbf{DisbursementGross} &   -3.371e-07  &     3.52e-07     &    -0.958  &         0.338        &    -1.03e-06    &     3.53e-07     \\\\\n",
       "\\textbf{New}               &      -0.0772  &        0.210     &    -0.367  &         0.713        &       -0.489    &        0.335     \\\\\n",
       "\\textbf{RealEstate}        &      -2.0331  &        0.364     &    -5.592  &         0.000        &       -2.746    &       -1.320     \\\\\n",
       "\\textbf{Portion}           &      -2.8298  &        0.559     &    -5.059  &         0.000        &       -3.926    &       -1.733     \\\\\n",
       "\\textbf{Recession}         &       0.4971  &        0.241     &     2.060  &         0.039        &        0.024    &        0.970     \\\\\n",
       "\\bottomrule\n",
       "\\end{tabular}\n",
       "%\\caption{Generalized Linear Model Regression Results}\n",
       "\\end{center}"
      ],
      "text/plain": [
       "<class 'statsmodels.iolib.summary.Summary'>\n",
       "\"\"\"\n",
       "                 Generalized Linear Model Regression Results                  \n",
       "==============================================================================\n",
       "Dep. Variable:                Default   No. Observations:                 1051\n",
       "Model:                            GLM   Df Residuals:                     1045\n",
       "Model Family:                Binomial   Df Model:                            5\n",
       "Link Function:                  Logit   Scale:                          1.0000\n",
       "Method:                          IRLS   Log-Likelihood:                -540.85\n",
       "Date:                Mon, 25 Sep 2023   Deviance:                       1081.7\n",
       "Time:                        16:06:01   Pearson chi2:                 1.00e+03\n",
       "No. Iterations:                     6   Pseudo R-squ. (CS):             0.1949\n",
       "Covariance Type:            nonrobust                                         \n",
       "=====================================================================================\n",
       "                        coef    std err          z      P>|z|      [0.025      0.975]\n",
       "-------------------------------------------------------------------------------------\n",
       "const                 1.3537      0.323      4.192      0.000       0.721       1.987\n",
       "DisbursementGross -3.371e-07   3.52e-07     -0.958      0.338   -1.03e-06    3.53e-07\n",
       "New                  -0.0772      0.210     -0.367      0.713      -0.489       0.335\n",
       "RealEstate           -2.0331      0.364     -5.592      0.000      -2.746      -1.320\n",
       "Portion              -2.8298      0.559     -5.059      0.000      -3.926      -1.733\n",
       "Recession             0.4971      0.241      2.060      0.039       0.024       0.970\n",
       "=====================================================================================\n",
       "\"\"\""
      ]
     },
     "execution_count": 46,
     "metadata": {},
     "output_type": "execute_result"
    }
   ],
   "source": [
    "logit_reg2 = sm.GLM(train_y2, train_X2, family=sm.families.Binomial())\n",
    "logit_result2 = logit_reg2.fit()\n",
    "logit_result2.summary()"
   ]
  },
  {
   "cell_type": "markdown",
   "id": "d667f39f",
   "metadata": {},
   "source": [
    "#### (b) Explain why risk indicators in Table 8 were selected using p-values in Table 7(a)."
   ]
  },
  {
   "cell_type": "markdown",
   "id": "a5f4952f",
   "metadata": {},
   "source": [
    "The three slected risk indicators used in table 8 were the risk indicators in table 7(a) that were the closest in p-value to the intercept. "
   ]
  },
  {
   "cell_type": "markdown",
   "id": "6c0b5179",
   "metadata": {},
   "source": [
    "#### c) Interpret parameter (coefficient) estimates of the model in Table 8 with a focus on the odds of default. Answer the following questions by interpreting parameter estimates of the model in Table 8 and specifying odds and probabilities of default for these risk indicators."
   ]
  },
  {
   "cell_type": "markdown",
   "id": "05fc89c8",
   "metadata": {},
   "source": [
    "##### (i) Is a loan backed by real estate more likely or less likely to default (by how much)? Explain using parameter estimates."
   ]
  },
  {
   "cell_type": "markdown",
   "id": "be74d4e1",
   "metadata": {},
   "source": [
    "the negative coeff value of RealEstate tells us that a loan is less likly to deafult if backed by real esate. It looks like they dont default at twice the rate as others default. so it would be a 2:1 ratio. So a 67% likelyhood of paying it off or a ~33% reduction in defaulting. "
   ]
  },
  {
   "cell_type": "markdown",
   "id": "3aec37e3",
   "metadata": {},
   "source": [
    "##### (ii) Is a loan active during recession more likely or less likely to default (by how much)? Explain using parameter estimates."
   ]
  },
  {
   "cell_type": "markdown",
   "id": "cb3c4a4b",
   "metadata": {},
   "source": [
    "The postive coeff value of Recession tells us that a loan is more likely to default during a recession. The effect of a recession is smaller"
   ]
  },
  {
   "cell_type": "markdown",
   "id": "18c6f3b4",
   "metadata": {},
   "source": [
    "#### (iii) How much does the portion of a loan guaranteed by SBA increase or decrease the likelihood of default? Explain using parameter estimates"
   ]
  },
  {
   "cell_type": "markdown",
   "id": "d2177a85",
   "metadata": {},
   "source": [
    "It decreases the likelihood of default by a factor of 2.83."
   ]
  },
  {
   "cell_type": "markdown",
   "id": "c28a1619",
   "metadata": {},
   "source": [
    "### (d) For the California-based example, the final model with the risk indicators in Table 8 is used to estimate the probability of default for the two loan applications. Use Python to predict the probability of default for Carmichael Realty (Loan 1) and SV Consulting (Loan 2). Applying the decision rules and cutoff probability of 0.5 from Section 4.3Links to an external site., how should these two loans be classified as, lower risk (approve) or higher risk (deny)?"
   ]
  },
  {
   "cell_type": "markdown",
   "id": "15b12097",
   "metadata": {},
   "source": [
    "****** the mentioned records dont exist in the dataframe, so i conducted analysis on the two loan applications from Carmicael. **********"
   ]
  },
  {
   "cell_type": "code",
   "execution_count": 62,
   "id": "93f0bb28",
   "metadata": {},
   "outputs": [
    {
     "data": {
      "text/html": [
       "<div>\n",
       "<style scoped>\n",
       "    .dataframe tbody tr th:only-of-type {\n",
       "        vertical-align: middle;\n",
       "    }\n",
       "\n",
       "    .dataframe tbody tr th {\n",
       "        vertical-align: top;\n",
       "    }\n",
       "\n",
       "    .dataframe thead th {\n",
       "        text-align: right;\n",
       "    }\n",
       "</style>\n",
       "<table border=\"1\" class=\"dataframe\">\n",
       "  <thead>\n",
       "    <tr style=\"text-align: right;\">\n",
       "      <th></th>\n",
       "      <th>Selected</th>\n",
       "      <th>LoanNr_ChkDgt</th>\n",
       "      <th>Name</th>\n",
       "      <th>City</th>\n",
       "      <th>State</th>\n",
       "      <th>Zip</th>\n",
       "      <th>Bank</th>\n",
       "      <th>BankState</th>\n",
       "      <th>NAICS</th>\n",
       "      <th>ApprovalDate</th>\n",
       "      <th>...</th>\n",
       "      <th>ChgOffPrinGr</th>\n",
       "      <th>GrAppv</th>\n",
       "      <th>SBA_Appv</th>\n",
       "      <th>New</th>\n",
       "      <th>RealEstate</th>\n",
       "      <th>Portion</th>\n",
       "      <th>Recession</th>\n",
       "      <th>daysterm</th>\n",
       "      <th>xx</th>\n",
       "      <th>Default</th>\n",
       "    </tr>\n",
       "  </thead>\n",
       "  <tbody>\n",
       "    <tr>\n",
       "      <th>873</th>\n",
       "      <td>1</td>\n",
       "      <td>2894155009</td>\n",
       "      <td>ABC REALTY &amp; MORTGAGES, INC.</td>\n",
       "      <td>CARMICHAEL</td>\n",
       "      <td>CA</td>\n",
       "      <td>95608</td>\n",
       "      <td>U.S. BANK NATIONAL ASSOCIATION</td>\n",
       "      <td>OH</td>\n",
       "      <td>531210</td>\n",
       "      <td>17538</td>\n",
       "      <td>...</td>\n",
       "      <td>0</td>\n",
       "      <td>20000</td>\n",
       "      <td>10000</td>\n",
       "      <td>0</td>\n",
       "      <td>0</td>\n",
       "      <td>0.5</td>\n",
       "      <td>0</td>\n",
       "      <td>2520</td>\n",
       "      <td>20537.0</td>\n",
       "      <td>0</td>\n",
       "    </tr>\n",
       "    <tr>\n",
       "      <th>1845</th>\n",
       "      <td>1</td>\n",
       "      <td>7958734002</td>\n",
       "      <td>NOONIS DEVELOPMENT INC</td>\n",
       "      <td>CARMICHAEL</td>\n",
       "      <td>CA</td>\n",
       "      <td>95608</td>\n",
       "      <td>CAPITAL ONE NATL ASSOC</td>\n",
       "      <td>VA</td>\n",
       "      <td>531390</td>\n",
       "      <td>16363</td>\n",
       "      <td>...</td>\n",
       "      <td>0</td>\n",
       "      <td>35000</td>\n",
       "      <td>17500</td>\n",
       "      <td>0</td>\n",
       "      <td>0</td>\n",
       "      <td>0.5</td>\n",
       "      <td>0</td>\n",
       "      <td>2520</td>\n",
       "      <td>18956.0</td>\n",
       "      <td>0</td>\n",
       "    </tr>\n",
       "  </tbody>\n",
       "</table>\n",
       "<p>2 rows × 35 columns</p>\n",
       "</div>"
      ],
      "text/plain": [
       "      Selected  LoanNr_ChkDgt                          Name        City State  \\\n",
       "873          1     2894155009  ABC REALTY & MORTGAGES, INC.  CARMICHAEL    CA   \n",
       "1845         1     7958734002        NOONIS DEVELOPMENT INC  CARMICHAEL    CA   \n",
       "\n",
       "        Zip                            Bank BankState   NAICS  ApprovalDate  \\\n",
       "873   95608  U.S. BANK NATIONAL ASSOCIATION        OH  531210         17538   \n",
       "1845  95608          CAPITAL ONE NATL ASSOC        VA  531390         16363   \n",
       "\n",
       "      ...  ChgOffPrinGr  GrAppv  SBA_Appv  New  RealEstate  Portion  \\\n",
       "873   ...             0   20000     10000    0           0      0.5   \n",
       "1845  ...             0   35000     17500    0           0      0.5   \n",
       "\n",
       "      Recession  daysterm       xx Default  \n",
       "873           0      2520  20537.0       0  \n",
       "1845          0      2520  18956.0       0  \n",
       "\n",
       "[2 rows x 35 columns]"
      ]
     },
     "execution_count": 62,
     "metadata": {},
     "output_type": "execute_result"
    }
   ],
   "source": [
    "cram_df = sba_df[sba_df[\"City\"]== \"CARMICHAEL\"]\n",
    "cram_df"
   ]
  },
  {
   "cell_type": "code",
   "execution_count": null,
   "id": "82956fec",
   "metadata": {},
   "outputs": [],
   "source": [
    "cram_df = cram_df[Subset]\n",
    "cram_df2 = sm.add_constant(cram_df, prepend=True, has_constant='add')\n",
    "cram_df2.columns = [s.strip().replace('/', '_') for s in cram_df2.columns]\n",
    "cram_valid_X2 = cram_df2.drop(columns=outcome)\n",
    "cram_valid_y2 = cram_df2[outcome]"
   ]
  },
  {
   "cell_type": "code",
   "execution_count": 59,
   "id": "7cc83151",
   "metadata": {},
   "outputs": [
    {
     "name": "stdout",
     "output_type": "stream",
     "text": [
      "(1051, 6)\n",
      "(2, 6)\n"
     ]
    }
   ],
   "source": [
    "print(valid_X2.shape)\n",
    "print(cram_valid_X2.shape)"
   ]
  },
  {
   "cell_type": "code",
   "execution_count": 60,
   "id": "1017c0f3",
   "metadata": {},
   "outputs": [
    {
     "data": {
      "text/html": [
       "<div>\n",
       "<style scoped>\n",
       "    .dataframe tbody tr th:only-of-type {\n",
       "        vertical-align: middle;\n",
       "    }\n",
       "\n",
       "    .dataframe tbody tr th {\n",
       "        vertical-align: top;\n",
       "    }\n",
       "\n",
       "    .dataframe thead th {\n",
       "        text-align: right;\n",
       "    }\n",
       "</style>\n",
       "<table border=\"1\" class=\"dataframe\">\n",
       "  <thead>\n",
       "    <tr style=\"text-align: right;\">\n",
       "      <th></th>\n",
       "      <th>actual</th>\n",
       "      <th>p(0)</th>\n",
       "      <th>p(1)</th>\n",
       "      <th>predicted</th>\n",
       "    </tr>\n",
       "  </thead>\n",
       "  <tbody>\n",
       "    <tr>\n",
       "      <th>873</th>\n",
       "      <td>0</td>\n",
       "      <td>0.519151</td>\n",
       "      <td>0.480849</td>\n",
       "      <td>0</td>\n",
       "    </tr>\n",
       "    <tr>\n",
       "      <th>1845</th>\n",
       "      <td>0</td>\n",
       "      <td>0.518226</td>\n",
       "      <td>0.481774</td>\n",
       "      <td>0</td>\n",
       "    </tr>\n",
       "  </tbody>\n",
       "</table>\n",
       "</div>"
      ],
      "text/plain": [
       "      actual      p(0)      p(1)  predicted\n",
       "873        0  0.519151  0.480849          0\n",
       "1845       0  0.518226  0.481774          0"
      ]
     },
     "execution_count": 60,
     "metadata": {},
     "output_type": "execute_result"
    }
   ],
   "source": [
    "logit = sm.GLM(train_y2, train_X2, family=sm.families.Binomial())\n",
    "\n",
    "result = logit.fit()\n",
    "\n",
    "predictions = result.predict(cram_valid_X2)\n",
    "\n",
    "predictions_nominal = [ 0 if x < 0.5 else 1 for x in predictions]\n",
    "\n",
    "logit_result = pd.DataFrame({'actual': cram_valid_y2, 'p(0)': 1 - predictions,\n",
    "\n",
    "                             'p(1)': predictions,\n",
    "\n",
    "                             'predicted': predictions_nominal })\n",
    "\n",
    "logit_result"
   ]
  },
  {
   "cell_type": "markdown",
   "id": "0508fe72",
   "metadata": {},
   "source": [
    "Using a cutoff value of 0.5, both of the observed loans are classified as high liklihood of not defaulting. This would make them low risk and likely to be approved. "
   ]
  }
 ],
 "metadata": {
  "kernelspec": {
   "display_name": "Python 3 (ipykernel)",
   "language": "python",
   "name": "python3"
  },
  "language_info": {
   "codemirror_mode": {
    "name": "ipython",
    "version": 3
   },
   "file_extension": ".py",
   "mimetype": "text/x-python",
   "name": "python",
   "nbconvert_exporter": "python",
   "pygments_lexer": "ipython3",
   "version": "3.11.5"
  }
 },
 "nbformat": 4,
 "nbformat_minor": 5
}
