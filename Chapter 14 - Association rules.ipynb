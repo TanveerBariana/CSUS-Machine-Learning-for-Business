{
 "cells": [
  {
   "cell_type": "markdown",
   "metadata": {},
   "source": [
    "# Chapter 14: Association Rules and Collaborative Filtering\n",
    "\n",
    "## Import required packages"
   ]
  },
  {
   "cell_type": "code",
   "execution_count": 1,
   "metadata": {
    "tags": []
   },
   "outputs": [],
   "source": [
    "# need to run \"pip install mlxtend\" first\n",
    "# need to run \"pip install surprise\" first\n",
    "# \"conda install -c conda-forge scikit-surprise\" in \"terminal\" (Mac) or \"Anaconda Prompt\" (Windows)\n",
    "%matplotlib inline\n",
    "\n",
    "from pathlib import Path\n",
    "\n",
    "import heapq\n",
    "from collections import defaultdict\n",
    "\n",
    "import pandas as pd\n",
    "import matplotlib.pylab as plt\n",
    "from mlxtend.frequent_patterns import apriori\n",
    "from mlxtend.frequent_patterns import association_rules\n",
    "\n",
    "from surprise import Dataset, Reader, KNNBasic\n",
    "from surprise.model_selection import train_test_split"
   ]
  },
  {
   "cell_type": "code",
   "execution_count": 2,
   "metadata": {
    "tags": []
   },
   "outputs": [],
   "source": [
    "# Working directory:\n",
    "#\n",
    "# We assume that data are kept in the same directory as the notebook. If you keep your \n",
    "# data in a different folder, replace the argument of the `Path`\n",
    "DATA = Path('/Users/min/OneDrive/teaching/DS110/dmba/')\n",
    "#DATA = Path('C:/Users/Min Li/OneDrive/teaching/DS110/dmba')\n",
    "# and then load data using \n",
    "#\n",
    "# pd.read_csv(DATA / ‘filename.csv’)"
   ]
  },
  {
   "cell_type": "markdown",
   "metadata": {},
   "source": [
    "## Table 14.4"
   ]
  },
  {
   "cell_type": "code",
   "execution_count": 6,
   "metadata": {
    "scrolled": true,
    "tags": []
   },
   "outputs": [
    {
     "data": {
      "text/html": [
       "<div>\n",
       "<style scoped>\n",
       "    .dataframe tbody tr th:only-of-type {\n",
       "        vertical-align: middle;\n",
       "    }\n",
       "\n",
       "    .dataframe tbody tr th {\n",
       "        vertical-align: top;\n",
       "    }\n",
       "\n",
       "    .dataframe thead th {\n",
       "        text-align: right;\n",
       "    }\n",
       "</style>\n",
       "<table border=\"1\" class=\"dataframe\">\n",
       "  <thead>\n",
       "    <tr style=\"text-align: right;\">\n",
       "      <th></th>\n",
       "      <th>Transaction</th>\n",
       "      <th>Red</th>\n",
       "      <th>White</th>\n",
       "      <th>Blue</th>\n",
       "      <th>Orange</th>\n",
       "      <th>Green</th>\n",
       "      <th>Yellow</th>\n",
       "    </tr>\n",
       "  </thead>\n",
       "  <tbody>\n",
       "    <tr>\n",
       "      <th>0</th>\n",
       "      <td>1</td>\n",
       "      <td>1</td>\n",
       "      <td>1</td>\n",
       "      <td>0</td>\n",
       "      <td>0</td>\n",
       "      <td>1</td>\n",
       "      <td>0</td>\n",
       "    </tr>\n",
       "    <tr>\n",
       "      <th>1</th>\n",
       "      <td>2</td>\n",
       "      <td>0</td>\n",
       "      <td>1</td>\n",
       "      <td>0</td>\n",
       "      <td>1</td>\n",
       "      <td>0</td>\n",
       "      <td>0</td>\n",
       "    </tr>\n",
       "    <tr>\n",
       "      <th>2</th>\n",
       "      <td>3</td>\n",
       "      <td>0</td>\n",
       "      <td>1</td>\n",
       "      <td>1</td>\n",
       "      <td>0</td>\n",
       "      <td>0</td>\n",
       "      <td>0</td>\n",
       "    </tr>\n",
       "    <tr>\n",
       "      <th>3</th>\n",
       "      <td>4</td>\n",
       "      <td>1</td>\n",
       "      <td>1</td>\n",
       "      <td>0</td>\n",
       "      <td>1</td>\n",
       "      <td>0</td>\n",
       "      <td>0</td>\n",
       "    </tr>\n",
       "    <tr>\n",
       "      <th>4</th>\n",
       "      <td>5</td>\n",
       "      <td>1</td>\n",
       "      <td>0</td>\n",
       "      <td>1</td>\n",
       "      <td>0</td>\n",
       "      <td>0</td>\n",
       "      <td>0</td>\n",
       "    </tr>\n",
       "    <tr>\n",
       "      <th>5</th>\n",
       "      <td>6</td>\n",
       "      <td>0</td>\n",
       "      <td>1</td>\n",
       "      <td>1</td>\n",
       "      <td>0</td>\n",
       "      <td>0</td>\n",
       "      <td>0</td>\n",
       "    </tr>\n",
       "    <tr>\n",
       "      <th>6</th>\n",
       "      <td>7</td>\n",
       "      <td>1</td>\n",
       "      <td>0</td>\n",
       "      <td>1</td>\n",
       "      <td>0</td>\n",
       "      <td>0</td>\n",
       "      <td>0</td>\n",
       "    </tr>\n",
       "    <tr>\n",
       "      <th>7</th>\n",
       "      <td>8</td>\n",
       "      <td>1</td>\n",
       "      <td>1</td>\n",
       "      <td>1</td>\n",
       "      <td>0</td>\n",
       "      <td>1</td>\n",
       "      <td>0</td>\n",
       "    </tr>\n",
       "    <tr>\n",
       "      <th>8</th>\n",
       "      <td>9</td>\n",
       "      <td>1</td>\n",
       "      <td>1</td>\n",
       "      <td>1</td>\n",
       "      <td>0</td>\n",
       "      <td>0</td>\n",
       "      <td>0</td>\n",
       "    </tr>\n",
       "    <tr>\n",
       "      <th>9</th>\n",
       "      <td>10</td>\n",
       "      <td>0</td>\n",
       "      <td>0</td>\n",
       "      <td>0</td>\n",
       "      <td>0</td>\n",
       "      <td>0</td>\n",
       "      <td>1</td>\n",
       "    </tr>\n",
       "  </tbody>\n",
       "</table>\n",
       "</div>"
      ],
      "text/plain": [
       "   Transaction  Red  White  Blue  Orange  Green  Yellow\n",
       "0            1    1      1     0       0      1       0\n",
       "1            2    0      1     0       1      0       0\n",
       "2            3    0      1     1       0      0       0\n",
       "3            4    1      1     0       1      0       0\n",
       "4            5    1      0     1       0      0       0\n",
       "5            6    0      1     1       0      0       0\n",
       "6            7    1      0     1       0      0       0\n",
       "7            8    1      1     1       0      1       0\n",
       "8            9    1      1     1       0      0       0\n",
       "9           10    0      0     0       0      0       1"
      ]
     },
     "execution_count": 6,
     "metadata": {},
     "output_type": "execute_result"
    }
   ],
   "source": [
    "# Load and preprocess data set \n",
    "fp_df = pd.read_csv(DATA / 'Faceplate.csv')\n",
    "fp_df"
   ]
  },
  {
   "cell_type": "code",
   "execution_count": 7,
   "metadata": {
    "tags": []
   },
   "outputs": [
    {
     "name": "stdout",
     "output_type": "stream",
     "text": [
      "             Red  White  Blue  Orange  Green  Yellow\n",
      "Transaction                                         \n",
      "1              1      1     0       0      1       0\n",
      "2              0      1     0       1      0       0\n",
      "3              0      1     1       0      0       0\n",
      "4              1      1     0       1      0       0\n",
      "5              1      0     1       0      0       0\n",
      "6              0      1     1       0      0       0\n",
      "7              1      0     1       0      0       0\n",
      "8              1      1     1       0      1       0\n",
      "9              1      1     1       0      0       0\n",
      "10             0      0     0       0      0       1\n"
     ]
    }
   ],
   "source": [
    "fp_df.set_index('Transaction', inplace=True)\n",
    "print(fp_df)"
   ]
  },
  {
   "cell_type": "code",
   "execution_count": 8,
   "metadata": {
    "tags": []
   },
   "outputs": [
    {
     "name": "stderr",
     "output_type": "stream",
     "text": [
      "/Users/min/opt/anaconda3/lib/python3.9/site-packages/mlxtend/frequent_patterns/fpcommon.py:111: DeprecationWarning: DataFrames with non-bool types result in worse computationalperformance and their support might be discontinued in the future.Please use a DataFrame with bool type\n",
      "  warnings.warn(\n"
     ]
    },
    {
     "data": {
      "text/html": [
       "<div>\n",
       "<style scoped>\n",
       "    .dataframe tbody tr th:only-of-type {\n",
       "        vertical-align: middle;\n",
       "    }\n",
       "\n",
       "    .dataframe tbody tr th {\n",
       "        vertical-align: top;\n",
       "    }\n",
       "\n",
       "    .dataframe thead th {\n",
       "        text-align: right;\n",
       "    }\n",
       "</style>\n",
       "<table border=\"1\" class=\"dataframe\">\n",
       "  <thead>\n",
       "    <tr style=\"text-align: right;\">\n",
       "      <th></th>\n",
       "      <th>antecedents</th>\n",
       "      <th>consequents</th>\n",
       "      <th>antecedent support</th>\n",
       "      <th>consequent support</th>\n",
       "      <th>support</th>\n",
       "      <th>confidence</th>\n",
       "      <th>lift</th>\n",
       "      <th>leverage</th>\n",
       "      <th>conviction</th>\n",
       "    </tr>\n",
       "  </thead>\n",
       "  <tbody>\n",
       "    <tr>\n",
       "      <th>13</th>\n",
       "      <td>(Red, White)</td>\n",
       "      <td>(Green)</td>\n",
       "      <td>0.4</td>\n",
       "      <td>0.2</td>\n",
       "      <td>0.2</td>\n",
       "      <td>0.5</td>\n",
       "      <td>2.500000</td>\n",
       "      <td>0.12</td>\n",
       "      <td>1.6</td>\n",
       "    </tr>\n",
       "    <tr>\n",
       "      <th>15</th>\n",
       "      <td>(Green)</td>\n",
       "      <td>(Red, White)</td>\n",
       "      <td>0.2</td>\n",
       "      <td>0.4</td>\n",
       "      <td>0.2</td>\n",
       "      <td>1.0</td>\n",
       "      <td>2.500000</td>\n",
       "      <td>0.12</td>\n",
       "      <td>inf</td>\n",
       "    </tr>\n",
       "    <tr>\n",
       "      <th>4</th>\n",
       "      <td>(Green)</td>\n",
       "      <td>(Red)</td>\n",
       "      <td>0.2</td>\n",
       "      <td>0.6</td>\n",
       "      <td>0.2</td>\n",
       "      <td>1.0</td>\n",
       "      <td>1.666667</td>\n",
       "      <td>0.08</td>\n",
       "      <td>inf</td>\n",
       "    </tr>\n",
       "    <tr>\n",
       "      <th>14</th>\n",
       "      <td>(White, Green)</td>\n",
       "      <td>(Red)</td>\n",
       "      <td>0.2</td>\n",
       "      <td>0.6</td>\n",
       "      <td>0.2</td>\n",
       "      <td>1.0</td>\n",
       "      <td>1.666667</td>\n",
       "      <td>0.08</td>\n",
       "      <td>inf</td>\n",
       "    </tr>\n",
       "    <tr>\n",
       "      <th>7</th>\n",
       "      <td>(Orange)</td>\n",
       "      <td>(White)</td>\n",
       "      <td>0.2</td>\n",
       "      <td>0.7</td>\n",
       "      <td>0.2</td>\n",
       "      <td>1.0</td>\n",
       "      <td>1.428571</td>\n",
       "      <td>0.06</td>\n",
       "      <td>inf</td>\n",
       "    </tr>\n",
       "    <tr>\n",
       "      <th>8</th>\n",
       "      <td>(Green)</td>\n",
       "      <td>(White)</td>\n",
       "      <td>0.2</td>\n",
       "      <td>0.7</td>\n",
       "      <td>0.2</td>\n",
       "      <td>1.0</td>\n",
       "      <td>1.428571</td>\n",
       "      <td>0.06</td>\n",
       "      <td>inf</td>\n",
       "    </tr>\n",
       "  </tbody>\n",
       "</table>\n",
       "</div>"
      ],
      "text/plain": [
       "       antecedents   consequents  antecedent support  consequent support  \\\n",
       "13    (Red, White)       (Green)                 0.4                 0.2   \n",
       "15         (Green)  (Red, White)                 0.2                 0.4   \n",
       "4          (Green)         (Red)                 0.2                 0.6   \n",
       "14  (White, Green)         (Red)                 0.2                 0.6   \n",
       "7         (Orange)       (White)                 0.2                 0.7   \n",
       "8          (Green)       (White)                 0.2                 0.7   \n",
       "\n",
       "    support  confidence      lift  leverage  conviction  \n",
       "13      0.2         0.5  2.500000      0.12         1.6  \n",
       "15      0.2         1.0  2.500000      0.12         inf  \n",
       "4       0.2         1.0  1.666667      0.08         inf  \n",
       "14      0.2         1.0  1.666667      0.08         inf  \n",
       "7       0.2         1.0  1.428571      0.06         inf  \n",
       "8       0.2         1.0  1.428571      0.06         inf  "
      ]
     },
     "execution_count": 8,
     "metadata": {},
     "output_type": "execute_result"
    }
   ],
   "source": [
    "# create frequent itemsets\n",
    "itemsets = apriori(fp_df, min_support=0.2, use_colnames=True)\n",
    "\n",
    "# and convert into rules\n",
    "rules = association_rules(itemsets, metric='confidence', min_threshold=0.5)\n",
    "rules.sort_values(by=['lift'], ascending=False).head(6)"
   ]
  },
  {
   "cell_type": "code",
   "execution_count": 9,
   "metadata": {
    "tags": []
   },
   "outputs": [
    {
     "name": "stdout",
     "output_type": "stream",
     "text": [
      "       antecedents   consequents  support  confidence      lift  leverage\n",
      "13    (Red, White)       (Green)      0.2         0.5  2.500000      0.12\n",
      "15         (Green)  (Red, White)      0.2         1.0  2.500000      0.12\n",
      "4          (Green)         (Red)      0.2         1.0  1.666667      0.08\n",
      "14  (White, Green)         (Red)      0.2         1.0  1.666667      0.08\n",
      "7         (Orange)       (White)      0.2         1.0  1.428571      0.06\n",
      "8          (Green)       (White)      0.2         1.0  1.428571      0.06\n"
     ]
    }
   ],
   "source": [
    "print(rules.sort_values(by=['lift'], ascending=False)\n",
    "      .drop(columns=['antecedent support', 'consequent support', 'conviction'])\n",
    "      .head(6))"
   ]
  },
  {
   "cell_type": "code",
   "execution_count": 10,
   "metadata": {
    "tags": []
   },
   "outputs": [
    {
     "data": {
      "text/html": [
       "<div>\n",
       "<style scoped>\n",
       "    .dataframe tbody tr th:only-of-type {\n",
       "        vertical-align: middle;\n",
       "    }\n",
       "\n",
       "    .dataframe tbody tr th {\n",
       "        vertical-align: top;\n",
       "    }\n",
       "\n",
       "    .dataframe thead th {\n",
       "        text-align: right;\n",
       "    }\n",
       "</style>\n",
       "<table border=\"1\" class=\"dataframe\">\n",
       "  <thead>\n",
       "    <tr style=\"text-align: right;\">\n",
       "      <th></th>\n",
       "      <th>antecedents</th>\n",
       "      <th>consequents</th>\n",
       "      <th>antecedent support</th>\n",
       "      <th>consequent support</th>\n",
       "      <th>support</th>\n",
       "      <th>confidence</th>\n",
       "      <th>lift</th>\n",
       "      <th>leverage</th>\n",
       "      <th>conviction</th>\n",
       "    </tr>\n",
       "  </thead>\n",
       "  <tbody>\n",
       "    <tr>\n",
       "      <th>13</th>\n",
       "      <td>(Red, White)</td>\n",
       "      <td>(Green)</td>\n",
       "      <td>0.4</td>\n",
       "      <td>0.2</td>\n",
       "      <td>0.2</td>\n",
       "      <td>0.5</td>\n",
       "      <td>2.500000</td>\n",
       "      <td>0.12</td>\n",
       "      <td>1.6</td>\n",
       "    </tr>\n",
       "    <tr>\n",
       "      <th>4</th>\n",
       "      <td>(Green)</td>\n",
       "      <td>(Red)</td>\n",
       "      <td>0.2</td>\n",
       "      <td>0.6</td>\n",
       "      <td>0.2</td>\n",
       "      <td>1.0</td>\n",
       "      <td>1.666667</td>\n",
       "      <td>0.08</td>\n",
       "      <td>inf</td>\n",
       "    </tr>\n",
       "    <tr>\n",
       "      <th>14</th>\n",
       "      <td>(White, Green)</td>\n",
       "      <td>(Red)</td>\n",
       "      <td>0.2</td>\n",
       "      <td>0.6</td>\n",
       "      <td>0.2</td>\n",
       "      <td>1.0</td>\n",
       "      <td>1.666667</td>\n",
       "      <td>0.08</td>\n",
       "      <td>inf</td>\n",
       "    </tr>\n",
       "    <tr>\n",
       "      <th>7</th>\n",
       "      <td>(Orange)</td>\n",
       "      <td>(White)</td>\n",
       "      <td>0.2</td>\n",
       "      <td>0.7</td>\n",
       "      <td>0.2</td>\n",
       "      <td>1.0</td>\n",
       "      <td>1.428571</td>\n",
       "      <td>0.06</td>\n",
       "      <td>inf</td>\n",
       "    </tr>\n",
       "    <tr>\n",
       "      <th>8</th>\n",
       "      <td>(Green)</td>\n",
       "      <td>(White)</td>\n",
       "      <td>0.2</td>\n",
       "      <td>0.7</td>\n",
       "      <td>0.2</td>\n",
       "      <td>1.0</td>\n",
       "      <td>1.428571</td>\n",
       "      <td>0.06</td>\n",
       "      <td>inf</td>\n",
       "    </tr>\n",
       "    <tr>\n",
       "      <th>12</th>\n",
       "      <td>(Red, Green)</td>\n",
       "      <td>(White)</td>\n",
       "      <td>0.2</td>\n",
       "      <td>0.7</td>\n",
       "      <td>0.2</td>\n",
       "      <td>1.0</td>\n",
       "      <td>1.428571</td>\n",
       "      <td>0.06</td>\n",
       "      <td>inf</td>\n",
       "    </tr>\n",
       "  </tbody>\n",
       "</table>\n",
       "</div>"
      ],
      "text/plain": [
       "       antecedents consequents  antecedent support  consequent support  \\\n",
       "13    (Red, White)     (Green)                 0.4                 0.2   \n",
       "4          (Green)       (Red)                 0.2                 0.6   \n",
       "14  (White, Green)       (Red)                 0.2                 0.6   \n",
       "7         (Orange)     (White)                 0.2                 0.7   \n",
       "8          (Green)     (White)                 0.2                 0.7   \n",
       "12    (Red, Green)     (White)                 0.2                 0.7   \n",
       "\n",
       "    support  confidence      lift  leverage  conviction  \n",
       "13      0.2         0.5  2.500000      0.12         1.6  \n",
       "4       0.2         1.0  1.666667      0.08         inf  \n",
       "14      0.2         1.0  1.666667      0.08         inf  \n",
       "7       0.2         1.0  1.428571      0.06         inf  \n",
       "8       0.2         1.0  1.428571      0.06         inf  \n",
       "12      0.2         1.0  1.428571      0.06         inf  "
      ]
     },
     "execution_count": 10,
     "metadata": {},
     "output_type": "execute_result"
    }
   ],
   "source": [
    "# filter to get rules with single consequents only\n",
    "rules[[len(c) == 1 for c in rules.consequents]].sort_values(by=['lift'], ascending=False).head(6)"
   ]
  },
  {
   "cell_type": "markdown",
   "metadata": {},
   "source": [
    "The apriori method accepts sparse data frames as well. If we convert the original data frame to sparse format, we can see that the memory requirements go down to 40%. The `fill_value` argument informs the `to_sparse` method here which fields to ignore in each transaction."
   ]
  },
  {
   "cell_type": "code",
   "execution_count": 11,
   "metadata": {
    "tags": []
   },
   "outputs": [
    {
     "data": {
      "text/plain": [
       "Red       Sparse[int64, 0]\n",
       "White     Sparse[int64, 0]\n",
       "Blue      Sparse[int64, 0]\n",
       "Orange    Sparse[int64, 0]\n",
       "Green     Sparse[int64, 0]\n",
       "Yellow    Sparse[int64, 0]\n",
       "dtype: object"
      ]
     },
     "execution_count": 11,
     "metadata": {},
     "output_type": "execute_result"
    }
   ],
   "source": [
    "# Convert data set into a sparse data frame\n",
    "#sparse_df = fp_df.to_sparse(fill_value=0)\n",
    "# print('Density {}'.format(sparse_df.density))\n",
    "sparse_df = fp_df.astype(pd.SparseDtype(int, fill_value=0))\n",
    "sparse_df.dtypes"
   ]
  },
  {
   "cell_type": "code",
   "execution_count": 12,
   "metadata": {
    "tags": []
   },
   "outputs": [
    {
     "name": "stderr",
     "output_type": "stream",
     "text": [
      "/Users/min/opt/anaconda3/lib/python3.9/site-packages/mlxtend/frequent_patterns/fpcommon.py:111: DeprecationWarning: DataFrames with non-bool types result in worse computationalperformance and their support might be discontinued in the future.Please use a DataFrame with bool type\n",
      "  warnings.warn(\n"
     ]
    },
    {
     "data": {
      "text/html": [
       "<div>\n",
       "<style scoped>\n",
       "    .dataframe tbody tr th:only-of-type {\n",
       "        vertical-align: middle;\n",
       "    }\n",
       "\n",
       "    .dataframe tbody tr th {\n",
       "        vertical-align: top;\n",
       "    }\n",
       "\n",
       "    .dataframe thead th {\n",
       "        text-align: right;\n",
       "    }\n",
       "</style>\n",
       "<table border=\"1\" class=\"dataframe\">\n",
       "  <thead>\n",
       "    <tr style=\"text-align: right;\">\n",
       "      <th></th>\n",
       "      <th>antecedents</th>\n",
       "      <th>consequents</th>\n",
       "      <th>antecedent support</th>\n",
       "      <th>consequent support</th>\n",
       "      <th>support</th>\n",
       "      <th>confidence</th>\n",
       "      <th>lift</th>\n",
       "      <th>leverage</th>\n",
       "      <th>conviction</th>\n",
       "    </tr>\n",
       "  </thead>\n",
       "  <tbody>\n",
       "    <tr>\n",
       "      <th>13</th>\n",
       "      <td>(Red, White)</td>\n",
       "      <td>(Green)</td>\n",
       "      <td>0.4</td>\n",
       "      <td>0.2</td>\n",
       "      <td>0.2</td>\n",
       "      <td>0.5</td>\n",
       "      <td>2.500000</td>\n",
       "      <td>0.12</td>\n",
       "      <td>1.6</td>\n",
       "    </tr>\n",
       "    <tr>\n",
       "      <th>15</th>\n",
       "      <td>(Green)</td>\n",
       "      <td>(Red, White)</td>\n",
       "      <td>0.2</td>\n",
       "      <td>0.4</td>\n",
       "      <td>0.2</td>\n",
       "      <td>1.0</td>\n",
       "      <td>2.500000</td>\n",
       "      <td>0.12</td>\n",
       "      <td>inf</td>\n",
       "    </tr>\n",
       "    <tr>\n",
       "      <th>4</th>\n",
       "      <td>(Green)</td>\n",
       "      <td>(Red)</td>\n",
       "      <td>0.2</td>\n",
       "      <td>0.6</td>\n",
       "      <td>0.2</td>\n",
       "      <td>1.0</td>\n",
       "      <td>1.666667</td>\n",
       "      <td>0.08</td>\n",
       "      <td>inf</td>\n",
       "    </tr>\n",
       "    <tr>\n",
       "      <th>14</th>\n",
       "      <td>(White, Green)</td>\n",
       "      <td>(Red)</td>\n",
       "      <td>0.2</td>\n",
       "      <td>0.6</td>\n",
       "      <td>0.2</td>\n",
       "      <td>1.0</td>\n",
       "      <td>1.666667</td>\n",
       "      <td>0.08</td>\n",
       "      <td>inf</td>\n",
       "    </tr>\n",
       "    <tr>\n",
       "      <th>7</th>\n",
       "      <td>(Orange)</td>\n",
       "      <td>(White)</td>\n",
       "      <td>0.2</td>\n",
       "      <td>0.7</td>\n",
       "      <td>0.2</td>\n",
       "      <td>1.0</td>\n",
       "      <td>1.428571</td>\n",
       "      <td>0.06</td>\n",
       "      <td>inf</td>\n",
       "    </tr>\n",
       "    <tr>\n",
       "      <th>8</th>\n",
       "      <td>(Green)</td>\n",
       "      <td>(White)</td>\n",
       "      <td>0.2</td>\n",
       "      <td>0.7</td>\n",
       "      <td>0.2</td>\n",
       "      <td>1.0</td>\n",
       "      <td>1.428571</td>\n",
       "      <td>0.06</td>\n",
       "      <td>inf</td>\n",
       "    </tr>\n",
       "  </tbody>\n",
       "</table>\n",
       "</div>"
      ],
      "text/plain": [
       "       antecedents   consequents  antecedent support  consequent support  \\\n",
       "13    (Red, White)       (Green)                 0.4                 0.2   \n",
       "15         (Green)  (Red, White)                 0.2                 0.4   \n",
       "4          (Green)         (Red)                 0.2                 0.6   \n",
       "14  (White, Green)         (Red)                 0.2                 0.6   \n",
       "7         (Orange)       (White)                 0.2                 0.7   \n",
       "8          (Green)       (White)                 0.2                 0.7   \n",
       "\n",
       "    support  confidence      lift  leverage  conviction  \n",
       "13      0.2         0.5  2.500000      0.12         1.6  \n",
       "15      0.2         1.0  2.500000      0.12         inf  \n",
       "4       0.2         1.0  1.666667      0.08         inf  \n",
       "14      0.2         1.0  1.666667      0.08         inf  \n",
       "7       0.2         1.0  1.428571      0.06         inf  \n",
       "8       0.2         1.0  1.428571      0.06         inf  "
      ]
     },
     "execution_count": 12,
     "metadata": {},
     "output_type": "execute_result"
    }
   ],
   "source": [
    "# create frequent itemsets\n",
    "itemsets = apriori(sparse_df, min_support=0.2, use_colnames=True)\n",
    "\n",
    "# and convert into rules\n",
    "rules = association_rules(itemsets, metric='confidence', min_threshold=0.5)\n",
    "rules.sort_values(by=['lift'], ascending=False).head(6)"
   ]
  },
  {
   "cell_type": "code",
   "execution_count": 13,
   "metadata": {
    "tags": []
   },
   "outputs": [
    {
     "name": "stdout",
     "output_type": "stream",
     "text": [
      "       antecedents   consequents  support  confidence      lift  leverage\n",
      "13    (Red, White)       (Green)      0.2         0.5  2.500000      0.12\n",
      "15         (Green)  (Red, White)      0.2         1.0  2.500000      0.12\n",
      "4          (Green)         (Red)      0.2         1.0  1.666667      0.08\n",
      "14  (White, Green)         (Red)      0.2         1.0  1.666667      0.08\n",
      "7         (Orange)       (White)      0.2         1.0  1.428571      0.06\n",
      "8          (Green)       (White)      0.2         1.0  1.428571      0.06\n"
     ]
    }
   ],
   "source": [
    "print(rules.sort_values(by=['lift'], ascending=False)\n",
    "      .drop(columns=['antecedent support', 'consequent support', 'conviction'])\n",
    "      .head(6))"
   ]
  },
  {
   "cell_type": "markdown",
   "metadata": {},
   "source": [
    "## Data required for Table 14.5 and 14.6"
   ]
  },
  {
   "cell_type": "code",
   "execution_count": 14,
   "metadata": {
    "tags": []
   },
   "outputs": [
    {
     "name": "stdout",
     "output_type": "stream",
     "text": [
      "[{8}, {8, 3, 4}, {8}, {9, 3}, {9}, {8, 1}, {9, 6}, {9, 3, 5, 7}, {8}, set(), {1, 9, 7}, {1, 4, 5, 8, 9}, {9, 5, 7}, {8, 6, 7}, {9, 3, 7}, {1, 4, 9}, {8, 6, 7}, {8}, set(), {9}, {8, 2, 5, 6}, {9, 4, 6}, {9, 4}, {8, 9}, {8, 6}, {8, 1, 6}, {8, 5}, {8, 9, 4}, {9}, {8}, {8, 1, 5}, {9, 3, 6}, {9, 7}, {8, 9, 7}, {8, 3, 4, 6}, {8, 1, 4}, {8, 4, 7}, {8, 9}, {9, 4, 5, 7}, {8, 9, 2}, {9, 2, 5}, {1, 2, 9, 7}, {8, 5}, {8, 1, 7}, {8}, {9, 2, 7}, {9, 4, 6}, {9}, {9}, {8, 6, 7}]\n"
     ]
    },
    {
     "data": {
      "text/html": [
       "<div>\n",
       "<style scoped>\n",
       "    .dataframe tbody tr th:only-of-type {\n",
       "        vertical-align: middle;\n",
       "    }\n",
       "\n",
       "    .dataframe tbody tr th {\n",
       "        vertical-align: top;\n",
       "    }\n",
       "\n",
       "    .dataframe thead th {\n",
       "        text-align: right;\n",
       "    }\n",
       "</style>\n",
       "<table border=\"1\" class=\"dataframe\">\n",
       "  <thead>\n",
       "    <tr style=\"text-align: right;\">\n",
       "      <th></th>\n",
       "      <th>1</th>\n",
       "      <th>2</th>\n",
       "      <th>3</th>\n",
       "      <th>4</th>\n",
       "      <th>5</th>\n",
       "      <th>6</th>\n",
       "      <th>7</th>\n",
       "      <th>8</th>\n",
       "      <th>9</th>\n",
       "    </tr>\n",
       "  </thead>\n",
       "  <tbody>\n",
       "    <tr>\n",
       "      <th>0</th>\n",
       "      <td>0</td>\n",
       "      <td>0</td>\n",
       "      <td>0</td>\n",
       "      <td>0</td>\n",
       "      <td>0</td>\n",
       "      <td>0</td>\n",
       "      <td>0</td>\n",
       "      <td>1</td>\n",
       "      <td>0</td>\n",
       "    </tr>\n",
       "    <tr>\n",
       "      <th>1</th>\n",
       "      <td>0</td>\n",
       "      <td>0</td>\n",
       "      <td>1</td>\n",
       "      <td>1</td>\n",
       "      <td>0</td>\n",
       "      <td>0</td>\n",
       "      <td>0</td>\n",
       "      <td>1</td>\n",
       "      <td>0</td>\n",
       "    </tr>\n",
       "    <tr>\n",
       "      <th>2</th>\n",
       "      <td>0</td>\n",
       "      <td>0</td>\n",
       "      <td>0</td>\n",
       "      <td>0</td>\n",
       "      <td>0</td>\n",
       "      <td>0</td>\n",
       "      <td>0</td>\n",
       "      <td>1</td>\n",
       "      <td>0</td>\n",
       "    </tr>\n",
       "    <tr>\n",
       "      <th>3</th>\n",
       "      <td>0</td>\n",
       "      <td>0</td>\n",
       "      <td>1</td>\n",
       "      <td>0</td>\n",
       "      <td>0</td>\n",
       "      <td>0</td>\n",
       "      <td>0</td>\n",
       "      <td>0</td>\n",
       "      <td>1</td>\n",
       "    </tr>\n",
       "    <tr>\n",
       "      <th>4</th>\n",
       "      <td>0</td>\n",
       "      <td>0</td>\n",
       "      <td>0</td>\n",
       "      <td>0</td>\n",
       "      <td>0</td>\n",
       "      <td>0</td>\n",
       "      <td>0</td>\n",
       "      <td>0</td>\n",
       "      <td>1</td>\n",
       "    </tr>\n",
       "  </tbody>\n",
       "</table>\n",
       "</div>"
      ],
      "text/plain": [
       "   1  2  3  4  5  6  7  8  9\n",
       "0  0  0  0  0  0  0  0  1  0\n",
       "1  0  0  1  1  0  0  0  1  0\n",
       "2  0  0  0  0  0  0  0  1  0\n",
       "3  0  0  1  0  0  0  0  0  1\n",
       "4  0  0  0  0  0  0  0  0  1"
      ]
     },
     "execution_count": 14,
     "metadata": {},
     "output_type": "execute_result"
    }
   ],
   "source": [
    "# Prepare the dataset for table 14.6 based on table 14.5\n",
    "from itertools import chain\n",
    "randomTransactions = [{8}, {3,4,8}, {8}, {3,9}, {9}, {1,8}, {6,9}, {3,5,7,9}, {8}, set(), \n",
    "                      {1,7,9}, {1,4,5,8,9}, {5,7,9}, {6,7,8}, {3,7,9}, {1,4,9}, {6,7,8}, {8}, set(), {9},\n",
    "                      {2,5,6,8}, {4,6,9}, {4,9}, {8,9}, {6,8}, {1,6,8}, {5,8}, {4,8,9}, {9}, {8},\n",
    "                      {1,5,8}, {3,6,9}, {7,9}, {7,8,9}, {3,4,6,8}, {1,4,8}, {4,7,8}, {8,9}, {4,5,7,9}, {2,8,9},\n",
    "                      {2,5,9}, {1,2,7,9}, {5,8}, {1,7,8}, {8}, {2,7,9}, {4,6,9}, {9}, {9}, {6,7,8}]\n",
    "print(randomTransactions)\n",
    "uniqueItems = sorted(set(chain.from_iterable(randomTransactions)))\n",
    "randomData = pd.DataFrame(0, index=range(len(randomTransactions)), columns=uniqueItems)\n",
    "for row, transaction in enumerate(randomTransactions):\n",
    "    for item in transaction:\n",
    "        randomData.loc[row][item] = 1\n",
    "randomData.head()"
   ]
  },
  {
   "cell_type": "markdown",
   "metadata": {},
   "source": [
    "## Table 14.6"
   ]
  },
  {
   "cell_type": "code",
   "execution_count": 15,
   "metadata": {
    "tags": []
   },
   "outputs": [
    {
     "name": "stdout",
     "output_type": "stream",
     "text": [
      "  antecedents consequents  support  confidence      lift  leverage\n",
      "3      (8, 3)         (4)     0.04         1.0  4.545455    0.0312\n",
      "1      (1, 5)         (8)     0.04         1.0  1.851852    0.0184\n",
      "2      (2, 7)         (9)     0.04         1.0  1.851852    0.0184\n",
      "4      (3, 4)         (8)     0.04         1.0  1.851852    0.0184\n",
      "5      (3, 7)         (9)     0.04         1.0  1.851852    0.0184\n",
      "6      (4, 5)         (9)     0.04         1.0  1.851852    0.0184\n"
     ]
    },
    {
     "name": "stderr",
     "output_type": "stream",
     "text": [
      "/Users/min/opt/anaconda3/lib/python3.9/site-packages/mlxtend/frequent_patterns/fpcommon.py:111: DeprecationWarning: DataFrames with non-bool types result in worse computationalperformance and their support might be discontinued in the future.Please use a DataFrame with bool type\n",
      "  warnings.warn(\n"
     ]
    }
   ],
   "source": [
    "# create frequent itemsets\n",
    "itemsets = apriori(randomData, min_support=2/len(randomData), use_colnames=True)\n",
    "# and convert into rules\n",
    "rules = association_rules(itemsets, metric='confidence', min_threshold=0.7)\n",
    "print(rules.sort_values(by=['lift'], ascending=False)\n",
    "      .drop(columns=['antecedent support', 'consequent support', 'conviction'])\n",
    "      .head(6))"
   ]
  },
  {
   "cell_type": "markdown",
   "metadata": {},
   "source": [
    "## Table 14.8"
   ]
  },
  {
   "cell_type": "code",
   "execution_count": 16,
   "metadata": {
    "tags": []
   },
   "outputs": [
    {
     "data": {
      "text/html": [
       "<div>\n",
       "<style scoped>\n",
       "    .dataframe tbody tr th:only-of-type {\n",
       "        vertical-align: middle;\n",
       "    }\n",
       "\n",
       "    .dataframe tbody tr th {\n",
       "        vertical-align: top;\n",
       "    }\n",
       "\n",
       "    .dataframe thead th {\n",
       "        text-align: right;\n",
       "    }\n",
       "</style>\n",
       "<table border=\"1\" class=\"dataframe\">\n",
       "  <thead>\n",
       "    <tr style=\"text-align: right;\">\n",
       "      <th></th>\n",
       "      <th>ChildBks</th>\n",
       "      <th>YouthBks</th>\n",
       "      <th>CookBks</th>\n",
       "      <th>DoItYBks</th>\n",
       "      <th>RefBks</th>\n",
       "      <th>ArtBks</th>\n",
       "      <th>GeogBks</th>\n",
       "      <th>ItalCook</th>\n",
       "      <th>ItalAtlas</th>\n",
       "      <th>ItalArt</th>\n",
       "      <th>Florence</th>\n",
       "    </tr>\n",
       "  </thead>\n",
       "  <tbody>\n",
       "    <tr>\n",
       "      <th>0</th>\n",
       "      <td>0</td>\n",
       "      <td>1</td>\n",
       "      <td>1</td>\n",
       "      <td>0</td>\n",
       "      <td>0</td>\n",
       "      <td>0</td>\n",
       "      <td>0</td>\n",
       "      <td>0</td>\n",
       "      <td>0</td>\n",
       "      <td>0</td>\n",
       "      <td>0</td>\n",
       "    </tr>\n",
       "    <tr>\n",
       "      <th>1</th>\n",
       "      <td>0</td>\n",
       "      <td>0</td>\n",
       "      <td>0</td>\n",
       "      <td>0</td>\n",
       "      <td>0</td>\n",
       "      <td>0</td>\n",
       "      <td>0</td>\n",
       "      <td>0</td>\n",
       "      <td>0</td>\n",
       "      <td>0</td>\n",
       "      <td>0</td>\n",
       "    </tr>\n",
       "    <tr>\n",
       "      <th>2</th>\n",
       "      <td>1</td>\n",
       "      <td>1</td>\n",
       "      <td>1</td>\n",
       "      <td>0</td>\n",
       "      <td>1</td>\n",
       "      <td>0</td>\n",
       "      <td>1</td>\n",
       "      <td>1</td>\n",
       "      <td>0</td>\n",
       "      <td>0</td>\n",
       "      <td>0</td>\n",
       "    </tr>\n",
       "    <tr>\n",
       "      <th>3</th>\n",
       "      <td>0</td>\n",
       "      <td>0</td>\n",
       "      <td>0</td>\n",
       "      <td>0</td>\n",
       "      <td>0</td>\n",
       "      <td>0</td>\n",
       "      <td>0</td>\n",
       "      <td>0</td>\n",
       "      <td>0</td>\n",
       "      <td>0</td>\n",
       "      <td>0</td>\n",
       "    </tr>\n",
       "    <tr>\n",
       "      <th>4</th>\n",
       "      <td>0</td>\n",
       "      <td>0</td>\n",
       "      <td>0</td>\n",
       "      <td>0</td>\n",
       "      <td>0</td>\n",
       "      <td>0</td>\n",
       "      <td>0</td>\n",
       "      <td>0</td>\n",
       "      <td>0</td>\n",
       "      <td>0</td>\n",
       "      <td>0</td>\n",
       "    </tr>\n",
       "  </tbody>\n",
       "</table>\n",
       "</div>"
      ],
      "text/plain": [
       "   ChildBks  YouthBks  CookBks  DoItYBks  RefBks  ArtBks  GeogBks  ItalCook  \\\n",
       "0         0         1        1         0       0       0        0         0   \n",
       "1         0         0        0         0       0       0        0         0   \n",
       "2         1         1        1         0       1       0        1         1   \n",
       "3         0         0        0         0       0       0        0         0   \n",
       "4         0         0        0         0       0       0        0         0   \n",
       "\n",
       "   ItalAtlas  ItalArt  Florence  \n",
       "0          0        0         0  \n",
       "1          0        0         0  \n",
       "2          0        0         0  \n",
       "3          0        0         0  \n",
       "4          0        0         0  "
      ]
     },
     "execution_count": 16,
     "metadata": {},
     "output_type": "execute_result"
    }
   ],
   "source": [
    "# load dataset\n",
    "all_books_df = pd.read_csv(DATA / 'CharlesBookClub.csv')\n",
    "\n",
    "# create the binary incidence matrix\n",
    "ignore = ['Seq#', 'ID#', 'Gender', 'M', 'R', 'F', 'FirstPurch', 'Related Purchase',\n",
    "          'Mcode', 'Rcode', 'Fcode', 'Yes_Florence', 'No_Florence']\n",
    "count_books = all_books_df.drop(columns=ignore)\n",
    "count_books[count_books > 0] = 1\n",
    "\n",
    "count_books.head()"
   ]
  },
  {
   "cell_type": "code",
   "execution_count": 17,
   "metadata": {
    "tags": []
   },
   "outputs": [
    {
     "data": {
      "image/png": "[encoded data removed]",
      "text/plain": [
       "<Figure size 640x480 with 1 Axes>"
      ]
     },
     "metadata": {},
     "output_type": "display_data"
    }
   ],
   "source": [
    "# determine item frequencies\n",
    "itemFrequency = count_books.sum(axis=0) / len(count_books)\n",
    "\n",
    "# and plot as histogram\n",
    "ax = itemFrequency.plot.bar(color='blue')\n",
    "plt.ylabel('Item frequency (relative)')\n",
    "plt.show()"
   ]
  },
  {
   "cell_type": "code",
   "execution_count": 18,
   "metadata": {
    "tags": []
   },
   "outputs": [
    {
     "name": "stdout",
     "output_type": "stream",
     "text": [
      "Number of rules 81\n",
      "                      antecedents          consequents  support  confidence     lift  leverage\n",
      "64             (RefBks, YouthBks)  (ChildBks, CookBks)  0.05525     0.68000  2.80992   0.03559\n",
      "73             (RefBks, DoItYBks)  (ChildBks, CookBks)  0.06125     0.66216  2.73621   0.03886\n",
      "60           (YouthBks, DoItYBks)  (ChildBks, CookBks)  0.06700     0.64891  2.68145   0.04201\n",
      "80              (GeogBks, RefBks)  (ChildBks, CookBks)  0.05025     0.61468  2.54000   0.03047\n",
      "69            (GeogBks, YouthBks)  (ChildBks, CookBks)  0.06325     0.60526  2.50109   0.03796\n",
      "77            (GeogBks, DoItYBks)  (ChildBks, CookBks)  0.06050     0.59901  2.47525   0.03606\n",
      "65   (GeogBks, ChildBks, CookBks)           (YouthBks)  0.06325     0.57763  2.42445   0.03716\n",
      "70    (RefBks, ChildBks, CookBks)           (DoItYBks)  0.06125     0.59179  2.32301   0.03488\n",
      "48            (GeogBks, DoItYBks)           (YouthBks)  0.05450     0.53960  2.26486   0.03044\n",
      "61    (RefBks, ChildBks, CookBks)           (YouthBks)  0.05525     0.53382  2.24057   0.03059\n",
      "57  (ChildBks, CookBks, DoItYBks)           (YouthBks)  0.06700     0.52446  2.20131   0.03656\n",
      "56  (YouthBks, ChildBks, CookBks)           (DoItYBks)  0.06700     0.55833  2.19169   0.03643\n",
      "33             (RefBks, ChildBks)           (DoItYBks)  0.07100     0.55361  2.17314   0.03833\n",
      "74   (GeogBks, ChildBks, CookBks)           (DoItYBks)  0.06050     0.55251  2.16884   0.03260\n",
      "19            (GeogBks, ChildBks)           (YouthBks)  0.07550     0.51624  2.16680   0.04066\n",
      "45             (GeogBks, CookBks)           (YouthBks)  0.08025     0.51360  2.15572   0.04302\n",
      "63   (RefBks, ChildBks, YouthBks)            (CookBks)  0.05525     0.89113  2.14471   0.02949\n",
      "16           (ChildBks, YouthBks)           (DoItYBks)  0.08025     0.54407  2.13569   0.04267\n",
      "50              (RefBks, CookBks)           (DoItYBks)  0.07450     0.53309  2.09262   0.03890\n",
      "28                       (RefBks)  (ChildBks, CookBks)  0.10350     0.50549  2.08882   0.05395\n",
      "72    (RefBks, CookBks, DoItYBks)           (ChildBks)  0.06125     0.82215  2.08667   0.03190\n",
      "15                     (YouthBks)  (ChildBks, CookBks)  0.12000     0.50367  2.08129   0.06234\n",
      "71   (RefBks, ChildBks, DoItYBks)            (CookBks)  0.06125     0.86268  2.07624   0.03175\n",
      "22            (ChildBks, CookBks)           (DoItYBks)  0.12775     0.52789  2.07220   0.06610\n",
      "25                     (DoItYBks)  (ChildBks, CookBks)  0.12775     0.50147  2.07220   0.06610\n"
     ]
    },
    {
     "name": "stderr",
     "output_type": "stream",
     "text": [
      "/Users/min/opt/anaconda3/lib/python3.9/site-packages/mlxtend/frequent_patterns/fpcommon.py:111: DeprecationWarning: DataFrames with non-bool types result in worse computationalperformance and their support might be discontinued in the future.Please use a DataFrame with bool type\n",
      "  warnings.warn(\n"
     ]
    }
   ],
   "source": [
    "# create frequent itemsets and rules\n",
    "itemsets = apriori(count_books, min_support=200/4000, use_colnames=True)\n",
    "rules = association_rules(itemsets, metric='confidence', min_threshold=0.5)\n",
    "\n",
    "print('Number of rules', len(rules))\n",
    "\n",
    "# Display 25 rules with highest lift\n",
    "rules.sort_values(by=['lift'], ascending=False).head(25)\n",
    "\n",
    "pd.set_option('display.width', 100)\n",
    "pd.set_option('display.precision',5)\n",
    "\n",
    "print(rules.sort_values(by=['lift'], ascending=False).drop(columns=['antecedent support', 'consequent support', 'conviction']).head(25))\n",
    "#pd.set_option('precision', 6)\n",
    "pd.reset_option('display.width')\n",
    "pd.reset_option('display.precision')"
   ]
  },
  {
   "cell_type": "code",
   "execution_count": 19,
   "metadata": {
    "tags": []
   },
   "outputs": [
    {
     "data": {
      "text/html": [
       "<div>\n",
       "<style scoped>\n",
       "    .dataframe tbody tr th:only-of-type {\n",
       "        vertical-align: middle;\n",
       "    }\n",
       "\n",
       "    .dataframe tbody tr th {\n",
       "        vertical-align: top;\n",
       "    }\n",
       "\n",
       "    .dataframe thead th {\n",
       "        text-align: right;\n",
       "    }\n",
       "</style>\n",
       "<table border=\"1\" class=\"dataframe\">\n",
       "  <thead>\n",
       "    <tr style=\"text-align: right;\">\n",
       "      <th></th>\n",
       "      <th>antecedents</th>\n",
       "      <th>consequents</th>\n",
       "      <th>antecedent support</th>\n",
       "      <th>consequent support</th>\n",
       "      <th>support</th>\n",
       "      <th>confidence</th>\n",
       "      <th>lift</th>\n",
       "      <th>leverage</th>\n",
       "      <th>conviction</th>\n",
       "    </tr>\n",
       "  </thead>\n",
       "  <tbody>\n",
       "    <tr>\n",
       "      <th>48</th>\n",
       "      <td>(GeogBks, DoItYBks)</td>\n",
       "      <td>(YouthBks)</td>\n",
       "      <td>0.10100</td>\n",
       "      <td>0.23825</td>\n",
       "      <td>0.05450</td>\n",
       "      <td>0.539604</td>\n",
       "      <td>2.264864</td>\n",
       "      <td>0.030437</td>\n",
       "      <td>1.654554</td>\n",
       "    </tr>\n",
       "    <tr>\n",
       "      <th>33</th>\n",
       "      <td>(RefBks, ChildBks)</td>\n",
       "      <td>(DoItYBks)</td>\n",
       "      <td>0.12825</td>\n",
       "      <td>0.25475</td>\n",
       "      <td>0.07100</td>\n",
       "      <td>0.553606</td>\n",
       "      <td>2.173135</td>\n",
       "      <td>0.038328</td>\n",
       "      <td>1.669490</td>\n",
       "    </tr>\n",
       "    <tr>\n",
       "      <th>19</th>\n",
       "      <td>(GeogBks, ChildBks)</td>\n",
       "      <td>(YouthBks)</td>\n",
       "      <td>0.14625</td>\n",
       "      <td>0.23825</td>\n",
       "      <td>0.07550</td>\n",
       "      <td>0.516239</td>\n",
       "      <td>2.166797</td>\n",
       "      <td>0.040656</td>\n",
       "      <td>1.574642</td>\n",
       "    </tr>\n",
       "    <tr>\n",
       "      <th>45</th>\n",
       "      <td>(GeogBks, CookBks)</td>\n",
       "      <td>(YouthBks)</td>\n",
       "      <td>0.15625</td>\n",
       "      <td>0.23825</td>\n",
       "      <td>0.08025</td>\n",
       "      <td>0.513600</td>\n",
       "      <td>2.155719</td>\n",
       "      <td>0.043023</td>\n",
       "      <td>1.566098</td>\n",
       "    </tr>\n",
       "    <tr>\n",
       "      <th>16</th>\n",
       "      <td>(ChildBks, YouthBks)</td>\n",
       "      <td>(DoItYBks)</td>\n",
       "      <td>0.14750</td>\n",
       "      <td>0.25475</td>\n",
       "      <td>0.08025</td>\n",
       "      <td>0.544068</td>\n",
       "      <td>2.135693</td>\n",
       "      <td>0.042674</td>\n",
       "      <td>1.634563</td>\n",
       "    </tr>\n",
       "    <tr>\n",
       "      <th>50</th>\n",
       "      <td>(RefBks, CookBks)</td>\n",
       "      <td>(DoItYBks)</td>\n",
       "      <td>0.13975</td>\n",
       "      <td>0.25475</td>\n",
       "      <td>0.07450</td>\n",
       "      <td>0.533095</td>\n",
       "      <td>2.092619</td>\n",
       "      <td>0.038899</td>\n",
       "      <td>1.596148</td>\n",
       "    </tr>\n",
       "    <tr>\n",
       "      <th>22</th>\n",
       "      <td>(ChildBks, CookBks)</td>\n",
       "      <td>(DoItYBks)</td>\n",
       "      <td>0.24200</td>\n",
       "      <td>0.25475</td>\n",
       "      <td>0.12775</td>\n",
       "      <td>0.527893</td>\n",
       "      <td>2.072198</td>\n",
       "      <td>0.066101</td>\n",
       "      <td>1.578560</td>\n",
       "    </tr>\n",
       "    <tr>\n",
       "      <th>47</th>\n",
       "      <td>(GeogBks, YouthBks)</td>\n",
       "      <td>(DoItYBks)</td>\n",
       "      <td>0.10450</td>\n",
       "      <td>0.25475</td>\n",
       "      <td>0.05450</td>\n",
       "      <td>0.521531</td>\n",
       "      <td>2.047227</td>\n",
       "      <td>0.027879</td>\n",
       "      <td>1.557573</td>\n",
       "    </tr>\n",
       "    <tr>\n",
       "      <th>41</th>\n",
       "      <td>(YouthBks, CookBks)</td>\n",
       "      <td>(DoItYBks)</td>\n",
       "      <td>0.16100</td>\n",
       "      <td>0.25475</td>\n",
       "      <td>0.08375</td>\n",
       "      <td>0.520186</td>\n",
       "      <td>2.041948</td>\n",
       "      <td>0.042735</td>\n",
       "      <td>1.553207</td>\n",
       "    </tr>\n",
       "    <tr>\n",
       "      <th>43</th>\n",
       "      <td>(RefBks, YouthBks)</td>\n",
       "      <td>(CookBks)</td>\n",
       "      <td>0.08125</td>\n",
       "      <td>0.41550</td>\n",
       "      <td>0.06825</td>\n",
       "      <td>0.840000</td>\n",
       "      <td>2.021661</td>\n",
       "      <td>0.034491</td>\n",
       "      <td>3.653125</td>\n",
       "    </tr>\n",
       "  </tbody>\n",
       "</table>\n",
       "</div>"
      ],
      "text/plain": [
       "             antecedents consequents  antecedent support  consequent support  \\\n",
       "48   (GeogBks, DoItYBks)  (YouthBks)             0.10100             0.23825   \n",
       "33    (RefBks, ChildBks)  (DoItYBks)             0.12825             0.25475   \n",
       "19   (GeogBks, ChildBks)  (YouthBks)             0.14625             0.23825   \n",
       "45    (GeogBks, CookBks)  (YouthBks)             0.15625             0.23825   \n",
       "16  (ChildBks, YouthBks)  (DoItYBks)             0.14750             0.25475   \n",
       "50     (RefBks, CookBks)  (DoItYBks)             0.13975             0.25475   \n",
       "22   (ChildBks, CookBks)  (DoItYBks)             0.24200             0.25475   \n",
       "47   (GeogBks, YouthBks)  (DoItYBks)             0.10450             0.25475   \n",
       "41   (YouthBks, CookBks)  (DoItYBks)             0.16100             0.25475   \n",
       "43    (RefBks, YouthBks)   (CookBks)             0.08125             0.41550   \n",
       "\n",
       "    support  confidence      lift  leverage  conviction  \n",
       "48  0.05450    0.539604  2.264864  0.030437    1.654554  \n",
       "33  0.07100    0.553606  2.173135  0.038328    1.669490  \n",
       "19  0.07550    0.516239  2.166797  0.040656    1.574642  \n",
       "45  0.08025    0.513600  2.155719  0.043023    1.566098  \n",
       "16  0.08025    0.544068  2.135693  0.042674    1.634563  \n",
       "50  0.07450    0.533095  2.092619  0.038899    1.596148  \n",
       "22  0.12775    0.527893  2.072198  0.066101    1.578560  \n",
       "47  0.05450    0.521531  2.047227  0.027879    1.557573  \n",
       "41  0.08375    0.520186  2.041948  0.042735    1.553207  \n",
       "43  0.06825    0.840000  2.021661  0.034491    3.653125  "
      ]
     },
     "execution_count": 19,
     "metadata": {},
     "output_type": "execute_result"
    }
   ],
   "source": [
    "# Filter rules by number of antecedents (maximum 2) and consequents (maximum 1)\n",
    "rules = rules[[len(c) <= 2 for c in rules.antecedents]]\n",
    "rules = rules[[len(c) == 1 for c in rules.consequents]]\n",
    "\n",
    "rules.sort_values(by=['lift'], ascending=False).head(10)"
   ]
  },
  {
   "cell_type": "markdown",
   "metadata": {},
   "source": [
    "## Section 14.2 Collaborative Filtering"
   ]
  },
  {
   "cell_type": "code",
   "execution_count": 19,
   "metadata": {},
   "outputs": [
    {
     "data": {
      "text/html": [
       "<div>\n",
       "<style scoped>\n",
       "    .dataframe tbody tr th:only-of-type {\n",
       "        vertical-align: middle;\n",
       "    }\n",
       "\n",
       "    .dataframe tbody tr th {\n",
       "        vertical-align: top;\n",
       "    }\n",
       "\n",
       "    .dataframe thead th {\n",
       "        text-align: right;\n",
       "    }\n",
       "</style>\n",
       "<table border=\"1\" class=\"dataframe\">\n",
       "  <thead>\n",
       "    <tr style=\"text-align: right;\">\n",
       "      <th></th>\n",
       "      <th>customerID</th>\n",
       "      <th>movieID</th>\n",
       "      <th>rating</th>\n",
       "    </tr>\n",
       "  </thead>\n",
       "  <tbody>\n",
       "    <tr>\n",
       "      <th>0</th>\n",
       "      <td>30878</td>\n",
       "      <td>1</td>\n",
       "      <td>4</td>\n",
       "    </tr>\n",
       "    <tr>\n",
       "      <th>1</th>\n",
       "      <td>30878</td>\n",
       "      <td>5</td>\n",
       "      <td>1</td>\n",
       "    </tr>\n",
       "    <tr>\n",
       "      <th>2</th>\n",
       "      <td>30878</td>\n",
       "      <td>18</td>\n",
       "      <td>3</td>\n",
       "    </tr>\n",
       "    <tr>\n",
       "      <th>3</th>\n",
       "      <td>30878</td>\n",
       "      <td>28</td>\n",
       "      <td>3</td>\n",
       "    </tr>\n",
       "    <tr>\n",
       "      <th>4</th>\n",
       "      <td>30878</td>\n",
       "      <td>30</td>\n",
       "      <td>4</td>\n",
       "    </tr>\n",
       "    <tr>\n",
       "      <th>5</th>\n",
       "      <td>30878</td>\n",
       "      <td>44</td>\n",
       "      <td>5</td>\n",
       "    </tr>\n",
       "    <tr>\n",
       "      <th>6</th>\n",
       "      <td>124105</td>\n",
       "      <td>1</td>\n",
       "      <td>4</td>\n",
       "    </tr>\n",
       "    <tr>\n",
       "      <th>7</th>\n",
       "      <td>822109</td>\n",
       "      <td>1</td>\n",
       "      <td>5</td>\n",
       "    </tr>\n",
       "    <tr>\n",
       "      <th>8</th>\n",
       "      <td>823519</td>\n",
       "      <td>1</td>\n",
       "      <td>3</td>\n",
       "    </tr>\n",
       "    <tr>\n",
       "      <th>9</th>\n",
       "      <td>823519</td>\n",
       "      <td>8</td>\n",
       "      <td>1</td>\n",
       "    </tr>\n",
       "    <tr>\n",
       "      <th>10</th>\n",
       "      <td>823519</td>\n",
       "      <td>17</td>\n",
       "      <td>4</td>\n",
       "    </tr>\n",
       "    <tr>\n",
       "      <th>11</th>\n",
       "      <td>823519</td>\n",
       "      <td>28</td>\n",
       "      <td>4</td>\n",
       "    </tr>\n",
       "    <tr>\n",
       "      <th>12</th>\n",
       "      <td>823519</td>\n",
       "      <td>30</td>\n",
       "      <td>5</td>\n",
       "    </tr>\n",
       "    <tr>\n",
       "      <th>13</th>\n",
       "      <td>885013</td>\n",
       "      <td>1</td>\n",
       "      <td>4</td>\n",
       "    </tr>\n",
       "    <tr>\n",
       "      <th>14</th>\n",
       "      <td>885013</td>\n",
       "      <td>5</td>\n",
       "      <td>5</td>\n",
       "    </tr>\n",
       "    <tr>\n",
       "      <th>15</th>\n",
       "      <td>893988</td>\n",
       "      <td>1</td>\n",
       "      <td>3</td>\n",
       "    </tr>\n",
       "    <tr>\n",
       "      <th>16</th>\n",
       "      <td>893988</td>\n",
       "      <td>30</td>\n",
       "      <td>4</td>\n",
       "    </tr>\n",
       "    <tr>\n",
       "      <th>17</th>\n",
       "      <td>893988</td>\n",
       "      <td>44</td>\n",
       "      <td>4</td>\n",
       "    </tr>\n",
       "    <tr>\n",
       "      <th>18</th>\n",
       "      <td>1248029</td>\n",
       "      <td>1</td>\n",
       "      <td>3</td>\n",
       "    </tr>\n",
       "    <tr>\n",
       "      <th>19</th>\n",
       "      <td>1248029</td>\n",
       "      <td>28</td>\n",
       "      <td>2</td>\n",
       "    </tr>\n",
       "    <tr>\n",
       "      <th>20</th>\n",
       "      <td>1248029</td>\n",
       "      <td>30</td>\n",
       "      <td>4</td>\n",
       "    </tr>\n",
       "    <tr>\n",
       "      <th>21</th>\n",
       "      <td>1248029</td>\n",
       "      <td>48</td>\n",
       "      <td>3</td>\n",
       "    </tr>\n",
       "    <tr>\n",
       "      <th>22</th>\n",
       "      <td>1503895</td>\n",
       "      <td>1</td>\n",
       "      <td>4</td>\n",
       "    </tr>\n",
       "    <tr>\n",
       "      <th>23</th>\n",
       "      <td>1842128</td>\n",
       "      <td>1</td>\n",
       "      <td>4</td>\n",
       "    </tr>\n",
       "    <tr>\n",
       "      <th>24</th>\n",
       "      <td>1842128</td>\n",
       "      <td>30</td>\n",
       "      <td>3</td>\n",
       "    </tr>\n",
       "    <tr>\n",
       "      <th>25</th>\n",
       "      <td>2238063</td>\n",
       "      <td>1</td>\n",
       "      <td>3</td>\n",
       "    </tr>\n",
       "  </tbody>\n",
       "</table>\n",
       "</div>"
      ],
      "text/plain": [
       "    customerID  movieID  rating\n",
       "0        30878        1       4\n",
       "1        30878        5       1\n",
       "2        30878       18       3\n",
       "3        30878       28       3\n",
       "4        30878       30       4\n",
       "5        30878       44       5\n",
       "6       124105        1       4\n",
       "7       822109        1       5\n",
       "8       823519        1       3\n",
       "9       823519        8       1\n",
       "10      823519       17       4\n",
       "11      823519       28       4\n",
       "12      823519       30       5\n",
       "13      885013        1       4\n",
       "14      885013        5       5\n",
       "15      893988        1       3\n",
       "16      893988       30       4\n",
       "17      893988       44       4\n",
       "18     1248029        1       3\n",
       "19     1248029       28       2\n",
       "20     1248029       30       4\n",
       "21     1248029       48       3\n",
       "22     1503895        1       4\n",
       "23     1842128        1       4\n",
       "24     1842128       30       3\n",
       "25     2238063        1       3"
      ]
     },
     "execution_count": 19,
     "metadata": {},
     "output_type": "execute_result"
    }
   ],
   "source": [
    "ratings = pd.DataFrame([\n",
    "    [30878, 1, 4], [30878, 5, 1], [30878, 18, 3], [30878, 28, 3], [30878, 30, 4], [30878, 44, 5], \n",
    "    [124105, 1, 4], \n",
    "    [822109, 1, 5], \n",
    "    [823519, 1, 3], [823519, 8, 1], [823519, 17, 4], [823519, 28, 4], [823519, 30, 5], \n",
    "    [885013, 1, 4], [885013, 5, 5], \n",
    "    [893988, 1, 3], [893988, 30, 4], [893988, 44, 4], \n",
    "    [1248029, 1, 3], [1248029, 28, 2], [1248029, 30, 4], [1248029, 48, 3], \n",
    "    [1503895, 1, 4], \n",
    "    [1842128, 1, 4], [1842128, 30, 3], \n",
    "    [2238063, 1, 3], \n",
    "], columns=['customerID', 'movieID', 'rating'])\n",
    "ratings"
   ]
  },
  {
   "cell_type": "code",
   "execution_count": 20,
   "metadata": {},
   "outputs": [
    {
     "data": {
      "text/plain": [
       "<surprise.reader.Reader at 0x1e5e3bc0c48>"
      ]
     },
     "execution_count": 20,
     "metadata": {},
     "output_type": "execute_result"
    }
   ],
   "source": [
    "# https://surprise.readthedocs.io/en/stable/reader.html\n",
    "# The Reader class is used to parse a file containing ratings.\n",
    "# Such a file is assumed to specify only one rating per line, and each line needs to respect the following structure:\n",
    "# user ; item ; rating ; [timestamp]\n",
    "# rating_scale=(minimum_rating, maximum_rating)\n",
    "reader = Reader(rating_scale=(1, 5))\n",
    "reader"
   ]
  },
  {
   "cell_type": "code",
   "execution_count": 21,
   "metadata": {},
   "outputs": [
    {
     "name": "stdout",
     "output_type": "stream",
     "text": [
      "Computing the cosine similarity matrix...\n",
      "Done computing similarity matrix.\n",
      "user: 823519     item: 30         r_ui = 5.00   est = 3.54   {'was_impossible': True, 'reason': 'User and/or item is unknown.'}\n"
     ]
    }
   ],
   "source": [
    "data = Dataset.load_from_df(ratings[['customerID', 'movieID', 'rating']], reader)\n",
    "trainset = data.build_full_trainset() # https://surprise.readthedocs.io/en/stable/index.html\n",
    "sim_options = {'name': 'cosine', 'user_based': False}  # compute cosine similarities between items\n",
    "algo = KNNBasic(sim_options=sim_options) # https://surprise.readthedocs.io/en/stable/knn_inspired.html\n",
    "algo.fit(trainset)\n",
    "pred = algo.predict(str(823519), str(30), r_ui=5, verbose=True) # r_ui=5 is the true rating"
   ]
  },
  {
   "cell_type": "code",
   "execution_count": 22,
   "metadata": {},
   "outputs": [
    {
     "name": "stdout",
     "output_type": "stream",
     "text": [
      "Computing the pearson similarity matrix...\n",
      "Done computing similarity matrix.\n",
      "user: 823519     item: 30         r_ui = 5.00   est = 3.54   {'was_impossible': True, 'reason': 'User and/or item is unknown.'}\n"
     ]
    }
   ],
   "source": [
    "data = Dataset.load_from_df(ratings[['customerID', 'movieID', 'rating']], reader)\n",
    "trainset = data.build_full_trainset() # https://surprise.readthedocs.io/en/stable/index.html\n",
    "sim_options = {'name': 'pearson', 'user_based': False}  # compute cosine similarities between items\n",
    "algo = KNNBasic(sim_options=sim_options) # https://surprise.readthedocs.io/en/stable/knn_inspired.html\n",
    "algo.fit(trainset)\n",
    "pred = algo.predict(str(823519), str(30), r_ui=5, verbose=True)"
   ]
  },
  {
   "cell_type": "markdown",
   "metadata": {},
   "source": [
    "## Table 14.11"
   ]
  },
  {
   "cell_type": "code",
   "execution_count": 23,
   "metadata": {},
   "outputs": [
    {
     "data": {
      "text/html": [
       "<div>\n",
       "<style scoped>\n",
       "    .dataframe tbody tr th:only-of-type {\n",
       "        vertical-align: middle;\n",
       "    }\n",
       "\n",
       "    .dataframe tbody tr th {\n",
       "        vertical-align: top;\n",
       "    }\n",
       "\n",
       "    .dataframe thead th {\n",
       "        text-align: right;\n",
       "    }\n",
       "</style>\n",
       "<table border=\"1\" class=\"dataframe\">\n",
       "  <thead>\n",
       "    <tr style=\"text-align: right;\">\n",
       "      <th></th>\n",
       "      <th>itemID</th>\n",
       "      <th>userID</th>\n",
       "      <th>rating</th>\n",
       "    </tr>\n",
       "  </thead>\n",
       "  <tbody>\n",
       "    <tr>\n",
       "      <th>0</th>\n",
       "      <td>49</td>\n",
       "      <td>665</td>\n",
       "      <td>1</td>\n",
       "    </tr>\n",
       "    <tr>\n",
       "      <th>1</th>\n",
       "      <td>97</td>\n",
       "      <td>974</td>\n",
       "      <td>5</td>\n",
       "    </tr>\n",
       "    <tr>\n",
       "      <th>2</th>\n",
       "      <td>53</td>\n",
       "      <td>542</td>\n",
       "      <td>5</td>\n",
       "    </tr>\n",
       "    <tr>\n",
       "      <th>3</th>\n",
       "      <td>5</td>\n",
       "      <td>634</td>\n",
       "      <td>3</td>\n",
       "    </tr>\n",
       "    <tr>\n",
       "      <th>4</th>\n",
       "      <td>33</td>\n",
       "      <td>694</td>\n",
       "      <td>2</td>\n",
       "    </tr>\n",
       "    <tr>\n",
       "      <th>...</th>\n",
       "      <td>...</td>\n",
       "      <td>...</td>\n",
       "      <td>...</td>\n",
       "    </tr>\n",
       "    <tr>\n",
       "      <th>4995</th>\n",
       "      <td>29</td>\n",
       "      <td>211</td>\n",
       "      <td>4</td>\n",
       "    </tr>\n",
       "    <tr>\n",
       "      <th>4996</th>\n",
       "      <td>93</td>\n",
       "      <td>901</td>\n",
       "      <td>5</td>\n",
       "    </tr>\n",
       "    <tr>\n",
       "      <th>4997</th>\n",
       "      <td>22</td>\n",
       "      <td>336</td>\n",
       "      <td>3</td>\n",
       "    </tr>\n",
       "    <tr>\n",
       "      <th>4998</th>\n",
       "      <td>46</td>\n",
       "      <td>584</td>\n",
       "      <td>3</td>\n",
       "    </tr>\n",
       "    <tr>\n",
       "      <th>4999</th>\n",
       "      <td>49</td>\n",
       "      <td>52</td>\n",
       "      <td>3</td>\n",
       "    </tr>\n",
       "  </tbody>\n",
       "</table>\n",
       "<p>5000 rows × 3 columns</p>\n",
       "</div>"
      ],
      "text/plain": [
       "      itemID  userID  rating\n",
       "0         49     665       1\n",
       "1         97     974       5\n",
       "2         53     542       5\n",
       "3          5     634       3\n",
       "4         33     694       2\n",
       "...      ...     ...     ...\n",
       "4995      29     211       4\n",
       "4996      93     901       5\n",
       "4997      22     336       3\n",
       "4998      46     584       3\n",
       "4999      49      52       3\n",
       "\n",
       "[5000 rows x 3 columns]"
      ]
     },
     "execution_count": 23,
     "metadata": {},
     "output_type": "execute_result"
    }
   ],
   "source": [
    "import random\n",
    "\n",
    "random.seed(0)\n",
    "nratings = 5000\n",
    "randomData = pd.DataFrame({\n",
    "    'itemID': [random.randint(0,99) for _ in range(nratings)],\n",
    "    'userID': [random.randint(0,999) for _ in range(nratings)],\n",
    "    'rating': [random.randint(1,5) for _ in range(nratings)],\n",
    "})\n",
    "randomData"
   ]
  },
  {
   "cell_type": "code",
   "execution_count": 24,
   "metadata": {},
   "outputs": [],
   "source": [
    "def get_top_n(predictions, NumberOfItems):\n",
    "    # First map the predictions to each user.\n",
    "    byUser = defaultdict(list)\n",
    "    for p in predictions:\n",
    "        byUser[p.uid].append(p)\n",
    "    \n",
    "    # For each user, reduce predictions to top-n\n",
    "    for uid, userPredictions in byUser.items():\n",
    "        byUser[uid] = heapq.nlargest(NumberOfItems, userPredictions, key=lambda p: p.est)\n",
    "    return byUser"
   ]
  },
  {
   "cell_type": "markdown",
   "metadata": {},
   "source": [
    "## Table 14.12"
   ]
  },
  {
   "cell_type": "code",
   "execution_count": 25,
   "metadata": {},
   "outputs": [
    {
     "name": "stdout",
     "output_type": "stream",
     "text": [
      "Computing the cosine similarity matrix...\n",
      "Done computing similarity matrix.\n"
     ]
    },
    {
     "data": {
      "text/plain": [
       "<surprise.prediction_algorithms.knns.KNNBasic at 0x1e5e21a0cc8>"
      ]
     },
     "execution_count": 25,
     "metadata": {},
     "output_type": "execute_result"
    }
   ],
   "source": [
    "# Convert thes data set into the format required by the surprise package\n",
    "# The columns must correspond to user id, item id and ratings (in that order)\n",
    "reader = Reader(rating_scale=(1, 5))\n",
    "data = Dataset.load_from_df(randomData[['userID', 'itemID', 'rating']], reader)\n",
    "\n",
    "# Split into training and test set\n",
    "trainset, testset = train_test_split(data, test_size=.25, random_state=1)\n",
    "\n",
    "## User-based filtering\n",
    "# compute cosine similarity between users \n",
    "sim_options = {'name': 'cosine', 'user_based': True}\n",
    "algo = KNNBasic(sim_options=sim_options)\n",
    "algo.fit(trainset)"
   ]
  },
  {
   "cell_type": "code",
   "execution_count": 26,
   "metadata": {},
   "outputs": [],
   "source": [
    "# Then predict ratings for all pairs (u, i) that are NOT in the training set.\n",
    "predictions = algo.test(testset)\n",
    "NumberOfItems = 4\n",
    "top_n = get_top_n(predictions, NumberOfItems)"
   ]
  },
  {
   "cell_type": "code",
   "execution_count": 27,
   "metadata": {},
   "outputs": [
    {
     "name": "stdout",
     "output_type": "stream",
     "text": [
      "\n",
      "Top-4 recommended items for each user\n",
      "User 6\n",
      "  Item 6 (5.00)  Item 77 (2.50)  Item 60 (1.00)\n",
      "User 222\n",
      "  Item 77 (3.50)  Item 75 (2.78)\n",
      "User 424\n",
      "  Item 14 (3.50)  Item 45 (3.10)  Item 54 (2.34)\n",
      "User 87\n",
      "  Item 27 (3.00)  Item 54 (3.00)  Item 82 (3.00)  Item 32 (1.00)\n",
      "User 121\n",
      "  Item 98 (3.48)  Item 32 (2.83)\n",
      "\n"
     ]
    }
   ],
   "source": [
    "NumberOfUsers=5\n",
    "# Print the recommended items for each user\n",
    "print()\n",
    "print('Top-4 recommended items for each user')\n",
    "for uid, user_ratings in list(top_n.items())[:NumberOfUsers]:\n",
    "    print('User {}'.format(uid))\n",
    "    for prediction in user_ratings:\n",
    "        print('  Item {0.iid} ({0.est:.2f})'.format(prediction), end='')\n",
    "    print()\n",
    "print()"
   ]
  },
  {
   "cell_type": "code",
   "execution_count": 28,
   "metadata": {},
   "outputs": [
    {
     "name": "stdout",
     "output_type": "stream",
     "text": [
      "Computing the cosine similarity matrix...\n",
      "Done computing similarity matrix.\n",
      "\n",
      "Top-n recommended items for each user\n",
      "User 6\n",
      "  Item 77 (3.00)  Item 60 (3.00)  Item 6 (3.00)\n",
      "User 222\n",
      "  Item 77 (2.24)  Item 75 (2.00)\n",
      "User 424\n",
      "  Item 54 (3.47)  Item 14 (3.44)  Item 45 (3.00)\n",
      "User 87\n",
      "  Item 27 (3.00)  Item 32 (3.00)  Item 82 (3.00)  Item 54 (2.50)\n",
      "User 121\n",
      "  Item 32 (3.06)  Item 98 (2.31)\n"
     ]
    }
   ],
   "source": [
    "## Item-based filtering\n",
    "# compute cosine similarity between users \n",
    "sim_options = {'name': 'cosine', 'user_based': False}\n",
    "algo = KNNBasic(sim_options=sim_options)\n",
    "algo.fit(trainset)\n",
    "\n",
    "# Than predict ratings for all pairs (u, i) that are NOT in the training set.\n",
    "predictions = algo.test(testset)\n",
    "NumberOfItems = 4\n",
    "NumberOfUsers = 5\n",
    "\n",
    "top_n = get_top_n(predictions, NumberOfItems)\n",
    "\n",
    "# Print the recommended items for each user\n",
    "print()\n",
    "print('Top-n recommended items for each user')\n",
    "for uid, user_ratings in list(top_n.items())[:NumberOfUsers]:\n",
    "    print('User {}'.format(uid))\n",
    "    for prediction in user_ratings:\n",
    "        print('  Item {0.iid} ({0.est:.2f})'.format(prediction), end='')\n",
    "    print()"
   ]
  },
  {
   "cell_type": "code",
   "execution_count": 29,
   "metadata": {},
   "outputs": [
    {
     "name": "stdout",
     "output_type": "stream",
     "text": [
      "Computing the cosine similarity matrix...\n",
      "Done computing similarity matrix.\n"
     ]
    },
    {
     "data": {
      "text/plain": [
       "Prediction(uid=383, iid=7, r_ui=None, est=2.3661840936304324, details={'actual_k': 4, 'was_impossible': False})"
      ]
     },
     "execution_count": 29,
     "metadata": {},
     "output_type": "execute_result"
    }
   ],
   "source": [
    "## Build a model using the full dataset\n",
    "trainset = data.build_full_trainset()\n",
    "sim_options = {'name': 'cosine', 'user_based': False}\n",
    "algo = KNNBasic(sim_options=sim_options)\n",
    "algo.fit(trainset)\n",
    "\n",
    "# Predict rating for user 383 and item 7\n",
    "algo.predict(383, 7)"
   ]
  },
  {
   "cell_type": "code",
   "execution_count": 30,
   "metadata": {},
   "outputs": [
    {
     "data": {
      "text/plain": [
       "Prediction(uid=823519, iid=7, r_ui=None, est=2.9912, details={'was_impossible': True, 'reason': 'User and/or item is unknown.'})"
      ]
     },
     "execution_count": 30,
     "metadata": {},
     "output_type": "execute_result"
    }
   ],
   "source": [
    "algo.predict(823519, 7)"
   ]
  },
  {
   "cell_type": "code",
   "execution_count": 31,
   "metadata": {},
   "outputs": [
    {
     "name": "stdout",
     "output_type": "stream",
     "text": [
      "The value of cosine of pi / 2 is : 6.123233995736766e-17\n"
     ]
    }
   ],
   "source": [
    "# Python code to demonstrate the working of cos()\n",
    "     \n",
    "# importing \"math\" for mathematical operations \n",
    "import math \n",
    "    \n",
    "a = math.pi / 2\n",
    "     \n",
    "# returning the value of cosine of pi / 2 \n",
    "print (\"The value of cosine of pi / 2 is : \", end =\"\") \n",
    "print (math.cos(a)) "
   ]
  },
  {
   "cell_type": "code",
   "execution_count": 32,
   "metadata": {},
   "outputs": [
    {
     "data": {
      "text/plain": [
       "-1.0"
      ]
     },
     "execution_count": 32,
     "metadata": {},
     "output_type": "execute_result"
    }
   ],
   "source": [
    "math.cos(math.pi)"
   ]
  },
  {
   "cell_type": "code",
   "execution_count": 33,
   "metadata": {},
   "outputs": [
    {
     "data": {
      "text/plain": [
       "6.123233995736766e-17"
      ]
     },
     "execution_count": 33,
     "metadata": {},
     "output_type": "execute_result"
    }
   ],
   "source": [
    "math.cos(math.pi/2)"
   ]
  },
  {
   "cell_type": "code",
   "execution_count": 34,
   "metadata": {},
   "outputs": [
    {
     "data": {
      "text/plain": [
       "1.0"
      ]
     },
     "execution_count": 34,
     "metadata": {},
     "output_type": "execute_result"
    }
   ],
   "source": [
    "math.cos(math.pi*0)"
   ]
  },
  {
   "cell_type": "code",
   "execution_count": null,
   "metadata": {},
   "outputs": [],
   "source": []
  }
 ],
 "metadata": {
  "kernelspec": {
   "display_name": "Python 3 (ipykernel)",
   "language": "python",
   "name": "python3"
  },
  "language_info": {
   "codemirror_mode": {
    "name": "ipython",
    "version": 3
   },
   "file_extension": ".py",
   "mimetype": "text/x-python",
   "name": "python",
   "nbconvert_exporter": "python",
   "pygments_lexer": "ipython3",
   "version": "3.9.17"
  }
 },
 "nbformat": 4,
 "nbformat_minor": 4
}
