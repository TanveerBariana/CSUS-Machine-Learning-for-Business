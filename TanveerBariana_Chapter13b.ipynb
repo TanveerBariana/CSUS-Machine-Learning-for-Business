{
 "cells": [
  {
   "cell_type": "code",
   "execution_count": 47,
   "metadata": {},
   "outputs": [],
   "source": [
    "%matplotlib inline\n",
    "from pathlib import Path\n",
    "import pandas as pd\n",
    "from sklearn import preprocessing\n",
    "from sklearn.model_selection import train_test_split, KFold\n",
    "from sklearn.metrics import accuracy_score\n",
    "from sklearn.ensemble import AdaBoostClassifier, BaggingClassifier, RandomForestClassifier\n",
    "from sklearn.neighbors import NearestNeighbors, KNeighborsClassifier, KNeighborsRegressor\n",
    "from dmba import regressionSummary, classificationSummary, liftChart, gainsChart\n",
    "from sklearn.metrics import accuracy_score, confusion_matrix, mean_squared_error\n",
    "import matplotlib.pylab as plt\n",
    "import numpy as np"
   ]
  },
  {
   "cell_type": "code",
   "execution_count": 48,
   "metadata": {},
   "outputs": [],
   "source": [
    "# Working directory:\n",
    "#\n",
    "# We assume that data are kept in the same directory as the notebook. If you keep your \n",
    "# data in a different folder, replace the argument of the `Path`\n",
    "DATA = Path('C:\\\\Users\\\\tanve\\\\Documents\\\\206\\\\dmba\\\\')\n",
    "# DATA = Path('C:/Users/profm/OneDrive/teaching/DS110/dmba/')\n",
    "# and then load data using \n",
    "#\n",
    "# pd.read_csv(DATA / ‘filename.csv’)"
   ]
  },
  {
   "cell_type": "markdown",
   "metadata": {},
   "source": [
    "### Hair Care Product—Uplift Modeling. This problem uses the data set in Hair-Care- Product.csv, courtesy of SAS. In this hypothetical case, a promotion for a hair care product was sent to some members of a buyers club. Purchases were then recorded for both the members who got the promotion and those who did not."
   ]
  },
  {
   "cell_type": "code",
   "execution_count": 49,
   "metadata": {},
   "outputs": [
    {
     "data": {
      "text/plain": [
       "Purchase          int64\n",
       "Age               int64\n",
       "Hair Color       object\n",
       "U.S. Region      object\n",
       "Validation        int64\n",
       "Promotion_ord     int64\n",
       "Gender_ord        int64\n",
       "Residence_ord     int64\n",
       "dtype: object"
      ]
     },
     "execution_count": 49,
     "metadata": {},
     "output_type": "execute_result"
    }
   ],
   "source": [
    "hair_df = pd.read_csv(DATA / 'Hair-Care-Product.csv')\n",
    "hair_df.dtypes"
   ]
  },
  {
   "cell_type": "markdown",
   "metadata": {},
   "source": [
    "#### a. What is the purchase propensity"
   ]
  },
  {
   "cell_type": "code",
   "execution_count": 50,
   "metadata": {},
   "outputs": [
    {
     "data": {
      "text/html": [
       "<div>\n",
       "<style scoped>\n",
       "    .dataframe tbody tr th:only-of-type {\n",
       "        vertical-align: middle;\n",
       "    }\n",
       "\n",
       "    .dataframe tbody tr th {\n",
       "        vertical-align: top;\n",
       "    }\n",
       "\n",
       "    .dataframe thead th {\n",
       "        text-align: right;\n",
       "    }\n",
       "</style>\n",
       "<table border=\"1\" class=\"dataframe\">\n",
       "  <thead>\n",
       "    <tr style=\"text-align: right;\">\n",
       "      <th>Promotion_ord</th>\n",
       "      <th>0</th>\n",
       "      <th>1</th>\n",
       "    </tr>\n",
       "    <tr>\n",
       "      <th>Purchase</th>\n",
       "      <th></th>\n",
       "      <th></th>\n",
       "    </tr>\n",
       "  </thead>\n",
       "  <tbody>\n",
       "    <tr>\n",
       "      <th>0</th>\n",
       "      <td>4992</td>\n",
       "      <td>4896</td>\n",
       "    </tr>\n",
       "    <tr>\n",
       "      <th>1</th>\n",
       "      <td>32</td>\n",
       "      <td>80</td>\n",
       "    </tr>\n",
       "  </tbody>\n",
       "</table>\n",
       "</div>"
      ],
      "text/plain": [
       "Promotion_ord     0     1\n",
       "Purchase                 \n",
       "0              4992  4896\n",
       "1                32    80"
      ]
     },
     "execution_count": 50,
     "metadata": {},
     "output_type": "execute_result"
    }
   ],
   "source": [
    "tbl = pd.crosstab(hair_df[\"Purchase\"], hair_df[\"Promotion_ord\"])\n",
    "tbl"
   ]
  },
  {
   "cell_type": "code",
   "execution_count": 51,
   "metadata": {},
   "outputs": [
    {
     "data": {
      "text/html": [
       "<div>\n",
       "<style scoped>\n",
       "    .dataframe tbody tr th:only-of-type {\n",
       "        vertical-align: middle;\n",
       "    }\n",
       "\n",
       "    .dataframe tbody tr th {\n",
       "        vertical-align: top;\n",
       "    }\n",
       "\n",
       "    .dataframe thead th {\n",
       "        text-align: right;\n",
       "    }\n",
       "</style>\n",
       "<table border=\"1\" class=\"dataframe\">\n",
       "  <thead>\n",
       "    <tr style=\"text-align: right;\">\n",
       "      <th>Promotion_ord</th>\n",
       "      <th>0</th>\n",
       "      <th>1</th>\n",
       "    </tr>\n",
       "    <tr>\n",
       "      <th>Purchase</th>\n",
       "      <th></th>\n",
       "      <th></th>\n",
       "    </tr>\n",
       "  </thead>\n",
       "  <tbody>\n",
       "    <tr>\n",
       "      <th>0</th>\n",
       "      <td>0.99</td>\n",
       "      <td>0.98</td>\n",
       "    </tr>\n",
       "    <tr>\n",
       "      <th>1</th>\n",
       "      <td>0.01</td>\n",
       "      <td>0.02</td>\n",
       "    </tr>\n",
       "  </tbody>\n",
       "</table>\n",
       "</div>"
      ],
      "text/plain": [
       "Promotion_ord     0     1\n",
       "Purchase                 \n",
       "0              0.99  0.98\n",
       "1              0.01  0.02"
      ]
     },
     "execution_count": 51,
     "metadata": {},
     "output_type": "execute_result"
    }
   ],
   "source": [
    "propTbl = tbl / tbl.sum()\n",
    "propTbl.round(2)"
   ]
  },
  {
   "cell_type": "markdown",
   "metadata": {},
   "source": [
    "##### i. among those who received the promotion"
   ]
  },
  {
   "cell_type": "markdown",
   "metadata": {},
   "source": [
    "2% "
   ]
  },
  {
   "cell_type": "markdown",
   "metadata": {},
   "source": [
    "##### ii. among those who did not receive the promotion?"
   ]
  },
  {
   "cell_type": "markdown",
   "metadata": {},
   "source": [
    "1%"
   ]
  },
  {
   "cell_type": "markdown",
   "metadata": {},
   "source": [
    "#### b. Partition the data into training (60%) and validation (40%) and fit:"
   ]
  },
  {
   "cell_type": "code",
   "execution_count": 52,
   "metadata": {},
   "outputs": [
    {
     "data": {
      "text/plain": [
       "Index(['Purchase', 'Age', 'Hair Color', 'U.S. Region', 'Validation',\n",
       "       'Promotion_ord', 'Gender_ord', 'Residence_ord'],\n",
       "      dtype='object')"
      ]
     },
     "execution_count": 52,
     "metadata": {},
     "output_type": "execute_result"
    }
   ],
   "source": [
    "hair_df.columns"
   ]
  },
  {
   "cell_type": "markdown",
   "metadata": {},
   "source": [
    "##### i. Uplift using a Random Forest."
   ]
  },
  {
   "cell_type": "code",
   "execution_count": 53,
   "metadata": {},
   "outputs": [],
   "source": [
    "hair_df['Hair Color'] = hair_df['Hair Color'].astype('category')\n",
    "hair_df['U.S. Region'] = hair_df['U.S. Region'].astype('category')\n",
    "#hair_df['Promotion_ord'] = hair_df['Promotion_ord'].astype('category')\n",
    "hair_df['Gender_ord'] = hair_df['Gender_ord'].astype('category')\n",
    "hair_df['Residence_ord'] = hair_df['Residence_ord'].astype('category')\n",
    "#X = pd.get_dummies(hair_df['Purchase'],prefix_sep='_', drop_first=False)\n",
    "#X = pd.get_dummies(hair_df.drop(columns=['Purchase', 'Hair Color', 'U.S. Region', 'Validation']),prefix_sep='_', drop_first=False)\n",
    "X = pd.get_dummies(hair_df.drop(columns=['Purchase', 'Validation']),prefix_sep='_', drop_first=False)\n",
    "y = hair_df['Purchase'] \n",
    "train_X, valid_X, train_y, valid_y = train_test_split(X,y, train_size=0.6, random_state=1)"
   ]
  },
  {
   "cell_type": "code",
   "execution_count": 54,
   "metadata": {},
   "outputs": [
    {
     "data": {
      "text/plain": [
       "Index(['Age', 'Promotion_ord', 'Hair Color_Black', 'Hair Color_Blond',\n",
       "       'Hair Color_Brown', 'Hair Color_Red', 'U.S. Region_Northeast',\n",
       "       'U.S. Region_Northwest', 'U.S. Region_Southeast',\n",
       "       'U.S. Region_Southwest', 'Gender_ord_0', 'Gender_ord_1',\n",
       "       'Residence_ord_0', 'Residence_ord_1'],\n",
       "      dtype='object')"
      ]
     },
     "execution_count": 54,
     "metadata": {},
     "output_type": "execute_result"
    }
   ],
   "source": [
    "X.columns"
   ]
  },
  {
   "cell_type": "code",
   "execution_count": 55,
   "metadata": {},
   "outputs": [
    {
     "data": {
      "text/html": [
       "<style>#sk-container-id-3 {color: black;background-color: white;}#sk-container-id-3 pre{padding: 0;}#sk-container-id-3 div.sk-toggleable {background-color: white;}#sk-container-id-3 label.sk-toggleable__label {cursor: pointer;display: block;width: 100%;margin-bottom: 0;padding: 0.3em;box-sizing: border-box;text-align: center;}#sk-container-id-3 label.sk-toggleable__label-arrow:before {content: \"▸\";float: left;margin-right: 0.25em;color: #696969;}#sk-container-id-3 label.sk-toggleable__label-arrow:hover:before {color: black;}#sk-container-id-3 div.sk-estimator:hover label.sk-toggleable__label-arrow:before {color: black;}#sk-container-id-3 div.sk-toggleable__content {max-height: 0;max-width: 0;overflow: hidden;text-align: left;background-color: #f0f8ff;}#sk-container-id-3 div.sk-toggleable__content pre {margin: 0.2em;color: black;border-radius: 0.25em;background-color: #f0f8ff;}#sk-container-id-3 input.sk-toggleable__control:checked~div.sk-toggleable__content {max-height: 200px;max-width: 100%;overflow: auto;}#sk-container-id-3 input.sk-toggleable__control:checked~label.sk-toggleable__label-arrow:before {content: \"▾\";}#sk-container-id-3 div.sk-estimator input.sk-toggleable__control:checked~label.sk-toggleable__label {background-color: #d4ebff;}#sk-container-id-3 div.sk-label input.sk-toggleable__control:checked~label.sk-toggleable__label {background-color: #d4ebff;}#sk-container-id-3 input.sk-hidden--visually {border: 0;clip: rect(1px 1px 1px 1px);clip: rect(1px, 1px, 1px, 1px);height: 1px;margin: -1px;overflow: hidden;padding: 0;position: absolute;width: 1px;}#sk-container-id-3 div.sk-estimator {font-family: monospace;background-color: #f0f8ff;border: 1px dotted black;border-radius: 0.25em;box-sizing: border-box;margin-bottom: 0.5em;}#sk-container-id-3 div.sk-estimator:hover {background-color: #d4ebff;}#sk-container-id-3 div.sk-parallel-item::after {content: \"\";width: 100%;border-bottom: 1px solid gray;flex-grow: 1;}#sk-container-id-3 div.sk-label:hover label.sk-toggleable__label {background-color: #d4ebff;}#sk-container-id-3 div.sk-serial::before {content: \"\";position: absolute;border-left: 1px solid gray;box-sizing: border-box;top: 0;bottom: 0;left: 50%;z-index: 0;}#sk-container-id-3 div.sk-serial {display: flex;flex-direction: column;align-items: center;background-color: white;padding-right: 0.2em;padding-left: 0.2em;position: relative;}#sk-container-id-3 div.sk-item {position: relative;z-index: 1;}#sk-container-id-3 div.sk-parallel {display: flex;align-items: stretch;justify-content: center;background-color: white;position: relative;}#sk-container-id-3 div.sk-item::before, #sk-container-id-3 div.sk-parallel-item::before {content: \"\";position: absolute;border-left: 1px solid gray;box-sizing: border-box;top: 0;bottom: 0;left: 50%;z-index: -1;}#sk-container-id-3 div.sk-parallel-item {display: flex;flex-direction: column;z-index: 1;position: relative;background-color: white;}#sk-container-id-3 div.sk-parallel-item:first-child::after {align-self: flex-end;width: 50%;}#sk-container-id-3 div.sk-parallel-item:last-child::after {align-self: flex-start;width: 50%;}#sk-container-id-3 div.sk-parallel-item:only-child::after {width: 0;}#sk-container-id-3 div.sk-dashed-wrapped {border: 1px dashed gray;margin: 0 0.4em 0.5em 0.4em;box-sizing: border-box;padding-bottom: 0.4em;background-color: white;}#sk-container-id-3 div.sk-label label {font-family: monospace;font-weight: bold;display: inline-block;line-height: 1.2em;}#sk-container-id-3 div.sk-label-container {text-align: center;}#sk-container-id-3 div.sk-container {/* jupyter's `normalize.less` sets `[hidden] { display: none; }` but bootstrap.min.css set `[hidden] { display: none !important; }` so we also need the `!important` here to be able to override the default hidden behavior on the sphinx rendered scikit-learn.org. See: https://github.com/scikit-learn/scikit-learn/issues/21755 */display: inline-block !important;position: relative;}#sk-container-id-3 div.sk-text-repr-fallback {display: none;}</style><div id=\"sk-container-id-3\" class=\"sk-top-container\"><div class=\"sk-text-repr-fallback\"><pre>RandomForestClassifier(random_state=1)</pre><b>In a Jupyter environment, please rerun this cell to show the HTML representation or trust the notebook. <br />On GitHub, the HTML representation is unable to render, please try loading this page with nbviewer.org.</b></div><div class=\"sk-container\" hidden><div class=\"sk-item\"><div class=\"sk-estimator sk-toggleable\"><input class=\"sk-toggleable__control sk-hidden--visually\" id=\"sk-estimator-id-3\" type=\"checkbox\" checked><label for=\"sk-estimator-id-3\" class=\"sk-toggleable__label sk-toggleable__label-arrow\">RandomForestClassifier</label><div class=\"sk-toggleable__content\"><pre>RandomForestClassifier(random_state=1)</pre></div></div></div></div></div>"
      ],
      "text/plain": [
       "RandomForestClassifier(random_state=1)"
      ]
     },
     "execution_count": 55,
     "metadata": {},
     "output_type": "execute_result"
    }
   ],
   "source": [
    "rf = RandomForestClassifier(n_estimators=100, random_state=1)\n",
    "rf.fit(train_X, train_y)"
   ]
  },
  {
   "cell_type": "code",
   "execution_count": 56,
   "metadata": {},
   "outputs": [
    {
     "name": "stdout",
     "output_type": "stream",
     "text": [
      "Confusion Matrix (Accuracy 0.9828)\n",
      "\n",
      "       Prediction\n",
      "Actual    0    1\n",
      "     0 3931   17\n",
      "     1   52    0\n"
     ]
    }
   ],
   "source": [
    "pred = rf.predict(valid_X)\n",
    "classificationSummary(valid_y, pred)"
   ]
  },
  {
   "cell_type": "code",
   "execution_count": 57,
   "metadata": {},
   "outputs": [
    {
     "data": {
      "text/html": [
       "<div>\n",
       "<style scoped>\n",
       "    .dataframe tbody tr th:only-of-type {\n",
       "        vertical-align: middle;\n",
       "    }\n",
       "\n",
       "    .dataframe tbody tr th {\n",
       "        vertical-align: top;\n",
       "    }\n",
       "\n",
       "    .dataframe thead th {\n",
       "        text-align: right;\n",
       "    }\n",
       "</style>\n",
       "<table border=\"1\" class=\"dataframe\">\n",
       "  <thead>\n",
       "    <tr style=\"text-align: right;\">\n",
       "      <th></th>\n",
       "      <th>probPromote</th>\n",
       "      <th>probNoPromote</th>\n",
       "      <th>uplift</th>\n",
       "    </tr>\n",
       "  </thead>\n",
       "  <tbody>\n",
       "    <tr>\n",
       "      <th>5525</th>\n",
       "      <td>0.670000</td>\n",
       "      <td>0.02</td>\n",
       "      <td>0.650000</td>\n",
       "    </tr>\n",
       "    <tr>\n",
       "      <th>1390</th>\n",
       "      <td>0.686667</td>\n",
       "      <td>0.06</td>\n",
       "      <td>0.626667</td>\n",
       "    </tr>\n",
       "    <tr>\n",
       "      <th>1414</th>\n",
       "      <td>0.635833</td>\n",
       "      <td>0.01</td>\n",
       "      <td>0.625833</td>\n",
       "    </tr>\n",
       "  </tbody>\n",
       "</table>\n",
       "</div>"
      ],
      "text/plain": [
       "      probPromote  probNoPromote    uplift\n",
       "5525     0.670000           0.02  0.650000\n",
       "1390     0.686667           0.06  0.626667\n",
       "1414     0.635833           0.01  0.625833"
      ]
     },
     "execution_count": 57,
     "metadata": {},
     "output_type": "execute_result"
    }
   ],
   "source": [
    "uplift_df = valid_X.copy() # Need to create a copy to allow modifying data\n",
    "uplift_df.Promotion_ord = 1\n",
    "predTreatment = rf.predict_proba(uplift_df)\n",
    "uplift_df.Promotion_ord = 0\n",
    "predControl = rf.predict_proba(uplift_df)\n",
    "upliftResult_df = pd.DataFrame({\n",
    "'probPromote': predTreatment[:,1],\n",
    "'probNoPromote': predControl[:,1],\n",
    "'uplift': predTreatment[:,1] - predControl[:,1],\n",
    "}, index=uplift_df.index)\n",
    "upliftResult_df = upliftResult_df.sort_values(by=['uplift'], ascending=False)\n",
    "upliftResult_df.head(3)"
   ]
  },
  {
   "cell_type": "markdown",
   "metadata": {},
   "source": [
    "##### ii. Uplift using k-NN."
   ]
  },
  {
   "cell_type": "code",
   "execution_count": 58,
   "metadata": {},
   "outputs": [
    {
     "data": {
      "text/plain": [
       "Index(['Purchase', 'Age', 'Promotion_ord', 'Hair Color_Black',\n",
       "       'Hair Color_Blond', 'Hair Color_Brown', 'Hair Color_Red',\n",
       "       'U.S. Region_Northeast', 'U.S. Region_Northwest',\n",
       "       'U.S. Region_Southeast', 'U.S. Region_Southwest', 'Gender_ord_0',\n",
       "       'Gender_ord_1', 'Residence_ord_0', 'Residence_ord_1'],\n",
       "      dtype='object')"
      ]
     },
     "execution_count": 58,
     "metadata": {},
     "output_type": "execute_result"
    }
   ],
   "source": [
    "hair_knn_df = pd.get_dummies(hair_df.drop(columns=['Validation']),prefix_sep='_', drop_first=False)\n",
    "hair_knn_df.columns"
   ]
  },
  {
   "cell_type": "code",
   "execution_count": 59,
   "metadata": {},
   "outputs": [],
   "source": [
    "train_df, valid_df= train_test_split(hair_knn_df, train_size=0.6, random_state=1)\n",
    "predictor = X.columns\n",
    "zpredictor = ['zAge', 'zPromotion_ord', 'zHair Color_Black', 'zHair Color_Blond',\n",
    "       'zHair Color_Brown', 'zHair Color_Red', 'zU.S. Region_Northeast',\n",
    "       'zU.S. Region_Northwest', 'zU.S. Region_Southeast',\n",
    "       'zU.S. Region_Southwest', 'zGender_ord_0', 'zGender_ord_1',\n",
    "       'zResidence_ord_0', 'zResidence_ord_1']\n",
    "outcome = 'Purchase'\n",
    "\n"
   ]
  },
  {
   "cell_type": "code",
   "execution_count": 60,
   "metadata": {},
   "outputs": [],
   "source": [
    "train_df, valid_df = train_test_split(hair_knn_df, test_size= 0.4, random_state= 1)\n",
    "kvalues = list(range(1, 21))\n",
    "accuracy_dict = {}\n",
    "scaler = preprocessing.StandardScaler()"
   ]
  },
  {
   "cell_type": "code",
   "execution_count": 61,
   "metadata": {},
   "outputs": [],
   "source": [
    "for k in kvalues:\n",
    "    knn_classifier = KNeighborsClassifier(n_neighbors=k)\n",
    "    kf = KFold(n_splits= 10, shuffle = True, random_state = 1)\n",
    "    accuracies = []\n",
    "\n",
    "    for train_index, valid_index in kf.split(train_df):\n",
    "        X_train, X_valid = train_df[predictor].iloc[train_index], train_df[predictor].iloc[valid_index]\n",
    "        y_train, y_valid = train_df[outcome].iloc[train_index], train_df[outcome].iloc[valid_index]\n",
    "        scaler.fit(X_train)\n",
    "        X_train_norm = scaler.transform(X_train)\n",
    "        X_valid_norm = scaler.transform(X_valid)\n",
    "        knn_classifier.fit(X_train_norm, y_train)\n",
    "        y_pred = knn_classifier.predict(X_valid_norm)\n",
    "        accuracy = accuracy_score(y_valid, y_pred)\n",
    "        accuracies.append(accuracy)\n",
    "    \n",
    "    mean_accuracy = np.mean(accuracies)\n",
    "    accuracy_dict[k] =  mean_accuracy"
   ]
  },
  {
   "cell_type": "code",
   "execution_count": 62,
   "metadata": {},
   "outputs": [
    {
     "name": "stdout",
     "output_type": "stream",
     "text": [
      "k = 1, Accuracy: 0.9803333333333333\n",
      "k = 2, Accuracy: 0.9898333333333333\n",
      "k = 3, Accuracy: 0.9896666666666667\n",
      "k = 4, Accuracy: 0.9899999999999999\n",
      "k = 5, Accuracy: 0.9899999999999999\n",
      "k = 6, Accuracy: 0.9899999999999999\n",
      "k = 7, Accuracy: 0.9899999999999999\n",
      "k = 8, Accuracy: 0.9899999999999999\n",
      "k = 9, Accuracy: 0.9899999999999999\n",
      "k = 10, Accuracy: 0.9899999999999999\n",
      "k = 11, Accuracy: 0.9899999999999999\n",
      "k = 12, Accuracy: 0.9899999999999999\n",
      "k = 13, Accuracy: 0.9899999999999999\n",
      "k = 14, Accuracy: 0.9899999999999999\n",
      "k = 15, Accuracy: 0.9899999999999999\n",
      "k = 16, Accuracy: 0.9899999999999999\n",
      "k = 17, Accuracy: 0.9899999999999999\n",
      "k = 18, Accuracy: 0.9899999999999999\n",
      "k = 19, Accuracy: 0.9899999999999999\n",
      "k = 20, Accuracy: 0.9899999999999999\n",
      "best k value: 4\n"
     ]
    }
   ],
   "source": [
    "for k, accuracy in accuracy_dict.items():\n",
    "    print(f\"k = {k}, Accuracy: {accuracy}\")\n",
    "\n",
    "best_k = max(accuracy_dict, key=accuracy_dict.get)\n",
    "print(\"best k value:\", best_k)"
   ]
  },
  {
   "cell_type": "code",
   "execution_count": 63,
   "metadata": {},
   "outputs": [
    {
     "data": {
      "text/html": [
       "<div>\n",
       "<style scoped>\n",
       "    .dataframe tbody tr th:only-of-type {\n",
       "        vertical-align: middle;\n",
       "    }\n",
       "\n",
       "    .dataframe tbody tr th {\n",
       "        vertical-align: top;\n",
       "    }\n",
       "\n",
       "    .dataframe thead th {\n",
       "        text-align: right;\n",
       "    }\n",
       "</style>\n",
       "<table border=\"1\" class=\"dataframe\">\n",
       "  <thead>\n",
       "    <tr style=\"text-align: right;\">\n",
       "      <th></th>\n",
       "      <th>Age</th>\n",
       "      <th>Promotion_ord</th>\n",
       "      <th>Hair Color_Black</th>\n",
       "      <th>Hair Color_Blond</th>\n",
       "      <th>Hair Color_Brown</th>\n",
       "      <th>Hair Color_Red</th>\n",
       "      <th>U.S. Region_Northeast</th>\n",
       "      <th>U.S. Region_Northwest</th>\n",
       "      <th>U.S. Region_Southeast</th>\n",
       "      <th>U.S. Region_Southwest</th>\n",
       "      <th>Gender_ord_0</th>\n",
       "      <th>Gender_ord_1</th>\n",
       "      <th>Residence_ord_0</th>\n",
       "      <th>Residence_ord_1</th>\n",
       "    </tr>\n",
       "  </thead>\n",
       "  <tbody>\n",
       "    <tr>\n",
       "      <th>9953</th>\n",
       "      <td>32</td>\n",
       "      <td>1</td>\n",
       "      <td>False</td>\n",
       "      <td>True</td>\n",
       "      <td>False</td>\n",
       "      <td>False</td>\n",
       "      <td>False</td>\n",
       "      <td>False</td>\n",
       "      <td>False</td>\n",
       "      <td>True</td>\n",
       "      <td>False</td>\n",
       "      <td>True</td>\n",
       "      <td>False</td>\n",
       "      <td>True</td>\n",
       "    </tr>\n",
       "    <tr>\n",
       "      <th>3850</th>\n",
       "      <td>51</td>\n",
       "      <td>1</td>\n",
       "      <td>True</td>\n",
       "      <td>False</td>\n",
       "      <td>False</td>\n",
       "      <td>False</td>\n",
       "      <td>False</td>\n",
       "      <td>False</td>\n",
       "      <td>True</td>\n",
       "      <td>False</td>\n",
       "      <td>True</td>\n",
       "      <td>False</td>\n",
       "      <td>False</td>\n",
       "      <td>True</td>\n",
       "    </tr>\n",
       "    <tr>\n",
       "      <th>4962</th>\n",
       "      <td>29</td>\n",
       "      <td>1</td>\n",
       "      <td>False</td>\n",
       "      <td>True</td>\n",
       "      <td>False</td>\n",
       "      <td>False</td>\n",
       "      <td>True</td>\n",
       "      <td>False</td>\n",
       "      <td>False</td>\n",
       "      <td>False</td>\n",
       "      <td>False</td>\n",
       "      <td>True</td>\n",
       "      <td>False</td>\n",
       "      <td>True</td>\n",
       "    </tr>\n",
       "    <tr>\n",
       "      <th>3886</th>\n",
       "      <td>56</td>\n",
       "      <td>1</td>\n",
       "      <td>False</td>\n",
       "      <td>False</td>\n",
       "      <td>True</td>\n",
       "      <td>False</td>\n",
       "      <td>False</td>\n",
       "      <td>True</td>\n",
       "      <td>False</td>\n",
       "      <td>False</td>\n",
       "      <td>False</td>\n",
       "      <td>True</td>\n",
       "      <td>False</td>\n",
       "      <td>True</td>\n",
       "    </tr>\n",
       "    <tr>\n",
       "      <th>5437</th>\n",
       "      <td>56</td>\n",
       "      <td>1</td>\n",
       "      <td>False</td>\n",
       "      <td>False</td>\n",
       "      <td>True</td>\n",
       "      <td>False</td>\n",
       "      <td>False</td>\n",
       "      <td>False</td>\n",
       "      <td>True</td>\n",
       "      <td>False</td>\n",
       "      <td>True</td>\n",
       "      <td>False</td>\n",
       "      <td>True</td>\n",
       "      <td>False</td>\n",
       "    </tr>\n",
       "    <tr>\n",
       "      <th>...</th>\n",
       "      <td>...</td>\n",
       "      <td>...</td>\n",
       "      <td>...</td>\n",
       "      <td>...</td>\n",
       "      <td>...</td>\n",
       "      <td>...</td>\n",
       "      <td>...</td>\n",
       "      <td>...</td>\n",
       "      <td>...</td>\n",
       "      <td>...</td>\n",
       "      <td>...</td>\n",
       "      <td>...</td>\n",
       "      <td>...</td>\n",
       "      <td>...</td>\n",
       "    </tr>\n",
       "    <tr>\n",
       "      <th>9274</th>\n",
       "      <td>58</td>\n",
       "      <td>1</td>\n",
       "      <td>False</td>\n",
       "      <td>False</td>\n",
       "      <td>True</td>\n",
       "      <td>False</td>\n",
       "      <td>False</td>\n",
       "      <td>False</td>\n",
       "      <td>False</td>\n",
       "      <td>True</td>\n",
       "      <td>True</td>\n",
       "      <td>False</td>\n",
       "      <td>True</td>\n",
       "      <td>False</td>\n",
       "    </tr>\n",
       "    <tr>\n",
       "      <th>8946</th>\n",
       "      <td>26</td>\n",
       "      <td>1</td>\n",
       "      <td>False</td>\n",
       "      <td>False</td>\n",
       "      <td>True</td>\n",
       "      <td>False</td>\n",
       "      <td>True</td>\n",
       "      <td>False</td>\n",
       "      <td>False</td>\n",
       "      <td>False</td>\n",
       "      <td>False</td>\n",
       "      <td>True</td>\n",
       "      <td>False</td>\n",
       "      <td>True</td>\n",
       "    </tr>\n",
       "    <tr>\n",
       "      <th>7637</th>\n",
       "      <td>38</td>\n",
       "      <td>0</td>\n",
       "      <td>False</td>\n",
       "      <td>False</td>\n",
       "      <td>True</td>\n",
       "      <td>False</td>\n",
       "      <td>True</td>\n",
       "      <td>False</td>\n",
       "      <td>False</td>\n",
       "      <td>False</td>\n",
       "      <td>True</td>\n",
       "      <td>False</td>\n",
       "      <td>False</td>\n",
       "      <td>True</td>\n",
       "    </tr>\n",
       "    <tr>\n",
       "      <th>6377</th>\n",
       "      <td>49</td>\n",
       "      <td>1</td>\n",
       "      <td>False</td>\n",
       "      <td>False</td>\n",
       "      <td>True</td>\n",
       "      <td>False</td>\n",
       "      <td>False</td>\n",
       "      <td>False</td>\n",
       "      <td>True</td>\n",
       "      <td>False</td>\n",
       "      <td>True</td>\n",
       "      <td>False</td>\n",
       "      <td>False</td>\n",
       "      <td>True</td>\n",
       "    </tr>\n",
       "    <tr>\n",
       "      <th>5519</th>\n",
       "      <td>47</td>\n",
       "      <td>1</td>\n",
       "      <td>False</td>\n",
       "      <td>True</td>\n",
       "      <td>False</td>\n",
       "      <td>False</td>\n",
       "      <td>False</td>\n",
       "      <td>False</td>\n",
       "      <td>False</td>\n",
       "      <td>True</td>\n",
       "      <td>False</td>\n",
       "      <td>True</td>\n",
       "      <td>False</td>\n",
       "      <td>True</td>\n",
       "    </tr>\n",
       "  </tbody>\n",
       "</table>\n",
       "<p>4000 rows × 14 columns</p>\n",
       "</div>"
      ],
      "text/plain": [
       "      Age  Promotion_ord  Hair Color_Black  Hair Color_Blond  \\\n",
       "9953   32              1             False              True   \n",
       "3850   51              1              True             False   \n",
       "4962   29              1             False              True   \n",
       "3886   56              1             False             False   \n",
       "5437   56              1             False             False   \n",
       "...   ...            ...               ...               ...   \n",
       "9274   58              1             False             False   \n",
       "8946   26              1             False             False   \n",
       "7637   38              0             False             False   \n",
       "6377   49              1             False             False   \n",
       "5519   47              1             False              True   \n",
       "\n",
       "      Hair Color_Brown  Hair Color_Red  U.S. Region_Northeast  \\\n",
       "9953             False           False                  False   \n",
       "3850             False           False                  False   \n",
       "4962             False           False                   True   \n",
       "3886              True           False                  False   \n",
       "5437              True           False                  False   \n",
       "...                ...             ...                    ...   \n",
       "9274              True           False                  False   \n",
       "8946              True           False                   True   \n",
       "7637              True           False                   True   \n",
       "6377              True           False                  False   \n",
       "5519             False           False                  False   \n",
       "\n",
       "      U.S. Region_Northwest  U.S. Region_Southeast  U.S. Region_Southwest  \\\n",
       "9953                  False                  False                   True   \n",
       "3850                  False                   True                  False   \n",
       "4962                  False                  False                  False   \n",
       "3886                   True                  False                  False   \n",
       "5437                  False                   True                  False   \n",
       "...                     ...                    ...                    ...   \n",
       "9274                  False                  False                   True   \n",
       "8946                  False                  False                  False   \n",
       "7637                  False                  False                  False   \n",
       "6377                  False                   True                  False   \n",
       "5519                  False                  False                   True   \n",
       "\n",
       "      Gender_ord_0  Gender_ord_1  Residence_ord_0  Residence_ord_1  \n",
       "9953         False          True            False             True  \n",
       "3850          True         False            False             True  \n",
       "4962         False          True            False             True  \n",
       "3886         False          True            False             True  \n",
       "5437          True         False             True            False  \n",
       "...            ...           ...              ...              ...  \n",
       "9274          True         False             True            False  \n",
       "8946         False          True            False             True  \n",
       "7637          True         False            False             True  \n",
       "6377          True         False            False             True  \n",
       "5519         False          True            False             True  \n",
       "\n",
       "[4000 rows x 14 columns]"
      ]
     },
     "execution_count": 63,
     "metadata": {},
     "output_type": "execute_result"
    }
   ],
   "source": [
    "knn = KNeighborsClassifier(n_neighbors=4)\n",
    "knn.fit(train_X, train_y)\n",
    "valid_X"
   ]
  },
  {
   "cell_type": "code",
   "execution_count": 64,
   "metadata": {},
   "outputs": [
    {
     "data": {
      "text/html": [
       "<div>\n",
       "<style scoped>\n",
       "    .dataframe tbody tr th:only-of-type {\n",
       "        vertical-align: middle;\n",
       "    }\n",
       "\n",
       "    .dataframe tbody tr th {\n",
       "        vertical-align: top;\n",
       "    }\n",
       "\n",
       "    .dataframe thead th {\n",
       "        text-align: right;\n",
       "    }\n",
       "</style>\n",
       "<table border=\"1\" class=\"dataframe\">\n",
       "  <thead>\n",
       "    <tr style=\"text-align: right;\">\n",
       "      <th></th>\n",
       "      <th>probPromote</th>\n",
       "      <th>probNoPromote</th>\n",
       "      <th>uplift</th>\n",
       "    </tr>\n",
       "  </thead>\n",
       "  <tbody>\n",
       "    <tr>\n",
       "      <th>2694</th>\n",
       "      <td>0.50</td>\n",
       "      <td>0.25</td>\n",
       "      <td>0.25</td>\n",
       "    </tr>\n",
       "    <tr>\n",
       "      <th>4554</th>\n",
       "      <td>0.25</td>\n",
       "      <td>0.00</td>\n",
       "      <td>0.25</td>\n",
       "    </tr>\n",
       "    <tr>\n",
       "      <th>301</th>\n",
       "      <td>0.25</td>\n",
       "      <td>0.00</td>\n",
       "      <td>0.25</td>\n",
       "    </tr>\n",
       "  </tbody>\n",
       "</table>\n",
       "</div>"
      ],
      "text/plain": [
       "      probPromote  probNoPromote  uplift\n",
       "2694         0.50           0.25    0.25\n",
       "4554         0.25           0.00    0.25\n",
       "301          0.25           0.00    0.25"
      ]
     },
     "execution_count": 64,
     "metadata": {},
     "output_type": "execute_result"
    }
   ],
   "source": [
    "uplift_df = valid_X.copy() # Need to create a copy to allow modifying data\n",
    "uplift_df.Promotion_ord = 1\n",
    "predTreatment = knn.predict_proba(uplift_df)\n",
    "uplift_df.Promotion_ord = 0\n",
    "predControl = knn.predict_proba(uplift_df)\n",
    "upliftResult_df = pd.DataFrame({\n",
    "'probPromote': predTreatment[:,1],\n",
    "'probNoPromote': predControl[:,1],\n",
    "'uplift': predTreatment[:,1] - predControl[:,1],\n",
    "}, index=uplift_df.index)\n",
    "upliftResult_df = upliftResult_df.sort_values(by=['uplift'], ascending=False)\n",
    "upliftResult_df.head(3)"
   ]
  },
  {
   "cell_type": "markdown",
   "metadata": {},
   "source": [
    "#### c. Report the two models’ recommendations for the first three members"
   ]
  },
  {
   "cell_type": "markdown",
   "metadata": {},
   "source": [
    "The random forrest model shows us an average uplift of about 63% while KNN with n = 4, shows us that the average uplift is 25%. Based on random forrest i would recomend that we send out more promotional material as it has a high return by mosty standards. \n",
    "I am a bit more apprehensive about wether or not to recomend the same course of action based on the results of the knn model. I would need more information as to what is the cutoff of uplift for us to recomend sending promotional materials. "
   ]
  }
 ],
 "metadata": {
  "kernelspec": {
   "display_name": "Python 3",
   "language": "python",
   "name": "python3"
  },
  "language_info": {
   "codemirror_mode": {
    "name": "ipython",
    "version": 3
   },
   "file_extension": ".py",
   "mimetype": "text/x-python",
   "name": "python",
   "nbconvert_exporter": "python",
   "pygments_lexer": "ipython3",
   "version": "3.11.5"
  },
  "orig_nbformat": 4
 },
 "nbformat": 4,
 "nbformat_minor": 2
}
