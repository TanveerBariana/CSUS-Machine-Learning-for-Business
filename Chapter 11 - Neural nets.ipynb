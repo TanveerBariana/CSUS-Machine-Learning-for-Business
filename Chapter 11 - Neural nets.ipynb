{
 "cells": [
  {
   "cell_type": "markdown",
   "metadata": {},
   "source": [
    "# Chapter 11: Neural nets"
   ]
  },
  {
   "cell_type": "code",
   "execution_count": 45,
   "metadata": {
    "tags": []
   },
   "outputs": [],
   "source": [
    "%matplotlib inline\n",
    "\n",
    "from pathlib import Path\n",
    "\n",
    "import pandas as pd\n",
    "import numpy as np\n",
    "from sklearn.model_selection import train_test_split\n",
    "from sklearn.neural_network import MLPClassifier\n",
    "from dmba import classificationSummary\n",
    "from sklearn.preprocessing import MinMaxScaler"
   ]
  },
  {
   "cell_type": "code",
   "execution_count": 46,
   "metadata": {
    "tags": []
   },
   "outputs": [],
   "source": [
    "# Working directory:\n",
    "#\n",
    "# We assume that data are kept in the same directory as the notebook. If you keep your \n",
    "# data in a different folder, replace the argument of the `Path`\n",
    "# DATA = Path('C:/Users/profm/OneDrive/teaching/DS110/dmba')\n",
    "DATA = Path('/Users/limin/OneDrive/teaching/DS110/dmba/')\n",
    "# and then load data using \n",
    "#\n",
    "# pd.read_csv(DATA / ‘filename.csv’)"
   ]
  },
  {
   "cell_type": "markdown",
   "metadata": {},
   "source": [
    "## Table 11.2\n",
    "## Figure 11.4"
   ]
  },
  {
   "cell_type": "code",
   "execution_count": 47,
   "metadata": {
    "tags": []
   },
   "outputs": [],
   "source": [
    "example_df = pd.read_csv(DATA / 'TinyData.csv')\n",
    "example_df\n",
    "predictors = ['Fat', 'Salt']\n",
    "outcome = 'Acceptance'\n",
    "X = example_df[predictors]\n",
    "y = example_df[outcome]"
   ]
  },
  {
   "cell_type": "code",
   "execution_count": 48,
   "metadata": {
    "tags": []
   },
   "outputs": [
    {
     "data": {
      "text/plain": [
       "0       like\n",
       "1    dislike\n",
       "2    dislike\n",
       "3    dislike\n",
       "4       like\n",
       "5       like\n",
       "Name: Acceptance, dtype: object"
      ]
     },
     "execution_count": 48,
     "metadata": {},
     "output_type": "execute_result"
    }
   ],
   "source": [
    "y"
   ]
  },
  {
   "cell_type": "code",
   "execution_count": 49,
   "metadata": {
    "tags": []
   },
   "outputs": [],
   "source": [
    "classes = sorted(y.unique())"
   ]
  },
  {
   "cell_type": "code",
   "execution_count": 50,
   "metadata": {
    "tags": []
   },
   "outputs": [
    {
     "data": {
      "text/plain": [
       "['dislike', 'like']"
      ]
     },
     "execution_count": 50,
     "metadata": {},
     "output_type": "execute_result"
    }
   ],
   "source": [
    "classes"
   ]
  },
  {
   "cell_type": "code",
   "execution_count": 51,
   "metadata": {
    "tags": []
   },
   "outputs": [
    {
     "name": "stdout",
     "output_type": "stream",
     "text": [
      "Intercepts\n",
      "[array([0.13368043, 4.07247549, 7.00768105]), array([14.30748672])]\n",
      "Weights\n",
      "[array([[ -1.3065648 ,  -4.20427796, -13.29587332],\n",
      "       [ -0.04399729,  -4.91606922,  -6.03356987]]), array([[ -0.27348314],\n",
      "       [ -9.01211575],\n",
      "       [-17.63504687]])]\n",
      "   Obs.  Fat  Salt Acceptance   dislike      like\n",
      "0     1  0.2   0.9       like  0.000490  0.999510\n",
      "1     2  0.1   0.1    dislike  0.999994  0.000006\n",
      "2     3  0.2   0.4    dislike  0.999741  0.000259\n",
      "3     4  0.2   0.5    dislike  0.997368  0.002632\n",
      "4     5  0.4   0.5       like  0.002133  0.997867\n",
      "5     6  0.3   0.8       like  0.000075  0.999925\n"
     ]
    }
   ],
   "source": [
    "# 3 hidden nodes\n",
    "clf = MLPClassifier(hidden_layer_sizes=(3), activation='logistic', solver='lbfgs', random_state=1)\n",
    "# hidden_layer_sizes : tuple, length = n_layers - 2, default (100,)\n",
    "# The ith element represents the number of neurons in the ith hidden layer.\n",
    "# It is length = n_layers - 2, because the number of your hidden layers is the total number of \n",
    "# layers n_layers minus 1 for the input layer, minus 1 for the output layer.\n",
    "# In the (default) case of (100,), it means one hidden layer of 100 units (neurons).\n",
    "# For 3 hidden layers of, say, 100, 50, and 25 units (nodes) respectively, it would be\n",
    "# hidden_layer_sizes = (100, 50, 25)\n",
    "\n",
    "clf.fit(X, y)\n",
    "clf.predict(X)\n",
    "\n",
    "# Network structure\n",
    "print('Intercepts')\n",
    "print(clf.intercepts_)\n",
    "\n",
    "print('Weights')\n",
    "print(clf.coefs_)\n",
    "\n",
    "# Prediction\n",
    "print(pd.concat([\n",
    "    example_df,\n",
    "    pd.DataFrame(clf.predict_proba(X), columns=classes)\n",
    "], axis=1))"
   ]
  },
  {
   "cell_type": "code",
   "execution_count": 52,
   "metadata": {
    "tags": []
   },
   "outputs": [
    {
     "data": {
      "text/html": [
       "<div>\n",
       "<style scoped>\n",
       "    .dataframe tbody tr th:only-of-type {\n",
       "        vertical-align: middle;\n",
       "    }\n",
       "\n",
       "    .dataframe tbody tr th {\n",
       "        vertical-align: top;\n",
       "    }\n",
       "\n",
       "    .dataframe thead th {\n",
       "        text-align: right;\n",
       "    }\n",
       "</style>\n",
       "<table border=\"1\" class=\"dataframe\">\n",
       "  <thead>\n",
       "    <tr style=\"text-align: right;\">\n",
       "      <th></th>\n",
       "      <th>Obs.</th>\n",
       "      <th>Fat</th>\n",
       "      <th>Salt</th>\n",
       "      <th>Acceptance</th>\n",
       "    </tr>\n",
       "  </thead>\n",
       "  <tbody>\n",
       "    <tr>\n",
       "      <th>0</th>\n",
       "      <td>1</td>\n",
       "      <td>0.2</td>\n",
       "      <td>0.9</td>\n",
       "      <td>like</td>\n",
       "    </tr>\n",
       "    <tr>\n",
       "      <th>1</th>\n",
       "      <td>2</td>\n",
       "      <td>0.1</td>\n",
       "      <td>0.1</td>\n",
       "      <td>dislike</td>\n",
       "    </tr>\n",
       "    <tr>\n",
       "      <th>2</th>\n",
       "      <td>3</td>\n",
       "      <td>0.2</td>\n",
       "      <td>0.4</td>\n",
       "      <td>dislike</td>\n",
       "    </tr>\n",
       "    <tr>\n",
       "      <th>3</th>\n",
       "      <td>4</td>\n",
       "      <td>0.2</td>\n",
       "      <td>0.5</td>\n",
       "      <td>dislike</td>\n",
       "    </tr>\n",
       "    <tr>\n",
       "      <th>4</th>\n",
       "      <td>5</td>\n",
       "      <td>0.4</td>\n",
       "      <td>0.5</td>\n",
       "      <td>like</td>\n",
       "    </tr>\n",
       "    <tr>\n",
       "      <th>5</th>\n",
       "      <td>6</td>\n",
       "      <td>0.3</td>\n",
       "      <td>0.8</td>\n",
       "      <td>like</td>\n",
       "    </tr>\n",
       "  </tbody>\n",
       "</table>\n",
       "</div>"
      ],
      "text/plain": [
       "   Obs.  Fat  Salt Acceptance\n",
       "0     1  0.2   0.9       like\n",
       "1     2  0.1   0.1    dislike\n",
       "2     3  0.2   0.4    dislike\n",
       "3     4  0.2   0.5    dislike\n",
       "4     5  0.4   0.5       like\n",
       "5     6  0.3   0.8       like"
      ]
     },
     "execution_count": 52,
     "metadata": {},
     "output_type": "execute_result"
    }
   ],
   "source": [
    "example_df"
   ]
  },
  {
   "cell_type": "code",
   "execution_count": 53,
   "metadata": {
    "tags": []
   },
   "outputs": [
    {
     "name": "stdout",
     "output_type": "stream",
     "text": [
      "Hidden layer 2 => 3\n",
      " Intercepts:\n",
      "  [0.13368043 4.07247549 7.00768105]\n",
      " Weights:\n",
      "  [ -1.3065648   -4.20427796 -13.29587332]\n",
      "  [-0.04399729 -4.91606922 -6.03356987]\n",
      "\n",
      "Output layer 3 => 1\n",
      " Intercepts:\n",
      "  [14.30748672]\n",
      " Weights:\n",
      "  [-0.27348314]\n",
      "  [-9.01211575]\n",
      "  [-17.63504687]\n",
      "\n"
     ]
    }
   ],
   "source": [
    "# Pretty print layers\n",
    "for i, (weights, intercepts) in enumerate(zip(clf.coefs_, clf.intercepts_)):\n",
    "    print('Hidden layer' if i == 0 else 'Output layer', '{0[0]} => {0[1]}'.format(weights.shape))\n",
    "    print(' Intercepts:\\n ', intercepts)\n",
    "    print(' Weights:')\n",
    "    for weight in weights:\n",
    "        print(' ', weight)\n",
    "    print()\n"
   ]
  },
  {
   "cell_type": "markdown",
   "metadata": {},
   "source": [
    "## Table 11.3"
   ]
  },
  {
   "cell_type": "code",
   "execution_count": 54,
   "metadata": {
    "tags": []
   },
   "outputs": [
    {
     "name": "stdout",
     "output_type": "stream",
     "text": [
      "Confusion Matrix (Accuracy 1.0000)\n",
      "\n",
      "        Prediction\n",
      " Actual dislike    like\n",
      "dislike       3       0\n",
      "   like       0       3\n"
     ]
    }
   ],
   "source": [
    "classificationSummary(y, clf.predict(X), class_names=classes)"
   ]
  },
  {
   "cell_type": "markdown",
   "metadata": {},
   "source": [
    "## Table 11.6 (corrected)"
   ]
  },
  {
   "cell_type": "code",
   "execution_count": 108,
   "metadata": {
    "tags": []
   },
   "outputs": [],
   "source": [
    "accidents_df = pd.read_csv(DATA / 'accidentsnn.csv')\n",
    "accidents_df.SUR_COND = accidents_df.SUR_COND.astype('category')\n",
    "accidents_df.MAX_SEV_IR = accidents_df.MAX_SEV_IR.astype('category')\n",
    "accidents_df.ALCHL_I = accidents_df.ALCHL_I.astype('category')\n",
    "# ALCOHOL_I    Alcohol involved = 1, not involved = 2\n",
    "# SUR_CON      Surface conditions (1=dry, 2=wet, 3=snow/slush, 4=ice, 5=sand/dirt/oil, 8=other, 9=unknown)\n",
    "# MAX_SEV_IR   0=no injury, 1=non-fatal inj., 2=fatal inj."
   ]
  },
  {
   "cell_type": "code",
   "execution_count": 109,
   "metadata": {
    "tags": []
   },
   "outputs": [
    {
     "data": {
      "text/html": [
       "<div>\n",
       "<style scoped>\n",
       "    .dataframe tbody tr th:only-of-type {\n",
       "        vertical-align: middle;\n",
       "    }\n",
       "\n",
       "    .dataframe tbody tr th {\n",
       "        vertical-align: top;\n",
       "    }\n",
       "\n",
       "    .dataframe thead th {\n",
       "        text-align: right;\n",
       "    }\n",
       "</style>\n",
       "<table border=\"1\" class=\"dataframe\">\n",
       "  <thead>\n",
       "    <tr style=\"text-align: right;\">\n",
       "      <th></th>\n",
       "      <th>ALCHL_I</th>\n",
       "      <th>PROFIL_I_R</th>\n",
       "      <th>SUR_COND</th>\n",
       "      <th>VEH_INVL</th>\n",
       "      <th>MAX_SEV_IR</th>\n",
       "    </tr>\n",
       "  </thead>\n",
       "  <tbody>\n",
       "    <tr>\n",
       "      <th>0</th>\n",
       "      <td>2</td>\n",
       "      <td>0</td>\n",
       "      <td>1</td>\n",
       "      <td>1</td>\n",
       "      <td>0</td>\n",
       "    </tr>\n",
       "    <tr>\n",
       "      <th>1</th>\n",
       "      <td>2</td>\n",
       "      <td>1</td>\n",
       "      <td>1</td>\n",
       "      <td>1</td>\n",
       "      <td>2</td>\n",
       "    </tr>\n",
       "    <tr>\n",
       "      <th>2</th>\n",
       "      <td>1</td>\n",
       "      <td>0</td>\n",
       "      <td>1</td>\n",
       "      <td>1</td>\n",
       "      <td>0</td>\n",
       "    </tr>\n",
       "    <tr>\n",
       "      <th>3</th>\n",
       "      <td>2</td>\n",
       "      <td>0</td>\n",
       "      <td>2</td>\n",
       "      <td>2</td>\n",
       "      <td>1</td>\n",
       "    </tr>\n",
       "    <tr>\n",
       "      <th>4</th>\n",
       "      <td>2</td>\n",
       "      <td>1</td>\n",
       "      <td>1</td>\n",
       "      <td>2</td>\n",
       "      <td>1</td>\n",
       "    </tr>\n",
       "    <tr>\n",
       "      <th>...</th>\n",
       "      <td>...</td>\n",
       "      <td>...</td>\n",
       "      <td>...</td>\n",
       "      <td>...</td>\n",
       "      <td>...</td>\n",
       "    </tr>\n",
       "    <tr>\n",
       "      <th>994</th>\n",
       "      <td>2</td>\n",
       "      <td>0</td>\n",
       "      <td>1</td>\n",
       "      <td>1</td>\n",
       "      <td>0</td>\n",
       "    </tr>\n",
       "    <tr>\n",
       "      <th>995</th>\n",
       "      <td>2</td>\n",
       "      <td>0</td>\n",
       "      <td>1</td>\n",
       "      <td>1</td>\n",
       "      <td>0</td>\n",
       "    </tr>\n",
       "    <tr>\n",
       "      <th>996</th>\n",
       "      <td>1</td>\n",
       "      <td>1</td>\n",
       "      <td>1</td>\n",
       "      <td>2</td>\n",
       "      <td>1</td>\n",
       "    </tr>\n",
       "    <tr>\n",
       "      <th>997</th>\n",
       "      <td>1</td>\n",
       "      <td>0</td>\n",
       "      <td>1</td>\n",
       "      <td>3</td>\n",
       "      <td>2</td>\n",
       "    </tr>\n",
       "    <tr>\n",
       "      <th>998</th>\n",
       "      <td>2</td>\n",
       "      <td>0</td>\n",
       "      <td>1</td>\n",
       "      <td>1</td>\n",
       "      <td>0</td>\n",
       "    </tr>\n",
       "  </tbody>\n",
       "</table>\n",
       "<p>999 rows × 5 columns</p>\n",
       "</div>"
      ],
      "text/plain": [
       "    ALCHL_I  PROFIL_I_R SUR_COND  VEH_INVL MAX_SEV_IR\n",
       "0         2           0        1         1          0\n",
       "1         2           1        1         1          2\n",
       "2         1           0        1         1          0\n",
       "3         2           0        2         2          1\n",
       "4         2           1        1         2          1\n",
       "..      ...         ...      ...       ...        ...\n",
       "994       2           0        1         1          0\n",
       "995       2           0        1         1          0\n",
       "996       1           1        1         2          1\n",
       "997       1           0        1         3          2\n",
       "998       2           0        1         1          0\n",
       "\n",
       "[999 rows x 5 columns]"
      ]
     },
     "execution_count": 109,
     "metadata": {},
     "output_type": "execute_result"
    }
   ],
   "source": [
    "accidents_df"
   ]
  },
  {
   "cell_type": "code",
   "execution_count": 110,
   "metadata": {
    "tags": []
   },
   "outputs": [
    {
     "data": {
      "text/plain": [
       "Index(['PROFIL_I_R', 'VEH_INVL', 'MAX_SEV_IR', 'SUR_COND_1', 'SUR_COND_2',\n",
       "       'SUR_COND_3', 'SUR_COND_4', 'SUR_COND_9', 'ALCHL_I_1', 'ALCHL_I_2'],\n",
       "      dtype='object')"
      ]
     },
     "execution_count": 110,
     "metadata": {},
     "output_type": "execute_result"
    }
   ],
   "source": [
    "# convert the categorical data into dummy variables\n",
    "# exclude the column for SUR_COND 9 = unknown\n",
    "processed = pd.get_dummies(accidents_df, columns=['SUR_COND', 'ALCHL_I'])\n",
    "processed.columns"
   ]
  },
  {
   "cell_type": "code",
   "execution_count": 111,
   "metadata": {
    "tags": []
   },
   "outputs": [
    {
     "data": {
      "text/html": [
       "<style>#sk-container-id-11 {color: black;background-color: white;}#sk-container-id-11 pre{padding: 0;}#sk-container-id-11 div.sk-toggleable {background-color: white;}#sk-container-id-11 label.sk-toggleable__label {cursor: pointer;display: block;width: 100%;margin-bottom: 0;padding: 0.3em;box-sizing: border-box;text-align: center;}#sk-container-id-11 label.sk-toggleable__label-arrow:before {content: \"▸\";float: left;margin-right: 0.25em;color: #696969;}#sk-container-id-11 label.sk-toggleable__label-arrow:hover:before {color: black;}#sk-container-id-11 div.sk-estimator:hover label.sk-toggleable__label-arrow:before {color: black;}#sk-container-id-11 div.sk-toggleable__content {max-height: 0;max-width: 0;overflow: hidden;text-align: left;background-color: #f0f8ff;}#sk-container-id-11 div.sk-toggleable__content pre {margin: 0.2em;color: black;border-radius: 0.25em;background-color: #f0f8ff;}#sk-container-id-11 input.sk-toggleable__control:checked~div.sk-toggleable__content {max-height: 200px;max-width: 100%;overflow: auto;}#sk-container-id-11 input.sk-toggleable__control:checked~label.sk-toggleable__label-arrow:before {content: \"▾\";}#sk-container-id-11 div.sk-estimator input.sk-toggleable__control:checked~label.sk-toggleable__label {background-color: #d4ebff;}#sk-container-id-11 div.sk-label input.sk-toggleable__control:checked~label.sk-toggleable__label {background-color: #d4ebff;}#sk-container-id-11 input.sk-hidden--visually {border: 0;clip: rect(1px 1px 1px 1px);clip: rect(1px, 1px, 1px, 1px);height: 1px;margin: -1px;overflow: hidden;padding: 0;position: absolute;width: 1px;}#sk-container-id-11 div.sk-estimator {font-family: monospace;background-color: #f0f8ff;border: 1px dotted black;border-radius: 0.25em;box-sizing: border-box;margin-bottom: 0.5em;}#sk-container-id-11 div.sk-estimator:hover {background-color: #d4ebff;}#sk-container-id-11 div.sk-parallel-item::after {content: \"\";width: 100%;border-bottom: 1px solid gray;flex-grow: 1;}#sk-container-id-11 div.sk-label:hover label.sk-toggleable__label {background-color: #d4ebff;}#sk-container-id-11 div.sk-serial::before {content: \"\";position: absolute;border-left: 1px solid gray;box-sizing: border-box;top: 0;bottom: 0;left: 50%;z-index: 0;}#sk-container-id-11 div.sk-serial {display: flex;flex-direction: column;align-items: center;background-color: white;padding-right: 0.2em;padding-left: 0.2em;position: relative;}#sk-container-id-11 div.sk-item {position: relative;z-index: 1;}#sk-container-id-11 div.sk-parallel {display: flex;align-items: stretch;justify-content: center;background-color: white;position: relative;}#sk-container-id-11 div.sk-item::before, #sk-container-id-11 div.sk-parallel-item::before {content: \"\";position: absolute;border-left: 1px solid gray;box-sizing: border-box;top: 0;bottom: 0;left: 50%;z-index: -1;}#sk-container-id-11 div.sk-parallel-item {display: flex;flex-direction: column;z-index: 1;position: relative;background-color: white;}#sk-container-id-11 div.sk-parallel-item:first-child::after {align-self: flex-end;width: 50%;}#sk-container-id-11 div.sk-parallel-item:last-child::after {align-self: flex-start;width: 50%;}#sk-container-id-11 div.sk-parallel-item:only-child::after {width: 0;}#sk-container-id-11 div.sk-dashed-wrapped {border: 1px dashed gray;margin: 0 0.4em 0.5em 0.4em;box-sizing: border-box;padding-bottom: 0.4em;background-color: white;}#sk-container-id-11 div.sk-label label {font-family: monospace;font-weight: bold;display: inline-block;line-height: 1.2em;}#sk-container-id-11 div.sk-label-container {text-align: center;}#sk-container-id-11 div.sk-container {/* jupyter's `normalize.less` sets `[hidden] { display: none; }` but bootstrap.min.css set `[hidden] { display: none !important; }` so we also need the `!important` here to be able to override the default hidden behavior on the sphinx rendered scikit-learn.org. See: https://github.com/scikit-learn/scikit-learn/issues/21755 */display: inline-block !important;position: relative;}#sk-container-id-11 div.sk-text-repr-fallback {display: none;}</style><div id=\"sk-container-id-11\" class=\"sk-top-container\"><div class=\"sk-text-repr-fallback\"><pre>MLPClassifier(activation=&#x27;logistic&#x27;, hidden_layer_sizes=2, random_state=1,\n",
       "              solver=&#x27;lbfgs&#x27;)</pre><b>In a Jupyter environment, please rerun this cell to show the HTML representation or trust the notebook. <br />On GitHub, the HTML representation is unable to render, please try loading this page with nbviewer.org.</b></div><div class=\"sk-container\" hidden><div class=\"sk-item\"><div class=\"sk-estimator sk-toggleable\"><input class=\"sk-toggleable__control sk-hidden--visually\" id=\"sk-estimator-id-11\" type=\"checkbox\" checked><label for=\"sk-estimator-id-11\" class=\"sk-toggleable__label sk-toggleable__label-arrow\">MLPClassifier</label><div class=\"sk-toggleable__content\"><pre>MLPClassifier(activation=&#x27;logistic&#x27;, hidden_layer_sizes=2, random_state=1,\n",
       "              solver=&#x27;lbfgs&#x27;)</pre></div></div></div></div></div>"
      ],
      "text/plain": [
       "MLPClassifier(activation='logistic', hidden_layer_sizes=2, random_state=1,\n",
       "              solver='lbfgs')"
      ]
     },
     "execution_count": 111,
     "metadata": {},
     "output_type": "execute_result"
    }
   ],
   "source": [
    "processed = processed.drop(columns=['SUR_COND_9', 'ALCHL_I_2'])\n",
    "outcome = 'MAX_SEV_IR'\n",
    "predictors = [c for c in processed.columns if c != outcome]\n",
    "# partition data\n",
    "\n",
    "X = processed[predictors]\n",
    "y = processed[outcome]\n",
    "train_X, valid_X, train_y, valid_y = train_test_split(X, y, test_size=0.4, random_state=1)\n",
    "# train neural network with 2 hidden nodes\n",
    "clf = MLPClassifier(hidden_layer_sizes=(2), activation='logistic', solver='lbfgs', random_state=1)\n",
    "clf.fit(train_X, train_y.values)"
   ]
  },
  {
   "cell_type": "markdown",
   "metadata": {},
   "source": [
    "<pre>\n",
    "solver{‘lbfgs’, ‘sgd’, ‘adam’}, default=’adam’\n",
    "The solver for weight optimization.\n",
    "\n",
    "‘lbfgs’ is an optimizer in the family of quasi-Newton methods.\n",
    "\n",
    "‘sgd’ refers to stochastic gradient descent.\n",
    "\n",
    "‘adam’ refers to a stochastic gradient-based optimizer proposed by Kingma, Diederik, and Jimmy Ba\n",
    "\n",
    "Note: The default solver ‘adam’ works pretty well on relatively large datasets (with thousands of training samples or more) in terms of both training time and validation score. For small datasets, however, ‘lbfgs’ can converge faster and perform better.\n",
    "\n",
    "</pre>"
   ]
  },
  {
   "cell_type": "markdown",
   "metadata": {},
   "source": [
    "<pre>\n",
    "learning_rate: {‘constant’, ‘invscaling’, ‘adaptive’}, default=’constant’\n",
    "Learning rate schedule for weight updates.\n",
    "\n",
    "‘constant’ is a constant learning rate given by ‘learning_rate_init’.\n",
    "\n",
    "‘invscaling’ gradually decreases the learning rate at each time step ‘t’ using an inverse scaling exponent of ‘power_t’. effective_learning_rate = learning_rate_init / pow(t, power_t)\n",
    "\n",
    "‘adaptive’ keeps the learning rate constant to ‘learning_rate_init’ as long as training loss keeps decreasing. Each time two consecutive epochs fail to decrease training loss by at least tol, or fail to increase validation score by at least tol if ‘early_stopping’ is on, the current learning rate is divided by 5.\n",
    "\n",
    "Only used when solver='sgd'.\n",
    "\n",
    "learning_rate_init: float, default=0.001\n",
    "The initial learning rate used. It controls the step-size in updating the weights. Only used when solver=’sgd’ or ‘adam’.\n",
    "</pre>"
   ]
  },
  {
   "cell_type": "code",
   "execution_count": 112,
   "metadata": {
    "tags": []
   },
   "outputs": [
    {
     "data": {
      "text/plain": [
       "0      0\n",
       "1      2\n",
       "2      0\n",
       "3      1\n",
       "4      1\n",
       "      ..\n",
       "994    0\n",
       "995    0\n",
       "996    1\n",
       "997    2\n",
       "998    0\n",
       "Name: MAX_SEV_IR, Length: 999, dtype: category\n",
       "Categories (3, int64): [0, 1, 2]"
      ]
     },
     "execution_count": 112,
     "metadata": {},
     "output_type": "execute_result"
    }
   ],
   "source": [
    "y"
   ]
  },
  {
   "cell_type": "code",
   "execution_count": 113,
   "metadata": {
    "tags": []
   },
   "outputs": [
    {
     "data": {
      "text/plain": [
       "371    0\n",
       "45     0\n",
       "560    2\n",
       "590    0\n",
       "419    0\n",
       "      ..\n",
       "767    2\n",
       "72     2\n",
       "908    0\n",
       "235    0\n",
       "37     0\n",
       "Name: MAX_SEV_IR, Length: 599, dtype: category\n",
       "Categories (3, int64): [0, 1, 2]"
      ]
     },
     "execution_count": 113,
     "metadata": {},
     "output_type": "execute_result"
    }
   ],
   "source": [
    "train_y"
   ]
  },
  {
   "cell_type": "code",
   "execution_count": 114,
   "metadata": {
    "tags": []
   },
   "outputs": [
    {
     "data": {
      "text/html": [
       "<div>\n",
       "<style scoped>\n",
       "    .dataframe tbody tr th:only-of-type {\n",
       "        vertical-align: middle;\n",
       "    }\n",
       "\n",
       "    .dataframe tbody tr th {\n",
       "        vertical-align: top;\n",
       "    }\n",
       "\n",
       "    .dataframe thead th {\n",
       "        text-align: right;\n",
       "    }\n",
       "</style>\n",
       "<table border=\"1\" class=\"dataframe\">\n",
       "  <thead>\n",
       "    <tr style=\"text-align: right;\">\n",
       "      <th></th>\n",
       "      <th>PROFIL_I_R</th>\n",
       "      <th>VEH_INVL</th>\n",
       "      <th>SUR_COND_1</th>\n",
       "      <th>SUR_COND_2</th>\n",
       "      <th>SUR_COND_3</th>\n",
       "      <th>SUR_COND_4</th>\n",
       "      <th>ALCHL_I_1</th>\n",
       "    </tr>\n",
       "  </thead>\n",
       "  <tbody>\n",
       "    <tr>\n",
       "      <th>0</th>\n",
       "      <td>0</td>\n",
       "      <td>1</td>\n",
       "      <td>1</td>\n",
       "      <td>0</td>\n",
       "      <td>0</td>\n",
       "      <td>0</td>\n",
       "      <td>0</td>\n",
       "    </tr>\n",
       "    <tr>\n",
       "      <th>1</th>\n",
       "      <td>1</td>\n",
       "      <td>1</td>\n",
       "      <td>1</td>\n",
       "      <td>0</td>\n",
       "      <td>0</td>\n",
       "      <td>0</td>\n",
       "      <td>0</td>\n",
       "    </tr>\n",
       "    <tr>\n",
       "      <th>2</th>\n",
       "      <td>0</td>\n",
       "      <td>1</td>\n",
       "      <td>1</td>\n",
       "      <td>0</td>\n",
       "      <td>0</td>\n",
       "      <td>0</td>\n",
       "      <td>1</td>\n",
       "    </tr>\n",
       "    <tr>\n",
       "      <th>3</th>\n",
       "      <td>0</td>\n",
       "      <td>2</td>\n",
       "      <td>0</td>\n",
       "      <td>1</td>\n",
       "      <td>0</td>\n",
       "      <td>0</td>\n",
       "      <td>0</td>\n",
       "    </tr>\n",
       "    <tr>\n",
       "      <th>4</th>\n",
       "      <td>1</td>\n",
       "      <td>2</td>\n",
       "      <td>1</td>\n",
       "      <td>0</td>\n",
       "      <td>0</td>\n",
       "      <td>0</td>\n",
       "      <td>0</td>\n",
       "    </tr>\n",
       "    <tr>\n",
       "      <th>...</th>\n",
       "      <td>...</td>\n",
       "      <td>...</td>\n",
       "      <td>...</td>\n",
       "      <td>...</td>\n",
       "      <td>...</td>\n",
       "      <td>...</td>\n",
       "      <td>...</td>\n",
       "    </tr>\n",
       "    <tr>\n",
       "      <th>994</th>\n",
       "      <td>0</td>\n",
       "      <td>1</td>\n",
       "      <td>1</td>\n",
       "      <td>0</td>\n",
       "      <td>0</td>\n",
       "      <td>0</td>\n",
       "      <td>0</td>\n",
       "    </tr>\n",
       "    <tr>\n",
       "      <th>995</th>\n",
       "      <td>0</td>\n",
       "      <td>1</td>\n",
       "      <td>1</td>\n",
       "      <td>0</td>\n",
       "      <td>0</td>\n",
       "      <td>0</td>\n",
       "      <td>0</td>\n",
       "    </tr>\n",
       "    <tr>\n",
       "      <th>996</th>\n",
       "      <td>1</td>\n",
       "      <td>2</td>\n",
       "      <td>1</td>\n",
       "      <td>0</td>\n",
       "      <td>0</td>\n",
       "      <td>0</td>\n",
       "      <td>1</td>\n",
       "    </tr>\n",
       "    <tr>\n",
       "      <th>997</th>\n",
       "      <td>0</td>\n",
       "      <td>3</td>\n",
       "      <td>1</td>\n",
       "      <td>0</td>\n",
       "      <td>0</td>\n",
       "      <td>0</td>\n",
       "      <td>1</td>\n",
       "    </tr>\n",
       "    <tr>\n",
       "      <th>998</th>\n",
       "      <td>0</td>\n",
       "      <td>1</td>\n",
       "      <td>1</td>\n",
       "      <td>0</td>\n",
       "      <td>0</td>\n",
       "      <td>0</td>\n",
       "      <td>0</td>\n",
       "    </tr>\n",
       "  </tbody>\n",
       "</table>\n",
       "<p>999 rows × 7 columns</p>\n",
       "</div>"
      ],
      "text/plain": [
       "     PROFIL_I_R  VEH_INVL  SUR_COND_1  SUR_COND_2  SUR_COND_3  SUR_COND_4  \\\n",
       "0             0         1           1           0           0           0   \n",
       "1             1         1           1           0           0           0   \n",
       "2             0         1           1           0           0           0   \n",
       "3             0         2           0           1           0           0   \n",
       "4             1         2           1           0           0           0   \n",
       "..          ...       ...         ...         ...         ...         ...   \n",
       "994           0         1           1           0           0           0   \n",
       "995           0         1           1           0           0           0   \n",
       "996           1         2           1           0           0           0   \n",
       "997           0         3           1           0           0           0   \n",
       "998           0         1           1           0           0           0   \n",
       "\n",
       "     ALCHL_I_1  \n",
       "0            0  \n",
       "1            0  \n",
       "2            1  \n",
       "3            0  \n",
       "4            0  \n",
       "..         ...  \n",
       "994          0  \n",
       "995          0  \n",
       "996          1  \n",
       "997          1  \n",
       "998          0  \n",
       "\n",
       "[999 rows x 7 columns]"
      ]
     },
     "execution_count": 114,
     "metadata": {},
     "output_type": "execute_result"
    }
   ],
   "source": [
    "X"
   ]
  },
  {
   "cell_type": "code",
   "execution_count": 115,
   "metadata": {
    "tags": []
   },
   "outputs": [
    {
     "data": {
      "text/html": [
       "<div>\n",
       "<style scoped>\n",
       "    .dataframe tbody tr th:only-of-type {\n",
       "        vertical-align: middle;\n",
       "    }\n",
       "\n",
       "    .dataframe tbody tr th {\n",
       "        vertical-align: top;\n",
       "    }\n",
       "\n",
       "    .dataframe thead th {\n",
       "        text-align: right;\n",
       "    }\n",
       "</style>\n",
       "<table border=\"1\" class=\"dataframe\">\n",
       "  <thead>\n",
       "    <tr style=\"text-align: right;\">\n",
       "      <th></th>\n",
       "      <th>PROFIL_I_R</th>\n",
       "      <th>VEH_INVL</th>\n",
       "      <th>SUR_COND_1</th>\n",
       "      <th>SUR_COND_2</th>\n",
       "      <th>SUR_COND_3</th>\n",
       "      <th>SUR_COND_4</th>\n",
       "      <th>ALCHL_I_1</th>\n",
       "    </tr>\n",
       "  </thead>\n",
       "  <tbody>\n",
       "    <tr>\n",
       "      <th>371</th>\n",
       "      <td>0</td>\n",
       "      <td>1</td>\n",
       "      <td>1</td>\n",
       "      <td>0</td>\n",
       "      <td>0</td>\n",
       "      <td>0</td>\n",
       "      <td>0</td>\n",
       "    </tr>\n",
       "    <tr>\n",
       "      <th>45</th>\n",
       "      <td>0</td>\n",
       "      <td>1</td>\n",
       "      <td>1</td>\n",
       "      <td>0</td>\n",
       "      <td>0</td>\n",
       "      <td>0</td>\n",
       "      <td>0</td>\n",
       "    </tr>\n",
       "    <tr>\n",
       "      <th>560</th>\n",
       "      <td>0</td>\n",
       "      <td>1</td>\n",
       "      <td>0</td>\n",
       "      <td>1</td>\n",
       "      <td>0</td>\n",
       "      <td>0</td>\n",
       "      <td>0</td>\n",
       "    </tr>\n",
       "    <tr>\n",
       "      <th>590</th>\n",
       "      <td>0</td>\n",
       "      <td>1</td>\n",
       "      <td>1</td>\n",
       "      <td>0</td>\n",
       "      <td>0</td>\n",
       "      <td>0</td>\n",
       "      <td>1</td>\n",
       "    </tr>\n",
       "    <tr>\n",
       "      <th>419</th>\n",
       "      <td>0</td>\n",
       "      <td>1</td>\n",
       "      <td>1</td>\n",
       "      <td>0</td>\n",
       "      <td>0</td>\n",
       "      <td>0</td>\n",
       "      <td>1</td>\n",
       "    </tr>\n",
       "    <tr>\n",
       "      <th>...</th>\n",
       "      <td>...</td>\n",
       "      <td>...</td>\n",
       "      <td>...</td>\n",
       "      <td>...</td>\n",
       "      <td>...</td>\n",
       "      <td>...</td>\n",
       "      <td>...</td>\n",
       "    </tr>\n",
       "    <tr>\n",
       "      <th>767</th>\n",
       "      <td>1</td>\n",
       "      <td>1</td>\n",
       "      <td>1</td>\n",
       "      <td>0</td>\n",
       "      <td>0</td>\n",
       "      <td>0</td>\n",
       "      <td>0</td>\n",
       "    </tr>\n",
       "    <tr>\n",
       "      <th>72</th>\n",
       "      <td>1</td>\n",
       "      <td>1</td>\n",
       "      <td>1</td>\n",
       "      <td>0</td>\n",
       "      <td>0</td>\n",
       "      <td>0</td>\n",
       "      <td>0</td>\n",
       "    </tr>\n",
       "    <tr>\n",
       "      <th>908</th>\n",
       "      <td>0</td>\n",
       "      <td>1</td>\n",
       "      <td>1</td>\n",
       "      <td>0</td>\n",
       "      <td>0</td>\n",
       "      <td>0</td>\n",
       "      <td>0</td>\n",
       "    </tr>\n",
       "    <tr>\n",
       "      <th>235</th>\n",
       "      <td>0</td>\n",
       "      <td>1</td>\n",
       "      <td>1</td>\n",
       "      <td>0</td>\n",
       "      <td>0</td>\n",
       "      <td>0</td>\n",
       "      <td>0</td>\n",
       "    </tr>\n",
       "    <tr>\n",
       "      <th>37</th>\n",
       "      <td>0</td>\n",
       "      <td>1</td>\n",
       "      <td>1</td>\n",
       "      <td>0</td>\n",
       "      <td>0</td>\n",
       "      <td>0</td>\n",
       "      <td>0</td>\n",
       "    </tr>\n",
       "  </tbody>\n",
       "</table>\n",
       "<p>599 rows × 7 columns</p>\n",
       "</div>"
      ],
      "text/plain": [
       "     PROFIL_I_R  VEH_INVL  SUR_COND_1  SUR_COND_2  SUR_COND_3  SUR_COND_4  \\\n",
       "371           0         1           1           0           0           0   \n",
       "45            0         1           1           0           0           0   \n",
       "560           0         1           0           1           0           0   \n",
       "590           0         1           1           0           0           0   \n",
       "419           0         1           1           0           0           0   \n",
       "..          ...       ...         ...         ...         ...         ...   \n",
       "767           1         1           1           0           0           0   \n",
       "72            1         1           1           0           0           0   \n",
       "908           0         1           1           0           0           0   \n",
       "235           0         1           1           0           0           0   \n",
       "37            0         1           1           0           0           0   \n",
       "\n",
       "     ALCHL_I_1  \n",
       "371          0  \n",
       "45           0  \n",
       "560          0  \n",
       "590          1  \n",
       "419          1  \n",
       "..         ...  \n",
       "767          0  \n",
       "72           0  \n",
       "908          0  \n",
       "235          0  \n",
       "37           0  \n",
       "\n",
       "[599 rows x 7 columns]"
      ]
     },
     "execution_count": 115,
     "metadata": {},
     "output_type": "execute_result"
    }
   ],
   "source": [
    "train_X"
   ]
  },
  {
   "cell_type": "code",
   "execution_count": 116,
   "metadata": {
    "tags": []
   },
   "outputs": [
    {
     "name": "stdout",
     "output_type": "stream",
     "text": [
      "Confusion Matrix (Accuracy 0.8715)\n",
      "\n",
      "       Prediction\n",
      "Actual   0   1   2\n",
      "     0 331   0   1\n",
      "     1   0 172   8\n",
      "     2  30  38  19\n"
     ]
    }
   ],
   "source": [
    "# training performance (use idxmax to revert the one-hotencoding)\n",
    "classificationSummary(train_y, clf.predict(train_X))"
   ]
  },
  {
   "cell_type": "code",
   "execution_count": 117,
   "metadata": {
    "tags": []
   },
   "outputs": [
    {
     "name": "stdout",
     "output_type": "stream",
     "text": [
      "Confusion Matrix (Accuracy 0.8650)\n",
      "\n",
      "       Prediction\n",
      "Actual   0   1   2\n",
      "     0 218   0   1\n",
      "     1   0 115   4\n",
      "     2  24  25  13\n"
     ]
    }
   ],
   "source": [
    "# validation performance\n",
    "classificationSummary(valid_y, clf.predict(valid_X))"
   ]
  },
  {
   "cell_type": "code",
   "execution_count": 118,
   "metadata": {
    "tags": []
   },
   "outputs": [
    {
     "data": {
      "text/html": [
       "<style>#sk-container-id-12 {color: black;background-color: white;}#sk-container-id-12 pre{padding: 0;}#sk-container-id-12 div.sk-toggleable {background-color: white;}#sk-container-id-12 label.sk-toggleable__label {cursor: pointer;display: block;width: 100%;margin-bottom: 0;padding: 0.3em;box-sizing: border-box;text-align: center;}#sk-container-id-12 label.sk-toggleable__label-arrow:before {content: \"▸\";float: left;margin-right: 0.25em;color: #696969;}#sk-container-id-12 label.sk-toggleable__label-arrow:hover:before {color: black;}#sk-container-id-12 div.sk-estimator:hover label.sk-toggleable__label-arrow:before {color: black;}#sk-container-id-12 div.sk-toggleable__content {max-height: 0;max-width: 0;overflow: hidden;text-align: left;background-color: #f0f8ff;}#sk-container-id-12 div.sk-toggleable__content pre {margin: 0.2em;color: black;border-radius: 0.25em;background-color: #f0f8ff;}#sk-container-id-12 input.sk-toggleable__control:checked~div.sk-toggleable__content {max-height: 200px;max-width: 100%;overflow: auto;}#sk-container-id-12 input.sk-toggleable__control:checked~label.sk-toggleable__label-arrow:before {content: \"▾\";}#sk-container-id-12 div.sk-estimator input.sk-toggleable__control:checked~label.sk-toggleable__label {background-color: #d4ebff;}#sk-container-id-12 div.sk-label input.sk-toggleable__control:checked~label.sk-toggleable__label {background-color: #d4ebff;}#sk-container-id-12 input.sk-hidden--visually {border: 0;clip: rect(1px 1px 1px 1px);clip: rect(1px, 1px, 1px, 1px);height: 1px;margin: -1px;overflow: hidden;padding: 0;position: absolute;width: 1px;}#sk-container-id-12 div.sk-estimator {font-family: monospace;background-color: #f0f8ff;border: 1px dotted black;border-radius: 0.25em;box-sizing: border-box;margin-bottom: 0.5em;}#sk-container-id-12 div.sk-estimator:hover {background-color: #d4ebff;}#sk-container-id-12 div.sk-parallel-item::after {content: \"\";width: 100%;border-bottom: 1px solid gray;flex-grow: 1;}#sk-container-id-12 div.sk-label:hover label.sk-toggleable__label {background-color: #d4ebff;}#sk-container-id-12 div.sk-serial::before {content: \"\";position: absolute;border-left: 1px solid gray;box-sizing: border-box;top: 0;bottom: 0;left: 50%;z-index: 0;}#sk-container-id-12 div.sk-serial {display: flex;flex-direction: column;align-items: center;background-color: white;padding-right: 0.2em;padding-left: 0.2em;position: relative;}#sk-container-id-12 div.sk-item {position: relative;z-index: 1;}#sk-container-id-12 div.sk-parallel {display: flex;align-items: stretch;justify-content: center;background-color: white;position: relative;}#sk-container-id-12 div.sk-item::before, #sk-container-id-12 div.sk-parallel-item::before {content: \"\";position: absolute;border-left: 1px solid gray;box-sizing: border-box;top: 0;bottom: 0;left: 50%;z-index: -1;}#sk-container-id-12 div.sk-parallel-item {display: flex;flex-direction: column;z-index: 1;position: relative;background-color: white;}#sk-container-id-12 div.sk-parallel-item:first-child::after {align-self: flex-end;width: 50%;}#sk-container-id-12 div.sk-parallel-item:last-child::after {align-self: flex-start;width: 50%;}#sk-container-id-12 div.sk-parallel-item:only-child::after {width: 0;}#sk-container-id-12 div.sk-dashed-wrapped {border: 1px dashed gray;margin: 0 0.4em 0.5em 0.4em;box-sizing: border-box;padding-bottom: 0.4em;background-color: white;}#sk-container-id-12 div.sk-label label {font-family: monospace;font-weight: bold;display: inline-block;line-height: 1.2em;}#sk-container-id-12 div.sk-label-container {text-align: center;}#sk-container-id-12 div.sk-container {/* jupyter's `normalize.less` sets `[hidden] { display: none; }` but bootstrap.min.css set `[hidden] { display: none !important; }` so we also need the `!important` here to be able to override the default hidden behavior on the sphinx rendered scikit-learn.org. See: https://github.com/scikit-learn/scikit-learn/issues/21755 */display: inline-block !important;position: relative;}#sk-container-id-12 div.sk-text-repr-fallback {display: none;}</style><div id=\"sk-container-id-12\" class=\"sk-top-container\"><div class=\"sk-text-repr-fallback\"><pre>MLPClassifier(activation=&#x27;logistic&#x27;, hidden_layer_sizes=2, max_iter=500,\n",
       "              random_state=1, solver=&#x27;lbfgs&#x27;)</pre><b>In a Jupyter environment, please rerun this cell to show the HTML representation or trust the notebook. <br />On GitHub, the HTML representation is unable to render, please try loading this page with nbviewer.org.</b></div><div class=\"sk-container\" hidden><div class=\"sk-item\"><div class=\"sk-estimator sk-toggleable\"><input class=\"sk-toggleable__control sk-hidden--visually\" id=\"sk-estimator-id-12\" type=\"checkbox\" checked><label for=\"sk-estimator-id-12\" class=\"sk-toggleable__label sk-toggleable__label-arrow\">MLPClassifier</label><div class=\"sk-toggleable__content\"><pre>MLPClassifier(activation=&#x27;logistic&#x27;, hidden_layer_sizes=2, max_iter=500,\n",
       "              random_state=1, solver=&#x27;lbfgs&#x27;)</pre></div></div></div></div></div>"
      ],
      "text/plain": [
       "MLPClassifier(activation='logistic', hidden_layer_sizes=2, max_iter=500,\n",
       "              random_state=1, solver='lbfgs')"
      ]
     },
     "execution_count": 118,
     "metadata": {},
     "output_type": "execute_result"
    }
   ],
   "source": [
    "from sklearn.model_selection import cross_val_score, train_test_split, GridSearchCV\n",
    "\n",
    "# train neural network with 2 hidden nodes\n",
    "clf = MLPClassifier(hidden_layer_sizes=(2), activation='logistic', solver='lbfgs',\n",
    "                    random_state=1, max_iter=500)\n",
    "clf.fit(train_X, train_y.values)"
   ]
  },
  {
   "cell_type": "markdown",
   "metadata": {},
   "source": [
    "## Grid Search"
   ]
  },
  {
   "cell_type": "markdown",
   "metadata": {},
   "source": [
    "#### Note how to choose the size of hidden layer in Chapter 11.4: A rule of thumb is to start with p (number of predictors) nodes and gradually decrease or increase while checking for overfitting. Make sure you your search grid for \"hidden_layer_sizes\" covers the number of predictors (p) and beyond when using GridSearchCV as shown below."
   ]
  },
  {
   "cell_type": "code",
   "execution_count": 119,
   "metadata": {
    "tags": []
   },
   "outputs": [
    {
     "name": "stdout",
     "output_type": "stream",
     "text": [
      "Best score:  0.8614285714285714\n",
      "Best parameters:  {'hidden_layer_sizes': 1}\n"
     ]
    }
   ],
   "source": [
    "param_grid = {\n",
    "    'hidden_layer_sizes': [i for i in range(1,20)] \n",
    "}\n",
    "gridSearch = GridSearchCV(MLPClassifier(activation='logistic', solver='lbfgs', random_state=1, max_iter=1000), \n",
    "                          param_grid, cv=5, n_jobs=-1, return_train_score=True)\n",
    "gridSearch.fit(train_X, train_y)\n",
    "print('Best score: ', gridSearch.best_score_)\n",
    "print('Best parameters: ', gridSearch.best_params_)\n",
    "\n",
    "# The grid.best_score_ is the average of all cv folds for a single combination of \n",
    "# the parameters you specify in the tuned_params.\n",
    "# In order to access other relevant details about the grid searching process, \n",
    "# you can look at the grid.cv_results_ attribute.\n",
    "# From the documentation of GridSearchCV:\n",
    "# cv_results_ : dict of numpy (masked) ndarrays\n",
    "# A dict with keys as column headers and values as columns, \n",
    "# that can be imported into a pandas DataFrame\n",
    "# It contains keys like 'split0_test_score', 'split1_test_score' , \n",
    "# 'mean_test_score', 'std_test_score', 'rank_test_score', 'split0_train_score', \n",
    "# 'split1_train_score', 'mean_train_score', etc, which gives additional \n",
    "# information about the whole execution."
   ]
  },
  {
   "cell_type": "code",
   "execution_count": 120,
   "metadata": {
    "tags": []
   },
   "outputs": [
    {
     "data": {
      "text/plain": [
       "{'mean_fit_time': array([0.02014794, 0.02054276, 0.04196701, 0.02538257, 0.0385159 ,\n",
       "        0.03461776, 0.04089479, 0.03447695, 0.05108099, 0.08586392,\n",
       "        0.05650558, 0.0566596 , 0.12906499, 0.09232836, 0.10659981,\n",
       "        0.09058599, 0.09932342, 0.09294348, 0.09198656]),\n",
       " 'std_fit_time': array([0.0075582 , 0.00492917, 0.02677634, 0.00792821, 0.01450386,\n",
       "        0.01101463, 0.0161624 , 0.01031212, 0.01233425, 0.04384139,\n",
       "        0.01887696, 0.01998243, 0.05951231, 0.0257268 , 0.06387201,\n",
       "        0.03622821, 0.01719653, 0.01984118, 0.00793365]),\n",
       " 'mean_score_time': array([0.00198665, 0.00264482, 0.00077758, 0.00131645, 0.00070419,\n",
       "        0.00069537, 0.00069895, 0.00091934, 0.00071502, 0.00151987,\n",
       "        0.00092702, 0.00125985, 0.0007082 , 0.00069499, 0.00091281,\n",
       "        0.000911  , 0.00103874, 0.00073695, 0.00071683]),\n",
       " 'std_score_time': array([9.79065604e-04, 1.34325265e-03, 5.19801934e-05, 6.86872375e-04,\n",
       "        2.81667512e-05, 2.68314028e-05, 2.12621256e-05, 4.18219054e-04,\n",
       "        2.02894071e-05, 6.69968703e-04, 4.69623029e-04, 8.82869341e-04,\n",
       "        3.05498221e-05, 1.42429910e-05, 4.40212402e-04, 4.33262885e-04,\n",
       "        5.71171253e-04, 4.28395131e-05, 6.12125204e-05]),\n",
       " 'param_hidden_layer_sizes': masked_array(data=[1, 2, 3, 4, 5, 6, 7, 8, 9, 10, 11, 12, 13, 14, 15, 16,\n",
       "                    17, 18, 19],\n",
       "              mask=[False, False, False, False, False, False, False, False,\n",
       "                    False, False, False, False, False, False, False, False,\n",
       "                    False, False, False],\n",
       "        fill_value='?',\n",
       "             dtype=object),\n",
       " 'params': [{'hidden_layer_sizes': 1},\n",
       "  {'hidden_layer_sizes': 2},\n",
       "  {'hidden_layer_sizes': 3},\n",
       "  {'hidden_layer_sizes': 4},\n",
       "  {'hidden_layer_sizes': 5},\n",
       "  {'hidden_layer_sizes': 6},\n",
       "  {'hidden_layer_sizes': 7},\n",
       "  {'hidden_layer_sizes': 8},\n",
       "  {'hidden_layer_sizes': 9},\n",
       "  {'hidden_layer_sizes': 10},\n",
       "  {'hidden_layer_sizes': 11},\n",
       "  {'hidden_layer_sizes': 12},\n",
       "  {'hidden_layer_sizes': 13},\n",
       "  {'hidden_layer_sizes': 14},\n",
       "  {'hidden_layer_sizes': 15},\n",
       "  {'hidden_layer_sizes': 16},\n",
       "  {'hidden_layer_sizes': 17},\n",
       "  {'hidden_layer_sizes': 18},\n",
       "  {'hidden_layer_sizes': 19}],\n",
       " 'split0_test_score': array([0.85833333, 0.86666667, 0.86666667, 0.86666667, 0.85833333,\n",
       "        0.86666667, 0.86666667, 0.86666667, 0.86666667, 0.85      ,\n",
       "        0.86666667, 0.86666667, 0.86666667, 0.85      , 0.85      ,\n",
       "        0.85      , 0.86666667, 0.86666667, 0.86666667]),\n",
       " 'split1_test_score': array([0.85833333, 0.86666667, 0.86666667, 0.86666667, 0.86666667,\n",
       "        0.85833333, 0.86666667, 0.86666667, 0.86666667, 0.85833333,\n",
       "        0.875     , 0.86666667, 0.875     , 0.85      , 0.85833333,\n",
       "        0.86666667, 0.86666667, 0.85833333, 0.85      ]),\n",
       " 'split2_test_score': array([0.85833333, 0.86666667, 0.86666667, 0.86666667, 0.86666667,\n",
       "        0.86666667, 0.86666667, 0.85833333, 0.86666667, 0.85833333,\n",
       "        0.85833333, 0.84166667, 0.86666667, 0.86666667, 0.86666667,\n",
       "        0.85833333, 0.85833333, 0.875     , 0.86666667]),\n",
       " 'split3_test_score': array([0.875     , 0.85      , 0.85833333, 0.85833333, 0.85833333,\n",
       "        0.85      , 0.85833333, 0.85      , 0.85      , 0.83333333,\n",
       "        0.84166667, 0.84166667, 0.84166667, 0.85      , 0.85      ,\n",
       "        0.84166667, 0.84166667, 0.85      , 0.84166667]),\n",
       " 'split4_test_score': array([0.85714286, 0.8487395 , 0.8487395 , 0.8487395 , 0.8487395 ,\n",
       "        0.8487395 , 0.84033613, 0.84033613, 0.8487395 , 0.8487395 ,\n",
       "        0.84033613, 0.8487395 , 0.8487395 , 0.8487395 , 0.8487395 ,\n",
       "        0.84033613, 0.84033613, 0.8487395 , 0.84033613]),\n",
       " 'mean_test_score': array([0.86142857, 0.8597479 , 0.86141457, 0.86141457, 0.8597479 ,\n",
       "        0.85808123, 0.85973389, 0.85640056, 0.8597479 , 0.8497479 ,\n",
       "        0.85640056, 0.85308123, 0.8597479 , 0.85308123, 0.8547479 ,\n",
       "        0.85140056, 0.85473389, 0.8597479 , 0.85306723]),\n",
       " 'std_test_score': array([0.00680136, 0.0084831 , 0.00711203, 0.00711203, 0.00664719,\n",
       "        0.00774671, 0.01022179, 0.01013464, 0.0084831 , 0.00914262,\n",
       "        0.0136398 , 0.01138915, 0.01246179, 0.00681024, 0.00687166,\n",
       "        0.01000249, 0.01162571, 0.00998703, 0.0115875 ]),\n",
       " 'rank_test_score': array([ 1,  4,  2,  2,  4, 10,  9, 11,  4, 19, 11, 15,  4, 15, 13, 18, 14,\n",
       "         4, 17], dtype=int32),\n",
       " 'split0_train_score': array([0.86847599, 0.87265136, 0.87682672, 0.87682672, 0.86430063,\n",
       "        0.87682672, 0.87891441, 0.87891441, 0.87891441, 0.87891441,\n",
       "        0.87891441, 0.88100209, 0.87473904, 0.88100209, 0.87473904,\n",
       "        0.87473904, 0.88308977, 0.88100209, 0.88308977]),\n",
       " 'split1_train_score': array([0.86012526, 0.87473904, 0.87473904, 0.87473904, 0.87265136,\n",
       "        0.87473904, 0.87265136, 0.87473904, 0.87473904, 0.87682672,\n",
       "        0.87682672, 0.87473904, 0.87682672, 0.87682672, 0.87682672,\n",
       "        0.87473904, 0.87682672, 0.87682672, 0.87682672]),\n",
       " 'split2_train_score': array([0.87056367, 0.87473904, 0.87682672, 0.87682672, 0.87682672,\n",
       "        0.87473904, 0.87682672, 0.87682672, 0.87682672, 0.87682672,\n",
       "        0.87682672, 0.87891441, 0.88100209, 0.87682672, 0.87891441,\n",
       "        0.87682672, 0.87891441, 0.87891441, 0.88100209]),\n",
       " 'split3_train_score': array([0.8559499 , 0.87265136, 0.87056367, 0.87473904, 0.87056367,\n",
       "        0.87265136, 0.87265136, 0.87473904, 0.87473904, 0.87682672,\n",
       "        0.87473904, 0.87682672, 0.87891441, 0.87682672, 0.87891441,\n",
       "        0.87891441, 0.87891441, 0.87682672, 0.87891441]),\n",
       " 'split4_train_score': array([0.86875   , 0.87916667, 0.88125   , 0.88333333, 0.88333333,\n",
       "        0.88125   , 0.88333333, 0.88333333, 0.88333333, 0.88333333,\n",
       "        0.88333333, 0.88541667, 0.88541667, 0.88333333, 0.88541667,\n",
       "        0.88541667, 0.88541667, 0.88541667, 0.88541667]),\n",
       " 'mean_train_score': array([0.86477296, 0.87478949, 0.87604123, 0.87729297, 0.87353514,\n",
       "        0.87604123, 0.87687543, 0.87771051, 0.87771051, 0.87854558,\n",
       "        0.87812804, 0.87937978, 0.87937978, 0.87896312, 0.87896225,\n",
       "        0.87812717, 0.88063239, 0.87979732, 0.88104993]),\n",
       " 'std_train_score': array([0.00570104, 0.00237941, 0.00346597, 0.0031612 , 0.00635179,\n",
       "        0.00291996, 0.00403856, 0.00320954, 0.00320954, 0.00252674,\n",
       "        0.00291841, 0.00367007, 0.00367007, 0.00271841, 0.00357939,\n",
       "        0.00395996, 0.00314051, 0.00320802, 0.00302085])}"
      ]
     },
     "execution_count": 120,
     "metadata": {},
     "output_type": "execute_result"
    }
   ],
   "source": [
    "gridSearch.cv_results_"
   ]
  },
  {
   "cell_type": "code",
   "execution_count": 121,
   "metadata": {
    "tags": []
   },
   "outputs": [
    {
     "name": "stdout",
     "output_type": "stream",
     "text": [
      "   param_hidden_layer_sizes  mean_test_score  std_test_score\n",
      "0                         1         0.861429        0.006801\n",
      "1                         2         0.859748        0.008483\n",
      "2                         3         0.861415        0.007112\n",
      "3                         4         0.861415        0.007112\n",
      "4                         5         0.859748        0.006647\n",
      "5                         6         0.858081        0.007747\n",
      "6                         7         0.859734        0.010222\n",
      "7                         8         0.856401        0.010135\n",
      "8                         9         0.859748        0.008483\n",
      "9                        10         0.849748        0.009143\n",
      "10                       11         0.856401        0.013640\n",
      "11                       12         0.853081        0.011389\n",
      "12                       13         0.859748        0.012462\n",
      "13                       14         0.853081        0.006810\n",
      "14                       15         0.854748        0.006872\n",
      "15                       16         0.851401        0.010002\n",
      "16                       17         0.854734        0.011626\n",
      "17                       18         0.859748        0.009987\n",
      "18                       19         0.853067        0.011588\n"
     ]
    }
   ],
   "source": [
    "display=['param_hidden_layer_sizes', 'mean_test_score', 'std_test_score']\n",
    "print(pd.DataFrame(gridSearch.cv_results_)[display])"
   ]
  },
  {
   "cell_type": "code",
   "execution_count": 122,
   "metadata": {
    "tags": []
   },
   "outputs": [
    {
     "data": {
      "image/png": "[encoded data removed]",
      "text/plain": [
       "<Figure size 640x480 with 1 Axes>"
      ]
     },
     "metadata": {},
     "output_type": "display_data"
    }
   ],
   "source": [
    "pd.DataFrame(gridSearch.cv_results_)[display].plot(x='param_hidden_layer_sizes', \n",
    "                                                   y='mean_test_score', yerr='std_test_score', \n",
    "                                                   ylim=(0.8, 0.9))\n",
    "import matplotlib.pylab as plt\n",
    "plt.show()"
   ]
  },
  {
   "cell_type": "code",
   "execution_count": 123,
   "metadata": {
    "tags": []
   },
   "outputs": [
    {
     "data": {
      "text/html": [
       "<style>#sk-container-id-13 {color: black;background-color: white;}#sk-container-id-13 pre{padding: 0;}#sk-container-id-13 div.sk-toggleable {background-color: white;}#sk-container-id-13 label.sk-toggleable__label {cursor: pointer;display: block;width: 100%;margin-bottom: 0;padding: 0.3em;box-sizing: border-box;text-align: center;}#sk-container-id-13 label.sk-toggleable__label-arrow:before {content: \"▸\";float: left;margin-right: 0.25em;color: #696969;}#sk-container-id-13 label.sk-toggleable__label-arrow:hover:before {color: black;}#sk-container-id-13 div.sk-estimator:hover label.sk-toggleable__label-arrow:before {color: black;}#sk-container-id-13 div.sk-toggleable__content {max-height: 0;max-width: 0;overflow: hidden;text-align: left;background-color: #f0f8ff;}#sk-container-id-13 div.sk-toggleable__content pre {margin: 0.2em;color: black;border-radius: 0.25em;background-color: #f0f8ff;}#sk-container-id-13 input.sk-toggleable__control:checked~div.sk-toggleable__content {max-height: 200px;max-width: 100%;overflow: auto;}#sk-container-id-13 input.sk-toggleable__control:checked~label.sk-toggleable__label-arrow:before {content: \"▾\";}#sk-container-id-13 div.sk-estimator input.sk-toggleable__control:checked~label.sk-toggleable__label {background-color: #d4ebff;}#sk-container-id-13 div.sk-label input.sk-toggleable__control:checked~label.sk-toggleable__label {background-color: #d4ebff;}#sk-container-id-13 input.sk-hidden--visually {border: 0;clip: rect(1px 1px 1px 1px);clip: rect(1px, 1px, 1px, 1px);height: 1px;margin: -1px;overflow: hidden;padding: 0;position: absolute;width: 1px;}#sk-container-id-13 div.sk-estimator {font-family: monospace;background-color: #f0f8ff;border: 1px dotted black;border-radius: 0.25em;box-sizing: border-box;margin-bottom: 0.5em;}#sk-container-id-13 div.sk-estimator:hover {background-color: #d4ebff;}#sk-container-id-13 div.sk-parallel-item::after {content: \"\";width: 100%;border-bottom: 1px solid gray;flex-grow: 1;}#sk-container-id-13 div.sk-label:hover label.sk-toggleable__label {background-color: #d4ebff;}#sk-container-id-13 div.sk-serial::before {content: \"\";position: absolute;border-left: 1px solid gray;box-sizing: border-box;top: 0;bottom: 0;left: 50%;z-index: 0;}#sk-container-id-13 div.sk-serial {display: flex;flex-direction: column;align-items: center;background-color: white;padding-right: 0.2em;padding-left: 0.2em;position: relative;}#sk-container-id-13 div.sk-item {position: relative;z-index: 1;}#sk-container-id-13 div.sk-parallel {display: flex;align-items: stretch;justify-content: center;background-color: white;position: relative;}#sk-container-id-13 div.sk-item::before, #sk-container-id-13 div.sk-parallel-item::before {content: \"\";position: absolute;border-left: 1px solid gray;box-sizing: border-box;top: 0;bottom: 0;left: 50%;z-index: -1;}#sk-container-id-13 div.sk-parallel-item {display: flex;flex-direction: column;z-index: 1;position: relative;background-color: white;}#sk-container-id-13 div.sk-parallel-item:first-child::after {align-self: flex-end;width: 50%;}#sk-container-id-13 div.sk-parallel-item:last-child::after {align-self: flex-start;width: 50%;}#sk-container-id-13 div.sk-parallel-item:only-child::after {width: 0;}#sk-container-id-13 div.sk-dashed-wrapped {border: 1px dashed gray;margin: 0 0.4em 0.5em 0.4em;box-sizing: border-box;padding-bottom: 0.4em;background-color: white;}#sk-container-id-13 div.sk-label label {font-family: monospace;font-weight: bold;display: inline-block;line-height: 1.2em;}#sk-container-id-13 div.sk-label-container {text-align: center;}#sk-container-id-13 div.sk-container {/* jupyter's `normalize.less` sets `[hidden] { display: none; }` but bootstrap.min.css set `[hidden] { display: none !important; }` so we also need the `!important` here to be able to override the default hidden behavior on the sphinx rendered scikit-learn.org. See: https://github.com/scikit-learn/scikit-learn/issues/21755 */display: inline-block !important;position: relative;}#sk-container-id-13 div.sk-text-repr-fallback {display: none;}</style><div id=\"sk-container-id-13\" class=\"sk-top-container\"><div class=\"sk-text-repr-fallback\"><pre>MLPClassifier(activation=&#x27;logistic&#x27;, hidden_layer_sizes=1, max_iter=500,\n",
       "              random_state=1, solver=&#x27;lbfgs&#x27;)</pre><b>In a Jupyter environment, please rerun this cell to show the HTML representation or trust the notebook. <br />On GitHub, the HTML representation is unable to render, please try loading this page with nbviewer.org.</b></div><div class=\"sk-container\" hidden><div class=\"sk-item\"><div class=\"sk-estimator sk-toggleable\"><input class=\"sk-toggleable__control sk-hidden--visually\" id=\"sk-estimator-id-13\" type=\"checkbox\" checked><label for=\"sk-estimator-id-13\" class=\"sk-toggleable__label sk-toggleable__label-arrow\">MLPClassifier</label><div class=\"sk-toggleable__content\"><pre>MLPClassifier(activation=&#x27;logistic&#x27;, hidden_layer_sizes=1, max_iter=500,\n",
       "              random_state=1, solver=&#x27;lbfgs&#x27;)</pre></div></div></div></div></div>"
      ],
      "text/plain": [
       "MLPClassifier(activation='logistic', hidden_layer_sizes=1, max_iter=500,\n",
       "              random_state=1, solver='lbfgs')"
      ]
     },
     "execution_count": 123,
     "metadata": {},
     "output_type": "execute_result"
    }
   ],
   "source": [
    "# train neural network with 1 nodes in the hidden layer, increase default max_iter from 200 to 500\n",
    "clf = MLPClassifier(hidden_layer_sizes=(1), activation='logistic', solver='lbfgs', max_iter=500,\n",
    "                    random_state=1)\n",
    "clf.fit(train_X, train_y)\n"
   ]
  },
  {
   "cell_type": "code",
   "execution_count": 124,
   "metadata": {
    "tags": []
   },
   "outputs": [
    {
     "name": "stdout",
     "output_type": "stream",
     "text": [
      "Confusion Matrix (Accuracy 0.8664)\n",
      "\n",
      "       Prediction\n",
      "Actual   0   1   2\n",
      "     0 331   0   1\n",
      "     1   0 180   0\n",
      "     2  30  49   8\n",
      "Confusion Matrix (Accuracy 0.8550)\n",
      "\n",
      "       Prediction\n",
      "Actual   0   1   2\n",
      "     0 218   0   1\n",
      "     1   0 119   0\n",
      "     2  24  33   5\n"
     ]
    }
   ],
   "source": [
    "# training performance (use idxmax to revert the one-hot-encoding)\n",
    "classificationSummary(train_y, clf.predict(train_X))\n",
    "\n",
    "# validation performance\n",
    "classificationSummary(valid_y, clf.predict(valid_X))"
   ]
  },
  {
   "cell_type": "markdown",
   "metadata": {},
   "source": [
    "## Table 11.6"
   ]
  },
  {
   "cell_type": "markdown",
   "metadata": {},
   "source": [
    "## Fitting class probabilities separately"
   ]
  },
  {
   "cell_type": "code",
   "execution_count": 125,
   "metadata": {
    "tags": []
   },
   "outputs": [
    {
     "data": {
      "text/html": [
       "<div>\n",
       "<style scoped>\n",
       "    .dataframe tbody tr th:only-of-type {\n",
       "        vertical-align: middle;\n",
       "    }\n",
       "\n",
       "    .dataframe tbody tr th {\n",
       "        vertical-align: top;\n",
       "    }\n",
       "\n",
       "    .dataframe thead th {\n",
       "        text-align: right;\n",
       "    }\n",
       "</style>\n",
       "<table border=\"1\" class=\"dataframe\">\n",
       "  <thead>\n",
       "    <tr style=\"text-align: right;\">\n",
       "      <th></th>\n",
       "      <th>PROFIL_I_R</th>\n",
       "      <th>VEH_INVL</th>\n",
       "      <th>MAX_SEV_IR</th>\n",
       "      <th>SUR_COND_1</th>\n",
       "      <th>SUR_COND_2</th>\n",
       "      <th>SUR_COND_3</th>\n",
       "      <th>SUR_COND_4</th>\n",
       "      <th>ALCHL_I_1</th>\n",
       "    </tr>\n",
       "  </thead>\n",
       "  <tbody>\n",
       "    <tr>\n",
       "      <th>0</th>\n",
       "      <td>0</td>\n",
       "      <td>1</td>\n",
       "      <td>0</td>\n",
       "      <td>1</td>\n",
       "      <td>0</td>\n",
       "      <td>0</td>\n",
       "      <td>0</td>\n",
       "      <td>0</td>\n",
       "    </tr>\n",
       "    <tr>\n",
       "      <th>1</th>\n",
       "      <td>1</td>\n",
       "      <td>1</td>\n",
       "      <td>2</td>\n",
       "      <td>1</td>\n",
       "      <td>0</td>\n",
       "      <td>0</td>\n",
       "      <td>0</td>\n",
       "      <td>0</td>\n",
       "    </tr>\n",
       "    <tr>\n",
       "      <th>2</th>\n",
       "      <td>0</td>\n",
       "      <td>1</td>\n",
       "      <td>0</td>\n",
       "      <td>1</td>\n",
       "      <td>0</td>\n",
       "      <td>0</td>\n",
       "      <td>0</td>\n",
       "      <td>1</td>\n",
       "    </tr>\n",
       "    <tr>\n",
       "      <th>3</th>\n",
       "      <td>0</td>\n",
       "      <td>2</td>\n",
       "      <td>1</td>\n",
       "      <td>0</td>\n",
       "      <td>1</td>\n",
       "      <td>0</td>\n",
       "      <td>0</td>\n",
       "      <td>0</td>\n",
       "    </tr>\n",
       "    <tr>\n",
       "      <th>4</th>\n",
       "      <td>1</td>\n",
       "      <td>2</td>\n",
       "      <td>1</td>\n",
       "      <td>1</td>\n",
       "      <td>0</td>\n",
       "      <td>0</td>\n",
       "      <td>0</td>\n",
       "      <td>0</td>\n",
       "    </tr>\n",
       "    <tr>\n",
       "      <th>...</th>\n",
       "      <td>...</td>\n",
       "      <td>...</td>\n",
       "      <td>...</td>\n",
       "      <td>...</td>\n",
       "      <td>...</td>\n",
       "      <td>...</td>\n",
       "      <td>...</td>\n",
       "      <td>...</td>\n",
       "    </tr>\n",
       "    <tr>\n",
       "      <th>994</th>\n",
       "      <td>0</td>\n",
       "      <td>1</td>\n",
       "      <td>0</td>\n",
       "      <td>1</td>\n",
       "      <td>0</td>\n",
       "      <td>0</td>\n",
       "      <td>0</td>\n",
       "      <td>0</td>\n",
       "    </tr>\n",
       "    <tr>\n",
       "      <th>995</th>\n",
       "      <td>0</td>\n",
       "      <td>1</td>\n",
       "      <td>0</td>\n",
       "      <td>1</td>\n",
       "      <td>0</td>\n",
       "      <td>0</td>\n",
       "      <td>0</td>\n",
       "      <td>0</td>\n",
       "    </tr>\n",
       "    <tr>\n",
       "      <th>996</th>\n",
       "      <td>1</td>\n",
       "      <td>2</td>\n",
       "      <td>1</td>\n",
       "      <td>1</td>\n",
       "      <td>0</td>\n",
       "      <td>0</td>\n",
       "      <td>0</td>\n",
       "      <td>1</td>\n",
       "    </tr>\n",
       "    <tr>\n",
       "      <th>997</th>\n",
       "      <td>0</td>\n",
       "      <td>3</td>\n",
       "      <td>2</td>\n",
       "      <td>1</td>\n",
       "      <td>0</td>\n",
       "      <td>0</td>\n",
       "      <td>0</td>\n",
       "      <td>1</td>\n",
       "    </tr>\n",
       "    <tr>\n",
       "      <th>998</th>\n",
       "      <td>0</td>\n",
       "      <td>1</td>\n",
       "      <td>0</td>\n",
       "      <td>1</td>\n",
       "      <td>0</td>\n",
       "      <td>0</td>\n",
       "      <td>0</td>\n",
       "      <td>0</td>\n",
       "    </tr>\n",
       "  </tbody>\n",
       "</table>\n",
       "<p>999 rows × 8 columns</p>\n",
       "</div>"
      ],
      "text/plain": [
       "     PROFIL_I_R  VEH_INVL MAX_SEV_IR  SUR_COND_1  SUR_COND_2  SUR_COND_3  \\\n",
       "0             0         1          0           1           0           0   \n",
       "1             1         1          2           1           0           0   \n",
       "2             0         1          0           1           0           0   \n",
       "3             0         2          1           0           1           0   \n",
       "4             1         2          1           1           0           0   \n",
       "..          ...       ...        ...         ...         ...         ...   \n",
       "994           0         1          0           1           0           0   \n",
       "995           0         1          0           1           0           0   \n",
       "996           1         2          1           1           0           0   \n",
       "997           0         3          2           1           0           0   \n",
       "998           0         1          0           1           0           0   \n",
       "\n",
       "     SUR_COND_4  ALCHL_I_1  \n",
       "0             0          0  \n",
       "1             0          0  \n",
       "2             0          1  \n",
       "3             0          0  \n",
       "4             0          0  \n",
       "..          ...        ...  \n",
       "994           0          0  \n",
       "995           0          0  \n",
       "996           0          1  \n",
       "997           0          1  \n",
       "998           0          0  \n",
       "\n",
       "[999 rows x 8 columns]"
      ]
     },
     "execution_count": 125,
     "metadata": {},
     "output_type": "execute_result"
    }
   ],
   "source": [
    "processed"
   ]
  },
  {
   "cell_type": "code",
   "execution_count": 126,
   "metadata": {
    "tags": []
   },
   "outputs": [
    {
     "name": "stdout",
     "output_type": "stream",
     "text": [
      "Confusion Matrix (Accuracy 0.8731)\n",
      "\n",
      "             Prediction\n",
      "      Actual MAX_SEV_IR_0 MAX_SEV_IR_1 MAX_SEV_IR_2\n",
      "MAX_SEV_IR_0          332            0            0\n",
      "MAX_SEV_IR_1            0          172            8\n",
      "MAX_SEV_IR_2           31           37           19\n",
      "Confusion Matrix (Accuracy 0.8625)\n",
      "\n",
      "             Prediction\n",
      "      Actual MAX_SEV_IR_0 MAX_SEV_IR_1 MAX_SEV_IR_2\n",
      "MAX_SEV_IR_0          218            0            1\n",
      "MAX_SEV_IR_1            1          115            3\n",
      "MAX_SEV_IR_2           24           26           12\n"
     ]
    }
   ],
   "source": [
    "accidents_df = pd.read_csv(DATA / 'accidentsnn.csv')\n",
    "input_vars = ['ALCHL_I', 'PROFIL_I_R', 'VEH_INVL']\n",
    "\n",
    "accidents_df.SUR_COND = accidents_df.SUR_COND.astype('category')\n",
    "accidents_df.MAX_SEV_IR = accidents_df.MAX_SEV_IR.astype('category')\n",
    "accidents_df.ALCHL_I = accidents_df.ALCHL_I.astype('category')\n",
    "# convert the categorical data into dummy variables\n",
    "processed = pd.get_dummies(accidents_df)\n",
    "# drop the column for SUR_COND 9 = unknown\n",
    "# processed = processed.drop(columns=['SUR_COND_9'])\n",
    "processed = processed.drop(columns=['SUR_COND_9', 'ALCHL_I_2'])\n",
    "outcome = ['MAX_SEV_IR_0', 'MAX_SEV_IR_1', 'MAX_SEV_IR_2']\n",
    "predictors = [c for c in processed.columns if c not in outcome]\n",
    "classes = sorted(outcome)\n",
    "\n",
    "# partition data\n",
    "X = processed[predictors]\n",
    "y = processed[outcome]\n",
    "train_X, valid_X, train_y, valid_y = train_test_split(X, y, test_size=0.4, random_state=1)\n",
    "\n",
    "# train neural network with 2 hidden nodes, increase default max_iter from 200 to 300\n",
    "clf = MLPClassifier(hidden_layer_sizes=(2), activation='logistic', solver='lbfgs', max_iter=300,\n",
    "                    random_state=1)\n",
    "clf.fit(train_X, train_y)\n",
    "\n",
    "# training performance (use idxmax to revert the one-hot-encoding)\n",
    "trainPrediction = pd.DataFrame(clf.predict(train_X), columns=outcome).idxmax(axis=1)\n",
    "classificationSummary(train_y.idxmax(axis=1), trainPrediction, class_names=classes)\n",
    "\n",
    "# validation performance\n",
    "validPrediction = pd.DataFrame(clf.predict(valid_X), columns=outcome).idxmax(axis=1)\n",
    "classificationSummary(valid_y.idxmax(axis=1), validPrediction, class_names=classes)"
   ]
  },
  {
   "cell_type": "code",
   "execution_count": 127,
   "metadata": {
    "tags": []
   },
   "outputs": [
    {
     "data": {
      "text/html": [
       "<div>\n",
       "<style scoped>\n",
       "    .dataframe tbody tr th:only-of-type {\n",
       "        vertical-align: middle;\n",
       "    }\n",
       "\n",
       "    .dataframe tbody tr th {\n",
       "        vertical-align: top;\n",
       "    }\n",
       "\n",
       "    .dataframe thead th {\n",
       "        text-align: right;\n",
       "    }\n",
       "</style>\n",
       "<table border=\"1\" class=\"dataframe\">\n",
       "  <thead>\n",
       "    <tr style=\"text-align: right;\">\n",
       "      <th></th>\n",
       "      <th>PROFIL_I_R</th>\n",
       "      <th>VEH_INVL</th>\n",
       "      <th>ALCHL_I_1</th>\n",
       "      <th>SUR_COND_1</th>\n",
       "      <th>SUR_COND_2</th>\n",
       "      <th>SUR_COND_3</th>\n",
       "      <th>SUR_COND_4</th>\n",
       "    </tr>\n",
       "  </thead>\n",
       "  <tbody>\n",
       "    <tr>\n",
       "      <th>0</th>\n",
       "      <td>0</td>\n",
       "      <td>1</td>\n",
       "      <td>0</td>\n",
       "      <td>1</td>\n",
       "      <td>0</td>\n",
       "      <td>0</td>\n",
       "      <td>0</td>\n",
       "    </tr>\n",
       "    <tr>\n",
       "      <th>1</th>\n",
       "      <td>1</td>\n",
       "      <td>1</td>\n",
       "      <td>0</td>\n",
       "      <td>1</td>\n",
       "      <td>0</td>\n",
       "      <td>0</td>\n",
       "      <td>0</td>\n",
       "    </tr>\n",
       "    <tr>\n",
       "      <th>2</th>\n",
       "      <td>0</td>\n",
       "      <td>1</td>\n",
       "      <td>1</td>\n",
       "      <td>1</td>\n",
       "      <td>0</td>\n",
       "      <td>0</td>\n",
       "      <td>0</td>\n",
       "    </tr>\n",
       "    <tr>\n",
       "      <th>3</th>\n",
       "      <td>0</td>\n",
       "      <td>2</td>\n",
       "      <td>0</td>\n",
       "      <td>0</td>\n",
       "      <td>1</td>\n",
       "      <td>0</td>\n",
       "      <td>0</td>\n",
       "    </tr>\n",
       "    <tr>\n",
       "      <th>4</th>\n",
       "      <td>1</td>\n",
       "      <td>2</td>\n",
       "      <td>0</td>\n",
       "      <td>1</td>\n",
       "      <td>0</td>\n",
       "      <td>0</td>\n",
       "      <td>0</td>\n",
       "    </tr>\n",
       "    <tr>\n",
       "      <th>...</th>\n",
       "      <td>...</td>\n",
       "      <td>...</td>\n",
       "      <td>...</td>\n",
       "      <td>...</td>\n",
       "      <td>...</td>\n",
       "      <td>...</td>\n",
       "      <td>...</td>\n",
       "    </tr>\n",
       "    <tr>\n",
       "      <th>994</th>\n",
       "      <td>0</td>\n",
       "      <td>1</td>\n",
       "      <td>0</td>\n",
       "      <td>1</td>\n",
       "      <td>0</td>\n",
       "      <td>0</td>\n",
       "      <td>0</td>\n",
       "    </tr>\n",
       "    <tr>\n",
       "      <th>995</th>\n",
       "      <td>0</td>\n",
       "      <td>1</td>\n",
       "      <td>0</td>\n",
       "      <td>1</td>\n",
       "      <td>0</td>\n",
       "      <td>0</td>\n",
       "      <td>0</td>\n",
       "    </tr>\n",
       "    <tr>\n",
       "      <th>996</th>\n",
       "      <td>1</td>\n",
       "      <td>2</td>\n",
       "      <td>1</td>\n",
       "      <td>1</td>\n",
       "      <td>0</td>\n",
       "      <td>0</td>\n",
       "      <td>0</td>\n",
       "    </tr>\n",
       "    <tr>\n",
       "      <th>997</th>\n",
       "      <td>0</td>\n",
       "      <td>3</td>\n",
       "      <td>1</td>\n",
       "      <td>1</td>\n",
       "      <td>0</td>\n",
       "      <td>0</td>\n",
       "      <td>0</td>\n",
       "    </tr>\n",
       "    <tr>\n",
       "      <th>998</th>\n",
       "      <td>0</td>\n",
       "      <td>1</td>\n",
       "      <td>0</td>\n",
       "      <td>1</td>\n",
       "      <td>0</td>\n",
       "      <td>0</td>\n",
       "      <td>0</td>\n",
       "    </tr>\n",
       "  </tbody>\n",
       "</table>\n",
       "<p>999 rows × 7 columns</p>\n",
       "</div>"
      ],
      "text/plain": [
       "     PROFIL_I_R  VEH_INVL  ALCHL_I_1  SUR_COND_1  SUR_COND_2  SUR_COND_3  \\\n",
       "0             0         1          0           1           0           0   \n",
       "1             1         1          0           1           0           0   \n",
       "2             0         1          1           1           0           0   \n",
       "3             0         2          0           0           1           0   \n",
       "4             1         2          0           1           0           0   \n",
       "..          ...       ...        ...         ...         ...         ...   \n",
       "994           0         1          0           1           0           0   \n",
       "995           0         1          0           1           0           0   \n",
       "996           1         2          1           1           0           0   \n",
       "997           0         3          1           1           0           0   \n",
       "998           0         1          0           1           0           0   \n",
       "\n",
       "     SUR_COND_4  \n",
       "0             0  \n",
       "1             0  \n",
       "2             0  \n",
       "3             0  \n",
       "4             0  \n",
       "..          ...  \n",
       "994           0  \n",
       "995           0  \n",
       "996           0  \n",
       "997           0  \n",
       "998           0  \n",
       "\n",
       "[999 rows x 7 columns]"
      ]
     },
     "execution_count": 127,
     "metadata": {},
     "output_type": "execute_result"
    }
   ],
   "source": [
    "X"
   ]
  },
  {
   "cell_type": "code",
   "execution_count": 128,
   "metadata": {
    "tags": []
   },
   "outputs": [
    {
     "data": {
      "text/html": [
       "<style>#sk-container-id-14 {color: black;background-color: white;}#sk-container-id-14 pre{padding: 0;}#sk-container-id-14 div.sk-toggleable {background-color: white;}#sk-container-id-14 label.sk-toggleable__label {cursor: pointer;display: block;width: 100%;margin-bottom: 0;padding: 0.3em;box-sizing: border-box;text-align: center;}#sk-container-id-14 label.sk-toggleable__label-arrow:before {content: \"▸\";float: left;margin-right: 0.25em;color: #696969;}#sk-container-id-14 label.sk-toggleable__label-arrow:hover:before {color: black;}#sk-container-id-14 div.sk-estimator:hover label.sk-toggleable__label-arrow:before {color: black;}#sk-container-id-14 div.sk-toggleable__content {max-height: 0;max-width: 0;overflow: hidden;text-align: left;background-color: #f0f8ff;}#sk-container-id-14 div.sk-toggleable__content pre {margin: 0.2em;color: black;border-radius: 0.25em;background-color: #f0f8ff;}#sk-container-id-14 input.sk-toggleable__control:checked~div.sk-toggleable__content {max-height: 200px;max-width: 100%;overflow: auto;}#sk-container-id-14 input.sk-toggleable__control:checked~label.sk-toggleable__label-arrow:before {content: \"▾\";}#sk-container-id-14 div.sk-estimator input.sk-toggleable__control:checked~label.sk-toggleable__label {background-color: #d4ebff;}#sk-container-id-14 div.sk-label input.sk-toggleable__control:checked~label.sk-toggleable__label {background-color: #d4ebff;}#sk-container-id-14 input.sk-hidden--visually {border: 0;clip: rect(1px 1px 1px 1px);clip: rect(1px, 1px, 1px, 1px);height: 1px;margin: -1px;overflow: hidden;padding: 0;position: absolute;width: 1px;}#sk-container-id-14 div.sk-estimator {font-family: monospace;background-color: #f0f8ff;border: 1px dotted black;border-radius: 0.25em;box-sizing: border-box;margin-bottom: 0.5em;}#sk-container-id-14 div.sk-estimator:hover {background-color: #d4ebff;}#sk-container-id-14 div.sk-parallel-item::after {content: \"\";width: 100%;border-bottom: 1px solid gray;flex-grow: 1;}#sk-container-id-14 div.sk-label:hover label.sk-toggleable__label {background-color: #d4ebff;}#sk-container-id-14 div.sk-serial::before {content: \"\";position: absolute;border-left: 1px solid gray;box-sizing: border-box;top: 0;bottom: 0;left: 50%;z-index: 0;}#sk-container-id-14 div.sk-serial {display: flex;flex-direction: column;align-items: center;background-color: white;padding-right: 0.2em;padding-left: 0.2em;position: relative;}#sk-container-id-14 div.sk-item {position: relative;z-index: 1;}#sk-container-id-14 div.sk-parallel {display: flex;align-items: stretch;justify-content: center;background-color: white;position: relative;}#sk-container-id-14 div.sk-item::before, #sk-container-id-14 div.sk-parallel-item::before {content: \"\";position: absolute;border-left: 1px solid gray;box-sizing: border-box;top: 0;bottom: 0;left: 50%;z-index: -1;}#sk-container-id-14 div.sk-parallel-item {display: flex;flex-direction: column;z-index: 1;position: relative;background-color: white;}#sk-container-id-14 div.sk-parallel-item:first-child::after {align-self: flex-end;width: 50%;}#sk-container-id-14 div.sk-parallel-item:last-child::after {align-self: flex-start;width: 50%;}#sk-container-id-14 div.sk-parallel-item:only-child::after {width: 0;}#sk-container-id-14 div.sk-dashed-wrapped {border: 1px dashed gray;margin: 0 0.4em 0.5em 0.4em;box-sizing: border-box;padding-bottom: 0.4em;background-color: white;}#sk-container-id-14 div.sk-label label {font-family: monospace;font-weight: bold;display: inline-block;line-height: 1.2em;}#sk-container-id-14 div.sk-label-container {text-align: center;}#sk-container-id-14 div.sk-container {/* jupyter's `normalize.less` sets `[hidden] { display: none; }` but bootstrap.min.css set `[hidden] { display: none !important; }` so we also need the `!important` here to be able to override the default hidden behavior on the sphinx rendered scikit-learn.org. See: https://github.com/scikit-learn/scikit-learn/issues/21755 */display: inline-block !important;position: relative;}#sk-container-id-14 div.sk-text-repr-fallback {display: none;}</style><div id=\"sk-container-id-14\" class=\"sk-top-container\"><div class=\"sk-text-repr-fallback\"><pre>MLPClassifier(activation=&#x27;logistic&#x27;, hidden_layer_sizes=2, max_iter=500,\n",
       "              random_state=1, solver=&#x27;lbfgs&#x27;)</pre><b>In a Jupyter environment, please rerun this cell to show the HTML representation or trust the notebook. <br />On GitHub, the HTML representation is unable to render, please try loading this page with nbviewer.org.</b></div><div class=\"sk-container\" hidden><div class=\"sk-item\"><div class=\"sk-estimator sk-toggleable\"><input class=\"sk-toggleable__control sk-hidden--visually\" id=\"sk-estimator-id-14\" type=\"checkbox\" checked><label for=\"sk-estimator-id-14\" class=\"sk-toggleable__label sk-toggleable__label-arrow\">MLPClassifier</label><div class=\"sk-toggleable__content\"><pre>MLPClassifier(activation=&#x27;logistic&#x27;, hidden_layer_sizes=2, max_iter=500,\n",
       "              random_state=1, solver=&#x27;lbfgs&#x27;)</pre></div></div></div></div></div>"
      ],
      "text/plain": [
       "MLPClassifier(activation='logistic', hidden_layer_sizes=2, max_iter=500,\n",
       "              random_state=1, solver='lbfgs')"
      ]
     },
     "execution_count": 128,
     "metadata": {},
     "output_type": "execute_result"
    }
   ],
   "source": [
    "# train neural network with 2 hidden nodes\n",
    "clf = MLPClassifier(hidden_layer_sizes=(2), activation='logistic', solver='lbfgs',\n",
    "                    random_state=1, max_iter=500)\n",
    "clf.fit(train_X, train_y.values)"
   ]
  },
  {
   "cell_type": "markdown",
   "metadata": {},
   "source": [
    "## Grid search"
   ]
  },
  {
   "cell_type": "code",
   "execution_count": 129,
   "metadata": {
    "tags": []
   },
   "outputs": [
    {
     "name": "stdout",
     "output_type": "stream",
     "text": [
      "Best score:  0.8664145658263305\n",
      "Best parameters:  {'hidden_layer_sizes': 8}\n"
     ]
    }
   ],
   "source": [
    "from sklearn.model_selection import cross_val_score, train_test_split, GridSearchCV\n",
    "# Note how to choose the size of hidden layer in Chapter 11.4: \n",
    "# A rule of thumb is to start with p (number of predictors) nodes and \n",
    "# gradually decrease or increase while checking for overfitting. \n",
    "# Make sure you your search grid for \"hidden_layer_sizes\" covers \n",
    "# the number of predictors (p) and beyond when using GridSearchCV as shown below\n",
    "\n",
    "param_grid = {\n",
    "    'hidden_layer_sizes': [i for i in range(1,20)] \n",
    "}\n",
    "gridSearch = GridSearchCV(MLPClassifier(activation='logistic', solver='lbfgs', random_state=1, max_iter=1000), \n",
    "                          param_grid, cv=5, n_jobs=-1, return_train_score=True)\n",
    "gridSearch.fit(train_X, train_y)\n",
    "print('Best score: ', gridSearch.best_score_)\n",
    "print('Best parameters: ', gridSearch.best_params_)\n",
    "\n",
    "# The grid.best_score_ is the average of all cv folds for a single combination of \n",
    "# the parameters you specify in the tuned_params.\n",
    "# In order to access other relevant details about the grid searching process, \n",
    "# you can look at the grid.cv_results_ attribute.\n",
    "# From the documentation of GridSearchCV:\n",
    "# cv_results_ : dict of numpy (masked) ndarrays\n",
    "# A dict with keys as column headers and values as columns, \n",
    "# that can be imported into a pandas DataFrame\n",
    "# It contains keys like 'split0_test_score', 'split1_test_score' , \n",
    "# 'mean_test_score', 'std_test_score', 'rank_test_score', 'split0_train_score', \n",
    "# 'split1_train_score', 'mean_train_score', etc, which gives additional \n",
    "# information about the whole execution."
   ]
  },
  {
   "cell_type": "code",
   "execution_count": 130,
   "metadata": {
    "tags": []
   },
   "outputs": [
    {
     "data": {
      "text/plain": [
       "{'mean_fit_time': array([0.03893352, 0.05721612, 0.07020164, 0.04897547, 0.07917404,\n",
       "        0.06339917, 0.04302979, 0.04668632, 0.06917892, 0.10629201,\n",
       "        0.08814354, 0.08897581, 0.12412496, 0.10757427, 0.10260973,\n",
       "        0.15360637, 0.13192735, 0.12256427, 0.08094563]),\n",
       " 'std_fit_time': array([0.01358208, 0.0494621 , 0.01918959, 0.01750337, 0.02983362,\n",
       "        0.0250329 , 0.01481566, 0.01708778, 0.02602545, 0.02185056,\n",
       "        0.03724726, 0.01396834, 0.05269675, 0.07132166, 0.02146397,\n",
       "        0.07255431, 0.05252943, 0.05441037, 0.01841573]),\n",
       " 'mean_score_time': array([0.00161786, 0.00154119, 0.00109987, 0.00218267, 0.00101686,\n",
       "        0.00179925, 0.00102587, 0.00133038, 0.00099149, 0.00097923,\n",
       "        0.0016871 , 0.00143671, 0.00098643, 0.00192018, 0.00138826,\n",
       "        0.00143008, 0.0013886 , 0.00101757, 0.00103245]),\n",
       " 'std_score_time': array([3.16000003e-04, 7.43537540e-04, 7.51762778e-05, 6.63790370e-04,\n",
       "        2.37343271e-05, 7.67415693e-04, 3.97427109e-05, 6.85837505e-04,\n",
       "        1.65137183e-05, 1.86414668e-05, 8.35243916e-04, 8.58158032e-04,\n",
       "        2.48384105e-05, 8.46717211e-04, 7.68947332e-04, 6.14756310e-04,\n",
       "        7.30366051e-04, 1.78721722e-05, 2.14458009e-05]),\n",
       " 'param_hidden_layer_sizes': masked_array(data=[1, 2, 3, 4, 5, 6, 7, 8, 9, 10, 11, 12, 13, 14, 15, 16,\n",
       "                    17, 18, 19],\n",
       "              mask=[False, False, False, False, False, False, False, False,\n",
       "                    False, False, False, False, False, False, False, False,\n",
       "                    False, False, False],\n",
       "        fill_value='?',\n",
       "             dtype=object),\n",
       " 'params': [{'hidden_layer_sizes': 1},\n",
       "  {'hidden_layer_sizes': 2},\n",
       "  {'hidden_layer_sizes': 3},\n",
       "  {'hidden_layer_sizes': 4},\n",
       "  {'hidden_layer_sizes': 5},\n",
       "  {'hidden_layer_sizes': 6},\n",
       "  {'hidden_layer_sizes': 7},\n",
       "  {'hidden_layer_sizes': 8},\n",
       "  {'hidden_layer_sizes': 9},\n",
       "  {'hidden_layer_sizes': 10},\n",
       "  {'hidden_layer_sizes': 11},\n",
       "  {'hidden_layer_sizes': 12},\n",
       "  {'hidden_layer_sizes': 13},\n",
       "  {'hidden_layer_sizes': 14},\n",
       "  {'hidden_layer_sizes': 15},\n",
       "  {'hidden_layer_sizes': 16},\n",
       "  {'hidden_layer_sizes': 17},\n",
       "  {'hidden_layer_sizes': 18},\n",
       "  {'hidden_layer_sizes': 19}],\n",
       " 'split0_test_score': array([0.85      , 0.86666667, 0.86666667, 0.86666667, 0.85      ,\n",
       "        0.86666667, 0.86666667, 0.86666667, 0.86666667, 0.86666667,\n",
       "        0.83333333, 0.86666667, 0.86666667, 0.86666667, 0.83333333,\n",
       "        0.83333333, 0.86666667, 0.83333333, 0.86666667]),\n",
       " 'split1_test_score': array([0.84166667, 0.9       , 0.88333333, 0.88333333, 0.88333333,\n",
       "        0.88333333, 0.9       , 0.88333333, 0.88333333, 0.88333333,\n",
       "        0.88333333, 0.88333333, 0.88333333, 0.875     , 0.875     ,\n",
       "        0.875     , 0.88333333, 0.88333333, 0.875     ]),\n",
       " 'split2_test_score': array([0.85      , 0.86666667, 0.86666667, 0.875     , 0.86666667,\n",
       "        0.875     , 0.86666667, 0.875     , 0.85833333, 0.86666667,\n",
       "        0.875     , 0.86666667, 0.85833333, 0.85833333, 0.86666667,\n",
       "        0.85833333, 0.85833333, 0.86666667, 0.875     ]),\n",
       " 'split3_test_score': array([0.825     , 0.825     , 0.83333333, 0.81666667, 0.81666667,\n",
       "        0.84166667, 0.825     , 0.85833333, 0.80833333, 0.81666667,\n",
       "        0.81666667, 0.825     , 0.8       , 0.80833333, 0.81666667,\n",
       "        0.81666667, 0.825     , 0.825     , 0.825     ]),\n",
       " 'split4_test_score': array([0.84033613, 0.84033613, 0.84033613, 0.84033613, 0.8487395 ,\n",
       "        0.8487395 , 0.84033613, 0.8487395 , 0.83193277, 0.84033613,\n",
       "        0.8487395 , 0.84033613, 0.83193277, 0.83193277, 0.83193277,\n",
       "        0.83193277, 0.83193277, 0.83193277, 0.83193277]),\n",
       " 'mean_test_score': array([0.84140056, 0.85973389, 0.85806723, 0.85640056, 0.85308123,\n",
       "        0.86308123, 0.85973389, 0.86641457, 0.84971989, 0.85473389,\n",
       "        0.85141457, 0.85640056, 0.84805322, 0.84805322, 0.84471989,\n",
       "        0.84305322, 0.85305322, 0.84805322, 0.85471989]),\n",
       " 'std_test_score': array([0.00914421, 0.02569125, 0.0185064 , 0.02455017, 0.02215454,\n",
       "        0.01568011, 0.02569125, 0.01214687, 0.0265348 , 0.02349093,\n",
       "        0.02496631, 0.02088167, 0.02920893, 0.02455935, 0.02226519,\n",
       "        0.02082532, 0.02174004, 0.02279974, 0.02176151]),\n",
       " 'rank_test_score': array([19,  3,  5,  6, 10,  2,  3,  1, 13,  8, 12,  6, 14, 14, 17, 18, 11,\n",
       "        14,  9], dtype=int32),\n",
       " 'split0_train_score': array([0.85386221, 0.87265136, 0.87891441, 0.87891441, 0.87682672,\n",
       "        0.87891441, 0.87265136, 0.87891441, 0.87682672, 0.87891441,\n",
       "        0.87056367, 0.87891441, 0.87891441, 0.88100209, 0.87473904,\n",
       "        0.87473904, 0.88100209, 0.87682672, 0.87891441]),\n",
       " 'split1_train_score': array([0.82881002, 0.86430063, 0.86847599, 0.86847599, 0.86847599,\n",
       "        0.86847599, 0.86430063, 0.86847599, 0.86638831, 0.86847599,\n",
       "        0.87056367, 0.87056367, 0.86847599, 0.87056367, 0.87265136,\n",
       "        0.87056367, 0.87056367, 0.87056367, 0.86847599]),\n",
       " 'split2_train_score': array([0.8559499 , 0.87473904, 0.87682672, 0.87682672, 0.87682672,\n",
       "        0.87682672, 0.87682672, 0.87682672, 0.87056367, 0.87682672,\n",
       "        0.88100209, 0.87682672, 0.87473904, 0.88100209, 0.87056367,\n",
       "        0.87473904, 0.87056367, 0.87682672, 0.88100209]),\n",
       " 'split3_train_score': array([0.86012526, 0.85803758, 0.87473904, 0.87891441, 0.87682672,\n",
       "        0.87473904, 0.85803758, 0.87056367, 0.87891441, 0.87682672,\n",
       "        0.87891441, 0.87682672, 0.88100209, 0.87891441, 0.88100209,\n",
       "        0.88100209, 0.87682672, 0.87891441, 0.88100209]),\n",
       " 'split4_train_score': array([0.82916667, 0.87708333, 0.87916667, 0.87916667, 0.88125   ,\n",
       "        0.88125   , 0.87916667, 0.88333333, 0.87708333, 0.88333333,\n",
       "        0.88125   , 0.88125   , 0.87916667, 0.87708333, 0.87708333,\n",
       "        0.87708333, 0.87916667, 0.87708333, 0.88125   ]),\n",
       " 'mean_train_score': array([0.84558281, 0.86936239, 0.87562457, 0.87645964, 0.87604123,\n",
       "        0.87604123, 0.87019659, 0.87562283, 0.87395529, 0.87687543,\n",
       "        0.87645877, 0.8768763 , 0.87645964, 0.87771312, 0.8752079 ,\n",
       "        0.87562543, 0.87562457, 0.87604297, 0.87812891]),\n",
       " 'std_train_score': array([0.01369908, 0.00711634, 0.00391666, 0.00408052, 0.00415247,\n",
       "        0.00435734, 0.00791266, 0.00544808, 0.00471985, 0.00482529,\n",
       "        0.00488123, 0.00355351, 0.00448747, 0.00386235, 0.00361703,\n",
       "        0.00341253, 0.004339  , 0.00284881, 0.00489995])}"
      ]
     },
     "execution_count": 130,
     "metadata": {},
     "output_type": "execute_result"
    }
   ],
   "source": [
    "gridSearch.cv_results_"
   ]
  },
  {
   "cell_type": "code",
   "execution_count": 131,
   "metadata": {
    "tags": []
   },
   "outputs": [
    {
     "name": "stdout",
     "output_type": "stream",
     "text": [
      "   param_hidden_layer_sizes  mean_test_score  std_test_score\n",
      "0                         1         0.841401        0.009144\n",
      "1                         2         0.859734        0.025691\n",
      "2                         3         0.858067        0.018506\n",
      "3                         4         0.856401        0.024550\n",
      "4                         5         0.853081        0.022155\n",
      "5                         6         0.863081        0.015680\n",
      "6                         7         0.859734        0.025691\n",
      "7                         8         0.866415        0.012147\n",
      "8                         9         0.849720        0.026535\n",
      "9                        10         0.854734        0.023491\n",
      "10                       11         0.851415        0.024966\n",
      "11                       12         0.856401        0.020882\n",
      "12                       13         0.848053        0.029209\n",
      "13                       14         0.848053        0.024559\n",
      "14                       15         0.844720        0.022265\n",
      "15                       16         0.843053        0.020825\n",
      "16                       17         0.853053        0.021740\n",
      "17                       18         0.848053        0.022800\n",
      "18                       19         0.854720        0.021762\n"
     ]
    }
   ],
   "source": [
    "display=['param_hidden_layer_sizes', 'mean_test_score', 'std_test_score']\n",
    "print(pd.DataFrame(gridSearch.cv_results_)[display])"
   ]
  },
  {
   "cell_type": "code",
   "execution_count": 132,
   "metadata": {
    "tags": []
   },
   "outputs": [
    {
     "data": {
      "image/png": "[encoded data removed]",
      "text/plain": [
       "<Figure size 640x480 with 1 Axes>"
      ]
     },
     "metadata": {},
     "output_type": "display_data"
    }
   ],
   "source": [
    "pd.DataFrame(gridSearch.cv_results_)[display].plot(x='param_hidden_layer_sizes', \n",
    "                                                   y='mean_test_score', yerr='std_test_score', \n",
    "                                                   ylim=(0.8, 0.9))\n",
    "plt.show()"
   ]
  },
  {
   "cell_type": "code",
   "execution_count": 133,
   "metadata": {
    "tags": []
   },
   "outputs": [
    {
     "name": "stdout",
     "output_type": "stream",
     "text": [
      "Confusion Matrix (Accuracy 0.8765)\n",
      "\n",
      "             Prediction\n",
      "      Actual MAX_SEV_IR_0 MAX_SEV_IR_1 MAX_SEV_IR_2\n",
      "MAX_SEV_IR_0          332            0            0\n",
      "MAX_SEV_IR_1            0          172            8\n",
      "MAX_SEV_IR_2           31           35           21\n",
      "Confusion Matrix (Accuracy 0.8700)\n",
      "\n",
      "             Prediction\n",
      "      Actual MAX_SEV_IR_0 MAX_SEV_IR_1 MAX_SEV_IR_2\n",
      "MAX_SEV_IR_0          218            0            1\n",
      "MAX_SEV_IR_1            0          114            5\n",
      "MAX_SEV_IR_2           24           22           16\n"
     ]
    }
   ],
   "source": [
    "# train neural network with 8 hidden nodes, increase default max_iter from 200 to 500\n",
    "clf = MLPClassifier(hidden_layer_sizes=(8), activation='logistic', solver='lbfgs', max_iter=500,\n",
    "                    random_state=1)\n",
    "clf.fit(train_X, train_y)\n",
    "\n",
    "# training performance (use idxmax to revert the one-hot-encoding)\n",
    "trainPrediction = pd.DataFrame(clf.predict(train_X), columns=outcome).idxmax(axis=1)\n",
    "classificationSummary(train_y.idxmax(axis=1), trainPrediction, class_names=classes)\n",
    "\n",
    "# validation performance\n",
    "validPrediction = pd.DataFrame(clf.predict(valid_X), columns=outcome).idxmax(axis=1)\n",
    "classificationSummary(valid_y.idxmax(axis=1), validPrediction, class_names=classes)"
   ]
  },
  {
   "cell_type": "code",
   "execution_count": 134,
   "metadata": {
    "tags": []
   },
   "outputs": [
    {
     "data": {
      "text/html": [
       "<div>\n",
       "<style scoped>\n",
       "    .dataframe tbody tr th:only-of-type {\n",
       "        vertical-align: middle;\n",
       "    }\n",
       "\n",
       "    .dataframe tbody tr th {\n",
       "        vertical-align: top;\n",
       "    }\n",
       "\n",
       "    .dataframe thead th {\n",
       "        text-align: right;\n",
       "    }\n",
       "</style>\n",
       "<table border=\"1\" class=\"dataframe\">\n",
       "  <thead>\n",
       "    <tr style=\"text-align: right;\">\n",
       "      <th></th>\n",
       "      <th>0</th>\n",
       "      <th>1</th>\n",
       "    </tr>\n",
       "  </thead>\n",
       "  <tbody>\n",
       "    <tr>\n",
       "      <th>0</th>\n",
       "      <td>8</td>\n",
       "      <td>20</td>\n",
       "    </tr>\n",
       "    <tr>\n",
       "      <th>1</th>\n",
       "      <td>11</td>\n",
       "      <td>2</td>\n",
       "    </tr>\n",
       "    <tr>\n",
       "      <th>2</th>\n",
       "      <td>5</td>\n",
       "      <td>3</td>\n",
       "    </tr>\n",
       "  </tbody>\n",
       "</table>\n",
       "</div>"
      ],
      "text/plain": [
       "    0   1\n",
       "0   8  20\n",
       "1  11   2\n",
       "2   5   3"
      ]
     },
     "execution_count": 134,
     "metadata": {},
     "output_type": "execute_result"
    }
   ],
   "source": [
    "# Example for MinMaxScaler()\n",
    "#Create new data\n",
    "new_data = pd.DataFrame(np.array([[8,20],[11,2],[5,3]]))\n",
    "new_data"
   ]
  },
  {
   "cell_type": "code",
   "execution_count": 135,
   "metadata": {
    "tags": []
   },
   "outputs": [
    {
     "data": {
      "text/plain": [
       "array([[0.5       , 1.        ],\n",
       "       [1.        , 0.        ],\n",
       "       [0.        , 0.05555556]])"
      ]
     },
     "execution_count": 135,
     "metadata": {},
     "output_type": "execute_result"
    }
   ],
   "source": [
    "# Create a Scaler for the new data\n",
    "scaler_new_data = MinMaxScaler() \n",
    "# Trasform new data in the [0-1] range\n",
    "scaled_new_data = scaler_new_data.fit_transform(new_data)\n",
    "scaled_new_data"
   ]
  },
  {
   "cell_type": "code",
   "execution_count": 136,
   "metadata": {
    "tags": []
   },
   "outputs": [
    {
     "data": {
      "text/plain": [
       "array([[ 8., 20.],\n",
       "       [11.,  2.],\n",
       "       [ 5.,  3.]])"
      ]
     },
     "execution_count": 136,
     "metadata": {},
     "output_type": "execute_result"
    }
   ],
   "source": [
    "# Inverse transform new data from [0-1] to [min, max] of data\n",
    "inver_new_data = scaler_new_data.inverse_transform(scaled_new_data)\n",
    "inver_new_data"
   ]
  },
  {
   "cell_type": "code",
   "execution_count": 137,
   "metadata": {
    "tags": []
   },
   "outputs": [
    {
     "data": {
      "text/plain": [
       "array([[ 8, 20],\n",
       "       [11,  2],\n",
       "       [ 5,  3]])"
      ]
     },
     "execution_count": 137,
     "metadata": {},
     "output_type": "execute_result"
    }
   ],
   "source": [
    "new_data = np.array([[8,20],[11,2],[5,3]])\n",
    "new_data"
   ]
  },
  {
   "cell_type": "code",
   "execution_count": 138,
   "metadata": {
    "tags": []
   },
   "outputs": [
    {
     "data": {
      "text/plain": [
       "array([[0.5       , 1.        ],\n",
       "       [1.        , 0.        ],\n",
       "       [0.        , 0.05555556]])"
      ]
     },
     "execution_count": 138,
     "metadata": {},
     "output_type": "execute_result"
    }
   ],
   "source": [
    "# Create a Scaler for the new data\n",
    "scaler_new_data = MinMaxScaler() \n",
    "# Trasform new data in the [0-1] range\n",
    "scaled_new_data = scaler_new_data.fit_transform(new_data)\n",
    "scaled_new_data"
   ]
  },
  {
   "cell_type": "code",
   "execution_count": 139,
   "metadata": {
    "tags": []
   },
   "outputs": [
    {
     "data": {
      "text/plain": [
       "array([[ 8., 20.],\n",
       "       [11.,  2.],\n",
       "       [ 5.,  3.]])"
      ]
     },
     "execution_count": 139,
     "metadata": {},
     "output_type": "execute_result"
    }
   ],
   "source": [
    "# Inverse transform new data from [0-1] to [min, max] of data\n",
    "inver_new_data = scaler_new_data.inverse_transform(scaled_new_data)\n",
    "inver_new_data"
   ]
  },
  {
   "cell_type": "code",
   "execution_count": null,
   "metadata": {
    "tags": []
   },
   "outputs": [],
   "source": []
  },
  {
   "cell_type": "code",
   "execution_count": null,
   "metadata": {},
   "outputs": [],
   "source": []
  }
 ],
 "metadata": {
  "kernelspec": {
   "display_name": "Python 3",
   "language": "python",
   "name": "python3"
  },
  "language_info": {
   "codemirror_mode": {
    "name": "ipython",
    "version": 3
   },
   "file_extension": ".py",
   "mimetype": "text/x-python",
   "name": "python",
   "nbconvert_exporter": "python",
   "pygments_lexer": "ipython3",
   "version": "3.11.3"
  }
 },
 "nbformat": 4,
 "nbformat_minor": 4
}
