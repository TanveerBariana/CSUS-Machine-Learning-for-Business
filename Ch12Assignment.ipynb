{
 "cells": [
  {
   "cell_type": "markdown",
   "metadata": {},
   "source": [
    "# Chapter 12: Discriminant Analysis"
   ]
  },
  {
   "cell_type": "code",
   "execution_count": 2,
   "metadata": {},
   "outputs": [],
   "source": [
    "from pathlib import Path\n",
    "\n",
    "import pandas as pd\n",
    "import numpy as np\n",
    "\n",
    "from sklearn.linear_model import LogisticRegression\n",
    "from sklearn.discriminant_analysis import LinearDiscriminantAnalysis\n",
    "from sklearn.model_selection import train_test_split\n",
    "\n",
    "import matplotlib.pylab as plt\n",
    "\n",
    "from dmba import classificationSummary\n",
    "from dmba import gainsChart, liftChart\n",
    "\n",
    "import math\n",
    "%matplotlib inline"
   ]
  },
  {
   "cell_type": "code",
   "execution_count": 3,
   "metadata": {},
   "outputs": [],
   "source": [
    "# Working directory:\n",
    "# replace the argument of the `Path`\n",
    "DATA = Path('dmba')\n",
    "# and then load data using \n",
    "# pd.read_csv(DATA / ‘filename.csv’)"
   ]
  },
  {
   "cell_type": "markdown",
   "metadata": {},
   "source": [
    "## \"Classification function\" in Chapter 12 of the DMBA textbook is same as \"disciminant function\"."
   ]
  },
  {
   "cell_type": "markdown",
   "metadata": {},
   "source": [
    "# Problem 12.1: Personal Loan Acceptance\n",
    "Universal Bank is a relatively young bank growing\n",
    "rapidly in terms of overall customer acquisition. The majority of\n",
    "these customers are liability customers with varying sizes of\n",
    "relationship with the bank. The customer base of asset customers is\n",
    "quite small, and the bank is interested in expanding this base\n",
    "rapidly to bring in more loan business. In particular, it wants to\n",
    "explore ways of converting its liability customers to personal loan\n",
    "customers.\n",
    "\n",
    "A campaign the bank ran for liability customers last year showed a\n",
    "healthy conversion rate of over 9\\% successes. This has encouraged the\n",
    "retail marketing department to devise smarter campaigns with better\n",
    "target marketing. The goal of our analysis is to model the previous\n",
    "campaign's customer behavior to analyze what combination of factors\n",
    "make a customer more likely to accept a personal loan. This will serve\n",
    "as the basis for the design of a new campaign.\n",
    "\n",
    "The file _UniversalBank.csv_ contains data on 5000 customers. The data include customer demographic information (e.g., age, income), the customer's relationship with the bank (e.g., mortgage, securities account), and the customer response to the last personal loan campaign (Personal Loan). Among these 5000 customers, only 480 (= 9.6\\%)\n",
    "accepted the personal loan that was offered to them in the previous campaign.\n",
    "\n",
    "Partition the data (60\\% training and 40\\% validation) and then perform a discriminant analysis that models Personal Loan as a function of the remaining predictors (excluding zip code). Remember to turn categorical predictors with more than two categories into dummy variables first. Specify the success class as 1 (personal loan acceptance), and use the default cutoff value of 0.5.\n",
    "\n"
   ]
  },
  {
   "cell_type": "code",
   "execution_count": 4,
   "metadata": {},
   "outputs": [],
   "source": [
    "bank_df = pd.read_csv(DATA / 'UniversalBank.csv')\n",
    "bank_df = bank_df.drop(columns= ['ID', 'ZIP Code'])\n",
    "outcome = 'Personal Loan'\n",
    "\n",
    "\n",
    "for i in ['Education', 'Family']:\n",
    "    bank_df[i] = bank_df[i].astype('category')\n",
    "bank_df = pd.get_dummies(bank_df, prefix_sep='_', drop_first=True)\n",
    "predictors = bank_df.drop(columns= outcome).columns\n",
    "#bank_df[outcome] = bank_df[outcome].replace({1:'accpetor', 0:'nonaccpetor'})"
   ]
  },
  {
   "cell_type": "code",
   "execution_count": 5,
   "metadata": {},
   "outputs": [],
   "source": [
    "# bank_df[outcome]"
   ]
  },
  {
   "cell_type": "code",
   "execution_count": 6,
   "metadata": {},
   "outputs": [],
   "source": [
    "# predictors"
   ]
  },
  {
   "cell_type": "code",
   "execution_count": 7,
   "metadata": {},
   "outputs": [
    {
     "name": "stdout",
     "output_type": "stream",
     "text": [
      "Age: int64\n",
      "45\n",
      "Experience: int64\n",
      "47\n",
      "Income: int64\n",
      "162\n",
      "CCAvg: float64\n",
      "108\n",
      "Mortgage: int64\n",
      "347\n",
      "Personal Loan: int64\n",
      "2\n",
      "Securities Account: int64\n",
      "2\n",
      "CD Account: int64\n",
      "2\n",
      "Online: int64\n",
      "2\n",
      "CreditCard: int64\n",
      "2\n",
      "Family_2: bool\n",
      "2\n",
      "Family_3: bool\n",
      "2\n",
      "Family_4: bool\n",
      "2\n",
      "Education_2: bool\n",
      "2\n",
      "Education_3: bool\n",
      "2\n"
     ]
    }
   ],
   "source": [
    "for i in bank_df.columns:\n",
    "    print(i + \": \" + str(bank_df[i].dtype))\n",
    "    print( str(bank_df[i].nunique()))\n",
    "# for i in X.columns:\n",
    "#     if X[i].nunique() == 2:\n",
    "#         X[i] = X[i].astype('bool')"
   ]
  },
  {
   "cell_type": "markdown",
   "metadata": {},
   "source": [
    "##### convert one hot encoded values into bool to match other dummy variables. "
   ]
  },
  {
   "cell_type": "code",
   "execution_count": 8,
   "metadata": {},
   "outputs": [],
   "source": [
    "# for i in X.columns:\n",
    "#     print(i + \": \" + str(X[i].dtype))\n",
    "#     print( str(X[i].nunique()))"
   ]
  },
  {
   "cell_type": "code",
   "execution_count": 9,
   "metadata": {},
   "outputs": [],
   "source": [
    "X = bank_df[predictors]\n",
    "y = bank_df[outcome]\n",
    "X_train,X_valid, y_train, y_valid = train_test_split(X, y, train_size=0.6, random_state=1)"
   ]
  },
  {
   "cell_type": "markdown",
   "metadata": {},
   "source": [
    "## Problem 12.1.a\n",
    "Compute summary statistics for the predictors separately for loan acceptors and nonacceptors. For continuous predictors, compute the mean and standard deviation. For categorical predictors, compute the percentages. Are there predictors where the two classes differ substantially?"
   ]
  },
  {
   "cell_type": "code",
   "execution_count": 10,
   "metadata": {},
   "outputs": [
    {
     "name": "stdout",
     "output_type": "stream",
     "text": [
      "Coefficients [[-1.55162629e-01  1.57654353e-01  5.60071693e-02  3.66498068e-01\n",
      "   1.51766204e-03 -1.31260056e+00  6.38265473e+00 -5.19212551e-01\n",
      "  -7.49763539e-01  5.60573969e-02  1.57801957e+00  1.42373764e+00\n",
      "   2.79528480e+00  2.98957999e+00]]\n",
      "Intercept [-8.64428717]\n"
     ]
    }
   ],
   "source": [
    "bank_lin = LinearDiscriminantAnalysis(priors=[0.904, 0.096])\n",
    "bank_lin.fit(X_train, y_train)\n",
    "print('Coefficients', bank_lin.coef_)\n",
    "print('Intercept', bank_lin.intercept_)"
   ]
  },
  {
   "cell_type": "code",
   "execution_count": 11,
   "metadata": {},
   "outputs": [],
   "source": [
    "#X_train.columns"
   ]
  },
  {
   "cell_type": "code",
   "execution_count": 12,
   "metadata": {},
   "outputs": [
    {
     "data": {
      "text/plain": [
       "array([-8.64428717])"
      ]
     },
     "execution_count": 12,
     "metadata": {},
     "output_type": "execute_result"
    }
   ],
   "source": [
    "bank_lin.intercept_"
   ]
  },
  {
   "cell_type": "code",
   "execution_count": 13,
   "metadata": {},
   "outputs": [
    {
     "data": {
      "text/plain": [
       "array([0, 1], dtype=int64)"
      ]
     },
     "execution_count": 13,
     "metadata": {},
     "output_type": "execute_result"
    }
   ],
   "source": [
    "bank_lin.classes_"
   ]
  },
  {
   "cell_type": "code",
   "execution_count": 14,
   "metadata": {},
   "outputs": [
    {
     "name": "stdout",
     "output_type": "stream",
     "text": [
      "Coefficients and intercept\n",
      "                      accept\n",
      "constant           -8.644287\n",
      "Age                -0.155163\n",
      "Experience          0.157654\n",
      "Income              0.056007\n",
      "CCAvg               0.366498\n",
      "Mortgage            0.001518\n",
      "Personal Loan      -1.312601\n",
      "Securities Account  6.382655\n",
      "CD Account         -0.519213\n",
      "Online             -0.749764\n",
      "CreditCard          0.056057\n",
      "Family_2            1.578020\n",
      "Family_3            1.423738\n",
      "Family_4            2.795285\n",
      "Education_2         2.989580\n",
      "\n",
      "Confusion Matrix (Accuracy 0.9460)\n",
      "\n",
      "       Prediction\n",
      "Actual    0    1\n",
      "     0 2659   54\n",
      "     1  108  179\n"
     ]
    },
    {
     "data": {
      "text/plain": [
       "Personal Loan\n",
       "0    4520\n",
       "1     480\n",
       "Name: count, dtype: int64"
      ]
     },
     "execution_count": 14,
     "metadata": {},
     "output_type": "execute_result"
    }
   ],
   "source": [
    "print('Coefficients and intercept')\n",
    "fct = pd.DataFrame([bank_lin.intercept_], columns=['accept'], index=['constant'])\n",
    "fct = pd.concat([fct,pd.DataFrame(bank_lin.coef_.transpose(), columns=['accept'], \n",
    "                              index=list(bank_df.columns)[:-1])])\n",
    "print(fct)\n",
    "print()\n",
    "classificationSummary(y_train, \n",
    "                      bank_lin.predict(X_train),\n",
    "                      class_names=bank_lin.classes_)\n",
    "bank_df[outcome].value_counts()"
   ]
  },
  {
   "cell_type": "markdown",
   "metadata": {},
   "source": [
    "## Problem 12.1.b\n",
    "Examine the model performance on the validation set.\n",
    "## Problem 12.1.b.i\n",
    "What is the accuracy rate?"
   ]
  },
  {
   "cell_type": "code",
   "execution_count": 15,
   "metadata": {},
   "outputs": [
    {
     "name": "stdout",
     "output_type": "stream",
     "text": [
      "Coefficients and intercept\n",
      "                      accept\n",
      "constant           -8.644287\n",
      "Age                -0.155163\n",
      "Experience          0.157654\n",
      "Income              0.056007\n",
      "CCAvg               0.366498\n",
      "Mortgage            0.001518\n",
      "Personal Loan      -1.312601\n",
      "Securities Account  6.382655\n",
      "CD Account         -0.519213\n",
      "Online             -0.749764\n",
      "CreditCard          0.056057\n",
      "Family_2            1.578020\n",
      "Family_3            1.423738\n",
      "Family_4            2.795285\n",
      "Education_2         2.989580\n",
      "\n",
      "Confusion Matrix (Accuracy 0.9430)\n",
      "\n",
      "       Prediction\n",
      "Actual    0    1\n",
      "     0 1776   31\n",
      "     1   83  110\n"
     ]
    },
    {
     "data": {
      "text/plain": [
       "Personal Loan\n",
       "0    4520\n",
       "1     480\n",
       "Name: count, dtype: int64"
      ]
     },
     "execution_count": 15,
     "metadata": {},
     "output_type": "execute_result"
    }
   ],
   "source": [
    "print('Coefficients and intercept')\n",
    "fct = pd.DataFrame([bank_lin.intercept_], columns=['accept'], index=['constant'])\n",
    "fct = pd.concat([fct,pd.DataFrame(bank_lin.coef_.transpose(), columns=['accept'], \n",
    "                              index=list(bank_df.columns)[:-1])])\n",
    "print(fct)\n",
    "print()\n",
    "classificationSummary(y_valid, \n",
    "                      bank_lin.predict(X_valid),\n",
    "                      class_names=bank_lin.classes_)\n",
    "bank_df[outcome].value_counts()"
   ]
  },
  {
   "cell_type": "markdown",
   "metadata": {},
   "source": [
    "the accuracy rate is 0.943"
   ]
  },
  {
   "cell_type": "markdown",
   "metadata": {},
   "source": [
    "## Problem 12.1.b.ii\n",
    "Is one type of misclassification more likely than the other?"
   ]
  },
  {
   "cell_type": "markdown",
   "metadata": {},
   "source": [
    "A type two classifciation is more likely than a class one classifaction. False negatuve is more likley than a false postive. "
   ]
  },
  {
   "cell_type": "markdown",
   "metadata": {},
   "source": [
    "## Problem 12.1.b.iii\n",
    "Select three customers who were misclassified as _acceptors_ and three who were misclassified as _nonacceptors_. The goal is to determine why they are misclassified. First, examine their probability of being classified as acceptors: is it close to the\n",
    "threshold of 0.5? If not, compare their predictor values to the summary statistics of the two classes to determine why they were misclassified."
   ]
  },
  {
   "cell_type": "code",
   "execution_count": 16,
   "metadata": {},
   "outputs": [
    {
     "name": "stdout",
     "output_type": "stream",
     "text": [
      "      Age  Experience  Income  CCAvg  Mortgage  Securities Account  \\\n",
      "2765   31           5      84    2.9       105                   0   \n",
      "4768   35           9      45    0.9       101                   1   \n",
      "3815   34           9      35    1.3         0                   0   \n",
      "3500   49          23     114    0.3       286                   0   \n",
      "2736   36          12      70    2.6       165                   0   \n",
      "...   ...         ...     ...    ...       ...                 ...   \n",
      "4373   34          10      41    2.4         0                   0   \n",
      "3402   39          15      28    1.4       118                   0   \n",
      "1240   51          26      12    0.7       109                   0   \n",
      "438    36           9      31    1.0         0                   1   \n",
      "416    35           8      38    1.0       124                   0   \n",
      "\n",
      "      CD Account  Online  CreditCard  Family_2  Family_3  Family_4  \\\n",
      "2765           0       0           1     False     False     False   \n",
      "4768           0       0           0     False      True     False   \n",
      "3815           0       0           0     False      True     False   \n",
      "3500           0       1           0     False     False     False   \n",
      "2736           0       1           0     False      True     False   \n",
      "...          ...     ...         ...       ...       ...       ...   \n",
      "4373           0       0           0     False     False     False   \n",
      "3402           0       1           1     False     False     False   \n",
      "1240           0       1           1      True     False     False   \n",
      "438            0       1           0     False     False      True   \n",
      "416            0       1           0     False     False      True   \n",
      "\n",
      "      Education_2  Education_3  Actual  Prediction  p(Accptor)  \n",
      "2765        False         True     NaN           0    0.010993  \n",
      "4768        False        False     0.0           0    0.000084  \n",
      "3815        False        False     NaN           0    0.000206  \n",
      "3500        False        False     0.0           0    0.002002  \n",
      "2736         True        False     NaN           0    0.033557  \n",
      "...           ...          ...     ...         ...         ...  \n",
      "4373         True        False     NaN           0    0.001706  \n",
      "3402        False         True     0.0           0    0.000236  \n",
      "1240        False         True     0.0           0    0.000069  \n",
      "438          True        False     1.0           0    0.000243  \n",
      "416          True        False     0.0           0    0.001608  \n",
      "\n",
      "[2000 rows x 17 columns]\n"
     ]
    }
   ],
   "source": [
    "result_df = X_valid.copy()\n",
    "result_df.index = result_df.index + 1\n",
    "result_df['Actual'] = y_valid.copy()\n",
    "#result_df['Dec. Function'] = bank_lin.decision_function(X_valid)\n",
    "result_df['Prediction'] = bank_lin.predict(X_valid)\n",
    "result_df['p(Accptor)'] = bank_lin.predict_proba(X_valid)[:, 1]\n",
    "\n",
    "print(result_df)"
   ]
  },
  {
   "cell_type": "code",
   "execution_count": 17,
   "metadata": {},
   "outputs": [
    {
     "data": {
      "text/html": [
       "<div>\n",
       "<style scoped>\n",
       "    .dataframe tbody tr th:only-of-type {\n",
       "        vertical-align: middle;\n",
       "    }\n",
       "\n",
       "    .dataframe tbody tr th {\n",
       "        vertical-align: top;\n",
       "    }\n",
       "\n",
       "    .dataframe thead th {\n",
       "        text-align: right;\n",
       "    }\n",
       "</style>\n",
       "<table border=\"1\" class=\"dataframe\">\n",
       "  <thead>\n",
       "    <tr style=\"text-align: right;\">\n",
       "      <th></th>\n",
       "      <th>Age</th>\n",
       "      <th>Experience</th>\n",
       "      <th>Income</th>\n",
       "      <th>CCAvg</th>\n",
       "      <th>Mortgage</th>\n",
       "      <th>Securities Account</th>\n",
       "      <th>CD Account</th>\n",
       "      <th>Online</th>\n",
       "      <th>CreditCard</th>\n",
       "      <th>Family_2</th>\n",
       "      <th>Family_3</th>\n",
       "      <th>Family_4</th>\n",
       "      <th>Education_2</th>\n",
       "      <th>Education_3</th>\n",
       "      <th>Actual</th>\n",
       "      <th>Prediction</th>\n",
       "      <th>p(Accptor)</th>\n",
       "    </tr>\n",
       "  </thead>\n",
       "  <tbody>\n",
       "    <tr>\n",
       "      <th>933</th>\n",
       "      <td>51</td>\n",
       "      <td>27</td>\n",
       "      <td>112</td>\n",
       "      <td>1.8</td>\n",
       "      <td>0</td>\n",
       "      <td>1</td>\n",
       "      <td>1</td>\n",
       "      <td>1</td>\n",
       "      <td>1</td>\n",
       "      <td>False</td>\n",
       "      <td>True</td>\n",
       "      <td>False</td>\n",
       "      <td>True</td>\n",
       "      <td>False</td>\n",
       "      <td>0.0</td>\n",
       "      <td>1</td>\n",
       "      <td>0.942997</td>\n",
       "    </tr>\n",
       "    <tr>\n",
       "      <th>4495</th>\n",
       "      <td>29</td>\n",
       "      <td>4</td>\n",
       "      <td>182</td>\n",
       "      <td>3.7</td>\n",
       "      <td>0</td>\n",
       "      <td>0</td>\n",
       "      <td>0</td>\n",
       "      <td>1</td>\n",
       "      <td>0</td>\n",
       "      <td>False</td>\n",
       "      <td>False</td>\n",
       "      <td>False</td>\n",
       "      <td>False</td>\n",
       "      <td>True</td>\n",
       "      <td>0.0</td>\n",
       "      <td>1</td>\n",
       "      <td>0.818517</td>\n",
       "    </tr>\n",
       "    <tr>\n",
       "      <th>1525</th>\n",
       "      <td>40</td>\n",
       "      <td>16</td>\n",
       "      <td>155</td>\n",
       "      <td>0.1</td>\n",
       "      <td>0</td>\n",
       "      <td>0</td>\n",
       "      <td>1</td>\n",
       "      <td>1</td>\n",
       "      <td>1</td>\n",
       "      <td>False</td>\n",
       "      <td>False</td>\n",
       "      <td>True</td>\n",
       "      <td>False</td>\n",
       "      <td>True</td>\n",
       "      <td>0.0</td>\n",
       "      <td>1</td>\n",
       "      <td>0.997312</td>\n",
       "    </tr>\n",
       "  </tbody>\n",
       "</table>\n",
       "</div>"
      ],
      "text/plain": [
       "      Age  Experience  Income  CCAvg  Mortgage  Securities Account  \\\n",
       "933    51          27     112    1.8         0                   1   \n",
       "4495   29           4     182    3.7         0                   0   \n",
       "1525   40          16     155    0.1         0                   0   \n",
       "\n",
       "      CD Account  Online  CreditCard  Family_2  Family_3  Family_4  \\\n",
       "933            1       1           1     False      True     False   \n",
       "4495           0       1           0     False     False     False   \n",
       "1525           1       1           1     False     False      True   \n",
       "\n",
       "      Education_2  Education_3  Actual  Prediction  p(Accptor)  \n",
       "933          True        False     0.0           1    0.942997  \n",
       "4495        False         True     0.0           1    0.818517  \n",
       "1525        False         True     0.0           1    0.997312  "
      ]
     },
     "execution_count": 17,
     "metadata": {},
     "output_type": "execute_result"
    }
   ],
   "source": [
    "accpetors = result_df[result_df['Actual']== 0 ]\n",
    "accpetors = accpetors[accpetors['Prediction']== 1].head(3)\n",
    "accpetors"
   ]
  },
  {
   "cell_type": "code",
   "execution_count": 18,
   "metadata": {},
   "outputs": [
    {
     "data": {
      "text/html": [
       "<div>\n",
       "<style scoped>\n",
       "    .dataframe tbody tr th:only-of-type {\n",
       "        vertical-align: middle;\n",
       "    }\n",
       "\n",
       "    .dataframe tbody tr th {\n",
       "        vertical-align: top;\n",
       "    }\n",
       "\n",
       "    .dataframe thead th {\n",
       "        text-align: right;\n",
       "    }\n",
       "</style>\n",
       "<table border=\"1\" class=\"dataframe\">\n",
       "  <thead>\n",
       "    <tr style=\"text-align: right;\">\n",
       "      <th></th>\n",
       "      <th>Age</th>\n",
       "      <th>Experience</th>\n",
       "      <th>Income</th>\n",
       "      <th>CCAvg</th>\n",
       "      <th>Mortgage</th>\n",
       "      <th>Securities Account</th>\n",
       "      <th>CD Account</th>\n",
       "      <th>Online</th>\n",
       "      <th>CreditCard</th>\n",
       "      <th>Family_2</th>\n",
       "      <th>Family_3</th>\n",
       "      <th>Family_4</th>\n",
       "      <th>Education_2</th>\n",
       "      <th>Education_3</th>\n",
       "      <th>Actual</th>\n",
       "      <th>Prediction</th>\n",
       "      <th>p(Accptor)</th>\n",
       "    </tr>\n",
       "  </thead>\n",
       "  <tbody>\n",
       "    <tr>\n",
       "      <th>3945</th>\n",
       "      <td>56</td>\n",
       "      <td>26</td>\n",
       "      <td>62</td>\n",
       "      <td>1.4</td>\n",
       "      <td>0</td>\n",
       "      <td>0</td>\n",
       "      <td>0</td>\n",
       "      <td>1</td>\n",
       "      <td>0</td>\n",
       "      <td>False</td>\n",
       "      <td>True</td>\n",
       "      <td>False</td>\n",
       "      <td>False</td>\n",
       "      <td>True</td>\n",
       "      <td>1.0</td>\n",
       "      <td>0</td>\n",
       "      <td>0.005484</td>\n",
       "    </tr>\n",
       "    <tr>\n",
       "      <th>4590</th>\n",
       "      <td>31</td>\n",
       "      <td>7</td>\n",
       "      <td>13</td>\n",
       "      <td>0.5</td>\n",
       "      <td>0</td>\n",
       "      <td>0</td>\n",
       "      <td>0</td>\n",
       "      <td>1</td>\n",
       "      <td>0</td>\n",
       "      <td>False</td>\n",
       "      <td>False</td>\n",
       "      <td>False</td>\n",
       "      <td>False</td>\n",
       "      <td>True</td>\n",
       "      <td>1.0</td>\n",
       "      <td>0</td>\n",
       "      <td>0.000127</td>\n",
       "    </tr>\n",
       "    <tr>\n",
       "      <th>2672</th>\n",
       "      <td>62</td>\n",
       "      <td>37</td>\n",
       "      <td>128</td>\n",
       "      <td>2.5</td>\n",
       "      <td>0</td>\n",
       "      <td>0</td>\n",
       "      <td>0</td>\n",
       "      <td>0</td>\n",
       "      <td>0</td>\n",
       "      <td>False</td>\n",
       "      <td>False</td>\n",
       "      <td>False</td>\n",
       "      <td>False</td>\n",
       "      <td>False</td>\n",
       "      <td>1.0</td>\n",
       "      <td>0</td>\n",
       "      <td>0.012793</td>\n",
       "    </tr>\n",
       "  </tbody>\n",
       "</table>\n",
       "</div>"
      ],
      "text/plain": [
       "      Age  Experience  Income  CCAvg  Mortgage  Securities Account  \\\n",
       "3945   56          26      62    1.4         0                   0   \n",
       "4590   31           7      13    0.5         0                   0   \n",
       "2672   62          37     128    2.5         0                   0   \n",
       "\n",
       "      CD Account  Online  CreditCard  Family_2  Family_3  Family_4  \\\n",
       "3945           0       1           0     False      True     False   \n",
       "4590           0       1           0     False     False     False   \n",
       "2672           0       0           0     False     False     False   \n",
       "\n",
       "      Education_2  Education_3  Actual  Prediction  p(Accptor)  \n",
       "3945        False         True     1.0           0    0.005484  \n",
       "4590        False         True     1.0           0    0.000127  \n",
       "2672        False        False     1.0           0    0.012793  "
      ]
     },
     "execution_count": 18,
     "metadata": {},
     "output_type": "execute_result"
    }
   ],
   "source": [
    "nonaccpetors = result_df[result_df['Actual']== 1]\n",
    "nonaccpetors = nonaccpetors[nonaccpetors['Prediction']== 0].head(3)\n",
    "nonaccpetors"
   ]
  },
  {
   "cell_type": "markdown",
   "metadata": {},
   "source": [
    "We can see that the missclaasifications are in line with how the model is designed to classify the classes. It missclassified accpetors ans nonacceptors beacuse those records had a probability of being acceptors that was below the cutoff value of 0.5 and vice versa. "
   ]
  },
  {
   "cell_type": "markdown",
   "metadata": {},
   "source": [
    "## Problem 12.1.c\n",
    "As in many marketing campaigns, it is more important to identify customers who will accept the offer rather than customers who will not accept it. Therefore, a good model should be especially accurate at detecting acceptors. Examine the lift chart and decile-wise lift chart for the validation set and interpret them in light of this ranking goal."
   ]
  },
  {
   "cell_type": "code",
   "execution_count": 19,
   "metadata": {},
   "outputs": [
    {
     "data": {
      "image/png": "[encoded data removed]",
      "text/plain": [
       "<Figure size 1000x400 with 2 Axes>"
      ]
     },
     "metadata": {},
     "output_type": "display_data"
    }
   ],
   "source": [
    "proba = bank_lin.predict_proba(X_valid)\n",
    "result = pd.DataFrame({'actual': y_valid, \n",
    "                       'p(0)': [p[0] for p in proba],\n",
    "                       'p(1)': [p[1] for p in proba],\n",
    "                       'predicted': bank_lin.predict(X_valid) })\n",
    "df = result.sort_values(by=['p(1)'], ascending=False)\n",
    "fig, axes = plt.subplots(nrows=1, ncols=2, figsize=(10, 4))\n",
    "gainsChart(df.actual, ax=axes[0])\n",
    "liftChart(df.actual, title=False)\n",
    "plt.title('Decile Lift Chart (Validation)')\n",
    "plt.show()"
   ]
  },
  {
   "cell_type": "markdown",
   "metadata": {},
   "source": [
    "The gains chart shows us that the model is defintly better than a random guess and gains a majoristy of its predictive power by the first quarter of records. The Lift chart shows us that the model itself that anythinng in teh top 10% of records that are predicted to be accpetors are 7 .4 times as liklly and the top 20% are 1.8 times as likley. This model appeares to be good at this job as it attrubutes the factors that make an accptor with alot of power making it more likley to predict a positive. "
   ]
  },
  {
   "cell_type": "markdown",
   "metadata": {},
   "source": [
    "## Problem 12.1.d\n",
    "Compare the results from the discriminant analysis with those from a logistic regression (both with cutoff 0.5 and the same predictors). Examine the confusion matrices, the lift charts, and the decile charts. Which method performs better on your validation set in detecting the acceptors?\n",
    "\n",
    "We can take the confusion matrix from the logistic regression model in chapter 10.\n",
    "```\n",
    "Confusion Matrix (Accuracy 0.9595)\n",
    "\n",
    "       Prediction\n",
    "Actual    0    1\n",
    "     0 1791   16\n",
    "     1   65  128\n",
    "```"
   ]
  },
  {
   "cell_type": "code",
   "execution_count": 20,
   "metadata": {},
   "outputs": [
    {
     "name": "stdout",
     "output_type": "stream",
     "text": [
      "Confusion Matrix (Accuracy 0.9430)\n",
      "\n",
      "       Prediction\n",
      "Actual    0    1\n",
      "     0 1776   31\n",
      "     1   83  110\n"
     ]
    }
   ],
   "source": [
    "classificationSummary(y_valid, \n",
    "                      bank_lin.predict(X_valid),\n",
    "                      class_names=bank_lin.classes_)"
   ]
  },
  {
   "cell_type": "code",
   "execution_count": 21,
   "metadata": {},
   "outputs": [
    {
     "data": {
      "image/png": "[encoded data removed]",
      "text/plain": [
       "<Figure size 1000x400 with 2 Axes>"
      ]
     },
     "metadata": {},
     "output_type": "display_data"
    }
   ],
   "source": [
    "logit_reg_predictor = LogisticRegression(penalty=\"l2\", C=1e42, solver='liblinear', tol=1e-8)\n",
    "logit_reg_predictor.fit(X_train, y_train)\n",
    "proba = logit_reg_predictor.predict_proba(X_valid)\n",
    "result = pd.DataFrame({'actual': y_valid, \n",
    "                       'p(0)': [p[0] for p in proba],\n",
    "                       'p(1)': [p[1] for p in proba],\n",
    "                       'predicted': logit_reg_predictor.predict(X_valid) })\n",
    "df = result.sort_values(by=['p(1)'], ascending=False)\n",
    "fig, axes = plt.subplots(nrows=1, ncols=2, figsize=(10, 4))\n",
    "gainsChart(df.actual, ax=axes[0])\n",
    "liftChart(df.actual, title=False)\n",
    "plt.title('Decile Lift Chart (Validation) logistic')\n",
    "plt.show()"
   ]
  },
  {
   "cell_type": "markdown",
   "metadata": {},
   "source": [
    "The decil and lift charts are similar to the logistic regression method but an examination of the confusion matrix shows us that the logistic regression is slighly better at predicting the acceptors. "
   ]
  },
  {
   "cell_type": "markdown",
   "metadata": {},
   "source": [
    "## Problem 12.1.e\n",
    "The bank is planning to continue its campaign by sending its offer to 1000 additional customers. Suppose that the cost of sending the offer is \\\\$1 and the profit from an accepted offer is \\\\$50. What is the expected profitability of this campaign?\n"
   ]
  },
  {
   "cell_type": "code",
   "execution_count": 22,
   "metadata": {},
   "outputs": [
    {
     "data": {
      "text/plain": [
       "479000.0"
      ]
     },
     "execution_count": 22,
     "metadata": {},
     "output_type": "execute_result"
    }
   ],
   "source": [
    "#there are two ways this can be read. in the case of perfect analysis the max profit is as follows\n",
    "#profit per success * number of successes (based on initial problem statement of (9.6% success)) - cost of sending the offer\n",
    "(50*(1000*9.6))- 1000"
   ]
  },
  {
   "cell_type": "code",
   "execution_count": 23,
   "metadata": {},
   "outputs": [
    {
     "data": {
      "text/plain": [
       "114838.15492368954"
      ]
     },
     "execution_count": 23,
     "metadata": {},
     "output_type": "execute_result"
    }
   ],
   "source": [
    "#or if it is asking based on the validation set results\n",
    "#profit per success * number of successes (based on confusion matrix of validation set classifcaction results adding prior) - cost of sending the offer\n",
    "(50*(1000*((110/2000)+ math.log(9.6))))- 1000"
   ]
  },
  {
   "cell_type": "markdown",
   "metadata": {},
   "source": [
    "## Problem 12.1.f\n",
    "The cost of misclassifying a loan acceptor customer as a nonacceptor is much higher than the opposite misclassification cost. To minimize the expected cost of misclassification, should the cutoff value for classification (which is currently at 0.5) be increased or decreased?"
   ]
  },
  {
   "cell_type": "markdown",
   "metadata": {},
   "source": [
    "To combat the missclassifaction of nonacceptors in favor of comabting the missclassifaction of acceptors we should lower the cutoff value so that more values could be classified as acceptors. "
   ]
  },
  {
   "cell_type": "markdown",
   "metadata": {},
   "source": [
    "# Problem 12.3: Detecting Spam E-mail (from the UCI Machine Learning Repository)\n",
    "A team at Hewlett-Packard collected data on a large number of e-mail messages from their postmaster and personal e-mail for the purpose of finding a classifier that can separate e-mail messages that are _spam_ vs. _nonspam_ (a.k.a. 'ham'). The spam concept is diverse: It includes advertisements for products or websites, 'make money fast' schemes, chain letters, pornography, and so on. The definition used here is 'unsolicited commercial e-mail.' The file _Spambase.csv_ contains information on 4601 e-mail messages, among which 1813 are tagged 'spam.' The predictors include 57 attributes, most of them are the average number of times a certain word (e.g., mail, George) or symbol (e.g., \\#, !) appears in the e-mail. A few predictors are\n",
    "related to the number and length of capitalized words.\n",
    "\n",
    "## Problem 12.3.a\n",
    "To reduce the number of predictors to a manageable size, examine how each predictor differs between the _spam_ and _nonspam_ e-mails by comparing the spam-class average and nonspam-class average. Which are the 11 predictors that appear to vary the most between _spam_ and _nonspam_ e-mails? From these 11, which words or signs occur more often in spam?"
   ]
  },
  {
   "cell_type": "code",
   "execution_count": 24,
   "metadata": {},
   "outputs": [
    {
     "name": "stdout",
     "output_type": "stream",
     "text": [
      "   make  address   all  W_3d   our  over  remove  internet  order  mail  ...  \\\n",
      "0  0.00     0.64  0.64   0.0  0.32  0.00    0.00      0.00   0.00  0.00  ...   \n",
      "1  0.21     0.28  0.50   0.0  0.14  0.28    0.21      0.07   0.00  0.94  ...   \n",
      "2  0.06     0.00  0.71   0.0  1.23  0.19    0.19      0.12   0.64  0.25  ...   \n",
      "3  0.00     0.00  0.00   0.0  0.63  0.00    0.31      0.63   0.31  0.63  ...   \n",
      "\n",
      "     C;     C(   C[     C!     C$     C#  CAP_avg  CAP_long  CAP_tot  Spam  \n",
      "0  0.00  0.000  0.0  0.778  0.000  0.000    3.756        61      278     1  \n",
      "1  0.00  0.132  0.0  0.372  0.180  0.048    5.114       101     1028     1  \n",
      "2  0.01  0.143  0.0  0.276  0.184  0.010    9.821       485     2259     1  \n",
      "3  0.00  0.137  0.0  0.137  0.000  0.000    3.537        40      191     1  \n",
      "\n",
      "[4 rows x 58 columns]\n",
      "Index(['make', 'address', 'all', 'W_3d', 'our', 'over', 'remove', 'internet',\n",
      "       'order', 'mail', 'receive', 'will ', 'people', 'report', 'addresses',\n",
      "       'free', 'business', 'email', 'you ', 'credit', 'your', 'font', 'W_000',\n",
      "       'money', 'hp', 'hpl', 'george', 'W_650', 'lab', 'labs', 'telnet',\n",
      "       'W_857', 'data', 'W_415', 'W_85', 'technology', 'W_1999', 'parts', 'pm',\n",
      "       'direct', 'cs', 'meeting', 'original', 'project ', 're:', 'edu',\n",
      "       'table ', 'conference', 'C;', 'C(', 'C[', 'C!', 'C$', 'C#', 'CAP_avg',\n",
      "       'CAP_long', 'CAP_tot', 'Spam'],\n",
      "      dtype='object')\n",
      "make          float64\n",
      "address       float64\n",
      "all           float64\n",
      "W_3d          float64\n",
      "our           float64\n",
      "over          float64\n",
      "remove        float64\n",
      "internet      float64\n",
      "order         float64\n",
      "mail          float64\n",
      "receive       float64\n",
      "will          float64\n",
      "people        float64\n",
      "report        float64\n",
      "addresses     float64\n",
      "free          float64\n",
      "business      float64\n",
      "email         float64\n",
      "you           float64\n",
      "credit        float64\n",
      "your          float64\n",
      "font          float64\n",
      "W_000         float64\n",
      "money         float64\n",
      "hp            float64\n",
      "hpl           float64\n",
      "george        float64\n",
      "W_650         float64\n",
      "lab           float64\n",
      "labs          float64\n",
      "telnet        float64\n",
      "W_857         float64\n",
      "data          float64\n",
      "W_415         float64\n",
      "W_85          float64\n",
      "technology    float64\n",
      "W_1999        float64\n",
      "parts         float64\n",
      "pm            float64\n",
      "direct        float64\n",
      "cs            float64\n",
      "meeting       float64\n",
      "original      float64\n",
      "project       float64\n",
      "re:           float64\n",
      "edu           float64\n",
      "table         float64\n",
      "conference    float64\n",
      "C;            float64\n",
      "C(            float64\n",
      "C[            float64\n",
      "C!            float64\n",
      "C$            float64\n",
      "C#            float64\n",
      "CAP_avg       float64\n",
      "CAP_long        int64\n",
      "CAP_tot         int64\n",
      "Spam            int64\n",
      "dtype: object\n"
     ]
    }
   ],
   "source": [
    "spam_df = pd.read_csv(DATA / 'Spambase.csv')\n",
    "print(spam_df.head(4))\n",
    "print(spam_df.columns)\n",
    "print(spam_df.dtypes)"
   ]
  },
  {
   "cell_type": "code",
   "execution_count": 25,
   "metadata": {},
   "outputs": [],
   "source": [
    "outcome = 'Spam'\n",
    "pre_predictors = spam_df.drop(columns= outcome).columns\n",
    "#spam_df[outcome] = spam_df[outcome].replace({1:'Spam', 0:'nonspam'})"
   ]
  },
  {
   "cell_type": "code",
   "execution_count": 26,
   "metadata": {},
   "outputs": [],
   "source": [
    "X = spam_df[pre_predictors]\n",
    "y = spam_df[outcome]\n",
    "X_train,X_valid, y_train, y_valid = train_test_split(X, y, train_size=0.6, random_state=1)"
   ]
  },
  {
   "cell_type": "code",
   "execution_count": 27,
   "metadata": {},
   "outputs": [],
   "source": [
    "spam_prior = 1813/(4601)\n",
    "non_spam_prior = 1- spam_prior"
   ]
  },
  {
   "cell_type": "code",
   "execution_count": 28,
   "metadata": {},
   "outputs": [
    {
     "name": "stdout",
     "output_type": "stream",
     "text": [
      "Pre-clean\n"
     ]
    }
   ],
   "source": [
    "spam_lin = LinearDiscriminantAnalysis(priors=[non_spam_prior, spam_prior])\n",
    "spam_lin.fit(X_train, y_train)\n",
    "print('Pre-clean')\n"
   ]
  },
  {
   "cell_type": "code",
   "execution_count": 29,
   "metadata": {},
   "outputs": [
    {
     "data": {
      "text/plain": [
       "array([-2.7778345])"
      ]
     },
     "execution_count": 29,
     "metadata": {},
     "output_type": "execute_result"
    }
   ],
   "source": [
    "spam_lin.intercept_"
   ]
  },
  {
   "cell_type": "code",
   "execution_count": 30,
   "metadata": {},
   "outputs": [
    {
     "data": {
      "text/plain": [
       "array([[7.55325444e-02, 2.41692308e-01, 1.98017751e-01, 9.82248521e-04,\n",
       "        1.86751479e-01, 4.45443787e-02, 9.53254438e-03, 3.72840237e-02,\n",
       "        4.12071006e-02, 1.63585799e-01, 2.63668639e-02, 5.36059172e-01,\n",
       "        6.21360947e-02, 4.32366864e-02, 7.63313609e-03, 7.94437870e-02,\n",
       "        5.04201183e-02, 9.41597633e-02, 1.30358580e+00, 9.23668639e-03,\n",
       "        4.76065089e-01, 5.33668639e-02, 8.58579882e-03, 2.20946746e-02,\n",
       "        8.53627219e-01, 4.14230769e-01, 1.30052663e+00, 1.87994083e-01,\n",
       "        1.52059172e-01, 1.50272189e-01, 1.02840237e-01, 7.89349112e-02,\n",
       "        1.45360947e-01, 7.92366864e-02, 1.57840237e-01, 1.39952663e-01,\n",
       "        2.02189349e-01, 1.87100592e-02, 1.32396450e-01, 8.39171598e-02,\n",
       "        5.92307692e-02, 2.01976331e-01, 6.64556213e-02, 1.13076923e-01,\n",
       "        4.02372781e-01, 2.78491124e-01, 8.50887574e-03, 5.70118343e-02,\n",
       "        5.61857988e-02, 1.59115385e-01, 2.41526627e-02, 1.15302959e-01,\n",
       "        1.18887574e-02, 2.39757396e-02, 2.44909586e+00, 1.78378698e+01,\n",
       "        1.65530769e+02],\n",
       "       [1.51336449e-01, 1.63065421e-01, 4.08289720e-01, 1.69794393e-01,\n",
       "        5.02962617e-01, 1.83411215e-01, 2.67635514e-01, 2.11420561e-01,\n",
       "        1.81196262e-01, 3.50000000e-01, 1.16738318e-01, 5.46831776e-01,\n",
       "        1.39476636e-01, 8.78691589e-02, 1.12177570e-01, 4.94682243e-01,\n",
       "        2.78233645e-01, 3.08953271e-01, 2.28311215e+00, 2.26364486e-01,\n",
       "        1.37999065e+00, 2.61785047e-01, 2.65728972e-01, 2.13532710e-01,\n",
       "        1.66448598e-02, 9.38317757e-03, 1.55140187e-03, 1.38224299e-02,\n",
       "        4.29906542e-04, 3.11214953e-03, 3.73831776e-04, 4.39252336e-04,\n",
       "        1.50467290e-02, 1.14953271e-03, 6.11214953e-03, 3.15327103e-02,\n",
       "        3.43831776e-02, 2.87850467e-03, 1.22897196e-02, 3.57289720e-02,\n",
       "        0.00000000e+00, 2.88785047e-03, 9.71962617e-03, 4.83177570e-03,\n",
       "        1.16056075e-01, 1.15887850e-02, 9.06542056e-04, 2.46728972e-03,\n",
       "        2.18794393e-02, 1.11901869e-01, 6.08691589e-03, 5.29914953e-01,\n",
       "        1.88077570e-01, 1.00833645e-01, 9.24468692e+00, 1.10907477e+02,\n",
       "        4.94986916e+02]])"
      ]
     },
     "execution_count": 30,
     "metadata": {},
     "output_type": "execute_result"
    }
   ],
   "source": [
    "spam_lin.means_"
   ]
  },
  {
   "cell_type": "code",
   "execution_count": 31,
   "metadata": {},
   "outputs": [
    {
     "name": "stdout",
     "output_type": "stream",
     "text": [
      "                Spam\n",
      "constant   -2.777835\n",
      "make       -0.534556\n",
      "address    -0.107026\n",
      "all         0.460331\n",
      "W_3d        0.106153\n",
      "our         0.681662\n",
      "over        1.050761\n",
      "remove      2.215250\n",
      "internet    0.813391\n",
      "order       0.726491\n",
      "mail        0.108306\n",
      "receive     0.090852\n",
      "will       -0.268442\n",
      "people      0.155832\n",
      "report      0.088728\n",
      "addresses   0.148612\n",
      "free        0.645780\n",
      "business    0.425394\n",
      "email       0.654514\n",
      "you         0.142759\n",
      "credit      0.583503\n",
      "your        0.455602\n",
      "font        0.425402\n",
      "W_000       1.701887\n",
      "money       0.771707\n",
      "hp         -0.180000\n",
      "hpl        -0.264858\n",
      "george     -0.121531\n",
      "W_650       0.019865\n",
      "lab        -0.194421\n",
      "labs       -0.617799\n",
      "telnet     -0.331635\n",
      "W_857       3.279346\n",
      "data       -0.392931\n",
      "W_415      -2.505151\n",
      "W_85       -0.363785\n",
      "technology  0.510646\n",
      "W_1999     -0.526794\n",
      "parts      -0.364431\n",
      "pm         -0.058238\n",
      "direct      0.362682\n",
      "cs          0.028815\n",
      "meeting    -0.323876\n",
      "original   -0.328954\n",
      "project    -0.404217\n",
      "re:        -0.457158\n",
      "edu        -0.413716\n",
      "table      -1.627192\n",
      "conference -0.393268\n",
      "C;         -1.344570\n",
      "C(         -0.508163\n",
      "C[         -0.765337\n",
      "C!          0.532291\n",
      "C$          2.146581\n",
      "C#          0.230773\n",
      "CAP_avg     0.003960\n",
      "CAP_long    0.000344\n",
      "CAP_tot     0.000827\n",
      "\n"
     ]
    }
   ],
   "source": [
    "fct = pd.DataFrame([spam_lin.intercept_], columns=['Spam'], index=['constant'])\n",
    "fct = pd.concat([fct,pd.DataFrame(spam_lin.coef_.transpose(), columns=['Spam'], \n",
    "                              index=list(spam_df.columns)[:-1])])\n",
    "print(fct)\n",
    "print()\n",
    "# classificationSummary(y_valid, \n",
    "#                       spam_lin.predict(X_valid),\n",
    "#                       class_names=spam_lin.classes_)\n",
    "# spam_df[outcome].value_counts()"
   ]
  },
  {
   "cell_type": "code",
   "execution_count": 32,
   "metadata": {},
   "outputs": [
    {
     "data": {
      "text/html": [
       "<div>\n",
       "<style scoped>\n",
       "    .dataframe tbody tr th:only-of-type {\n",
       "        vertical-align: middle;\n",
       "    }\n",
       "\n",
       "    .dataframe tbody tr th {\n",
       "        vertical-align: top;\n",
       "    }\n",
       "\n",
       "    .dataframe thead th {\n",
       "        text-align: right;\n",
       "    }\n",
       "</style>\n",
       "<table border=\"1\" class=\"dataframe\">\n",
       "  <thead>\n",
       "    <tr style=\"text-align: right;\">\n",
       "      <th></th>\n",
       "      <th>Spam</th>\n",
       "    </tr>\n",
       "  </thead>\n",
       "  <tbody>\n",
       "    <tr>\n",
       "      <th>W_857</th>\n",
       "      <td>3.279346</td>\n",
       "    </tr>\n",
       "    <tr>\n",
       "      <th>constant</th>\n",
       "      <td>2.777835</td>\n",
       "    </tr>\n",
       "    <tr>\n",
       "      <th>W_415</th>\n",
       "      <td>2.505151</td>\n",
       "    </tr>\n",
       "    <tr>\n",
       "      <th>remove</th>\n",
       "      <td>2.215250</td>\n",
       "    </tr>\n",
       "    <tr>\n",
       "      <th>C$</th>\n",
       "      <td>2.146581</td>\n",
       "    </tr>\n",
       "    <tr>\n",
       "      <th>W_000</th>\n",
       "      <td>1.701887</td>\n",
       "    </tr>\n",
       "    <tr>\n",
       "      <th>table</th>\n",
       "      <td>1.627192</td>\n",
       "    </tr>\n",
       "    <tr>\n",
       "      <th>C;</th>\n",
       "      <td>1.344570</td>\n",
       "    </tr>\n",
       "    <tr>\n",
       "      <th>over</th>\n",
       "      <td>1.050761</td>\n",
       "    </tr>\n",
       "    <tr>\n",
       "      <th>internet</th>\n",
       "      <td>0.813391</td>\n",
       "    </tr>\n",
       "    <tr>\n",
       "      <th>money</th>\n",
       "      <td>0.771707</td>\n",
       "    </tr>\n",
       "    <tr>\n",
       "      <th>C[</th>\n",
       "      <td>0.765337</td>\n",
       "    </tr>\n",
       "  </tbody>\n",
       "</table>\n",
       "</div>"
      ],
      "text/plain": [
       "              Spam\n",
       "W_857     3.279346\n",
       "constant  2.777835\n",
       "W_415     2.505151\n",
       "remove    2.215250\n",
       "C$        2.146581\n",
       "W_000     1.701887\n",
       "table     1.627192\n",
       "C;        1.344570\n",
       "over      1.050761\n",
       "internet  0.813391\n",
       "money     0.771707\n",
       "C[        0.765337"
      ]
     },
     "execution_count": 32,
     "metadata": {},
     "output_type": "execute_result"
    }
   ],
   "source": [
    "#get the 11 largest coeffeicents regardless if they are positive or negative to get most influenttial parameters\n",
    "#made it the top 12 to ognore intercept \n",
    "fct.abs().sort_values(by='Spam',ascending=False).head(12)\n",
    "#fct.sort_values(by='Spam',ascending=False).head(12)"
   ]
  },
  {
   "cell_type": "code",
   "execution_count": 33,
   "metadata": {},
   "outputs": [
    {
     "data": {
      "text/plain": [
       "array([0, 1], dtype=int64)"
      ]
     },
     "execution_count": 33,
     "metadata": {},
     "output_type": "execute_result"
    }
   ],
   "source": [
    "spam_lin.classes_"
   ]
  },
  {
   "cell_type": "markdown",
   "metadata": {},
   "source": [
    "Based on the above list we will be using W_857. W_415, remove, C$, W_000, table, C;, over, internet, money, and C["
   ]
  },
  {
   "cell_type": "code",
   "execution_count": 34,
   "metadata": {},
   "outputs": [
    {
     "data": {
      "text/plain": [
       "array([0.60595523, 0.39404477])"
      ]
     },
     "execution_count": 34,
     "metadata": {},
     "output_type": "execute_result"
    }
   ],
   "source": [
    "spam_lin.priors_"
   ]
  },
  {
   "cell_type": "code",
   "execution_count": 35,
   "metadata": {},
   "outputs": [
    {
     "data": {
      "text/plain": [
       "Index(['make', 'address', 'all', 'W_3d', 'our', 'over', 'remove', 'internet',\n",
       "       'order', 'mail', 'receive', 'will ', 'people', 'report', 'addresses',\n",
       "       'free', 'business', 'email', 'you ', 'credit', 'your', 'font', 'W_000',\n",
       "       'money', 'hp', 'hpl', 'george', 'W_650', 'lab', 'labs', 'telnet',\n",
       "       'W_857', 'data', 'W_415', 'W_85', 'technology', 'W_1999', 'parts', 'pm',\n",
       "       'direct', 'cs', 'meeting', 'original', 'project ', 're:', 'edu',\n",
       "       'table ', 'conference', 'C;', 'C(', 'C[', 'C!', 'C$', 'C#', 'CAP_avg',\n",
       "       'CAP_long', 'CAP_tot', 'Spam'],\n",
       "      dtype='object')"
      ]
     },
     "execution_count": 35,
     "metadata": {},
     "output_type": "execute_result"
    }
   ],
   "source": [
    "spam_df.columns"
   ]
  },
  {
   "cell_type": "markdown",
   "metadata": {},
   "source": [
    "## Problem 12.3.b\n",
    "Partition the data into training and validation sets, then perform a discriminant analysis on the training data using only the 11 predictors."
   ]
  },
  {
   "cell_type": "code",
   "execution_count": 36,
   "metadata": {},
   "outputs": [],
   "source": [
    "predictors = ['W_85', 'W_415', 'remove', 'C$', 'W_000', 'table ', 'C;', 'over', 'internet', 'money','C[']\n",
    "#subset = predictors.append(outcome)\n",
    "X = spam_df[predictors]\n",
    "y = spam_df[outcome]\n",
    "X_train,X_valid, y_train, y_valid = train_test_split(X, y, train_size=0.6, random_state=1)"
   ]
  },
  {
   "cell_type": "code",
   "execution_count": 37,
   "metadata": {},
   "outputs": [
    {
     "data": {
      "text/plain": [
       "['W_85',\n",
       " 'W_415',\n",
       " 'remove',\n",
       " 'C$',\n",
       " 'W_000',\n",
       " 'table ',\n",
       " 'C;',\n",
       " 'over',\n",
       " 'internet',\n",
       " 'money',\n",
       " 'C[']"
      ]
     },
     "execution_count": 37,
     "metadata": {},
     "output_type": "execute_result"
    }
   ],
   "source": [
    "predictors"
   ]
  },
  {
   "cell_type": "code",
   "execution_count": 38,
   "metadata": {},
   "outputs": [
    {
     "name": "stdout",
     "output_type": "stream",
     "text": [
      "              Spam\n",
      "constant -1.532818\n",
      "W_85     -0.717683\n",
      "W_415     0.064599\n",
      "remove    2.358902\n",
      "C$        2.395071\n",
      "W_000     1.797057\n",
      "table    -1.316170\n",
      "C;       -0.475198\n",
      "over      1.353337\n",
      "internet  0.974867\n",
      "money     0.966896\n",
      "C[       -1.242485\n",
      "\n",
      "Confusion Matrix (Accuracy 0.7979)\n",
      "\n",
      "       Prediction\n",
      "Actual    0    1\n",
      "     0 1072   26\n",
      "     1  346  397\n"
     ]
    },
    {
     "data": {
      "text/plain": [
       "Spam\n",
       "0    2788\n",
       "1    1813\n",
       "Name: count, dtype: int64"
      ]
     },
     "execution_count": 38,
     "metadata": {},
     "output_type": "execute_result"
    }
   ],
   "source": [
    "spam_lin = LinearDiscriminantAnalysis(priors=[non_spam_prior, spam_prior])\n",
    "spam_lin.fit(X_train, y_train)\n",
    "fct = pd.DataFrame([spam_lin.intercept_], columns=['Spam'], index=['constant'])\n",
    "fct = pd.concat([fct,pd.DataFrame(spam_lin.coef_.transpose(), columns=['Spam'], \n",
    "                              index=list(predictors))])\n",
    "print(fct)\n",
    "print()\n",
    "classificationSummary(y_valid, \n",
    "                      spam_lin.predict(X_valid),\n",
    "                      class_names=spam_lin.classes_)\n",
    "spam_df[outcome].value_counts()"
   ]
  },
  {
   "cell_type": "markdown",
   "metadata": {},
   "source": [
    "## Problem 12.3.c\n",
    "If we are interested mainly in detecting spam messages, is this model useful? Use the confusion matrix, lift chart, and decile chart for the validation set for the evaluation."
   ]
  },
  {
   "cell_type": "code",
   "execution_count": 39,
   "metadata": {},
   "outputs": [
    {
     "name": "stdout",
     "output_type": "stream",
     "text": [
      "Confusion Matrix (Accuracy 0.7979)\n",
      "\n",
      "       Prediction\n",
      "Actual    0    1\n",
      "     0 1072   26\n",
      "     1  346  397\n"
     ]
    },
    {
     "data": {
      "image/png": "[encoded data removed]",
      "text/plain": [
       "<Figure size 1000x400 with 2 Axes>"
      ]
     },
     "metadata": {},
     "output_type": "display_data"
    }
   ],
   "source": [
    "classificationSummary(y_valid, \n",
    "                      spam_lin.predict(X_valid),\n",
    "                      class_names=spam_lin.classes_)\n",
    "proba = spam_lin.predict_proba(X_valid)\n",
    "result = pd.DataFrame({'actual': y_valid, \n",
    "                       'p(0)': [p[0] for p in proba],\n",
    "                       'p(1)': [p[1] for p in proba],\n",
    "                       'predicted': spam_lin.predict(X_valid) })\n",
    "df = result.sort_values(by=['p(1)'], ascending=False)\n",
    "fig, axes = plt.subplots(nrows=1, ncols=2, figsize=(10, 4))\n",
    "gainsChart(df.actual, ax=axes[0])\n",
    "liftChart(df.actual, title=False)\n",
    "plt.title('Decile Lift Chart (Validation)')\n",
    "plt.show()"
   ]
  },
  {
   "cell_type": "markdown",
   "metadata": {},
   "source": [
    "This model still performs well for detecting spam messages. The gains chart shows the model has some predictive value and the dispersion of the lift chart shows that the models classifiction is on the right path as its main predictors that determine which records will be spam have lead to those records being more likley to be spam the lower in percentile it goes. "
   ]
  },
  {
   "cell_type": "markdown",
   "metadata": {},
   "source": [
    "## Problem 12.3.d\n",
    "In the sample, almost 40\\% of the e-mail messages were tagged as spam. However, suppose that the actual proportion of spam messages in these e-mail accounts is 10\\%. Compute the intercept of the classification (discriminant) function to account for this information."
   ]
  },
  {
   "cell_type": "code",
   "execution_count": 40,
   "metadata": {},
   "outputs": [
    {
     "data": {
      "text/plain": [
       "array([-3.29970108])"
      ]
     },
     "execution_count": 40,
     "metadata": {},
     "output_type": "execute_result"
    }
   ],
   "source": [
    "spam_lin = LinearDiscriminantAnalysis(priors=[0.9, 0.1])\n",
    "spam_lin.fit(X_train, y_train)\n",
    "spam_lin.intercept_"
   ]
  },
  {
   "cell_type": "code",
   "execution_count": 41,
   "metadata": {},
   "outputs": [
    {
     "data": {
      "text/plain": [
       "-3.2997010846323036"
      ]
     },
     "execution_count": 41,
     "metadata": {},
     "output_type": "execute_result"
    }
   ],
   "source": [
    "spam_lin.intercept_[0]"
   ]
  },
  {
   "cell_type": "markdown",
   "metadata": {},
   "source": [
    "## Problem 12.3.e\n",
    "A spam filter that is based on your model is used, so that only messages that are classified as _nonspam_ are delivered, while messages that are classified as _spam_ are quarantined. In this case, misclassifying a nonspam e-mail (as spam) has much heftier results. Suppose that the cost of quarantining a nonspam e-mail is 20 times\n",
    "that of not detecting a spam message. Compute the intercept of the classification (discriminant) function to account for these costs (<b>assume that the proportion of spam is reflected correctly by the sample proportion</b>)."
   ]
  },
  {
   "cell_type": "code",
   "execution_count": 42,
   "metadata": {},
   "outputs": [
    {
     "data": {
      "text/plain": [
       "1.4629142051323432"
      ]
     },
     "execution_count": 42,
     "metadata": {},
     "output_type": "execute_result"
    }
   ],
   "source": [
    "spam_lin = LinearDiscriminantAnalysis(priors=[non_spam_prior, spam_prior])\n",
    "spam_lin.fit(X_train, y_train)\n",
    "#only one class constant which is for spam in this case\n",
    "spam_lin.intercept_[0] + math.log(20)"
   ]
  },
  {
   "cell_type": "code",
   "execution_count": 43,
   "metadata": {},
   "outputs": [
    {
     "data": {
      "text/plain": [
       "0.0"
      ]
     },
     "execution_count": 43,
     "metadata": {},
     "output_type": "execute_result"
    }
   ],
   "source": [
    "math.log(1)"
   ]
  },
  {
   "cell_type": "markdown",
   "metadata": {},
   "source": [
    "## Problem 12.3.f\n",
    "Use the LinearDiscriminantAnalysis implementation in sklearn to adjust the priors to take the misclassification costs in 12.3.e into account. Does adjusting the priors to take the misclassification costs into account lead to a model which predicts fewer <i>nonspam</i> messages as <i>spam</i>? Report the numerical result."
   ]
  },
  {
   "cell_type": "code",
   "execution_count": 44,
   "metadata": {},
   "outputs": [],
   "source": [
    "non_spam_prior_new = (non_spam_prior * 20)/((non_spam_prior * 20)+ (spam_prior*1))\n",
    "spam_prior_new = (spam_prior*1)/((non_spam_prior * 20)+ (spam_prior*1))"
   ]
  },
  {
   "cell_type": "code",
   "execution_count": 45,
   "metadata": {},
   "outputs": [
    {
     "data": {
      "text/plain": [
       "0.03149045559550484"
      ]
     },
     "execution_count": 45,
     "metadata": {},
     "output_type": "execute_result"
    }
   ],
   "source": [
    "spam_prior_new"
   ]
  },
  {
   "cell_type": "code",
   "execution_count": 46,
   "metadata": {},
   "outputs": [
    {
     "name": "stdout",
     "output_type": "stream",
     "text": [
      "Confusion Matrix (Accuracy 0.6328)\n",
      "\n",
      "       Prediction\n",
      "Actual    0    1\n",
      "     0 1096    2\n",
      "     1  674   69\n"
     ]
    }
   ],
   "source": [
    "spam_lin = LinearDiscriminantAnalysis(priors=[non_spam_prior_new, spam_prior_new])\n",
    "spam_lin.fit(X_train, y_train)\n",
    "classificationSummary(y_valid, \n",
    "                      spam_lin.predict(X_valid),\n",
    "                      class_names=spam_lin.classes_)"
   ]
  },
  {
   "cell_type": "markdown",
   "metadata": {},
   "source": [
    "It does lead to less non_spam messages being marked as spam. with the number of non_spam emails missclassified as spam going down from 26 to 2. "
   ]
  }
 ],
 "metadata": {
  "kernelspec": {
   "display_name": "Python 3",
   "language": "python",
   "name": "python3"
  },
  "language_info": {
   "codemirror_mode": {
    "name": "ipython",
    "version": 3
   },
   "file_extension": ".py",
   "mimetype": "text/x-python",
   "name": "python",
   "nbconvert_exporter": "python",
   "pygments_lexer": "ipython3",
   "version": "3.12.0"
  }
 },
 "nbformat": 4,
 "nbformat_minor": 4
}
